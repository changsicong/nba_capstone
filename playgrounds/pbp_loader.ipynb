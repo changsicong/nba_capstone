{
 "cells": [
  {
   "cell_type": "markdown",
   "metadata": {},
   "source": [
    "# Data Processing"
   ]
  },
  {
   "cell_type": "markdown",
   "metadata": {},
   "source": [
    "## Game finding"
   ]
  },
  {
   "cell_type": "code",
   "execution_count": null,
   "metadata": {},
   "outputs": [],
   "source": [
    "from nba_api.stats.endpoints import leaguegamefinder\n",
    "\n",
    "seasons = ['2023-24', '2022-23', '2021-22']\n",
    "\n",
    "# Initialize an empty list to store game IDs\n",
    "all_game_ids = []\n",
    "\n",
    "# Loop through each season and collect game IDs\n",
    "for season in seasons:\n",
    "    game_finder = leaguegamefinder.LeagueGameFinder(season_nullable=season)\n",
    "    games = game_finder.get_data_frames()[0]\n",
    "    game_ids = games['GAME_ID'].unique()\n",
    "    all_game_ids.extend(game_ids)\n",
    "len(all_game_ids)"
   ]
  },
  {
   "cell_type": "markdown",
   "metadata": {},
   "source": [
    "## Player finding"
   ]
  },
  {
   "cell_type": "code",
   "execution_count": 28,
   "metadata": {},
   "outputs": [
    {
     "data": {
      "text/plain": [
       "818"
      ]
     },
     "execution_count": 28,
     "metadata": {},
     "output_type": "execute_result"
    }
   ],
   "source": [
    "from nba_api.stats.endpoints import leaguedashplayerstats\n",
    "\n",
    "def get_players_for_season(season_str):\n",
    "    # season_str format: 'YYYY-YY', e.g. '2023-24'\n",
    "    stats = leaguedashplayerstats.LeagueDashPlayerStats(season=season_str)\n",
    "    df = stats.get_data_frames()[0]\n",
    "    # 'PLAYER_ID' in this DataFrame gives you the unique ID of each player who played that season\n",
    "    player_ids = df['PLAYER_ID'].unique()\n",
    "    return set(player_ids)\n",
    "\n",
    "# Get player sets for each season\n",
    "players_2023_24 = get_players_for_season('2023-24')\n",
    "players_2022_23 = get_players_for_season('2022-23')\n",
    "players_2021_22 = get_players_for_season('2021-22')\n",
    "\n",
    "# Combine them into one set of unique player IDs\n",
    "all_players = players_2023_24.union(players_2022_23).union(players_2021_22)\n",
    "len(all_players)"
   ]
  },
  {
   "cell_type": "markdown",
   "metadata": {},
   "source": [
    "## Outcome codes\n",
    "0.\t2-point unassisted\n",
    "1.\t2-point assisted\n",
    "2.\t3-point unassisted\n",
    "3.\t3-point assisted\n",
    "\n",
    "6. Missed (blocked)\n",
    "7. Missed (unblocked)\n",
    "\n",
    "8. Turnover (stolen)\n",
    "9. Turnover (unforced or not stolen)\n",
    "\n",
    "10. Possession ends with 0 FTs made\n",
    "11. Possession ends with 1 FTs made\n",
    "12. Possession ends with 2 FTs made\n",
    "13. Possession ends with 3 FTs made"
   ]
  },
  {
   "cell_type": "markdown",
   "metadata": {},
   "source": [
    "## generate a single raw pbp file"
   ]
  },
  {
   "cell_type": "code",
   "execution_count": 1,
   "metadata": {},
   "outputs": [],
   "source": [
    "import nba_on_court as noc\n",
    "from nba_api.stats.endpoints import playbyplayv2\n",
    "pbp = playbyplayv2.PlayByPlayV2(game_id='0022200992').play_by_play.get_data_frame()\n",
    "pbp = noc.players_on_court(pbp)\n",
    "# filtered_pbp = pbp[pbp['EVENTMSGTYPE'].isin(valid_event_types)].copy()\n",
    "pbp.to_csv(\"0022200992.csv\")"
   ]
  },
  {
   "cell_type": "markdown",
   "metadata": {},
   "source": [
    "## Generate a single processed pbp"
   ]
  },
  {
   "cell_type": "code",
   "execution_count": 1,
   "metadata": {},
   "outputs": [
    {
     "ename": "KeyError",
     "evalue": "'resultSet'",
     "output_type": "error",
     "traceback": [
      "\u001b[0;31m---------------------------------------------------------------------------\u001b[0m",
      "\u001b[0;31mKeyError\u001b[0m                                  Traceback (most recent call last)",
      "Cell \u001b[0;32mIn[1], line 31\u001b[0m\n\u001b[1;32m     17\u001b[0m columns \u001b[38;5;241m=\u001b[39m [\n\u001b[1;32m     18\u001b[0m     \u001b[38;5;124m\"\u001b[39m\u001b[38;5;124mOFF_PLAYER1_ID\u001b[39m\u001b[38;5;124m\"\u001b[39m, \u001b[38;5;124m\"\u001b[39m\u001b[38;5;124mOFF_PLAYER2_ID\u001b[39m\u001b[38;5;124m\"\u001b[39m, \u001b[38;5;124m\"\u001b[39m\u001b[38;5;124mOFF_PLAYER3_ID\u001b[39m\u001b[38;5;124m\"\u001b[39m, \u001b[38;5;124m\"\u001b[39m\u001b[38;5;124mOFF_PLAYER4_ID\u001b[39m\u001b[38;5;124m\"\u001b[39m, \u001b[38;5;124m\"\u001b[39m\u001b[38;5;124mOFF_PLAYER5_ID\u001b[39m\u001b[38;5;124m\"\u001b[39m,\n\u001b[1;32m     19\u001b[0m     \u001b[38;5;124m\"\u001b[39m\u001b[38;5;124mDEF_PLAYER1_ID\u001b[39m\u001b[38;5;124m\"\u001b[39m, \u001b[38;5;124m\"\u001b[39m\u001b[38;5;124mDEF_PLAYER2_ID\u001b[39m\u001b[38;5;124m\"\u001b[39m, \u001b[38;5;124m\"\u001b[39m\u001b[38;5;124mDEF_PLAYER3_ID\u001b[39m\u001b[38;5;124m\"\u001b[39m, \u001b[38;5;124m\"\u001b[39m\u001b[38;5;124mDEF_PLAYER4_ID\u001b[39m\u001b[38;5;124m\"\u001b[39m, \u001b[38;5;124m\"\u001b[39m\u001b[38;5;124mDEF_PLAYER5_ID\u001b[39m\u001b[38;5;124m\"\u001b[39m,\n\u001b[0;32m   (...)\u001b[0m\n\u001b[1;32m     27\u001b[0m     \u001b[38;5;124m\"\u001b[39m\u001b[38;5;124mTURNOVER_ID\u001b[39m\u001b[38;5;124m\"\u001b[39m      \u001b[38;5;66;03m# ID of the player who turnover the ball (if applicable)\u001b[39;00m\n\u001b[1;32m     28\u001b[0m ]\n\u001b[1;32m     30\u001b[0m pbp \u001b[38;5;241m=\u001b[39m playbyplayv2\u001b[38;5;241m.\u001b[39mPlayByPlayV2(game_id\u001b[38;5;241m=\u001b[39mgame_id)\u001b[38;5;241m.\u001b[39mplay_by_play\u001b[38;5;241m.\u001b[39mget_data_frame()\n\u001b[0;32m---> 31\u001b[0m pbp \u001b[38;5;241m=\u001b[39m \u001b[43mnoc\u001b[49m\u001b[38;5;241;43m.\u001b[39;49m\u001b[43mplayers_on_court\u001b[49m\u001b[43m(\u001b[49m\u001b[43mpbp\u001b[49m\u001b[43m)\u001b[49m\n\u001b[1;32m     33\u001b[0m filtered_pbp \u001b[38;5;241m=\u001b[39m pbp[pbp[\u001b[38;5;124m'\u001b[39m\u001b[38;5;124mEVENTMSGTYPE\u001b[39m\u001b[38;5;124m'\u001b[39m]\u001b[38;5;241m.\u001b[39misin(valid_event_types)]\u001b[38;5;241m.\u001b[39mcopy()\n\u001b[1;32m     34\u001b[0m filtered_pbp \u001b[38;5;241m=\u001b[39m filtered_pbp\u001b[38;5;241m.\u001b[39mreset_index(drop\u001b[38;5;241m=\u001b[39m\u001b[38;5;28;01mTrue\u001b[39;00m)\n",
      "File \u001b[0;32m/opt/anaconda3/envs/nba_capston/lib/python3.12/site-packages/nba_on_court/nba_on_court.py:153\u001b[0m, in \u001b[0;36mplayers_on_court\u001b[0;34m(data, **kwargs)\u001b[0m\n\u001b[1;32m    151\u001b[0m \u001b[38;5;28;01mwhile\u001b[39;00m retry \u001b[38;5;241m<\u001b[39m args\u001b[38;5;241m.\u001b[39mget(\u001b[38;5;124m\"\u001b[39m\u001b[38;5;124mretry\u001b[39m\u001b[38;5;124m\"\u001b[39m, \u001b[38;5;241m5\u001b[39m):\n\u001b[1;32m    152\u001b[0m     \u001b[38;5;28;01mtry\u001b[39;00m:\n\u001b[0;32m--> 153\u001b[0m         bx \u001b[38;5;241m=\u001b[39m \u001b[43mboxscoretraditionalv2\u001b[49m\u001b[38;5;241;43m.\u001b[39;49m\u001b[43mBoxScoreTraditionalV2\u001b[49m\u001b[43m(\u001b[49m\n\u001b[1;32m    154\u001b[0m \u001b[43m            \u001b[49m\u001b[43mgame_id\u001b[49m\u001b[38;5;241;43m=\u001b[39;49m\u001b[43margs\u001b[49m\u001b[38;5;241;43m.\u001b[39;49m\u001b[43mget\u001b[49m\u001b[43m(\u001b[49m\u001b[38;5;124;43m\"\u001b[39;49m\u001b[38;5;124;43mgame_id\u001b[39;49m\u001b[38;5;124;43m\"\u001b[39;49m\u001b[43m,\u001b[49m\u001b[43m \u001b[49m\u001b[38;5;124;43m\"\u001b[39;49m\u001b[38;5;124;43m00\u001b[39;49m\u001b[38;5;124;43m\"\u001b[39;49m\u001b[43m \u001b[49m\u001b[38;5;241;43m+\u001b[39;49m\u001b[43m \u001b[49m\u001b[38;5;28;43mstr\u001b[39;49m\u001b[43m(\u001b[49m\u001b[43mdf\u001b[49m\u001b[38;5;241;43m.\u001b[39;49m\u001b[43mGAME_ID\u001b[49m\u001b[38;5;241;43m.\u001b[39;49m\u001b[43munique\u001b[49m\u001b[43m(\u001b[49m\u001b[43m)\u001b[49m\u001b[43m[\u001b[49m\u001b[38;5;241;43m0\u001b[39;49m\u001b[43m]\u001b[49m\u001b[43m)\u001b[49m\u001b[43m)\u001b[49m\u001b[43m,\u001b[49m\n\u001b[1;32m    155\u001b[0m \u001b[43m            \u001b[49m\u001b[43mstart_period\u001b[49m\u001b[38;5;241;43m=\u001b[39;49m\u001b[43margs\u001b[49m\u001b[38;5;241;43m.\u001b[39;49m\u001b[43mget\u001b[49m\u001b[43m(\u001b[49m\u001b[38;5;124;43m\"\u001b[39;49m\u001b[38;5;124;43mstart_period\u001b[39;49m\u001b[38;5;124;43m\"\u001b[39;49m\u001b[43m,\u001b[49m\u001b[43m \u001b[49m\u001b[38;5;28;43mstr\u001b[39;49m\u001b[43m(\u001b[49m\u001b[43mperiod\u001b[49m\u001b[43m)\u001b[49m\u001b[43m)\u001b[49m\u001b[43m,\u001b[49m\n\u001b[1;32m    156\u001b[0m \u001b[43m            \u001b[49m\u001b[43mend_period\u001b[49m\u001b[38;5;241;43m=\u001b[39;49m\u001b[43margs\u001b[49m\u001b[38;5;241;43m.\u001b[39;49m\u001b[43mget\u001b[49m\u001b[43m(\u001b[49m\u001b[38;5;124;43m\"\u001b[39;49m\u001b[38;5;124;43mend_period\u001b[39;49m\u001b[38;5;124;43m\"\u001b[39;49m\u001b[43m,\u001b[49m\u001b[43m \u001b[49m\u001b[38;5;28;43mstr\u001b[39;49m\u001b[43m(\u001b[49m\u001b[43mperiod\u001b[49m\u001b[43m)\u001b[49m\u001b[43m)\u001b[49m\u001b[43m,\u001b[49m\n\u001b[1;32m    157\u001b[0m \u001b[43m            \u001b[49m\u001b[43mrange_type\u001b[49m\u001b[38;5;241;43m=\u001b[39;49m\u001b[43margs\u001b[49m\u001b[38;5;241;43m.\u001b[39;49m\u001b[43mget\u001b[49m\u001b[43m(\u001b[49m\u001b[38;5;124;43m\"\u001b[39;49m\u001b[38;5;124;43mrange_type\u001b[39;49m\u001b[38;5;124;43m\"\u001b[39;49m\u001b[43m,\u001b[49m\u001b[43m \u001b[49m\u001b[38;5;124;43m\"\u001b[39;49m\u001b[38;5;124;43m1\u001b[39;49m\u001b[38;5;124;43m\"\u001b[39;49m\u001b[43m)\u001b[49m\u001b[43m,\u001b[49m\n\u001b[1;32m    158\u001b[0m \u001b[43m            \u001b[49m\u001b[43mtimeout\u001b[49m\u001b[38;5;241;43m=\u001b[39;49m\u001b[43margs\u001b[49m\u001b[38;5;241;43m.\u001b[39;49m\u001b[43mget\u001b[49m\u001b[43m(\u001b[49m\u001b[38;5;124;43m\"\u001b[39;49m\u001b[38;5;124;43mtimeout\u001b[39;49m\u001b[38;5;124;43m\"\u001b[39;49m\u001b[43m,\u001b[49m\u001b[43m \u001b[49m\u001b[38;5;241;43m10\u001b[39;49m\u001b[43m)\u001b[49m\n\u001b[1;32m    159\u001b[0m \u001b[43m        \u001b[49m\u001b[43m)\u001b[49m\n\u001b[1;32m    160\u001b[0m         \u001b[38;5;28;01mbreak\u001b[39;00m\n\u001b[1;32m    161\u001b[0m     \u001b[38;5;28;01mexcept\u001b[39;00m \u001b[38;5;167;01mConnectionError\u001b[39;00m \u001b[38;5;28;01mas\u001b[39;00m e:\n",
      "File \u001b[0;32m/opt/anaconda3/envs/nba_capston/lib/python3.12/site-packages/nba_api/stats/endpoints/boxscoretraditionalv2.py:133\u001b[0m, in \u001b[0;36mBoxScoreTraditionalV2.__init__\u001b[0;34m(self, game_id, end_period, end_range, range_type, start_period, start_range, proxy, headers, timeout, get_request)\u001b[0m\n\u001b[1;32m    124\u001b[0m \u001b[38;5;28mself\u001b[39m\u001b[38;5;241m.\u001b[39mparameters \u001b[38;5;241m=\u001b[39m {\n\u001b[1;32m    125\u001b[0m     \u001b[38;5;124m\"\u001b[39m\u001b[38;5;124mGameID\u001b[39m\u001b[38;5;124m\"\u001b[39m: game_id,\n\u001b[1;32m    126\u001b[0m     \u001b[38;5;124m\"\u001b[39m\u001b[38;5;124mEndPeriod\u001b[39m\u001b[38;5;124m\"\u001b[39m: end_period,\n\u001b[0;32m   (...)\u001b[0m\n\u001b[1;32m    130\u001b[0m     \u001b[38;5;124m\"\u001b[39m\u001b[38;5;124mStartRange\u001b[39m\u001b[38;5;124m\"\u001b[39m: start_range,\n\u001b[1;32m    131\u001b[0m }\n\u001b[1;32m    132\u001b[0m \u001b[38;5;28;01mif\u001b[39;00m get_request:\n\u001b[0;32m--> 133\u001b[0m     \u001b[38;5;28;43mself\u001b[39;49m\u001b[38;5;241;43m.\u001b[39;49m\u001b[43mget_request\u001b[49m\u001b[43m(\u001b[49m\u001b[43m)\u001b[49m\n",
      "File \u001b[0;32m/opt/anaconda3/envs/nba_capston/lib/python3.12/site-packages/nba_api/stats/endpoints/boxscoretraditionalv2.py:143\u001b[0m, in \u001b[0;36mBoxScoreTraditionalV2.get_request\u001b[0;34m(self)\u001b[0m\n\u001b[1;32m    135\u001b[0m \u001b[38;5;28;01mdef\u001b[39;00m \u001b[38;5;21mget_request\u001b[39m(\u001b[38;5;28mself\u001b[39m):\n\u001b[1;32m    136\u001b[0m     \u001b[38;5;28mself\u001b[39m\u001b[38;5;241m.\u001b[39mnba_response \u001b[38;5;241m=\u001b[39m NBAStatsHTTP()\u001b[38;5;241m.\u001b[39msend_api_request(\n\u001b[1;32m    137\u001b[0m         endpoint\u001b[38;5;241m=\u001b[39m\u001b[38;5;28mself\u001b[39m\u001b[38;5;241m.\u001b[39mendpoint,\n\u001b[1;32m    138\u001b[0m         parameters\u001b[38;5;241m=\u001b[39m\u001b[38;5;28mself\u001b[39m\u001b[38;5;241m.\u001b[39mparameters,\n\u001b[0;32m   (...)\u001b[0m\n\u001b[1;32m    141\u001b[0m         timeout\u001b[38;5;241m=\u001b[39m\u001b[38;5;28mself\u001b[39m\u001b[38;5;241m.\u001b[39mtimeout,\n\u001b[1;32m    142\u001b[0m     )\n\u001b[0;32m--> 143\u001b[0m     \u001b[38;5;28;43mself\u001b[39;49m\u001b[38;5;241;43m.\u001b[39;49m\u001b[43mload_response\u001b[49m\u001b[43m(\u001b[49m\u001b[43m)\u001b[49m\n",
      "File \u001b[0;32m/opt/anaconda3/envs/nba_capston/lib/python3.12/site-packages/nba_api/stats/endpoints/boxscoretraditionalv2.py:146\u001b[0m, in \u001b[0;36mBoxScoreTraditionalV2.load_response\u001b[0;34m(self)\u001b[0m\n\u001b[1;32m    145\u001b[0m \u001b[38;5;28;01mdef\u001b[39;00m \u001b[38;5;21mload_response\u001b[39m(\u001b[38;5;28mself\u001b[39m):\n\u001b[0;32m--> 146\u001b[0m     data_sets \u001b[38;5;241m=\u001b[39m \u001b[38;5;28;43mself\u001b[39;49m\u001b[38;5;241;43m.\u001b[39;49m\u001b[43mnba_response\u001b[49m\u001b[38;5;241;43m.\u001b[39;49m\u001b[43mget_data_sets\u001b[49m\u001b[43m(\u001b[49m\u001b[43m)\u001b[49m\n\u001b[1;32m    147\u001b[0m     \u001b[38;5;28mself\u001b[39m\u001b[38;5;241m.\u001b[39mdata_sets \u001b[38;5;241m=\u001b[39m [\n\u001b[1;32m    148\u001b[0m         Endpoint\u001b[38;5;241m.\u001b[39mDataSet(data\u001b[38;5;241m=\u001b[39mdata_set)\n\u001b[1;32m    149\u001b[0m         \u001b[38;5;28;01mfor\u001b[39;00m data_set_name, data_set \u001b[38;5;129;01min\u001b[39;00m data_sets\u001b[38;5;241m.\u001b[39mitems()\n\u001b[1;32m    150\u001b[0m     ]\n\u001b[1;32m    151\u001b[0m     \u001b[38;5;28mself\u001b[39m\u001b[38;5;241m.\u001b[39mplayer_stats \u001b[38;5;241m=\u001b[39m Endpoint\u001b[38;5;241m.\u001b[39mDataSet(data\u001b[38;5;241m=\u001b[39mdata_sets[\u001b[38;5;124m\"\u001b[39m\u001b[38;5;124mPlayerStats\u001b[39m\u001b[38;5;124m\"\u001b[39m])\n",
      "File \u001b[0;32m/opt/anaconda3/envs/nba_capston/lib/python3.12/site-packages/nba_api/stats/library/http.py:129\u001b[0m, in \u001b[0;36mNBAStatsResponse.get_data_sets\u001b[0;34m(self, endpoint)\u001b[0m\n\u001b[1;32m    127\u001b[0m     results \u001b[38;5;241m=\u001b[39m raw_dict[\u001b[38;5;124m\"\u001b[39m\u001b[38;5;124mresultSets\u001b[39m\u001b[38;5;124m\"\u001b[39m]\n\u001b[1;32m    128\u001b[0m \u001b[38;5;28;01melse\u001b[39;00m:\n\u001b[0;32m--> 129\u001b[0m     results \u001b[38;5;241m=\u001b[39m \u001b[43mraw_dict\u001b[49m\u001b[43m[\u001b[49m\u001b[38;5;124;43m\"\u001b[39;49m\u001b[38;5;124;43mresultSet\u001b[39;49m\u001b[38;5;124;43m\"\u001b[39;49m\u001b[43m]\u001b[49m\n\u001b[1;32m    130\u001b[0m \u001b[38;5;28;01mif\u001b[39;00m \u001b[38;5;28misinstance\u001b[39m(results, \u001b[38;5;28mdict\u001b[39m):\n\u001b[1;32m    131\u001b[0m     \u001b[38;5;28;01mif\u001b[39;00m \u001b[38;5;124m\"\u001b[39m\u001b[38;5;124mname\u001b[39m\u001b[38;5;124m\"\u001b[39m \u001b[38;5;129;01mnot\u001b[39;00m \u001b[38;5;129;01min\u001b[39;00m results:\n",
      "\u001b[0;31mKeyError\u001b[0m: 'resultSet'"
     ]
    }
   ],
   "source": [
    "game_id = \"0022301158\"\n",
    "import nba_on_court as noc\n",
    "from nba_api.stats.endpoints import playbyplayv2\n",
    "import pandas as pd\n",
    "import numpy as np\n",
    "import re\n",
    "\n",
    "# Define the event message types that matter\n",
    "FIELD_GOAL_MADE = 1\n",
    "FIELD_GOAL_MISSED = 2\n",
    "FREE_THROW_ATTEMPT = 3\n",
    "REBOUND = 4\n",
    "TURNOVER = 5\n",
    "\n",
    "valid_event_types = {FIELD_GOAL_MADE, FIELD_GOAL_MISSED, FREE_THROW_ATTEMPT, REBOUND, TURNOVER}\n",
    "\n",
    "columns = [\n",
    "    \"OFF_PLAYER1_ID\", \"OFF_PLAYER2_ID\", \"OFF_PLAYER3_ID\", \"OFF_PLAYER4_ID\", \"OFF_PLAYER5_ID\",\n",
    "    \"DEF_PLAYER1_ID\", \"DEF_PLAYER2_ID\", \"DEF_PLAYER3_ID\", \"DEF_PLAYER4_ID\", \"DEF_PLAYER5_ID\",\n",
    "    \"OUTCOME\",         # One of the 12 categories described (e.g., \"2PT_ASSIST\", \"MISSED_BLOCKED\", etc.)\n",
    "    \"SECOND_CHANCE\",    # 0 or 1\n",
    "    \"SHOOTER_ID\",       # ID of the player who took the shot (if applicable)\n",
    "    \"ASSISTER_ID\",      # ID of the player who assisted (if applicable)\n",
    "    \"BLOCKER_ID\",       # ID of the player who blocked the shot (if applicable)\n",
    "    \"STEALER_ID\",       # ID of the player who stole the ball (if applicable)\n",
    "    \"REBOUNDER_ID\" ,    # ID of the player who rebound the ball (if applicable)\n",
    "    \"TURNOVER_ID\"      # ID of the player who turnover the ball (if applicable)\n",
    "]\n",
    "\n",
    "pbp = playbyplayv2.PlayByPlayV2(game_id=game_id).play_by_play.get_data_frame()\n",
    "pbp = noc.players_on_court(pbp)\n",
    "\n",
    "filtered_pbp = pbp[pbp['EVENTMSGTYPE'].isin(valid_event_types)].copy()\n",
    "filtered_pbp = filtered_pbp.reset_index(drop=True)\n",
    "\n",
    "# player_columns = [\n",
    "#     \"AWAY_PLAYER1\", \"AWAY_PLAYER2\", \"AWAY_PLAYER3\", \"AWAY_PLAYER4\", \"AWAY_PLAYER5\",\n",
    "#     \"HOME_PLAYER1\", \"HOME_PLAYER2\", \"HOME_PLAYER3\", \"HOME_PLAYER4\", \"HOME_PLAYER5\"\n",
    "# ]\n",
    "# # Filter rows so that all on-court players are in player_id_set\n",
    "# mask = filtered_pbp[player_columns].isin(all_players).all(axis=1)\n",
    "# filtered_pbp = filtered_pbp[mask].copy()\n",
    "\n",
    "# Now we have only the rows we care about.\n",
    "# We can iterate through these rows and handle each event type as needed.\n",
    "\n",
    "processed_pbp = pd.DataFrame(columns=columns)\n",
    "rows = []\n",
    "\n",
    "def get_off_def_players(row):\n",
    "    away_players = [row['AWAY_PLAYER1'], row['AWAY_PLAYER2'], row['AWAY_PLAYER3'], row['AWAY_PLAYER4'], row['AWAY_PLAYER5']]\n",
    "    home_players = [row['HOME_PLAYER1'], row['HOME_PLAYER2'], row['HOME_PLAYER3'], row['HOME_PLAYER4'], row['HOME_PLAYER5']]\n",
    "    \n",
    "    if row['PERSON1TYPE'] == 5:\n",
    "        # Away is offense\n",
    "        off_players = away_players\n",
    "        def_players = home_players\n",
    "    elif row['PERSON1TYPE'] == 4:\n",
    "        # Home is offense\n",
    "        off_players = home_players\n",
    "        def_players = away_players\n",
    "    else:\n",
    "        # Unexpected case\n",
    "        off_players = [np.nan]*5\n",
    "        def_players = [np.nan]*5\n",
    "    \n",
    "    return off_players, def_players\n",
    "\n",
    "def check_and_one(pbp, current_idx, shooter_id):\n",
    "    # Look ahead for next free throw attempt by the same shooter\n",
    "    next_events = pbp.iloc[current_idx+1:]\n",
    "    for i, r in next_events.iterrows():\n",
    "        if r['EVENTMSGTYPE'] == FREE_THROW_ATTEMPT and r['PLAYER1_ID'] == shooter_id:\n",
    "            # Check if made free throw\n",
    "            desc = (r['HOMEDESCRIPTION'] if pd.notnull(r['HOMEDESCRIPTION']) else '') + \\\n",
    "                   (r['VISITORDESCRIPTION'] if pd.notnull(r['VISITORDESCRIPTION']) else '')\n",
    "            if \"MISS\" not in desc.upper():\n",
    "                # FT made => and-one\n",
    "                return True\n",
    "            else:\n",
    "                return False\n",
    "    return False\n",
    "\n",
    "for idx, row in filtered_pbp.iterrows():\n",
    "    event_type = row['EVENTMSGTYPE']\n",
    "    off_players, def_players = get_off_def_players(row)\n",
    "    \n",
    "    # Switch-like structure to handle cases\n",
    "    if event_type == FIELD_GOAL_MADE:\n",
    "        # Determine if 2pt or 3pt\n",
    "        desc = (row['HOMEDESCRIPTION'] if pd.notnull(row['HOMEDESCRIPTION']) else '') + \\\n",
    "               (row['VISITORDESCRIPTION'] if pd.notnull(row['VISITORDESCRIPTION']) else '')\n",
    "        desc_upper = desc.upper()\n",
    "        is_3pt = \"3PT\" in desc_upper\n",
    "\n",
    "        # Determine assisted or unassisted\n",
    "        assisted = (row['PERSON2TYPE'] == 4 or row['PERSON2TYPE'] == 5)\n",
    "\n",
    "        # Base outcome mapping\n",
    "        # 0: 2-point unassisted\n",
    "        # 1: 2-point assisted\n",
    "        # 2: 3-point unassisted\n",
    "        # 3: 3-point assisted\n",
    "        if not is_3pt:\n",
    "            base_outcome = 1 if assisted else 0\n",
    "        else:\n",
    "            base_outcome = 3 if assisted else 2\n",
    "\n",
    "        shooter_id = row['PLAYER1_ID']\n",
    "        assister_id = row['PLAYER2_ID'] if assisted else np.nan\n",
    "\n",
    "        # Check for and-one\n",
    "        if check_and_one(filtered_pbp, idx, shooter_id):\n",
    "            # 4-point scenarios for both 2pt+1 or 3pt+1\n",
    "            # If base_outcome in [0,2] => unassisted => outcome=4\n",
    "            # If base_outcome in [1,3] => assisted => outcome=5\n",
    "            if base_outcome in [0, 2]:\n",
    "                final_outcome = 4\n",
    "            else:\n",
    "                final_outcome = 5\n",
    "        else:\n",
    "            final_outcome = base_outcome\n",
    "\n",
    "        data = {\n",
    "            \"OFF_PLAYER1_ID\": off_players[0],\n",
    "            \"OFF_PLAYER2_ID\": off_players[1],\n",
    "            \"OFF_PLAYER3_ID\": off_players[2],\n",
    "            \"OFF_PLAYER4_ID\": off_players[3],\n",
    "            \"OFF_PLAYER5_ID\": off_players[4],\n",
    "            \"DEF_PLAYER1_ID\": def_players[0],\n",
    "            \"DEF_PLAYER2_ID\": def_players[1],\n",
    "            \"DEF_PLAYER3_ID\": def_players[2],\n",
    "            \"DEF_PLAYER4_ID\": def_players[3],\n",
    "            \"DEF_PLAYER5_ID\": def_players[4],\n",
    "            \"OUTCOME\": final_outcome,\n",
    "            \"SECOND_CHANCE\": 0, # Not computed here\n",
    "            \"SHOOTER_ID\": shooter_id,\n",
    "            \"ASSISTER_ID\": assister_id,\n",
    "            \"BLOCKER_ID\": np.nan,\n",
    "            \"STEALER_ID\": np.nan,\n",
    "            \"REBOUNDER_ID\": np.nan,\n",
    "            \"TURNOVER_ID\": np.nan\n",
    "        }\n",
    "        rows.append(data)\n",
    "\n",
    "    elif event_type == FIELD_GOAL_MISSED:       \n",
    "        # Check if blocked\n",
    "        # If PERSON3TYPE and PLAYER3_ID indicate a block, outcome=6 (blocked), else 7 (unblocked)\n",
    "        blocked = False\n",
    "        blocker_id = np.nan\n",
    "        if row['PERSON3TYPE'] in [4,5] and pd.notnull(row['PLAYER3_ID']) and row['PLAYER3_ID'] != 0:\n",
    "            # ADDITION: Check if PLAYER3_NAME is present and not empty\n",
    "            if pd.isnull(row['PLAYER3_NAME']) or row['PLAYER3_NAME'].strip() == '':\n",
    "                # If no player name, treat as not blocked\n",
    "                blocked = False\n",
    "                blocker_id = np.nan\n",
    "            else:\n",
    "                blocked = True\n",
    "                blocker_id = row['PLAYER3_ID']\n",
    "        \n",
    "        if blocked:\n",
    "            final_outcome = 6  # Missed (blocked)\n",
    "        else:\n",
    "            final_outcome = 7  # Missed (unblocked)\n",
    "        \n",
    "        shooter_id = row['PLAYER1_ID']\n",
    "        \n",
    "        # Now find the rebound after this miss\n",
    "        # Scan subsequent events for the next rebound (EVENTMSGTYPE=4)\n",
    "        rebounder_id = np.nan\n",
    "        second_chance = 0\n",
    "        \n",
    "        next_events = filtered_pbp.iloc[idx+1:]\n",
    "        \n",
    "        for i, r in next_events.iterrows():\n",
    "            if r['EVENTMSGTYPE'] == REBOUND:\n",
    "                # ADDITION: Check if PLAYER1_NAME is present and not empty\n",
    "                if pd.isnull(r['PLAYER1_NAME']) or r['PLAYER1_NAME'].strip() == '':\n",
    "                    # If no player name, this is a team rebound, skip\n",
    "                    continue\n",
    "                # Found the rebound with a player name\n",
    "                rebounder_id = r['PLAYER1_ID']\n",
    "                # Offensive or defensive?\n",
    "                if rebounder_id in off_players:\n",
    "                    second_chance = 1\n",
    "                else:\n",
    "                    second_chance = 0\n",
    "                break\n",
    "        \n",
    "        data = {\n",
    "            \"OFF_PLAYER1_ID\": off_players[0],\n",
    "            \"OFF_PLAYER2_ID\": off_players[1],\n",
    "            \"OFF_PLAYER3_ID\": off_players[2],\n",
    "            \"OFF_PLAYER4_ID\": off_players[3],\n",
    "            \"OFF_PLAYER5_ID\": off_players[4],\n",
    "            \"DEF_PLAYER1_ID\": def_players[0],\n",
    "            \"DEF_PLAYER2_ID\": def_players[1],\n",
    "            \"DEF_PLAYER3_ID\": def_players[2],\n",
    "            \"DEF_PLAYER4_ID\": def_players[3],\n",
    "            \"DEF_PLAYER5_ID\": def_players[4],\n",
    "            \"OUTCOME\": final_outcome,\n",
    "            \"SECOND_CHANCE\": second_chance,\n",
    "            \"SHOOTER_ID\": shooter_id,\n",
    "            \"ASSISTER_ID\": np.nan,   # Not applicable for missed shots\n",
    "            \"BLOCKER_ID\": blocker_id,\n",
    "            \"STEALER_ID\": np.nan,\n",
    "            \"REBOUNDER_ID\": rebounder_id,\n",
    "            \"TURNOVER_ID\": np.nan\n",
    "        }\n",
    "        rows.append(data)\n",
    "\n",
    "    elif event_type == FREE_THROW_ATTEMPT:\n",
    "        # Parse the number of attempts from the first FT in the sequence\n",
    "        shooter_id = row['PLAYER1_ID']\n",
    "        desc = (row['HOMEDESCRIPTION'] if pd.notnull(row['HOMEDESCRIPTION']) else '') + \\\n",
    "               (row['VISITORDESCRIPTION'] if pd.notnull(row['VISITORDESCRIPTION']) else '')\n",
    "        desc_up = desc.upper()\n",
    "\n",
    "        match = re.search(r'FREE THROW.*?(\\d+)\\s+OF\\s+(\\d+)', desc_up)\n",
    "        if not match:\n",
    "            continue\n",
    "        total_fts = int(match.group(2))\n",
    "        if total_fts not in [2, 3]:\n",
    "            # Not a scenario we care about\n",
    "            continue\n",
    "\n",
    "        # We'll accumulate all consecutive FTs for this shooter\n",
    "        made_count = 0\n",
    "        final_attempt_idx = None\n",
    "\n",
    "        j = idx\n",
    "        # Use a while loop to iterate through consecutive free throws of the same shooter\n",
    "        while j in filtered_pbp.index:\n",
    "            fr = filtered_pbp.loc[j]\n",
    "            if fr['EVENTMSGTYPE'] != FREE_THROW_ATTEMPT or fr['PLAYER1_ID'] != shooter_id:\n",
    "                # Different event or different shooter means end of FT sequence\n",
    "                break\n",
    "\n",
    "            f_desc = (fr['HOMEDESCRIPTION'] if pd.notnull(fr['HOMEDESCRIPTION']) else '') + \\\n",
    "                     (fr['VISITORDESCRIPTION'] if pd.notnull(fr['VISITORDESCRIPTION']) else '')\n",
    "            f_desc_up = f_desc.upper()\n",
    "            m2 = re.search(r'FREE THROW.*?(\\d+)\\s+OF\\s+(\\d+)', f_desc_up)\n",
    "            if not m2:\n",
    "                # Can't parse this attempt, stop\n",
    "                break\n",
    "\n",
    "            c_ft_num = int(m2.group(1))\n",
    "            t_fts = int(m2.group(2))\n",
    "            if t_fts not in [2, 3]:\n",
    "                # Different scenario than expected\n",
    "                break\n",
    "\n",
    "            # Check if made\n",
    "            if \"MISS\" not in f_desc_up:\n",
    "                made_count += 1\n",
    "\n",
    "            if c_ft_num == t_fts:\n",
    "                # final attempt found\n",
    "                final_attempt_idx = j\n",
    "                break\n",
    "\n",
    "            j += 1\n",
    "\n",
    "        if final_attempt_idx is None:\n",
    "            # No final attempt found\n",
    "            continue\n",
    "\n",
    "        # Determine outcome based on made_count\n",
    "        # 0 made -> 10\n",
    "        # 1 made -> 11\n",
    "        # 2 made -> 12\n",
    "        # 3 made -> 13\n",
    "        if made_count == 0:\n",
    "            final_outcome = 10\n",
    "        elif made_count == 1:\n",
    "            final_outcome = 11\n",
    "        elif made_count == 2:\n",
    "            final_outcome = 12\n",
    "        elif made_count == 3:\n",
    "            final_outcome = 13\n",
    "        else:\n",
    "            # Unexpected\n",
    "            continue\n",
    "\n",
    "        # Check if final attempt missed\n",
    "        second_chance = 0\n",
    "        rebounder_id = np.nan\n",
    "        if made_count < total_fts:\n",
    "            # last attempt missed\n",
    "            next_after_ft = filtered_pbp.loc[final_attempt_idx+1:]\n",
    "            for k, rb in next_after_ft.iterrows():\n",
    "                if rb['EVENTMSGTYPE'] == REBOUND:\n",
    "                    if pd.isnull(rb['PLAYER1_NAME']) or rb['PLAYER1_NAME'].strip() == '':\n",
    "                        # team rebound, skip\n",
    "                        continue\n",
    "                    rebounder_id = rb['PLAYER1_ID']\n",
    "                    # If offensive rebound\n",
    "                    if rebounder_id in off_players:\n",
    "                        second_chance = 1\n",
    "                    break\n",
    "\n",
    "        data = {\n",
    "            \"OFF_PLAYER1_ID\": off_players[0],\n",
    "            \"OFF_PLAYER2_ID\": off_players[1],\n",
    "            \"OFF_PLAYER3_ID\": off_players[2],\n",
    "            \"OFF_PLAYER4_ID\": off_players[3],\n",
    "            \"OFF_PLAYER5_ID\": off_players[4],\n",
    "            \"DEF_PLAYER1_ID\": def_players[0],\n",
    "            \"DEF_PLAYER2_ID\": def_players[1],\n",
    "            \"DEF_PLAYER3_ID\": def_players[2],\n",
    "            \"DEF_PLAYER4_ID\": def_players[3],\n",
    "            \"DEF_PLAYER5_ID\": def_players[4],\n",
    "            \"OUTCOME\": final_outcome,\n",
    "            \"SECOND_CHANCE\": second_chance,\n",
    "            \"SHOOTER_ID\": shooter_id,\n",
    "            \"ASSISTER_ID\": np.nan,\n",
    "            \"BLOCKER_ID\": np.nan,\n",
    "            \"STEALER_ID\": np.nan,\n",
    "            \"REBOUNDER_ID\": rebounder_id,\n",
    "            \"TURNOVER_ID\": np.nan\n",
    "        }\n",
    "        rows.append(data)\n",
    "    elif event_type == TURNOVER:\n",
    "        # Filter out team turnover: if PLAYER1_NAME is empty, it's a team turnover\n",
    "        if pd.isnull(row['PLAYER1_NAME']) or row['PLAYER1_NAME'].strip() == '':\n",
    "            continue\n",
    "        else:\n",
    "            # We have a player turnover\n",
    "            # 3. Document who steals: If there's PLAYER2_ID and a player name => stolen\n",
    "            # If pd.notnull(PLAYER2_ID) and PERSON2TYPE in [4,5], that indicates a steal\n",
    "            if pd.notnull(row['PLAYER2_ID']) and row['PLAYER2_ID'] != 0 and row['PERSON2TYPE'] in [4,5]:\n",
    "                final_outcome = 8  # Turnover (stolen)\n",
    "                stealer_id = row['PLAYER2_ID']\n",
    "            else:\n",
    "                final_outcome = 9  # Turnover (unforced)\n",
    "                stealer_id = np.nan\n",
    "\n",
    "        turnover_player_id = row['PLAYER1_ID']\n",
    "\n",
    "        data = {\n",
    "            \"OFF_PLAYER1_ID\": off_players[0],\n",
    "            \"OFF_PLAYER2_ID\": off_players[1],\n",
    "            \"OFF_PLAYER3_ID\": off_players[2],\n",
    "            \"OFF_PLAYER4_ID\": off_players[3],\n",
    "            \"OFF_PLAYER5_ID\": off_players[4],\n",
    "            \"DEF_PLAYER1_ID\": def_players[0],\n",
    "            \"DEF_PLAYER2_ID\": def_players[1],\n",
    "            \"DEF_PLAYER3_ID\": def_players[2],\n",
    "            \"DEF_PLAYER4_ID\": def_players[3],\n",
    "            \"DEF_PLAYER5_ID\": def_players[4],\n",
    "            \"OUTCOME\": final_outcome,\n",
    "            \"SECOND_CHANCE\": 0,  # Not applicable for turnovers\n",
    "            \"SHOOTER_ID\": np.nan,  # Not applicable\n",
    "            \"ASSISTER_ID\": np.nan, # Not applicable\n",
    "            \"BLOCKER_ID\": np.nan,  # Not applicable\n",
    "            \"STEALER_ID\": stealer_id,\n",
    "            \"REBOUNDER_ID\": np.nan,\n",
    "            \"TURNOVER_ID\": turnover_player_id\n",
    "        }\n",
    "        rows.append(data)\n",
    "    else:\n",
    "        # Should not reach here because we filtered out other types\n",
    "        pass\n",
    "\n",
    "processed_pbp = pd.DataFrame(rows, columns=columns)\n",
    "processed_pbp.to_csv(game_id+\".csv\")"
   ]
  },
  {
   "cell_type": "code",
   "execution_count": 149,
   "metadata": {},
   "outputs": [
    {
     "data": {
      "text/plain": [
       "Index(['OFF_PLAYER1_ID', 'OFF_PLAYER2_ID', 'OFF_PLAYER3_ID', 'OFF_PLAYER4_ID',\n",
       "       'OFF_PLAYER5_ID', 'DEF_PLAYER1_ID', 'DEF_PLAYER2_ID', 'DEF_PLAYER3_ID',\n",
       "       'DEF_PLAYER4_ID', 'DEF_PLAYER5_ID'],\n",
       "      dtype='object')"
      ]
     },
     "execution_count": 149,
     "metadata": {},
     "output_type": "execute_result"
    }
   ],
   "source": [
    "processed_pbp.columns[:10]"
   ]
  },
  {
   "cell_type": "markdown",
   "metadata": {},
   "source": [
    "## Parallel Process"
   ]
  },
  {
   "cell_type": "code",
   "execution_count": null,
   "metadata": {},
   "outputs": [
    {
     "name": "stderr",
     "output_type": "stream",
     "text": [
      "Processing Games:   1%|          | 50/6441 [00:03<07:39, 13.89it/s]"
     ]
    },
    {
     "name": "stdout",
     "output_type": "stream",
     "text": [
      "Error processing game 0042300126: 'resultSet'\n"
     ]
    },
    {
     "name": "stderr",
     "output_type": "stream",
     "text": [
      "Processing Games:   1%|▏         | 85/6441 [00:34<6:43:55,  3.81s/it]"
     ]
    },
    {
     "name": "stdout",
     "output_type": "stream",
     "text": [
      "Error processing game 0042300112: HTTPSConnectionPool(host='stats.nba.com', port=443): Read timed out. (read timeout=30)\n",
      "Error processing game 0042300141: HTTPSConnectionPool(host='stats.nba.com', port=443): Read timed out. (read timeout=30)\n"
     ]
    },
    {
     "name": "stderr",
     "output_type": "stream",
     "text": [
      "Processing Games:   1%|▏         | 92/6441 [00:35<2:17:13,  1.30s/it]"
     ]
    },
    {
     "name": "stdout",
     "output_type": "stream",
     "text": [
      "Error processing game 0052300111: HTTPSConnectionPool(host='stats.nba.com', port=443): Read timed out. (read timeout=30)\n",
      "Error processing game 0052300101: HTTPSConnectionPool(host='stats.nba.com', port=443): Read timed out. (read timeout=30)\n",
      "Error processing game 0052300121: HTTPSConnectionPool(host='stats.nba.com', port=443): Read timed out. (read timeout=30)\n",
      "Error processing game 0052300131: HTTPSConnectionPool(host='stats.nba.com', port=443): Read timed out. (read timeout=30)\n",
      "Error processing game 2042300403: HTTPSConnectionPool(host='stats.nba.com', port=443): Read timed out. (read timeout=30)\n"
     ]
    },
    {
     "name": "stderr",
     "output_type": "stream",
     "text": [
      "Processing Games:   2%|▏         | 107/6441 [00:37<22:39,  4.66it/s] "
     ]
    },
    {
     "name": "stdout",
     "output_type": "stream",
     "text": [
      "Error processing game 0022301196: HTTPSConnectionPool(host='stats.nba.com', port=443): Read timed out. (read timeout=30)\n"
     ]
    },
    {
     "name": "stderr",
     "output_type": "stream",
     "text": [
      "Processing Games:   2%|▏         | 130/6441 [00:40<13:29,  7.80it/s]"
     ]
    },
    {
     "name": "stdout",
     "output_type": "stream",
     "text": [
      "Error processing game 0022301158: 'resultSet'\n"
     ]
    },
    {
     "name": "stderr",
     "output_type": "stream",
     "text": [
      "Processing Games:   2%|▏         | 141/6441 [00:41<13:13,  7.94it/s]"
     ]
    },
    {
     "name": "stdout",
     "output_type": "stream",
     "text": [
      "Error processing game 0022301147: 'resultSet'\n"
     ]
    },
    {
     "name": "stderr",
     "output_type": "stream",
     "text": [
      "Processing Games:   2%|▏         | 157/6441 [00:45<30:19,  3.45it/s]\n"
     ]
    }
   ],
   "source": [
    "import nba_on_court as noc\n",
    "from nba_api.stats.endpoints import playbyplayv2\n",
    "from tqdm import tqdm\n",
    "from concurrent.futures import ThreadPoolExecutor, as_completed\n",
    "\n",
    "def process_game(game_id):\n",
    "    pbp = playbyplayv2.PlayByPlayV2(game_id=game_id).play_by_play.get_data_frame()\n",
    "    pbp = noc.players_on_court(pbp)\n",
    "\n",
    "num_workers = 6\n",
    "\n",
    "results = []\n",
    "with ThreadPoolExecutor(max_workers=num_workers) as executor:\n",
    "    futures = {executor.submit(process_game, game_id): game_id for game_id in all_game_ids}\n",
    "    for future in tqdm(as_completed(futures), total=len(futures), desc=\"Processing Games\"):\n",
    "        try:\n",
    "            results.append(future.result())\n",
    "        except Exception as e:\n",
    "            print(f\"Error processing game {futures[future]}: {e}\")\n"
   ]
  },
  {
   "cell_type": "code",
   "execution_count": 9,
   "metadata": {},
   "outputs": [
    {
     "data": {
      "text/plain": [
       "6441"
      ]
     },
     "execution_count": 9,
     "metadata": {},
     "output_type": "execute_result"
    }
   ],
   "source": [
    "len(all_game_ids)"
   ]
  },
  {
   "cell_type": "markdown",
   "metadata": {},
   "source": [
    "## Get model informations"
   ]
  },
  {
   "cell_type": "code",
   "execution_count": 16,
   "metadata": {},
   "outputs": [
    {
     "name": "stdout",
     "output_type": "stream",
     "text": [
      "Total unique player IDs found: 1748\n",
      "{1630208, 1630209, 1630210, 1630211, 1630213, 1630214, 1630215, 1630216, 1630217, 1630218, 1630219, 1630220, 1630221, 1630222, 1630223, 1630224, 1630225, 1630227, 1630228, 1630229, 1630230, 1630231, 1630232, 1630233, 1630234, 1630235, 1630237, 1630238, 1630239, 1630240, 1630241, 1630242, 1630243, 1630245, 1630246, 1630247, 1630248, 1630249, 1630250, 1630253, 1630254, 1630255, 1630256, 1630257, 1630258, 1630259, 1630260, 1630261, 1630262, 1630263, 1630264, 1630265, 1630266, 1630267, 1630268, 1630269, 1630270, 1630271, 1630273, 1630274, 1630275, 1630276, 1630278, 1630283, 1630284, 1630285, 1630286, 1630287, 1630288, 1630289, 1630294, 1630295, 1630296, 1630297, 1630298, 1630299, 1630304, 1630305, 1630306, 1630307, 1630310, 1630311, 1630312, 1630313, 1630314, 1630315, 1630316, 1630317, 1630318, 1630319, 1630320, 1630321, 1630322, 1630323, 1630324, 1630326, 1630330, 1630338, 1630340, 1630341, 1630342, 1630344, 1630346, 1630348, 1630351, 1630354, 1630358, 1630362, 1630466, 1630525, 1630526, 1630527, 1630528, 1630529, 1630530, 1630531, 1630532, 1630533, 1630534, 1630535, 1630536, 1630537, 1630538, 1630539, 1630540, 1630541, 1630542, 1630543, 1630544, 1630547, 1630548, 1630549, 1630550, 1630551, 1630552, 1630553, 1630554, 1630555, 1630556, 1630557, 1630558, 1630559, 1630560, 1630561, 1630562, 1630563, 1630564, 1630565, 1630566, 1630567, 1630568, 1630569, 1630570, 1630571, 1630572, 1630573, 1630575, 1630577, 1630578, 1630579, 1630580, 1630581, 1630582, 1630583, 1630585, 1630586, 1630587, 1630588, 1630589, 1630590, 1630591, 1630592, 1630593, 1630595, 1630596, 1630597, 1630598, 1630600, 1630601, 1630602, 1630603, 1630604, 1630605, 1630606, 1630607, 1630608, 1630610, 1630611, 1630612, 1630613, 1630617, 1630618, 1630620, 1630622, 1630623, 1630624, 1630625, 1630627, 1630631, 1630632, 1630633, 1630637, 1630639, 1630640, 1630641, 1630642, 1630643, 1630644, 1630645, 1630647, 1630648, 1630649, 1630650, 1630651, 1630652, 1630658, 1630660, 1630661, 1630664, 1630665, 1630667, 1630672, 1630675, 1630676, 1630678, 1630679, 1630681, 1630686, 1630687, 1630688, 1630691, 1630692, 1630693, 1630695, 1630696, 1630697, 1630698, 1630699, 1630700, 1630701, 1630702, 1630703, 1630704, 1630705, 1630706, 1630707, 1630708, 1630709, 1630711, 1630712, 1630713, 1630714, 1630715, 1630720, 1630721, 1630722, 1630723, 1630724, 1630725, 1630726, 1630728, 1630730, 1630731, 1630732, 1630733, 1630734, 1630741, 1630748, 1630749, 1630750, 1630753, 1630757, 1630758, 1630760, 1630761, 1630762, 1630764, 1630765, 1630767, 1630768, 1630770, 1630771, 1630776, 1630777, 1630778, 1630780, 1630787, 1630790, 1630791, 1630792, 1630793, 1630796, 1630798, 1630801, 1630803, 1630806, 1630807, 1630808, 1630809, 1630810, 1630811, 1630814, 1630815, 1630816, 1630817, 1630818, 1630819, 1630822, 1630824, 1630825, 1630826, 1630828, 1630831, 1630835, 1630836, 1630837, 1630841, 1630844, 1630845, 1630846, 1630847, 1630849, 1630895, 1630919, 1630929, 1630935, 1630936, 1630940, 1630941, 1630943, 1630944, 1630951, 1630994, 1631093, 1631094, 1631095, 1631096, 1631097, 1631098, 1631099, 1631100, 1631101, 1631102, 1631103, 1631104, 1631105, 1631106, 1631107, 1631108, 1631109, 1631110, 1631111, 1631112, 1631113, 1631114, 1631115, 1631116, 1631117, 1631119, 1631120, 1631121, 1631122, 1631123, 1631124, 1631128, 1631129, 1631131, 1631132, 1631133, 1631157, 1631159, 1631160, 1631165, 1631166, 1631167, 1631169, 1631170, 1631171, 1631172, 1631173, 1631197, 1631198, 1631199, 1631200, 1631202, 1631204, 1631205, 1631207, 1631208, 1631209, 1631210, 1631211, 1631212, 1631213, 1631214, 1631216, 1631217, 1631218, 1631219, 1631220, 1631221, 1631222, 1631223, 1631230, 1631231, 1631235, 1631236, 1631237, 1631238, 1631241, 1631242, 1631243, 1631245, 1631246, 1631250, 1631253, 1631254, 1631255, 1631257, 1631258, 1631260, 1631261, 1631262, 1631266, 1631285, 1631286, 1631288, 1631289, 1631290, 1631293, 1631294, 1631298, 1631300, 1631301, 1631303, 1631306, 1631309, 1631311, 1631317, 1631320, 1631321, 1631322, 1631323, 1631338, 1631339, 1631340, 1631341, 1631342, 1631344, 1631347, 1631348, 1631351, 1631358, 1631365, 1631367, 1631368, 1631371, 1631372, 1631374, 1631376, 1631378, 1631379, 1631384, 1631385, 1631386, 1631388, 1631389, 1631395, 1631396, 1631399, 1631405, 1631407, 1631408, 1631410, 1631413, 1631416, 1631419, 1631420, 1631421, 1631426, 1631436, 1631439, 1631440, 1631441, 1631442, 1631443, 1631448, 1631449, 1631451, 1631452, 1631453, 1631455, 1631457, 1631458, 1631462, 1631466, 1631467, 1631471, 1631472, 1631474, 1631476, 1631478, 1631479, 1631481, 1631482, 1631484, 1631489, 1631495, 1631499, 1713, 2037, 202329, 2199, 2207, 200757, 2544, 2546, 2594, 2617, 2730, 2738, 2747, 2760, 2772, 101107, 101108, 101123, 101127, 101133, 101139, 101141, 101150, 101161, 1641499, 1641501, 1641502, 1641504, 1641505, 1641526, 1641546, 1641562, 1641566, 1641568, 1641569, 1641570, 1641598, 1641645, 1641705, 1641706, 1641707, 1641708, 1641709, 1641710, 1641711, 1641712, 1641713, 1641715, 1641716, 1641717, 1641718, 1641720, 1641721, 1641722, 1641723, 1641724, 1641726, 1641727, 1641729, 1641730, 1641731, 1641732, 1641733, 1641734, 1641735, 204190, 1641738, 1641739, 1641741, 204192, 1641745, 1641748, 1641749, 1641753, 1641754, 1641756, 1641757, 1641760, 1641763, 1641764, 1641765, 1641766, 1641767, 1641771, 1641774, 1641775, 1641777, 1641778, 1641784, 1641787, 1641788, 1641789, 1641792, 1641793, 1641795, 1641798, 1641799, 1641805, 1641806, 1641809, 1641811, 1641812, 1641816, 1641823, 1641824, 1641825, 1641830, 1641831, 1641842, 1641847, 1641848, 1641849, 1641851, 1641854, 1641856, 204215, 1641859, 1641861, 1641862, 1641863, 1641864, 1641868, 1641869, 1641871, 1641874, 1641877, 1641878, 1641879, 1641881, 1641882, 1641890, 1641891, 204222, 1641893, 1641907, 1641909, 1641914, 1641915, 1641917, 1641918, 1641920, 1641924, 1641925, 1641926, 1641931, 1641934, 1641935, 1641936, 1641941, 1641945, 1641947, 1641948, 1641970, 1641983, 1641985, 1641986, 1641987, 1641988, 1641989, 1641990, 1641991, 1641992, 1641994, 1641998, 1641999, 1642008, 1642009, 1642011, 1642013, 1642017, 1642019, 1642020, 1642021, 1642022, 1642024, 1642025, 1642026, 1642027, 1642028, 1642037, 1642038, 1642044, 1642045, 1642046, 1642049, 1642050, 1642052, 1642053, 1642057, 1642058, 1642061, 1642063, 1642066, 1642070, 1642071, 1642072, 1642073, 1642075, 1642080, 1642085, 1642089, 1642099, 1642104, 1642105, 1642115, 1642118, 1642124, 1642128, 1642207, 1642235, 1642237, 1642249, 1628992, 1628994, 1628996, 1626143, 1626144, 1626145, 1626147, 1626149, 1626150, 1626153, 1626154, 200746, 1626156, 1626157, 1626158, 1626159, 200752, 1626161, 1626162, 200755, 1626164, 1626163, 1626166, 1626167, 1626168, 1626169, 1626170, 1626171, 1626172, 200765, 1626174, 1626173, 200768, 1626178, 1626179, 1626181, 1626184, 1626185, 1626187, 1626188, 200782, 1626192, 1626195, 1626196, 1626197, 1626201, 200794, 1626203, 1626204, 1626202, 1626208, 1626209, 1626217, 1626218, 1626219, 1626220, 1626224, 200817, 200826, 1626245, 1626246, 1626252, 1626253, 1626259, 1626260, 1626263, 1626272, 1626280, 1626296, 1626355, 1626522, 201142, 201143, 201144, 201145, 201147, 201149, 201152, 201158, 201162, 201163, 1626586, 201188, 1626603, 201229, 201281, 201565, 201566, 201567, 201568, 201569, 201571, 201572, 201577, 201580, 201583, 201584, 201586, 201587, 201588, 1626999, 201596, 201599, 201601, 201609, 201628, 201645, 1627068, 1627208, 1627215, 1627290, 1627292, 201933, 201934, 201935, 201936, 201937, 201939, 201942, 1627352, 201949, 201950, 201952, 201954, 201959, 201960, 201961, 1627383, 201976, 201975, 201977, 201980, 1627395, 1627396, 201988, 1627460, 202066, 202083, 202322, 202323, 202324, 1627733, 1627732, 1627734, 202328, 202326, 1627736, 1627737, 202330, 202331, 1627739, 202335, 1627741, 1627742, 202334, 202339, 1627745, 1627746, 1627747, 202340, 1627749, 1627750, 1627751, 1627752, 202348, 1627748, 1627756, 1627759, 1627760, 1627761, 1627755, 202355, 1627763, 202357, 1627738, 1627767, 1627766, 202358, 202362, 1627771, 1627772, 1627774, 1627775, 1627740, 1627777, 1627776, 1627780, 1627781, 1627782, 1627783, 1627784, 1627788, 1627789, 1627790, 1627743, 202391, 202397, 1627812, 1627814, 1627815, 202407, 1627817, 1627819, 1627820, 1627821, 1627822, 1627823, 1627826, 1627827, 1627832, 1627841, 1627846, 1627853, 1627854, 1627858, 1627863, 1627875, 1627878, 1627883, 1627884, 1627885, 1627897, 1627899, 1627900, 202498, 1627932, 1627936, 1627938, 1627967, 1627982, 1627988, 1627990, 1626155, 1628021, 1628026, 1628035, 1626165, 1628052, 1628068, 1628069, 1628081, 202681, 202683, 202684, 202685, 202687, 202688, 202689, 1628096, 202691, 202692, 202693, 202694, 202695, 202696, 202697, 202699, 202702, 202704, 1628113, 1628112, 202708, 202709, 202710, 202711, 1628123, 202718, 202719, 202722, 1628142, 202734, 202738, 1628150, 1628164, 1628221, 1628237, 1628238, 1628246, 202951, 202954, 1628365, 1628366, 1628367, 1628368, 1628369, 1628370, 1628371, 1628372, 1628373, 1628374, 1628378, 1628379, 1628380, 1628381, 1628382, 1628383, 1628384, 1628385, 1628386, 1628387, 1628388, 1628389, 1628390, 1628391, 1628392, 1628393, 1628394, 1628395, 1628396, 1628397, 1628398, 1628400, 1628401, 1628402, 1628403, 1628404, 1628405, 1628407, 1628408, 1628410, 1628411, 1628412, 1628413, 1628414, 1628415, 1628416, 1628417, 1628418, 1628419, 1628420, 1628421, 1628422, 1628424, 1628425, 1628426, 1628427, 1628429, 1628430, 1628431, 1628432, 1628435, 1628436, 1628443, 1628448, 1628449, 1628450, 1628455, 1628460, 1628464, 1628467, 1628469, 1628470, 1628476, 1628477, 203076, 203077, 203078, 203079, 203081, 203082, 203083, 203084, 203085, 203086, 203087, 1628495, 203089, 203090, 1628499, 1628500, 203093, 203092, 203095, 1628504, 1628506, 203098, 203099, 1628510, 203103, 203104, 1628513, 1628514, 203107, 1628516, 203109, 203110, 1628515, 1628518, 203105, 203114, 203115, 203118, 1628528, 203121, 203124, 1628532, 1628536, 1628537, 1628539, 1628542, 1628544, 203138, 1628547, 1628548, 203145, 1628565, 1628575, 1628576, 1628578, 1628591, 203186, 1628594, 1628600, 1628605, 1628606, 203200, 1628609, 1628610, 1628614, 1628617, 203210, 1628621, 1628654, 1628656, 1628665, 203263, 1628671, 1628679, 1628700, 1628753, 1628769, 1628778, 203382, 1628842, 1628850, 1628860, 1628861, 203457, 203458, 203459, 203460, 1628871, 203463, 203468, 1628876, 203469, 203471, 203473, 203476, 203477, 203480, 203482, 203484, 203486, 203487, 203488, 203490, 203492, 203493, 203496, 203497, 203498, 203500, 203501, 203503, 203504, 203505, 203506, 203507, 203510, 203516, 203521, 203524, 203526, 203533, 1628959, 1628960, 203552, 1628962, 1628963, 1628964, 1628961, 1628966, 1628967, 1628968, 1628969, 1628970, 1628971, 1628972, 1628973, 1628974, 1628975, 1628976, 1628977, 1628978, 1628979, 1628980, 1628981, 1628982, 1628983, 1628984, 1628985, 1628986, 1628987, 1628988, 1628989, 1628990, 203583, 203584, 1628993, 203585, 1628995, 1628991, 1628997, 1628998, 1628999, 1629000, 1629001, 1629002, 1629003, 1629004, 1629005, 1629006, 1629007, 1629008, 1629010, 1629011, 1629012, 1629013, 1629014, 1629015, 1629016, 1629017, 1629018, 1629019, 1629020, 1629021, 1629022, 1629023, 203613, 1629026, 1629027, 1629028, 1629029, 1629033, 1629034, 1629035, 1629036, 1629044, 1629048, 1629049, 1629051, 1629052, 1629053, 1629055, 1629056, 203648, 1629057, 1629059, 1629060, 1629061, 1629058, 1629064, 1629065, 203658, 1629067, 1629066, 1629070, 1629071, 1629076, 1629078, 1629080, 1629081, 1629082, 1629083, 1629091, 1629093, 1629094, 203687, 1629097, 1629099, 1629101, 1629102, 1629103, 1629109, 1629111, 203705, 1629116, 1629117, 203710, 1629118, 1629121, 1629122, 1629126, 1629129, 1629130, 1629133, 1629134, 1629137, 1629139, 1629140, 203736, 1629147, 1629150, 1629151, 1629152, 203748, 1629156, 1629159, 1629162, 1629164, 1629165, 1629166, 1629167, 1629168, 1629184, 1629185, 1629186, 1629191, 1629197, 1629200, 1629203, 1629204, 1629206, 1629207, 1629209, 1629210, 1629211, 1629212, 1629215, 1629216, 203816, 1629232, 1629234, 1629239, 1629240, 1629243, 1629244, 1629245, 1629247, 1629249, 1629258, 1629260, 1629269, 1629270, 1629279, 1629283, 1629668, 1629285, 1629284, 1629290, 1629291, 1629299, 203893, 203894, 203895, 1629302, 203897, 1629305, 203898, 1629308, 203901, 203900, 203903, 1629312, 1629311, 1629309, 203906, 203907, 203909, 1629319, 203912, 203913, 203914, 203915, 203917, 203918, 1629327, 203920, 203922, 203923, 203924, 203925, 203926, 1629339, 203932, 203933, 203935, 203937, 1629346, 203939, 1629350, 203943, 203944, 1629353, 1629354, 203952, 203953, 203954, 1629361, 203957, 203960, 203962, 203967, 1629379, 1629393, 203991, 203992, 203994, 203995, 203998, 203999, 1629408, 204001, 1629416, 1629419, 204020, 204025, 1629435, 204028, 204037, 204038, 1629446, 1629456, 1629459, 1629460, 1629463, 1629467, 204060, 204065, 204075, 204093, 204098, 204105, 204112, 1629542, 204141, 204147, 1628095, 204155, 204158, 204176, 1629594, 1629595, 1629596, 1629597, 1629598, 1629599, 1629600, 1629601, 1629602, 1629603, 1629604, 1629605, 1629606, 1629607, 1629608, 1629609, 1629610, 1629611, 1629612, 1629613, 1629614, 1629615, 1629616, 1629617, 1629618, 1629619, 1629620, 1629621, 1629622, 1629623, 1629624, 1629625, 1629626, 1629627, 1629628, 1629629, 1629630, 1629631, 1629632, 1629633, 1629634, 1629635, 1629636, 1629637, 1629638, 1629639, 1629640, 1629641, 1629642, 1629643, 1629644, 1629645, 1629646, 1629647, 1629648, 1629649, 1629650, 1629651, 1629652, 1629653, 1629655, 1629656, 1629657, 1629658, 1629659, 1629660, 1629661, 204254, 1629663, 1629664, 1629665, 1629666, 1629667, 1629662, 1629669, 1629670, 1629671, 1629672, 1629673, 1629674, 1629675, 1629676, 1629677, 1629678, 1629679, 1629680, 1629681, 1629682, 1629683, 1629684, 1629685, 1629686, 1629689, 1629690, 1629695, 1629696, 1629697, 1629699, 1629700, 1629703, 1629704, 1629712, 1629713, 1629714, 1629715, 1629716, 1629717, 1629718, 1629719, 1629721, 1629722, 1629723, 1629724, 1629725, 1629726, 1629727, 1629729, 1629730, 1629731, 1629734, 1629735, 1629738, 1629739, 1629740, 1629741, 1629742, 1629743, 1629744, 1629745, 1629746, 1629747, 1629749, 1629750, 1629751, 1629752, 1629753, 1629755, 1629756, 1629757, 1629759, 1629760, 1629777, 1629779, 1629782, 1629783, 1629785, 1629786, 1629787, 1629788, 1629789, 1629792, 1629794, 1629797, 1629799, 1629800, 1629801, 1629804, 1629805, 1629807, 1629808, 1629809, 1629811, 1629812, 1629813, 1629818, 1629819, 1629824, 1629825, 1629826, 1629828, 1629829, 1629830, 1629833, 1629835, 1629836, 1629844, 1629849, 1629860, 1629862, 204456, 1629867, 1629869, 1629872, 1629873, 1629874, 1629875, 1629876, 1629879, 1629880, 1629881, 1629884, 1629886, 1629895, 1629896, 1629898, 1629906, 1629909, 1629911, 1629915, 1629918, 1629920, 1629923, 1629926, 1629931, 1629932, 1629933, 1629934, 1629937, 1629940, 1629947, 1629950, 1629951, 1629952, 1629953, 1629955, 1629956, 1629958, 1629959, 1629962, 1629964, 1629965, 1629966, 1629967, 1629968, 1629992, 1629993, 1629998, 1630001, 1630002, 1630003, 1630004, 1630005, 1630010, 1630012, 1630014, 1630034, 1630037, 1630044, 1630045, 1630162, 1630163, 1630164, 1630165, 1630166, 1630167, 1630168, 1630169, 1630170, 1630171, 1630172, 1630173, 1630174, 1630175, 1630176, 1630177, 1630178, 1630179, 1630180, 1630181, 1630182, 1630183, 1630184, 1630185, 1630186, 1630187, 1630188, 1630189, 1630190, 1630191, 1630192, 1630193, 1630194, 1630195, 1630196, 1630197, 1630198, 1630199, 1630200, 1630201, 1630202, 1630203, 1630204, 1630205, 1630206, 1630207}\n"
     ]
    }
   ],
   "source": [
    "import os\n",
    "import pandas as pd\n",
    "\n",
    "data_dir = 'dataset'  # Directory where all the CSV files are located\n",
    "player_id_set = set()\n",
    "\n",
    "# Explicitly define player ID columns to avoid including non-player columns\n",
    "player_columns = [\n",
    "    \"OFF_PLAYER1_ID\", \"OFF_PLAYER2_ID\", \"OFF_PLAYER3_ID\", \"OFF_PLAYER4_ID\", \"OFF_PLAYER5_ID\",\n",
    "    \"DEF_PLAYER1_ID\", \"DEF_PLAYER2_ID\", \"DEF_PLAYER3_ID\", \"DEF_PLAYER4_ID\", \"DEF_PLAYER5_ID\"\n",
    "]\n",
    "\n",
    "for filename in os.listdir(data_dir):\n",
    "    if filename.lower().endswith('.csv'):\n",
    "        filepath = os.path.join(data_dir, filename)\n",
    "        df = pd.read_csv(filepath)\n",
    "        \n",
    "        # Check if all required columns are present\n",
    "        missing_cols = [col for col in player_columns if col not in df.columns]\n",
    "        if missing_cols:\n",
    "            print(f\"Warning: Missing expected player columns {missing_cols} in file {filename}\")\n",
    "            continue\n",
    "        \n",
    "        # Process each player column\n",
    "        for col in player_columns:\n",
    "            # Drop NaN\n",
    "            col_values = df[col].dropna()\n",
    "            \n",
    "            # Ensure values are numeric\n",
    "            col_values = pd.to_numeric(col_values, errors='coerce').dropna()\n",
    "            \n",
    "            # Filter out invalid IDs (e.g., 0 if not a real player ID)\n",
    "            col_values = col_values[col_values > 0]\n",
    "            \n",
    "            # Convert to int\n",
    "            col_values = col_values.astype(int)\n",
    "            \n",
    "            # Update the set of player IDs\n",
    "            player_id_set.update(col_values.unique())\n",
    "\n",
    "# After processing all files, player_id_set contains all unique player IDs\n",
    "print(f\"Total unique player IDs found: {len(player_id_set)}\")\n",
    "print(player_id_set)"
   ]
  },
  {
   "cell_type": "code",
   "execution_count": 15,
   "metadata": {},
   "outputs": [
    {
     "name": "stdout",
     "output_type": "stream",
     "text": [
      "Processing complete.\n"
     ]
    }
   ],
   "source": [
    "import os\n",
    "import pandas as pd\n",
    "import numpy as np\n",
    "\n",
    "data_dir = 'dataset'\n",
    "player_columns = [\n",
    "    \"OFF_PLAYER1_ID\", \"OFF_PLAYER2_ID\", \"OFF_PLAYER3_ID\", \"OFF_PLAYER4_ID\", \"OFF_PLAYER5_ID\",\n",
    "    \"DEF_PLAYER1_ID\", \"DEF_PLAYER2_ID\", \"DEF_PLAYER3_ID\", \"DEF_PLAYER4_ID\", \"DEF_PLAYER5_ID\"\n",
    "]\n",
    "\n",
    "player_counts = {}\n",
    "total_possessions = 0\n",
    "\n",
    "# First pass: count how many times each player appears and total possessions\n",
    "for filename in os.listdir(data_dir):\n",
    "    if filename.lower().endswith('.csv'):\n",
    "        filepath = os.path.join(data_dir, filename)\n",
    "        df = pd.read_csv(filepath)\n",
    "        \n",
    "        # Ensure all player_columns are present\n",
    "        missing_cols = [col for col in player_columns if col not in df.columns]\n",
    "        if missing_cols:\n",
    "            print(f\"Warning: Missing columns {missing_cols} in file {filename}, skipping this file.\")\n",
    "            continue\n",
    "        \n",
    "        # Remove rows with NaNs in player columns\n",
    "        df = df.dropna(subset=player_columns, how='any')\n",
    "\n",
    "        # Each row represents one possession\n",
    "        total_possessions += len(df)\n",
    "\n",
    "        for col in player_columns:\n",
    "            # Convert to numeric and drop any non-numeric values\n",
    "            players = pd.to_numeric(df[col], errors='coerce').dropna()\n",
    "\n",
    "            # Filter out invalid IDs like 0 if known invalid\n",
    "            players = players[players > 0]\n",
    "\n",
    "            # Convert to int\n",
    "            players = players.astype(int)\n",
    "\n",
    "            # Count appearances\n",
    "            for p in players:\n",
    "                player_counts[p] = player_counts.get(p, 0) + 1\n",
    "\n",
    "# Calculate the threshold\n",
    "average_team_possessions = total_possessions / 30.0\n",
    "threshold = 0.01 * average_team_possessions  # 1% of average team possessions\n",
    "\n",
    "# Identify rare players\n",
    "rare_players = {p for p, count in player_counts.items() if count < threshold}\n",
    "\n",
    "# Define a placeholder for rare players\n",
    "RARE_PLAYER_ID = 999999\n",
    "\n",
    "# Second pass: replace rare players\n",
    "output_dir = 'dataset_cleaned'\n",
    "os.makedirs(output_dir, exist_ok=True)\n",
    "\n",
    "for filename in os.listdir(data_dir):\n",
    "    if filename.lower().endswith('.csv'):\n",
    "        filepath = os.path.join(data_dir, filename)\n",
    "        df = pd.read_csv(filepath)\n",
    "        \n",
    "        # Verify columns again just in case\n",
    "        missing_cols = [col for col in player_columns if col not in df.columns]\n",
    "        if missing_cols:\n",
    "            print(f\"Warning: Missing columns {missing_cols} in file {filename}, skipping this file.\")\n",
    "            continue\n",
    "\n",
    "        # Convert to numeric before replacement to avoid issues if there are non-numeric values\n",
    "        for col in player_columns:\n",
    "            df[col] = pd.to_numeric(df[col], errors='coerce')\n",
    "            # Filter out invalid (if needed), though here we can just replace them if rare\n",
    "            df[col] = df[col].apply(lambda x: RARE_PLAYER_ID if pd.notnull(x) and x in rare_players else x)\n",
    "\n",
    "        # Drop rows that became NaN entirely if any (optional)\n",
    "        df = df.dropna(subset=player_columns, how='any')\n",
    "\n",
    "        # Convert back to int where possible (for uniformity)\n",
    "        for col in player_columns:\n",
    "            # Ensure no NaNs remain\n",
    "            df[col] = df[col].fillna(RARE_PLAYER_ID)\n",
    "            df[col] = df[col].astype(int)\n",
    "\n",
    "        df.to_csv(os.path.join(output_dir, filename), index=False)\n",
    "\n",
    "print(\"Processing complete.\")"
   ]
  },
  {
   "cell_type": "code",
   "execution_count": 17,
   "metadata": {},
   "outputs": [
    {
     "name": "stdout",
     "output_type": "stream",
     "text": [
      "Total unique player IDs found: 1543\n",
      "{1630208, 1630209, 1630210, 1630211, 1630213, 1630214, 1630215, 1630216, 1630217, 1630218, 1630219, 1630221, 1630222, 1630223, 1630224, 1630225, 1630227, 1630228, 1630230, 1630231, 1630232, 1630233, 1630234, 1630235, 1630237, 1630238, 1630240, 1630241, 1630242, 1630243, 1630245, 1630246, 1630247, 1630248, 1630249, 1630250, 1630253, 1630254, 1630256, 1630257, 1630258, 1630259, 1630261, 1630264, 1630265, 1630266, 1630267, 1630268, 1630270, 1630271, 1630273, 1630275, 1630276, 1630278, 1630283, 1630284, 1630285, 1630286, 1630287, 1630288, 1630289, 1630294, 1630295, 1630296, 1630298, 1630306, 1630307, 1630310, 1630311, 1630312, 1630314, 1630315, 1630317, 1630319, 1630320, 1630321, 1630322, 1630323, 1630324, 1630326, 1630340, 1630342, 1630346, 1630348, 1630351, 1630354, 1630358, 1630466, 1630525, 1630526, 1630527, 1630528, 1630529, 1630530, 1630531, 1630532, 1630533, 1630534, 1630535, 1630536, 1630537, 1630538, 1630539, 1630540, 1630541, 1630542, 1630543, 1630544, 1630547, 1630548, 1630549, 1630550, 1630551, 1630552, 1630553, 1630554, 1630555, 1630556, 1630557, 1630558, 1630559, 1630560, 1630561, 1630562, 1630563, 1630564, 1630565, 1630566, 1630567, 1630568, 1630569, 1630570, 1630571, 1630572, 1630573, 1630575, 1630577, 1630578, 1630579, 1630580, 1630581, 1630582, 1630583, 1630585, 1630586, 1630587, 1630588, 1630589, 1630590, 1630591, 1630592, 1630593, 1630595, 1630596, 1630597, 1630598, 1630600, 1630601, 1630602, 1630603, 1630604, 1630605, 1630606, 1630607, 1630608, 1630610, 1630611, 1630612, 1630613, 1630617, 1630618, 1630620, 1630622, 1630623, 1630624, 1630625, 1630627, 1630631, 1630633, 1630637, 1630639, 1630640, 1630641, 1630642, 1630643, 1630644, 1630645, 1630647, 1630648, 1630649, 1630651, 1630652, 1630658, 1630660, 1630665, 1630667, 1630672, 1630675, 1630676, 1630678, 1630679, 1630681, 1630686, 1630687, 1630688, 1630691, 1630692, 1630693, 1630695, 1630696, 1630697, 1630698, 1630699, 1630700, 1630701, 1630702, 1630703, 1630704, 1630705, 1630706, 1630707, 1630708, 1630711, 1630712, 1630713, 1630714, 1630715, 1630720, 1630721, 1630722, 1630723, 1630725, 1630726, 1630728, 1630730, 1630732, 1630741, 1630750, 1630753, 1630758, 1630762, 1630764, 1630765, 1630767, 1630770, 1630771, 1630777, 1630778, 999999, 1630787, 1630791, 1630792, 1630793, 1630796, 1630801, 1630806, 1630807, 1630808, 1630809, 1630811, 1630814, 1630817, 1630819, 1630822, 1630824, 1630828, 1630835, 1630837, 1630841, 1630844, 1630845, 1630846, 1630847, 1630895, 1630919, 1630929, 1630943, 1630944, 1630951, 1631093, 1631094, 1631095, 1631096, 1631097, 1631098, 1631099, 1631100, 1631101, 1631102, 1631103, 1631104, 1631105, 1631106, 1631107, 1631108, 1631109, 1631110, 1631111, 1631112, 1631113, 1631114, 1631115, 1631116, 1631117, 1631119, 1631120, 1631121, 1631122, 1631123, 1631124, 1631128, 1631129, 1631131, 1631132, 1631133, 1631157, 1631159, 1631160, 1631165, 1631166, 1631167, 1631169, 1631170, 1631171, 1631172, 1631173, 1631197, 1631198, 1631199, 1631200, 1631202, 1631204, 1631205, 1631207, 1631208, 1631209, 1631210, 1631211, 1631212, 1631213, 1631214, 1631216, 1631217, 1631218, 1631219, 1631220, 1631221, 1631222, 1631223, 1631230, 1631231, 1631235, 1631236, 1631237, 1631238, 1631241, 1631242, 1631243, 1631245, 1631246, 1631250, 1631253, 1631254, 1631255, 1631257, 1631258, 1631260, 1631261, 1631262, 1631266, 1631286, 1631288, 1631289, 1631290, 1631293, 1631298, 1631300, 1631301, 1631303, 1631306, 1631309, 1631311, 1631317, 1631321, 1631322, 1631323, 1631338, 1631339, 1631340, 1631341, 1631342, 1631344, 1631347, 1631348, 1631351, 1631358, 1631365, 1631367, 1631368, 1631371, 1631372, 1631376, 1631378, 1631379, 1631384, 1631385, 1631386, 1631389, 1631395, 1631399, 1631407, 1631408, 1631410, 1631413, 1631416, 1631421, 1631436, 1631440, 1631441, 1631442, 1631443, 1631449, 1631451, 1631452, 1631453, 1631455, 1631457, 1631458, 1631462, 1631466, 1631474, 1631479, 1631489, 1631495, 1631499, 1713, 202329, 2199, 200757, 2544, 2546, 2594, 2617, 2730, 2738, 2772, 101107, 101108, 101123, 101127, 101133, 101139, 101141, 101150, 101161, 1641499, 1641501, 1641502, 1641505, 1641526, 1641566, 1641568, 1641645, 1641705, 1641706, 1641707, 1641708, 1641709, 1641710, 1641711, 1641712, 1641713, 1641715, 1641716, 1641717, 1641718, 1641720, 1641721, 1641722, 1641723, 1641724, 1641726, 1641729, 1641730, 1641731, 1641732, 1641733, 1641734, 1641735, 1641738, 1641739, 1641741, 1641745, 1641748, 1641749, 1641753, 1641754, 1641756, 1641757, 1641760, 1641763, 1641764, 1641765, 1641766, 1641767, 1641771, 1641774, 1641775, 1641778, 1641784, 1641787, 1641788, 1641789, 1641792, 1641793, 1641795, 1641798, 1641799, 1641805, 1641806, 1641809, 1641811, 1641816, 1641823, 1641824, 1641825, 1641830, 1641831, 1641842, 1641847, 1641848, 1641849, 1641851, 1641854, 1641856, 204215, 1641859, 1641861, 1641862, 1641863, 1641864, 1641868, 1641869, 1641871, 1641874, 1641877, 1641878, 1641879, 1641881, 1641882, 1641890, 1641891, 1641893, 1641907, 1641909, 1641914, 1641915, 1641917, 1641918, 1641920, 1641924, 1641926, 1641931, 1641934, 1641935, 1641936, 1641941, 1641945, 1641947, 1641948, 1641970, 1641983, 1641985, 1641986, 1641987, 1641988, 1641989, 1641991, 1641994, 1641998, 1641999, 1642009, 1642011, 1642013, 1642019, 1642022, 1642024, 1642026, 1642027, 1642028, 1642037, 1642044, 1642045, 1642046, 1642049, 1642050, 1642052, 1642053, 1642058, 1642066, 1642071, 1642072, 1642085, 1642089, 1642099, 1642104, 1642105, 1642118, 1642128, 1642207, 1628992, 1628994, 1628996, 1626143, 1626144, 1626145, 1626147, 1626149, 1626150, 1626153, 1626154, 200746, 1626156, 1626157, 1626158, 1626159, 200752, 1626161, 1626162, 200755, 1626164, 1626163, 1626166, 1626167, 1626168, 1626169, 1626170, 1626171, 1626172, 200765, 1626174, 1626173, 200768, 1626178, 1626179, 1626181, 1626184, 1626187, 1626188, 200782, 1626192, 1626195, 1626196, 1626197, 1626201, 200794, 1626203, 1626204, 1626202, 1626208, 1626209, 1626217, 1626218, 1626220, 1626224, 200817, 200826, 1626245, 1626246, 1626252, 1626253, 1626259, 1626260, 1626263, 1626272, 1626280, 1626296, 1626355, 1626522, 201142, 201143, 201144, 201145, 201152, 201158, 201162, 201163, 1626586, 201188, 1626603, 201229, 201281, 201565, 201566, 201567, 201568, 201569, 201571, 201572, 201577, 201580, 201584, 201586, 201587, 201588, 1626999, 201596, 201599, 201609, 201628, 201645, 1627068, 1627208, 1627215, 1627290, 1627292, 201933, 201934, 201935, 201937, 201939, 201942, 1627352, 201949, 201950, 201952, 201959, 201960, 201961, 1627383, 201976, 201975, 201980, 1627395, 1627396, 201988, 202066, 202083, 202322, 202323, 202324, 1627733, 1627732, 1627734, 202328, 202326, 1627736, 1627737, 202330, 202331, 1627739, 202335, 1627741, 1627742, 202334, 202339, 1627745, 1627746, 1627747, 202340, 1627749, 1627750, 1627751, 1627752, 202348, 1627748, 1627756, 1627759, 1627760, 1627761, 202355, 1627763, 202357, 1627738, 1627767, 1627766, 202362, 1627771, 1627774, 1627775, 1627740, 1627777, 1627776, 1627780, 1627781, 1627782, 1627783, 1627784, 1627788, 1627789, 1627790, 202391, 202397, 1627812, 1627814, 1627815, 1627817, 1627819, 1627820, 1627821, 1627822, 1627823, 1627826, 1627827, 1627832, 1627841, 1627846, 1627853, 1627854, 1627858, 1627863, 1627875, 1627878, 1627883, 1627884, 1627885, 1627897, 1627899, 1627900, 1627936, 1627938, 1627967, 1627982, 1627988, 1627990, 1628021, 1628026, 1628035, 1626165, 1628052, 1628068, 1628069, 202681, 202683, 202684, 202685, 202687, 202688, 202689, 1628096, 202691, 202692, 202693, 202694, 202695, 202696, 202697, 202699, 202702, 202704, 1628113, 202708, 202709, 202710, 202711, 1628123, 202722, 1628142, 202734, 202738, 1628150, 1628164, 1628221, 1628237, 1628238, 202951, 202954, 1628365, 1628366, 1628367, 1628368, 1628369, 1628370, 1628371, 1628372, 1628373, 1628374, 1628378, 1628379, 1628380, 1628381, 1628382, 1628383, 1628384, 1628385, 1628386, 1628387, 1628388, 1628389, 1628390, 1628391, 1628392, 1628393, 1628394, 1628395, 1628396, 1628397, 1628398, 1628400, 1628401, 1628402, 1628403, 1628404, 1628405, 1628407, 1628408, 1628410, 1628411, 1628412, 1628413, 1628414, 1628415, 1628416, 1628417, 1628418, 1628419, 1628420, 1628421, 1628422, 1628424, 1628425, 1628426, 1628427, 1628429, 1628430, 1628431, 1628432, 1628435, 1628436, 1628443, 1628448, 1628449, 1628450, 1628455, 1628460, 1628464, 1628467, 1628469, 1628470, 1628476, 1628477, 203076, 203077, 203078, 203079, 203081, 203082, 203083, 203084, 203085, 203086, 203087, 1628495, 203089, 203090, 1628499, 1628500, 203093, 203095, 1628504, 1628506, 203098, 203099, 1628510, 203104, 1628513, 203107, 1628516, 203109, 203110, 1628515, 1628518, 203114, 203115, 203118, 1628528, 203121, 203124, 1628532, 1628537, 1628539, 1628542, 203145, 1628565, 1628575, 1628576, 1628578, 1628591, 203186, 1628600, 1628605, 1628606, 203200, 1628609, 1628610, 1628614, 1628617, 203210, 1628621, 1628654, 1628656, 1628665, 1628671, 1628679, 1628700, 1628753, 1628769, 1628778, 203382, 1628842, 1628860, 203457, 203458, 203459, 203460, 1628871, 203463, 203468, 1628876, 203469, 203471, 203473, 203476, 203477, 203482, 203484, 203486, 203487, 203488, 203490, 203492, 203493, 203496, 203497, 203500, 203501, 203503, 203504, 203505, 203506, 203507, 203510, 203516, 203521, 203524, 203526, 203533, 1628959, 1628960, 203552, 1628962, 1628963, 1628964, 1628961, 1628966, 1628967, 1628968, 1628969, 1628970, 1628971, 1628972, 1628973, 1628974, 1628975, 1628976, 1628977, 1628978, 1628979, 1628980, 1628981, 1628982, 1628983, 1628984, 1628985, 1628986, 1628987, 1628988, 1628989, 1628990, 203583, 203584, 1628993, 203585, 1628995, 1628991, 1628997, 1628998, 1628999, 1629000, 1629001, 1629002, 1629003, 1629004, 1629005, 1629006, 1629007, 1629008, 1629010, 1629011, 1629012, 1629013, 1629014, 1629015, 1629016, 1629017, 1629018, 1629019, 1629020, 1629021, 1629022, 1629023, 1629026, 1629027, 1629028, 1629029, 1629033, 1629034, 1629035, 1629036, 1629044, 1629048, 1629049, 1629051, 1629052, 1629053, 1629055, 1629056, 203648, 1629057, 1629059, 1629060, 1629061, 1629058, 1629064, 1629065, 203658, 1629067, 1629066, 1629070, 1629071, 1629076, 1629078, 1629081, 1629082, 1629083, 1629094, 203687, 1629097, 1629099, 1629102, 1629103, 1629109, 1629111, 203705, 1629117, 203710, 1629118, 1629121, 1629122, 1629126, 1629129, 1629130, 1629133, 1629134, 1629137, 1629139, 1629140, 1629147, 1629150, 1629151, 1629152, 203748, 1629156, 1629159, 1629162, 1629164, 1629165, 1629166, 1629167, 1629168, 1629184, 1629185, 1629186, 1629191, 1629200, 1629203, 1629204, 1629206, 1629207, 1629209, 1629212, 1629215, 1629216, 203816, 1629232, 1629234, 1629239, 1629240, 1629243, 1629244, 1629245, 1629249, 1629260, 1629270, 1629279, 1629283, 1629668, 1629285, 1629290, 1629299, 203894, 203895, 1629302, 203897, 1629305, 203898, 1629308, 203901, 203900, 203903, 1629312, 1629311, 1629309, 203906, 203907, 203909, 1629319, 203912, 203914, 203915, 203917, 203918, 203920, 203922, 203923, 203924, 203925, 203926, 203932, 203933, 203935, 203937, 1629346, 203939, 203943, 203944, 1629353, 1629354, 203952, 203953, 203954, 1629361, 203957, 203960, 203962, 203967, 1629379, 1629393, 203991, 203992, 203994, 203995, 203998, 203999, 1629408, 204001, 1629419, 204020, 204025, 1629435, 204028, 204037, 204038, 1629446, 1629456, 1629459, 1629460, 1629463, 1629467, 204060, 204065, 204075, 204098, 204105, 204112, 204147, 1628095, 204158, 1629594, 1629595, 1629596, 1629597, 1629598, 1629599, 1629600, 1629601, 1629602, 1629603, 1629604, 1629605, 1629606, 1629607, 1629608, 1629609, 1629610, 1629611, 1629612, 1629613, 1629614, 1629615, 1629616, 1629617, 1629618, 1629619, 1629620, 1629621, 1629622, 1629623, 1629624, 1629625, 1629626, 1629627, 1629628, 1629629, 1629630, 1629631, 1629632, 1629633, 1629634, 1629635, 1629636, 1629637, 1629638, 1629639, 1629640, 1629641, 1629642, 1629643, 1629644, 1629645, 1629646, 1629647, 1629648, 1629649, 1629650, 1629651, 1629652, 1629653, 1629655, 1629656, 1629657, 1629658, 1629659, 1629660, 1629661, 204254, 1629663, 1629664, 1629665, 1629666, 1629667, 1629662, 1629669, 1629670, 1629671, 1629672, 1629673, 1629674, 1629675, 1629676, 1629677, 1629678, 1629679, 1629680, 1629681, 1629682, 1629683, 1629684, 1629685, 1629686, 1629689, 1629690, 1629695, 1629696, 1629697, 1629699, 1629700, 1629703, 1629704, 1629712, 1629713, 1629714, 1629715, 1629716, 1629717, 1629718, 1629719, 1629721, 1629722, 1629723, 1629724, 1629725, 1629726, 1629727, 1629729, 1629730, 1629731, 1629734, 1629735, 1629738, 1629739, 1629740, 1629741, 1629743, 1629744, 1629745, 1629746, 1629747, 1629749, 1629750, 1629751, 1629752, 1629753, 1629755, 1629756, 1629757, 1629759, 1629760, 1629777, 1629779, 1629782, 1629783, 1629785, 1629786, 1629787, 1629788, 1629789, 1629792, 1629794, 1629797, 1629799, 1629800, 1629801, 1629807, 1629808, 1629809, 1629811, 1629813, 1629818, 1629819, 1629824, 1629825, 1629826, 1629833, 1629835, 1629836, 1629844, 1629849, 1629860, 1629862, 204456, 1629867, 1629869, 1629872, 1629873, 1629874, 1629875, 1629876, 1629880, 1629881, 1629884, 1629886, 1629898, 1629906, 1629911, 1629915, 1629920, 1629923, 1629934, 1629937, 1629940, 1629951, 1629953, 1629955, 1629956, 1629958, 1629959, 1629962, 1629965, 1629966, 1629967, 1629993, 1630001, 1630002, 1630003, 1630005, 1630012, 1630045, 1630162, 1630163, 1630164, 1630165, 1630166, 1630167, 1630168, 1630169, 1630170, 1630171, 1630172, 1630173, 1630174, 1630175, 1630176, 1630177, 1630178, 1630179, 1630180, 1630181, 1630182, 1630183, 1630184, 1630185, 1630186, 1630187, 1630188, 1630189, 1630190, 1630191, 1630192, 1630193, 1630194, 1630195, 1630197, 1630198, 1630199, 1630200, 1630201, 1630202, 1630203, 1630204, 1630205, 1630206, 1630207}\n"
     ]
    }
   ],
   "source": [
    "import os\n",
    "import pandas as pd\n",
    "\n",
    "data_dir = 'dataset_cleaned'  # Directory where all the CSV files are located\n",
    "player_id_set = set()\n",
    "\n",
    "# Explicitly define player ID columns to avoid including non-player columns\n",
    "player_columns = [\n",
    "    \"OFF_PLAYER1_ID\", \"OFF_PLAYER2_ID\", \"OFF_PLAYER3_ID\", \"OFF_PLAYER4_ID\", \"OFF_PLAYER5_ID\",\n",
    "    \"DEF_PLAYER1_ID\", \"DEF_PLAYER2_ID\", \"DEF_PLAYER3_ID\", \"DEF_PLAYER4_ID\", \"DEF_PLAYER5_ID\"\n",
    "]\n",
    "\n",
    "for filename in os.listdir(data_dir):\n",
    "    if filename.lower().endswith('.csv'):\n",
    "        filepath = os.path.join(data_dir, filename)\n",
    "        df = pd.read_csv(filepath)\n",
    "        \n",
    "        # Check if all required columns are present\n",
    "        missing_cols = [col for col in player_columns if col not in df.columns]\n",
    "        if missing_cols:\n",
    "            print(f\"Warning: Missing expected player columns {missing_cols} in file {filename}\")\n",
    "            continue\n",
    "        \n",
    "        # Process each player column\n",
    "        for col in player_columns:\n",
    "            # Drop NaN\n",
    "            col_values = df[col].dropna()\n",
    "            \n",
    "            # Ensure values are numeric\n",
    "            col_values = pd.to_numeric(col_values, errors='coerce').dropna()\n",
    "            \n",
    "            # Filter out invalid IDs (e.g., 0 if not a real player ID)\n",
    "            col_values = col_values[col_values > 0]\n",
    "            \n",
    "            # Convert to int\n",
    "            col_values = col_values.astype(int)\n",
    "            \n",
    "            # Update the set of player IDs\n",
    "            player_id_set.update(col_values.unique())\n",
    "\n",
    "# After processing all files, player_id_set contains all unique player IDs\n",
    "print(f\"Total unique player IDs found: {len(player_id_set)}\")\n",
    "print(player_id_set)"
   ]
  },
  {
   "cell_type": "code",
   "execution_count": 12,
   "metadata": {},
   "outputs": [
    {
     "data": {
      "text/plain": [
       "{'id': 170,\n",
       " 'full_name': 'Joe Kleine',\n",
       " 'first_name': 'Joe',\n",
       " 'last_name': 'Kleine',\n",
       " 'is_active': False}"
      ]
     },
     "execution_count": 12,
     "metadata": {},
     "output_type": "execute_result"
    }
   ],
   "source": [
    "from nba_api.stats.static import players\n",
    "players.find_player_by_id(\"170\")"
   ]
  },
  {
   "cell_type": "code",
   "execution_count": 13,
   "metadata": {},
   "outputs": [],
   "source": [
    "import os\n",
    "import pandas as pd\n",
    "\n",
    "data_dir = 'dataset'\n",
    "player_id = \"170\"\n",
    "player_columns = [\n",
    "    \"OFF_PLAYER1_ID\", \"OFF_PLAYER2_ID\", \"OFF_PLAYER3_ID\", \"OFF_PLAYER4_ID\", \"OFF_PLAYER5_ID\",\n",
    "    \"DEF_PLAYER1_ID\", \"DEF_PLAYER2_ID\", \"DEF_PLAYER3_ID\", \"DEF_PLAYER4_ID\", \"DEF_PLAYER5_ID\"\n",
    "]\n",
    "\n",
    "for filename in os.listdir(data_dir):\n",
    "    if filename.lower().endswith('.csv'):\n",
    "        filepath = os.path.join(data_dir, filename)\n",
    "        df = pd.read_csv(filepath)\n",
    "        \n",
    "        mask = (df[player_columns] == player_id).any(axis=1)\n",
    "        df_with_player = df[mask]\n",
    "        \n",
    "        if not df_with_player.empty:\n",
    "            print(f\"Found player {player_id} in file: {filename}\")\n",
    "            # Optionally, add a column with the filename\n",
    "            df_with_player[\"SOURCE_FILE\"] = filename\n",
    "            print(df_with_player)"
   ]
  },
  {
   "cell_type": "code",
   "execution_count": null,
   "metadata": {},
   "outputs": [
    {
     "name": "stdout",
     "output_type": "stream",
     "text": [
      "Max player ID: 1642207\n",
      "Min player ID: 1713\n",
      "Data has been successfully split into Parquet shards.\n",
      "Train size: 1416007, Val size: 177001, Test size: 177001\n"
     ]
    }
   ],
   "source": [
    "import os\n",
    "import pandas as pd\n",
    "from sklearn.model_selection import train_test_split\n",
    "\n",
    "data_dir = 'dataset_cleaned'  # Directory with all your cleaned CSVs\n",
    "output_dir = 'split_data_parquet'\n",
    "os.makedirs(output_dir, exist_ok=True)\n",
    "\n",
    "# 1. Combine all CSVs into one DataFrame\n",
    "all_dfs = []\n",
    "for filename in os.listdir(data_dir):\n",
    "    if filename.lower().endswith('.csv'):\n",
    "        filepath = os.path.join(data_dir, filename)\n",
    "        df = pd.read_csv(filepath)\n",
    "        all_dfs.append(df)\n",
    "\n",
    "combined_df = pd.concat(all_dfs, ignore_index=True)\n",
    "del all_dfs  # free memory\n",
    "\n",
    "# 2. Shuffle the entire combined dataset\n",
    "combined_df = combined_df.sample(frac=1, random_state=42).reset_index(drop=True)\n",
    "\n",
    "# 3. Split into train, val, test (80/10/10 example)\n",
    "train_ratio = 0.8\n",
    "val_ratio = 0.1\n",
    "test_ratio = 0.1\n",
    "\n",
    "train_df, temp_df = train_test_split(combined_df, test_size=(1 - train_ratio), random_state=42)\n",
    "val_df, test_df = train_test_split(temp_df, test_size=(test_ratio/(test_ratio+val_ratio)), random_state=42)\n",
    "\n",
    "del combined_df, temp_df  # free memory\n",
    "\n",
    "# Define how many shards you want per split\n",
    "num_shards_train = 10\n",
    "num_shards_val = 2\n",
    "num_shards_test = 2\n",
    "\n",
    "player_columns = [\n",
    "    \"OFF_PLAYER1_ID\", \"OFF_PLAYER2_ID\", \"OFF_PLAYER3_ID\", \"OFF_PLAYER4_ID\", \"OFF_PLAYER5_ID\",\n",
    "    \"DEF_PLAYER1_ID\", \"DEF_PLAYER2_ID\", \"DEF_PLAYER3_ID\", \"DEF_PLAYER4_ID\", \"DEF_PLAYER5_ID\"\n",
    "]\n",
    "\n",
    "# Before writing shards, inspect player IDs\n",
    "all_ids = pd.concat([train_df[player_columns], val_df[player_columns], test_df[player_columns]], ignore_index=True)\n",
    "max_id = all_ids.max().max()\n",
    "min_id = all_ids.min().min()\n",
    "\n",
    "print(\"Max player ID:\", max_id)\n",
    "print(\"Min player ID:\", min_id)\n",
    "\n",
    "def write_parquet_shards(df, split_name, num_shards):\n",
    "    # Calculate shard sizes\n",
    "    num_rows = len(df)\n",
    "    shard_size = num_rows // num_shards\n",
    "    remainder = num_rows % num_shards\n",
    "\n",
    "    start = 0\n",
    "    for i in range(num_shards):\n",
    "        end = start + shard_size + (1 if i < remainder else 0)\n",
    "        shard_df = df.iloc[start:end]\n",
    "        shard_path = os.path.join(output_dir, f\"{split_name}_{i:03d}.parquet\")\n",
    "        shard_df.to_parquet(shard_path, index=False)\n",
    "        start = end\n",
    "\n",
    "# After any adjustments, write out the shards\n",
    "write_parquet_shards(train_df, 'train', num_shards_train)\n",
    "write_parquet_shards(val_df, 'val', num_shards_val)\n",
    "write_parquet_shards(test_df, 'test', num_shards_test)\n",
    "\n",
    "print(\"Data has been successfully split into Parquet shards.\")\n",
    "print(f\"Train size: {len(train_df)}, Val size: {len(val_df)}, Test size: {len(test_df)}\")"
   ]
  },
  {
   "cell_type": "markdown",
   "metadata": {},
   "source": [
    "# Model Code"
   ]
  },
  {
   "cell_type": "markdown",
   "metadata": {},
   "source": [
    "## First Model on hot"
   ]
  },
  {
   "cell_type": "code",
   "execution_count": 2,
   "metadata": {},
   "outputs": [
    {
     "data": {
      "text/html": [
       "<pre style=\"white-space:pre;overflow-x:auto;line-height:normal;font-family:Menlo,'DejaVu Sans Mono',consolas,'Courier New',monospace\"><span style=\"font-weight: bold\">Model: \"functional_1\"</span>\n",
       "</pre>\n"
      ],
      "text/plain": [
       "\u001b[1mModel: \"functional_1\"\u001b[0m\n"
      ]
     },
     "metadata": {},
     "output_type": "display_data"
    },
    {
     "data": {
      "text/html": [
       "<pre style=\"white-space:pre;overflow-x:auto;line-height:normal;font-family:Menlo,'DejaVu Sans Mono',consolas,'Courier New',monospace\">┏━━━━━━━━━━━━━━━━━━━━━┳━━━━━━━━━━━━━━━━━━━┳━━━━━━━━━━━━┳━━━━━━━━━━━━━━━━━━━┓\n",
       "┃<span style=\"font-weight: bold\"> Layer (type)        </span>┃<span style=\"font-weight: bold\"> Output Shape      </span>┃<span style=\"font-weight: bold\">    Param # </span>┃<span style=\"font-weight: bold\"> Connected to      </span>┃\n",
       "┡━━━━━━━━━━━━━━━━━━━━━╇━━━━━━━━━━━━━━━━━━━╇━━━━━━━━━━━━╇━━━━━━━━━━━━━━━━━━━┩\n",
       "│ players_input       │ (<span style=\"color: #00d7ff; text-decoration-color: #00d7ff\">None</span>, <span style=\"color: #00af00; text-decoration-color: #00af00\">10</span>, <span style=\"color: #00af00; text-decoration-color: #00af00\">1543</span>)  │          <span style=\"color: #00af00; text-decoration-color: #00af00\">0</span> │ -                 │\n",
       "│ (<span style=\"color: #0087ff; text-decoration-color: #0087ff\">InputLayer</span>)        │                   │            │                   │\n",
       "├─────────────────────┼───────────────────┼────────────┼───────────────────┤\n",
       "│ embedding_layer     │ (<span style=\"color: #00d7ff; text-decoration-color: #00d7ff\">None</span>, <span style=\"color: #00af00; text-decoration-color: #00af00\">10</span>, <span style=\"color: #00af00; text-decoration-color: #00af00\">8</span>)     │     <span style=\"color: #00af00; text-decoration-color: #00af00\">12,344</span> │ players_input[<span style=\"color: #00af00; text-decoration-color: #00af00\">0</span>]… │\n",
       "│ (<span style=\"color: #0087ff; text-decoration-color: #0087ff\">TimeDistributed</span>)   │                   │            │                   │\n",
       "├─────────────────────┼───────────────────┼────────────┼───────────────────┤\n",
       "│ offense_slice       │ (<span style=\"color: #00d7ff; text-decoration-color: #00d7ff\">None</span>, <span style=\"color: #00af00; text-decoration-color: #00af00\">5</span>, <span style=\"color: #00af00; text-decoration-color: #00af00\">8</span>)      │          <span style=\"color: #00af00; text-decoration-color: #00af00\">0</span> │ embedding_layer[<span style=\"color: #00af00; text-decoration-color: #00af00\">…</span> │\n",
       "│ (<span style=\"color: #0087ff; text-decoration-color: #0087ff\">Lambda</span>)            │                   │            │                   │\n",
       "├─────────────────────┼───────────────────┼────────────┼───────────────────┤\n",
       "│ defense_slice       │ (<span style=\"color: #00d7ff; text-decoration-color: #00d7ff\">None</span>, <span style=\"color: #00af00; text-decoration-color: #00af00\">5</span>, <span style=\"color: #00af00; text-decoration-color: #00af00\">8</span>)      │          <span style=\"color: #00af00; text-decoration-color: #00af00\">0</span> │ embedding_layer[<span style=\"color: #00af00; text-decoration-color: #00af00\">…</span> │\n",
       "│ (<span style=\"color: #0087ff; text-decoration-color: #0087ff\">Lambda</span>)            │                   │            │                   │\n",
       "├─────────────────────┼───────────────────┼────────────┼───────────────────┤\n",
       "│ off_mean (<span style=\"color: #0087ff; text-decoration-color: #0087ff\">Lambda</span>)   │ (<span style=\"color: #00d7ff; text-decoration-color: #00d7ff\">None</span>, <span style=\"color: #00af00; text-decoration-color: #00af00\">8</span>)         │          <span style=\"color: #00af00; text-decoration-color: #00af00\">0</span> │ offense_slice[<span style=\"color: #00af00; text-decoration-color: #00af00\">0</span>]… │\n",
       "├─────────────────────┼───────────────────┼────────────┼───────────────────┤\n",
       "│ def_mean (<span style=\"color: #0087ff; text-decoration-color: #0087ff\">Lambda</span>)   │ (<span style=\"color: #00d7ff; text-decoration-color: #00d7ff\">None</span>, <span style=\"color: #00af00; text-decoration-color: #00af00\">8</span>)         │          <span style=\"color: #00af00; text-decoration-color: #00af00\">0</span> │ defense_slice[<span style=\"color: #00af00; text-decoration-color: #00af00\">0</span>]… │\n",
       "├─────────────────────┼───────────────────┼────────────┼───────────────────┤\n",
       "│ concat              │ (<span style=\"color: #00d7ff; text-decoration-color: #00d7ff\">None</span>, <span style=\"color: #00af00; text-decoration-color: #00af00\">16</span>)        │          <span style=\"color: #00af00; text-decoration-color: #00af00\">0</span> │ off_mean[<span style=\"color: #00af00; text-decoration-color: #00af00\">0</span>][<span style=\"color: #00af00; text-decoration-color: #00af00\">0</span>],   │\n",
       "│ (<span style=\"color: #0087ff; text-decoration-color: #0087ff\">Concatenate</span>)       │                   │            │ def_mean[<span style=\"color: #00af00; text-decoration-color: #00af00\">0</span>][<span style=\"color: #00af00; text-decoration-color: #00af00\">0</span>]    │\n",
       "├─────────────────────┼───────────────────┼────────────┼───────────────────┤\n",
       "│ hidden (<span style=\"color: #0087ff; text-decoration-color: #0087ff\">Dense</span>)      │ (<span style=\"color: #00d7ff; text-decoration-color: #00d7ff\">None</span>, <span style=\"color: #00af00; text-decoration-color: #00af00\">128</span>)       │      <span style=\"color: #00af00; text-decoration-color: #00af00\">2,176</span> │ concat[<span style=\"color: #00af00; text-decoration-color: #00af00\">0</span>][<span style=\"color: #00af00; text-decoration-color: #00af00\">0</span>]      │\n",
       "├─────────────────────┼───────────────────┼────────────┼───────────────────┤\n",
       "│ main_out (<span style=\"color: #0087ff; text-decoration-color: #0087ff\">Dense</span>)    │ (<span style=\"color: #00d7ff; text-decoration-color: #00d7ff\">None</span>, <span style=\"color: #00af00; text-decoration-color: #00af00\">14</span>)        │      <span style=\"color: #00af00; text-decoration-color: #00af00\">1,806</span> │ hidden[<span style=\"color: #00af00; text-decoration-color: #00af00\">0</span>][<span style=\"color: #00af00; text-decoration-color: #00af00\">0</span>]      │\n",
       "├─────────────────────┼───────────────────┼────────────┼───────────────────┤\n",
       "│ second_chance_out   │ (<span style=\"color: #00d7ff; text-decoration-color: #00d7ff\">None</span>, <span style=\"color: #00af00; text-decoration-color: #00af00\">1</span>)         │        <span style=\"color: #00af00; text-decoration-color: #00af00\">129</span> │ hidden[<span style=\"color: #00af00; text-decoration-color: #00af00\">0</span>][<span style=\"color: #00af00; text-decoration-color: #00af00\">0</span>]      │\n",
       "│ (<span style=\"color: #0087ff; text-decoration-color: #0087ff\">Dense</span>)             │                   │            │                   │\n",
       "└─────────────────────┴───────────────────┴────────────┴───────────────────┘\n",
       "</pre>\n"
      ],
      "text/plain": [
       "┏━━━━━━━━━━━━━━━━━━━━━┳━━━━━━━━━━━━━━━━━━━┳━━━━━━━━━━━━┳━━━━━━━━━━━━━━━━━━━┓\n",
       "┃\u001b[1m \u001b[0m\u001b[1mLayer (type)       \u001b[0m\u001b[1m \u001b[0m┃\u001b[1m \u001b[0m\u001b[1mOutput Shape     \u001b[0m\u001b[1m \u001b[0m┃\u001b[1m \u001b[0m\u001b[1m   Param #\u001b[0m\u001b[1m \u001b[0m┃\u001b[1m \u001b[0m\u001b[1mConnected to     \u001b[0m\u001b[1m \u001b[0m┃\n",
       "┡━━━━━━━━━━━━━━━━━━━━━╇━━━━━━━━━━━━━━━━━━━╇━━━━━━━━━━━━╇━━━━━━━━━━━━━━━━━━━┩\n",
       "│ players_input       │ (\u001b[38;5;45mNone\u001b[0m, \u001b[38;5;34m10\u001b[0m, \u001b[38;5;34m1543\u001b[0m)  │          \u001b[38;5;34m0\u001b[0m │ -                 │\n",
       "│ (\u001b[38;5;33mInputLayer\u001b[0m)        │                   │            │                   │\n",
       "├─────────────────────┼───────────────────┼────────────┼───────────────────┤\n",
       "│ embedding_layer     │ (\u001b[38;5;45mNone\u001b[0m, \u001b[38;5;34m10\u001b[0m, \u001b[38;5;34m8\u001b[0m)     │     \u001b[38;5;34m12,344\u001b[0m │ players_input[\u001b[38;5;34m0\u001b[0m]… │\n",
       "│ (\u001b[38;5;33mTimeDistributed\u001b[0m)   │                   │            │                   │\n",
       "├─────────────────────┼───────────────────┼────────────┼───────────────────┤\n",
       "│ offense_slice       │ (\u001b[38;5;45mNone\u001b[0m, \u001b[38;5;34m5\u001b[0m, \u001b[38;5;34m8\u001b[0m)      │          \u001b[38;5;34m0\u001b[0m │ embedding_layer[\u001b[38;5;34m…\u001b[0m │\n",
       "│ (\u001b[38;5;33mLambda\u001b[0m)            │                   │            │                   │\n",
       "├─────────────────────┼───────────────────┼────────────┼───────────────────┤\n",
       "│ defense_slice       │ (\u001b[38;5;45mNone\u001b[0m, \u001b[38;5;34m5\u001b[0m, \u001b[38;5;34m8\u001b[0m)      │          \u001b[38;5;34m0\u001b[0m │ embedding_layer[\u001b[38;5;34m…\u001b[0m │\n",
       "│ (\u001b[38;5;33mLambda\u001b[0m)            │                   │            │                   │\n",
       "├─────────────────────┼───────────────────┼────────────┼───────────────────┤\n",
       "│ off_mean (\u001b[38;5;33mLambda\u001b[0m)   │ (\u001b[38;5;45mNone\u001b[0m, \u001b[38;5;34m8\u001b[0m)         │          \u001b[38;5;34m0\u001b[0m │ offense_slice[\u001b[38;5;34m0\u001b[0m]… │\n",
       "├─────────────────────┼───────────────────┼────────────┼───────────────────┤\n",
       "│ def_mean (\u001b[38;5;33mLambda\u001b[0m)   │ (\u001b[38;5;45mNone\u001b[0m, \u001b[38;5;34m8\u001b[0m)         │          \u001b[38;5;34m0\u001b[0m │ defense_slice[\u001b[38;5;34m0\u001b[0m]… │\n",
       "├─────────────────────┼───────────────────┼────────────┼───────────────────┤\n",
       "│ concat              │ (\u001b[38;5;45mNone\u001b[0m, \u001b[38;5;34m16\u001b[0m)        │          \u001b[38;5;34m0\u001b[0m │ off_mean[\u001b[38;5;34m0\u001b[0m][\u001b[38;5;34m0\u001b[0m],   │\n",
       "│ (\u001b[38;5;33mConcatenate\u001b[0m)       │                   │            │ def_mean[\u001b[38;5;34m0\u001b[0m][\u001b[38;5;34m0\u001b[0m]    │\n",
       "├─────────────────────┼───────────────────┼────────────┼───────────────────┤\n",
       "│ hidden (\u001b[38;5;33mDense\u001b[0m)      │ (\u001b[38;5;45mNone\u001b[0m, \u001b[38;5;34m128\u001b[0m)       │      \u001b[38;5;34m2,176\u001b[0m │ concat[\u001b[38;5;34m0\u001b[0m][\u001b[38;5;34m0\u001b[0m]      │\n",
       "├─────────────────────┼───────────────────┼────────────┼───────────────────┤\n",
       "│ main_out (\u001b[38;5;33mDense\u001b[0m)    │ (\u001b[38;5;45mNone\u001b[0m, \u001b[38;5;34m14\u001b[0m)        │      \u001b[38;5;34m1,806\u001b[0m │ hidden[\u001b[38;5;34m0\u001b[0m][\u001b[38;5;34m0\u001b[0m]      │\n",
       "├─────────────────────┼───────────────────┼────────────┼───────────────────┤\n",
       "│ second_chance_out   │ (\u001b[38;5;45mNone\u001b[0m, \u001b[38;5;34m1\u001b[0m)         │        \u001b[38;5;34m129\u001b[0m │ hidden[\u001b[38;5;34m0\u001b[0m][\u001b[38;5;34m0\u001b[0m]      │\n",
       "│ (\u001b[38;5;33mDense\u001b[0m)             │                   │            │                   │\n",
       "└─────────────────────┴───────────────────┴────────────┴───────────────────┘\n"
      ]
     },
     "metadata": {},
     "output_type": "display_data"
    },
    {
     "data": {
      "text/html": [
       "<pre style=\"white-space:pre;overflow-x:auto;line-height:normal;font-family:Menlo,'DejaVu Sans Mono',consolas,'Courier New',monospace\"><span style=\"font-weight: bold\"> Total params: </span><span style=\"color: #00af00; text-decoration-color: #00af00\">16,455</span> (64.28 KB)\n",
       "</pre>\n"
      ],
      "text/plain": [
       "\u001b[1m Total params: \u001b[0m\u001b[38;5;34m16,455\u001b[0m (64.28 KB)\n"
      ]
     },
     "metadata": {},
     "output_type": "display_data"
    },
    {
     "data": {
      "text/html": [
       "<pre style=\"white-space:pre;overflow-x:auto;line-height:normal;font-family:Menlo,'DejaVu Sans Mono',consolas,'Courier New',monospace\"><span style=\"font-weight: bold\"> Trainable params: </span><span style=\"color: #00af00; text-decoration-color: #00af00\">16,455</span> (64.28 KB)\n",
       "</pre>\n"
      ],
      "text/plain": [
       "\u001b[1m Trainable params: \u001b[0m\u001b[38;5;34m16,455\u001b[0m (64.28 KB)\n"
      ]
     },
     "metadata": {},
     "output_type": "display_data"
    },
    {
     "data": {
      "text/html": [
       "<pre style=\"white-space:pre;overflow-x:auto;line-height:normal;font-family:Menlo,'DejaVu Sans Mono',consolas,'Courier New',monospace\"><span style=\"font-weight: bold\"> Non-trainable params: </span><span style=\"color: #00af00; text-decoration-color: #00af00\">0</span> (0.00 B)\n",
       "</pre>\n"
      ],
      "text/plain": [
       "\u001b[1m Non-trainable params: \u001b[0m\u001b[38;5;34m0\u001b[0m (0.00 B)\n"
      ]
     },
     "metadata": {},
     "output_type": "display_data"
    }
   ],
   "source": [
    "import tensorflow as tf\n",
    "from tensorflow.keras import layers, Model, Input\n",
    "\n",
    "v = 1543  \n",
    "seq_len = 10\n",
    "embedding_dim = 8\n",
    "\n",
    "input_players = Input(shape=(seq_len, v), name='players_input')\n",
    "\n",
    "x = layers.TimeDistributed(layers.Dense(embedding_dim, use_bias=False), name='embedding_layer')(input_players)\n",
    "\n",
    "# Slicing using Lambda layers\n",
    "offense_emb = layers.Lambda(lambda t: t[:, :5, :], name='offense_slice')(x)\n",
    "defense_emb = layers.Lambda(lambda t: t[:, 5:, :], name='defense_slice')(x)\n",
    "\n",
    "# Use Lambda layers to perform reduce_mean\n",
    "off_mean = layers.Lambda(lambda t: tf.reduce_mean(t, axis=1), name='off_mean')(offense_emb)\n",
    "def_mean = layers.Lambda(lambda t: tf.reduce_mean(t, axis=1), name='def_mean')(defense_emb)\n",
    "\n",
    "# Concatenate the resulting mean vectors\n",
    "concat = layers.Concatenate(name='concat')([off_mean, def_mean])\n",
    "\n",
    "# Hidden layer\n",
    "hidden = layers.Dense(128, activation='relu', name='hidden')(concat)\n",
    "\n",
    "# Output layers\n",
    "main_out = layers.Dense(14, activation='softmax', name='main_out')(hidden)\n",
    "second_chance_out = layers.Dense(1, activation='sigmoid', name='second_chance_out')(hidden)\n",
    "\n",
    "model = Model(inputs=input_players, outputs=[main_out, second_chance_out])\n",
    "\n",
    "model.compile(\n",
    "    optimizer='adam',\n",
    "    loss={\n",
    "        'main_out': 'categorical_crossentropy',\n",
    "        'second_chance_out': 'binary_crossentropy'\n",
    "    },\n",
    "    metrics={\n",
    "        'main_out': 'accuracy',\n",
    "        'second_chance_out': 'accuracy'\n",
    "    }\n",
    ")\n",
    "\n",
    "model.summary()"
   ]
  },
  {
   "cell_type": "code",
   "execution_count": null,
   "metadata": {},
   "outputs": [
    {
     "ename": "",
     "evalue": "",
     "output_type": "error",
     "traceback": [
      "\u001b[1;31mThe Kernel crashed while executing code in the current cell or a previous cell. \n",
      "\u001b[1;31mPlease review the code in the cell(s) to identify a possible cause of the failure. \n",
      "\u001b[1;31mClick <a href='https://aka.ms/vscodeJupyterKernelCrash'>here</a> for more info. \n",
      "\u001b[1;31mView Jupyter <a href='command:jupyter.viewOutput'>log</a> for further details."
     ]
    }
   ],
   "source": [
    "import os\n",
    "import pandas as pd\n",
    "import numpy as np\n",
    "import tensorflow as tf\n",
    "from tensorflow.keras import layers, Model, Input\n",
    "\n",
    "data_dir = 'split_data_parquet'\n",
    "player_columns = [\n",
    "    \"OFF_PLAYER1_ID\", \"OFF_PLAYER2_ID\", \"OFF_PLAYER3_ID\", \"OFF_PLAYER4_ID\", \"OFF_PLAYER5_ID\",\n",
    "    \"DEF_PLAYER1_ID\", \"DEF_PLAYER2_ID\", \"DEF_PLAYER3_ID\", \"DEF_PLAYER4_ID\", \"DEF_PLAYER5_ID\"\n",
    "]\n",
    "\n",
    "# Since the dataset's outcome column is named \"OUTCOME\"\n",
    "main_out_column = \"OUTCOME\"\n",
    "second_chance_column = \"SECOND_CHANCE\"\n",
    "\n",
    "# Identify all shards for train, val, test\n",
    "train_files = sorted([f for f in os.listdir(data_dir) if f.startswith('train_') and f.endswith('.parquet')])\n",
    "val_files = sorted([f for f in os.listdir(data_dir) if f.startswith('val_') and f.endswith('.parquet')])\n",
    "test_files = sorted([f for f in os.listdir(data_dir) if f.startswith('test_') and f.endswith('.parquet')])\n",
    "\n",
    "def load_parquet_shards(file_list):\n",
    "    dfs = []\n",
    "    for f in file_list:\n",
    "        df = pd.read_parquet(os.path.join(data_dir, f))\n",
    "        dfs.append(df)\n",
    "    return pd.concat(dfs, ignore_index=True) if dfs else pd.DataFrame()\n",
    "\n",
    "# Load and concatenate all shards\n",
    "train_df = load_parquet_shards(train_files)\n",
    "val_df = load_parquet_shards(val_files)\n",
    "test_df = load_parquet_shards(test_files)\n",
    "\n",
    "# Drop rows with NaNs in player columns if any\n",
    "train_df = train_df.dropna(subset=player_columns)\n",
    "val_df = val_df.dropna(subset=player_columns)\n",
    "test_df = test_df.dropna(subset=player_columns)\n",
    "\n",
    "# Convert player IDs to int\n",
    "for col in player_columns:\n",
    "    train_df[col] = pd.to_numeric(train_df[col], errors='coerce').fillna(0).astype(int)\n",
    "    val_df[col] = pd.to_numeric(val_df[col], errors='coerce').fillna(0).astype(int)\n",
    "    test_df[col] = pd.to_numeric(test_df[col], errors='coerce').fillna(0).astype(int)\n",
    "\n",
    "# Extract targets\n",
    "# For OUTCOME, we assume it’s an integer representing one of 14 classes, so we use get_dummies\n",
    "y_train_main = pd.get_dummies(train_df[main_out_column]).values\n",
    "y_train_sc = train_df[second_chance_column].astype(int).values.reshape(-1, 1)\n",
    "\n",
    "y_val_main = pd.get_dummies(val_df[main_out_column]).values\n",
    "y_val_sc = val_df[second_chance_column].astype(int).values.reshape(-1, 1)\n",
    "\n",
    "y_test_main = pd.get_dummies(test_df[main_out_column]).values\n",
    "y_test_sc = test_df[second_chance_column].astype(int).values.reshape(-1, 1)\n",
    "\n",
    "# Drop target and unwanted columns\n",
    "# Unwanted: \"SHOOTER_ID\",\"ASSISTER_ID\",\"BLOCKER_ID\",\"STEALER_ID\",\"REBOUNDER_ID\",\"TURNOVER_ID\",\"Unnamed: 0\"\n",
    "unwanted_cols = [\"SHOOTER_ID\",\"ASSISTER_ID\",\"BLOCKER_ID\",\"STEALER_ID\",\"REBOUNDER_ID\",\"TURNOVER_ID\"]\n",
    "for c in unwanted_cols:\n",
    "    if c in train_df.columns:\n",
    "        train_df.drop(columns=c, inplace=True)\n",
    "    if c in val_df.columns:\n",
    "        val_df.drop(columns=c, inplace=True)\n",
    "    if c in test_df.columns:\n",
    "        test_df.drop(columns=c, inplace=True)\n",
    "\n",
    "# Now keep only player_columns in each split\n",
    "train_df = train_df[player_columns]\n",
    "val_df = val_df[player_columns]\n",
    "test_df = test_df[player_columns]\n",
    "\n",
    "v = 1543   # number of unique players\n",
    "seq_len = 10\n",
    "\n",
    "def one_hot_encode_players(df, seq_len, v):\n",
    "    num_samples = len(df)\n",
    "    X = np.zeros((num_samples, seq_len, v), dtype='float32')\n",
    "    for i, row in enumerate(df.itertuples(index=False)):\n",
    "        for j in range(seq_len):\n",
    "            p = getattr(row, df.columns[j])\n",
    "            if 0 <= p < v:\n",
    "                X[i, j, p] = 1.0\n",
    "    return X\n",
    "\n",
    "X_train = one_hot_encode_players(train_df, seq_len, v)\n",
    "X_val = one_hot_encode_players(val_df, seq_len, v)\n",
    "X_test = one_hot_encode_players(test_df, seq_len, v)\n",
    "\n",
    "# Train the model\n",
    "model.fit(\n",
    "    X_train,\n",
    "    {'main_out': y_train_main, 'second_chance_out': y_train_sc},\n",
    "    validation_data=(X_val, {'main_out': y_val_main, 'second_chance_out': y_val_sc}),\n",
    "    epochs=10,\n",
    "    batch_size=64,\n",
    "    verbose=1\n",
    ")\n",
    "\n",
    "# Evaluate on test set\n",
    "test_loss = model.evaluate(X_test, {'main_out': y_test_main, 'second_chance_out': y_test_sc}, verbose=1)\n",
    "print(\"Test loss and metrics:\", test_loss)"
   ]
  },
  {
   "cell_type": "markdown",
   "metadata": {},
   "source": [
    "## First Model Running"
   ]
  },
  {
   "cell_type": "code",
   "execution_count": 5,
   "metadata": {},
   "outputs": [
    {
     "name": "stdout",
     "output_type": "stream",
     "text": [
      "Scanning file for unique IDs: split_data_parquet/train_000.parquet\n",
      "Scanning file for unique IDs: split_data_parquet/train_001.parquet\n",
      "Scanning file for unique IDs: split_data_parquet/train_002.parquet\n",
      "Scanning file for unique IDs: split_data_parquet/train_003.parquet\n",
      "Scanning file for unique IDs: split_data_parquet/train_004.parquet\n",
      "Scanning file for unique IDs: split_data_parquet/train_005.parquet\n",
      "Scanning file for unique IDs: split_data_parquet/train_006.parquet\n",
      "Scanning file for unique IDs: split_data_parquet/train_007.parquet\n",
      "Scanning file for unique IDs: split_data_parquet/train_008.parquet\n",
      "Scanning file for unique IDs: split_data_parquet/train_009.parquet\n",
      "Scanning file for unique IDs: split_data_parquet/val_000.parquet\n",
      "Scanning file for unique IDs: split_data_parquet/val_001.parquet\n",
      "Scanning file for unique IDs: split_data_parquet/test_000.parquet\n",
      "Scanning file for unique IDs: split_data_parquet/test_001.parquet\n",
      "Number of unique players: 1543\n",
      "Example mapping: [(1713, 0), (2199, 1), (2544, 2), (2546, 3), (2594, 4), (2617, 5), (2730, 6), (2738, 7), (2772, 8), (101107, 9)]\n"
     ]
    },
    {
     "data": {
      "text/html": [
       "<pre style=\"white-space:pre;overflow-x:auto;line-height:normal;font-family:Menlo,'DejaVu Sans Mono',consolas,'Courier New',monospace\"><span style=\"font-weight: bold\">Model: \"functional_4\"</span>\n",
       "</pre>\n"
      ],
      "text/plain": [
       "\u001b[1mModel: \"functional_4\"\u001b[0m\n"
      ]
     },
     "metadata": {},
     "output_type": "display_data"
    },
    {
     "data": {
      "text/html": [
       "<pre style=\"white-space:pre;overflow-x:auto;line-height:normal;font-family:Menlo,'DejaVu Sans Mono',consolas,'Courier New',monospace\">┏━━━━━━━━━━━━━━━━━━━━━┳━━━━━━━━━━━━━━━━━━━┳━━━━━━━━━━━━┳━━━━━━━━━━━━━━━━━━━┓\n",
       "┃<span style=\"font-weight: bold\"> Layer (type)        </span>┃<span style=\"font-weight: bold\"> Output Shape      </span>┃<span style=\"font-weight: bold\">    Param # </span>┃<span style=\"font-weight: bold\"> Connected to      </span>┃\n",
       "┡━━━━━━━━━━━━━━━━━━━━━╇━━━━━━━━━━━━━━━━━━━╇━━━━━━━━━━━━╇━━━━━━━━━━━━━━━━━━━┩\n",
       "│ players_input       │ (<span style=\"color: #00d7ff; text-decoration-color: #00d7ff\">None</span>, <span style=\"color: #00af00; text-decoration-color: #00af00\">10</span>)        │          <span style=\"color: #00af00; text-decoration-color: #00af00\">0</span> │ -                 │\n",
       "│ (<span style=\"color: #0087ff; text-decoration-color: #0087ff\">InputLayer</span>)        │                   │            │                   │\n",
       "├─────────────────────┼───────────────────┼────────────┼───────────────────┤\n",
       "│ player_embedding    │ (<span style=\"color: #00d7ff; text-decoration-color: #00d7ff\">None</span>, <span style=\"color: #00af00; text-decoration-color: #00af00\">10</span>, <span style=\"color: #00af00; text-decoration-color: #00af00\">8</span>)     │     <span style=\"color: #00af00; text-decoration-color: #00af00\">12,344</span> │ players_input[<span style=\"color: #00af00; text-decoration-color: #00af00\">0</span>]… │\n",
       "│ (<span style=\"color: #0087ff; text-decoration-color: #0087ff\">Embedding</span>)         │                   │            │                   │\n",
       "├─────────────────────┼───────────────────┼────────────┼───────────────────┤\n",
       "│ offense_slice       │ (<span style=\"color: #00d7ff; text-decoration-color: #00d7ff\">None</span>, <span style=\"color: #00af00; text-decoration-color: #00af00\">5</span>, <span style=\"color: #00af00; text-decoration-color: #00af00\">8</span>)      │          <span style=\"color: #00af00; text-decoration-color: #00af00\">0</span> │ player_embedding… │\n",
       "│ (<span style=\"color: #0087ff; text-decoration-color: #0087ff\">Lambda</span>)            │                   │            │                   │\n",
       "├─────────────────────┼───────────────────┼────────────┼───────────────────┤\n",
       "│ defense_slice       │ (<span style=\"color: #00d7ff; text-decoration-color: #00d7ff\">None</span>, <span style=\"color: #00af00; text-decoration-color: #00af00\">5</span>, <span style=\"color: #00af00; text-decoration-color: #00af00\">8</span>)      │          <span style=\"color: #00af00; text-decoration-color: #00af00\">0</span> │ player_embedding… │\n",
       "│ (<span style=\"color: #0087ff; text-decoration-color: #0087ff\">Lambda</span>)            │                   │            │                   │\n",
       "├─────────────────────┼───────────────────┼────────────┼───────────────────┤\n",
       "│ off_mean (<span style=\"color: #0087ff; text-decoration-color: #0087ff\">Lambda</span>)   │ (<span style=\"color: #00d7ff; text-decoration-color: #00d7ff\">None</span>, <span style=\"color: #00af00; text-decoration-color: #00af00\">8</span>)         │          <span style=\"color: #00af00; text-decoration-color: #00af00\">0</span> │ offense_slice[<span style=\"color: #00af00; text-decoration-color: #00af00\">0</span>]… │\n",
       "├─────────────────────┼───────────────────┼────────────┼───────────────────┤\n",
       "│ def_mean (<span style=\"color: #0087ff; text-decoration-color: #0087ff\">Lambda</span>)   │ (<span style=\"color: #00d7ff; text-decoration-color: #00d7ff\">None</span>, <span style=\"color: #00af00; text-decoration-color: #00af00\">8</span>)         │          <span style=\"color: #00af00; text-decoration-color: #00af00\">0</span> │ defense_slice[<span style=\"color: #00af00; text-decoration-color: #00af00\">0</span>]… │\n",
       "├─────────────────────┼───────────────────┼────────────┼───────────────────┤\n",
       "│ concat              │ (<span style=\"color: #00d7ff; text-decoration-color: #00d7ff\">None</span>, <span style=\"color: #00af00; text-decoration-color: #00af00\">16</span>)        │          <span style=\"color: #00af00; text-decoration-color: #00af00\">0</span> │ off_mean[<span style=\"color: #00af00; text-decoration-color: #00af00\">0</span>][<span style=\"color: #00af00; text-decoration-color: #00af00\">0</span>],   │\n",
       "│ (<span style=\"color: #0087ff; text-decoration-color: #0087ff\">Concatenate</span>)       │                   │            │ def_mean[<span style=\"color: #00af00; text-decoration-color: #00af00\">0</span>][<span style=\"color: #00af00; text-decoration-color: #00af00\">0</span>]    │\n",
       "├─────────────────────┼───────────────────┼────────────┼───────────────────┤\n",
       "│ hidden (<span style=\"color: #0087ff; text-decoration-color: #0087ff\">Dense</span>)      │ (<span style=\"color: #00d7ff; text-decoration-color: #00d7ff\">None</span>, <span style=\"color: #00af00; text-decoration-color: #00af00\">128</span>)       │      <span style=\"color: #00af00; text-decoration-color: #00af00\">2,176</span> │ concat[<span style=\"color: #00af00; text-decoration-color: #00af00\">0</span>][<span style=\"color: #00af00; text-decoration-color: #00af00\">0</span>]      │\n",
       "├─────────────────────┼───────────────────┼────────────┼───────────────────┤\n",
       "│ main_out (<span style=\"color: #0087ff; text-decoration-color: #0087ff\">Dense</span>)    │ (<span style=\"color: #00d7ff; text-decoration-color: #00d7ff\">None</span>, <span style=\"color: #00af00; text-decoration-color: #00af00\">14</span>)        │      <span style=\"color: #00af00; text-decoration-color: #00af00\">1,806</span> │ hidden[<span style=\"color: #00af00; text-decoration-color: #00af00\">0</span>][<span style=\"color: #00af00; text-decoration-color: #00af00\">0</span>]      │\n",
       "├─────────────────────┼───────────────────┼────────────┼───────────────────┤\n",
       "│ second_chance_out   │ (<span style=\"color: #00d7ff; text-decoration-color: #00d7ff\">None</span>, <span style=\"color: #00af00; text-decoration-color: #00af00\">1</span>)         │        <span style=\"color: #00af00; text-decoration-color: #00af00\">129</span> │ hidden[<span style=\"color: #00af00; text-decoration-color: #00af00\">0</span>][<span style=\"color: #00af00; text-decoration-color: #00af00\">0</span>]      │\n",
       "│ (<span style=\"color: #0087ff; text-decoration-color: #0087ff\">Dense</span>)             │                   │            │                   │\n",
       "└─────────────────────┴───────────────────┴────────────┴───────────────────┘\n",
       "</pre>\n"
      ],
      "text/plain": [
       "┏━━━━━━━━━━━━━━━━━━━━━┳━━━━━━━━━━━━━━━━━━━┳━━━━━━━━━━━━┳━━━━━━━━━━━━━━━━━━━┓\n",
       "┃\u001b[1m \u001b[0m\u001b[1mLayer (type)       \u001b[0m\u001b[1m \u001b[0m┃\u001b[1m \u001b[0m\u001b[1mOutput Shape     \u001b[0m\u001b[1m \u001b[0m┃\u001b[1m \u001b[0m\u001b[1m   Param #\u001b[0m\u001b[1m \u001b[0m┃\u001b[1m \u001b[0m\u001b[1mConnected to     \u001b[0m\u001b[1m \u001b[0m┃\n",
       "┡━━━━━━━━━━━━━━━━━━━━━╇━━━━━━━━━━━━━━━━━━━╇━━━━━━━━━━━━╇━━━━━━━━━━━━━━━━━━━┩\n",
       "│ players_input       │ (\u001b[38;5;45mNone\u001b[0m, \u001b[38;5;34m10\u001b[0m)        │          \u001b[38;5;34m0\u001b[0m │ -                 │\n",
       "│ (\u001b[38;5;33mInputLayer\u001b[0m)        │                   │            │                   │\n",
       "├─────────────────────┼───────────────────┼────────────┼───────────────────┤\n",
       "│ player_embedding    │ (\u001b[38;5;45mNone\u001b[0m, \u001b[38;5;34m10\u001b[0m, \u001b[38;5;34m8\u001b[0m)     │     \u001b[38;5;34m12,344\u001b[0m │ players_input[\u001b[38;5;34m0\u001b[0m]… │\n",
       "│ (\u001b[38;5;33mEmbedding\u001b[0m)         │                   │            │                   │\n",
       "├─────────────────────┼───────────────────┼────────────┼───────────────────┤\n",
       "│ offense_slice       │ (\u001b[38;5;45mNone\u001b[0m, \u001b[38;5;34m5\u001b[0m, \u001b[38;5;34m8\u001b[0m)      │          \u001b[38;5;34m0\u001b[0m │ player_embedding… │\n",
       "│ (\u001b[38;5;33mLambda\u001b[0m)            │                   │            │                   │\n",
       "├─────────────────────┼───────────────────┼────────────┼───────────────────┤\n",
       "│ defense_slice       │ (\u001b[38;5;45mNone\u001b[0m, \u001b[38;5;34m5\u001b[0m, \u001b[38;5;34m8\u001b[0m)      │          \u001b[38;5;34m0\u001b[0m │ player_embedding… │\n",
       "│ (\u001b[38;5;33mLambda\u001b[0m)            │                   │            │                   │\n",
       "├─────────────────────┼───────────────────┼────────────┼───────────────────┤\n",
       "│ off_mean (\u001b[38;5;33mLambda\u001b[0m)   │ (\u001b[38;5;45mNone\u001b[0m, \u001b[38;5;34m8\u001b[0m)         │          \u001b[38;5;34m0\u001b[0m │ offense_slice[\u001b[38;5;34m0\u001b[0m]… │\n",
       "├─────────────────────┼───────────────────┼────────────┼───────────────────┤\n",
       "│ def_mean (\u001b[38;5;33mLambda\u001b[0m)   │ (\u001b[38;5;45mNone\u001b[0m, \u001b[38;5;34m8\u001b[0m)         │          \u001b[38;5;34m0\u001b[0m │ defense_slice[\u001b[38;5;34m0\u001b[0m]… │\n",
       "├─────────────────────┼───────────────────┼────────────┼───────────────────┤\n",
       "│ concat              │ (\u001b[38;5;45mNone\u001b[0m, \u001b[38;5;34m16\u001b[0m)        │          \u001b[38;5;34m0\u001b[0m │ off_mean[\u001b[38;5;34m0\u001b[0m][\u001b[38;5;34m0\u001b[0m],   │\n",
       "│ (\u001b[38;5;33mConcatenate\u001b[0m)       │                   │            │ def_mean[\u001b[38;5;34m0\u001b[0m][\u001b[38;5;34m0\u001b[0m]    │\n",
       "├─────────────────────┼───────────────────┼────────────┼───────────────────┤\n",
       "│ hidden (\u001b[38;5;33mDense\u001b[0m)      │ (\u001b[38;5;45mNone\u001b[0m, \u001b[38;5;34m128\u001b[0m)       │      \u001b[38;5;34m2,176\u001b[0m │ concat[\u001b[38;5;34m0\u001b[0m][\u001b[38;5;34m0\u001b[0m]      │\n",
       "├─────────────────────┼───────────────────┼────────────┼───────────────────┤\n",
       "│ main_out (\u001b[38;5;33mDense\u001b[0m)    │ (\u001b[38;5;45mNone\u001b[0m, \u001b[38;5;34m14\u001b[0m)        │      \u001b[38;5;34m1,806\u001b[0m │ hidden[\u001b[38;5;34m0\u001b[0m][\u001b[38;5;34m0\u001b[0m]      │\n",
       "├─────────────────────┼───────────────────┼────────────┼───────────────────┤\n",
       "│ second_chance_out   │ (\u001b[38;5;45mNone\u001b[0m, \u001b[38;5;34m1\u001b[0m)         │        \u001b[38;5;34m129\u001b[0m │ hidden[\u001b[38;5;34m0\u001b[0m][\u001b[38;5;34m0\u001b[0m]      │\n",
       "│ (\u001b[38;5;33mDense\u001b[0m)             │                   │            │                   │\n",
       "└─────────────────────┴───────────────────┴────────────┴───────────────────┘\n"
      ]
     },
     "metadata": {},
     "output_type": "display_data"
    },
    {
     "data": {
      "text/html": [
       "<pre style=\"white-space:pre;overflow-x:auto;line-height:normal;font-family:Menlo,'DejaVu Sans Mono',consolas,'Courier New',monospace\"><span style=\"font-weight: bold\"> Total params: </span><span style=\"color: #00af00; text-decoration-color: #00af00\">16,455</span> (64.28 KB)\n",
       "</pre>\n"
      ],
      "text/plain": [
       "\u001b[1m Total params: \u001b[0m\u001b[38;5;34m16,455\u001b[0m (64.28 KB)\n"
      ]
     },
     "metadata": {},
     "output_type": "display_data"
    },
    {
     "data": {
      "text/html": [
       "<pre style=\"white-space:pre;overflow-x:auto;line-height:normal;font-family:Menlo,'DejaVu Sans Mono',consolas,'Courier New',monospace\"><span style=\"font-weight: bold\"> Trainable params: </span><span style=\"color: #00af00; text-decoration-color: #00af00\">16,455</span> (64.28 KB)\n",
       "</pre>\n"
      ],
      "text/plain": [
       "\u001b[1m Trainable params: \u001b[0m\u001b[38;5;34m16,455\u001b[0m (64.28 KB)\n"
      ]
     },
     "metadata": {},
     "output_type": "display_data"
    },
    {
     "data": {
      "text/html": [
       "<pre style=\"white-space:pre;overflow-x:auto;line-height:normal;font-family:Menlo,'DejaVu Sans Mono',consolas,'Courier New',monospace\"><span style=\"font-weight: bold\"> Non-trainable params: </span><span style=\"color: #00af00; text-decoration-color: #00af00\">0</span> (0.00 B)\n",
       "</pre>\n"
      ],
      "text/plain": [
       "\u001b[1m Non-trainable params: \u001b[0m\u001b[38;5;34m0\u001b[0m (0.00 B)\n"
      ]
     },
     "metadata": {},
     "output_type": "display_data"
    },
    {
     "name": "stdout",
     "output_type": "stream",
     "text": [
      "Epoch 1/10\n",
      "Loading shard: split_data_parquet/train_000.parquet\n",
      "   2051/Unknown \u001b[1m10s\u001b[0m 4ms/step - loss: 2.9540 - main_out_accuracy: 0.3545 - main_out_loss: 2.4070 - second_chance_out_accuracy: 0.8398 - second_chance_out_loss: 0.5470Loading shard: split_data_parquet/train_001.parquet\n",
      "   4262/Unknown \u001b[1m19s\u001b[0m 4ms/step - loss: 2.8117 - main_out_accuracy: 0.3605 - main_out_loss: 2.3184 - second_chance_out_accuracy: 0.8491 - second_chance_out_loss: 0.4933Loading shard: split_data_parquet/train_002.parquet\n",
      "   6472/Unknown \u001b[1m29s\u001b[0m 4ms/step - loss: 2.7514 - main_out_accuracy: 0.3622 - main_out_loss: 2.2808 - second_chance_out_accuracy: 0.8523 - second_chance_out_loss: 0.4706Loading shard: split_data_parquet/train_003.parquet\n",
      "   8687/Unknown \u001b[1m39s\u001b[0m 4ms/step - loss: 2.7170 - main_out_accuracy: 0.3630 - main_out_loss: 2.2592 - second_chance_out_accuracy: 0.8541 - second_chance_out_loss: 0.4578Loading shard: split_data_parquet/train_004.parquet\n",
      "  10898/Unknown \u001b[1m48s\u001b[0m 4ms/step - loss: 2.6943 - main_out_accuracy: 0.3636 - main_out_loss: 2.2449 - second_chance_out_accuracy: 0.8551 - second_chance_out_loss: 0.4494Loading shard: split_data_parquet/train_005.parquet\n",
      "  13112/Unknown \u001b[1m58s\u001b[0m 4ms/step - loss: 2.6779 - main_out_accuracy: 0.3640 - main_out_loss: 2.2345 - second_chance_out_accuracy: 0.8559 - second_chance_out_loss: 0.4435Loading shard: split_data_parquet/train_006.parquet\n",
      "  15325/Unknown \u001b[1m68s\u001b[0m 4ms/step - loss: 2.6653 - main_out_accuracy: 0.3643 - main_out_loss: 2.2263 - second_chance_out_accuracy: 0.8565 - second_chance_out_loss: 0.4390Loading shard: split_data_parquet/train_007.parquet\n",
      "  17534/Unknown \u001b[1m78s\u001b[0m 4ms/step - loss: 2.6553 - main_out_accuracy: 0.3645 - main_out_loss: 2.2198 - second_chance_out_accuracy: 0.8569 - second_chance_out_loss: 0.4355Loading shard: split_data_parquet/train_008.parquet\n",
      "  19745/Unknown \u001b[1m88s\u001b[0m 4ms/step - loss: 2.6471 - main_out_accuracy: 0.3647 - main_out_loss: 2.2143 - second_chance_out_accuracy: 0.8572 - second_chance_out_loss: 0.4328Loading shard: split_data_parquet/train_009.parquet\n",
      "  22023/Unknown \u001b[1m98s\u001b[0m 4ms/step - loss: 2.6400 - main_out_accuracy: 0.3648 - main_out_loss: 2.2096 - second_chance_out_accuracy: 0.8575 - second_chance_out_loss: 0.4304Loading shard: split_data_parquet/val_000.parquet\n"
     ]
    },
    {
     "name": "stderr",
     "output_type": "stream",
     "text": [
      "/opt/anaconda3/envs/nba_capston/lib/python3.12/site-packages/keras/src/trainers/epoch_iterator.py:151: UserWarning: Your input ran out of data; interrupting training. Make sure that your dataset or generator can generate at least `steps_per_epoch * epochs` batches. You may need to use the `.repeat()` function when building your dataset.\n",
      "  self._interrupted_warning()\n"
     ]
    },
    {
     "name": "stdout",
     "output_type": "stream",
     "text": [
      "Loading shard: split_data_parquet/val_001.parquet\n",
      "\u001b[1m22126/22126\u001b[0m \u001b[32m━━━━━━━━━━━━━━━━━━━━\u001b[0m\u001b[37m\u001b[0m \u001b[1m110s\u001b[0m 5ms/step - loss: 2.6397 - main_out_accuracy: 0.3648 - main_out_loss: 2.2094 - second_chance_out_accuracy: 0.8575 - second_chance_out_loss: 0.4303 - val_loss: 2.5544 - val_main_out_accuracy: 0.3679 - val_main_out_loss: 2.1458 - val_second_chance_out_accuracy: 0.8582 - val_second_chance_out_loss: 0.4077\n",
      "Epoch 2/10\n"
     ]
    },
    {
     "name": "stderr",
     "output_type": "stream",
     "text": [
      "/opt/anaconda3/envs/nba_capston/lib/python3.12/site-packages/keras/src/trainers/epoch_iterator.py:151: UserWarning: Your input ran out of data; interrupting training. Make sure that your dataset or generator can generate at least `steps_per_epoch * epochs` batches. You may need to use the `.repeat()` function when building your dataset.\n",
      "  self._interrupted_warning()\n"
     ]
    },
    {
     "name": "stdout",
     "output_type": "stream",
     "text": [
      "Loading shard: split_data_parquet/train_000.parquet\n",
      "\u001b[1m 2054/22126\u001b[0m \u001b[32m━\u001b[0m\u001b[37m━━━━━━━━━━━━━━━━━━━\u001b[0m \u001b[1m1:30\u001b[0m 5ms/step - loss: 2.5446 - main_out_accuracy: 0.3712 - main_out_loss: 2.1391 - second_chance_out_accuracy: 0.8595 - second_chance_out_loss: 0.4054Loading shard: split_data_parquet/train_001.parquet\n",
      "\u001b[1m 4262/22126\u001b[0m \u001b[32m━━━\u001b[0m\u001b[37m━━━━━━━━━━━━━━━━━\u001b[0m \u001b[1m1:20\u001b[0m 5ms/step - loss: 2.5466 - main_out_accuracy: 0.3696 - main_out_loss: 2.1416 - second_chance_out_accuracy: 0.8597 - second_chance_out_loss: 0.4050Loading shard: split_data_parquet/train_002.parquet\n",
      "\u001b[1m 6477/22126\u001b[0m \u001b[32m━━━━━\u001b[0m\u001b[37m━━━━━━━━━━━━━━━\u001b[0m \u001b[1m1:10\u001b[0m 5ms/step - loss: 2.5484 - main_out_accuracy: 0.3686 - main_out_loss: 2.1435 - second_chance_out_accuracy: 0.8597 - second_chance_out_loss: 0.4049Loading shard: split_data_parquet/train_003.parquet\n",
      "\u001b[1m 8689/22126\u001b[0m \u001b[32m━━━━━━━\u001b[0m\u001b[37m━━━━━━━━━━━━━\u001b[0m \u001b[1m1:01\u001b[0m 5ms/step - loss: 2.5493 - main_out_accuracy: 0.3680 - main_out_loss: 2.1446 - second_chance_out_accuracy: 0.8598 - second_chance_out_loss: 0.4047Loading shard: split_data_parquet/train_004.parquet\n",
      "\u001b[1m10897/22126\u001b[0m \u001b[32m━━━━━━━━━\u001b[0m\u001b[37m━━━━━━━━━━━\u001b[0m \u001b[1m50s\u001b[0m 5ms/step - loss: 2.5496 - main_out_accuracy: 0.3676 - main_out_loss: 2.1450 - second_chance_out_accuracy: 0.8599 - second_chance_out_loss: 0.4046Loading shard: split_data_parquet/train_005.parquet\n",
      "\u001b[1m13118/22126\u001b[0m \u001b[32m━━━━━━━━━━━\u001b[0m\u001b[37m━━━━━━━━━\u001b[0m \u001b[1m40s\u001b[0m 5ms/step - loss: 2.5498 - main_out_accuracy: 0.3674 - main_out_loss: 2.1453 - second_chance_out_accuracy: 0.8599 - second_chance_out_loss: 0.4045Loading shard: split_data_parquet/train_006.parquet\n",
      "\u001b[1m15325/22126\u001b[0m \u001b[32m━━━━━━━━━━━━━\u001b[0m\u001b[37m━━━━━━━\u001b[0m \u001b[1m30s\u001b[0m 5ms/step - loss: 2.5498 - main_out_accuracy: 0.3673 - main_out_loss: 2.1454 - second_chance_out_accuracy: 0.8600 - second_chance_out_loss: 0.4044Loading shard: split_data_parquet/train_007.parquet\n",
      "\u001b[1m17541/22126\u001b[0m \u001b[32m━━━━━━━━━━━━━━━\u001b[0m\u001b[37m━━━━━\u001b[0m \u001b[1m20s\u001b[0m 5ms/step - loss: 2.5497 - main_out_accuracy: 0.3672 - main_out_loss: 2.1454 - second_chance_out_accuracy: 0.8600 - second_chance_out_loss: 0.4043Loading shard: split_data_parquet/train_008.parquet\n",
      "\u001b[1m19754/22126\u001b[0m \u001b[32m━━━━━━━━━━━━━━━━━\u001b[0m\u001b[37m━━━\u001b[0m \u001b[1m10s\u001b[0m 5ms/step - loss: 2.5497 - main_out_accuracy: 0.3671 - main_out_loss: 2.1454 - second_chance_out_accuracy: 0.8600 - second_chance_out_loss: 0.4043Loading shard: split_data_parquet/train_009.parquet\n",
      "\u001b[1m22040/22126\u001b[0m \u001b[32m━━━━━━━━━━━━━━━━━━━\u001b[0m\u001b[37m━\u001b[0m \u001b[1m0s\u001b[0m 5ms/step - loss: 2.5497 - main_out_accuracy: 0.3670 - main_out_loss: 2.1454 - second_chance_out_accuracy: 0.8600 - second_chance_out_loss: 0.4043Loading shard: split_data_parquet/val_000.parquet\n"
     ]
    },
    {
     "name": "stderr",
     "output_type": "stream",
     "text": [
      "2024-12-09 09:25:34.979858: I tensorflow/core/framework/local_rendezvous.cc:405] Local rendezvous is aborting with status: OUT_OF_RANGE: End of sequence\n",
      "\t [[{{node IteratorGetNext}}]]\n",
      "/opt/anaconda3/envs/nba_capston/lib/python3.12/site-packages/keras/src/trainers/epoch_iterator.py:151: UserWarning: Your input ran out of data; interrupting training. Make sure that your dataset or generator can generate at least `steps_per_epoch * epochs` batches. You may need to use the `.repeat()` function when building your dataset.\n",
      "  self._interrupted_warning()\n"
     ]
    },
    {
     "name": "stdout",
     "output_type": "stream",
     "text": [
      "Loading shard: split_data_parquet/val_001.parquet\n",
      "\u001b[1m22126/22126\u001b[0m \u001b[32m━━━━━━━━━━━━━━━━━━━━\u001b[0m\u001b[37m\u001b[0m \u001b[1m112s\u001b[0m 5ms/step - loss: 2.5497 - main_out_accuracy: 0.3670 - main_out_loss: 2.1454 - second_chance_out_accuracy: 0.8600 - second_chance_out_loss: 0.4043 - val_loss: 2.5517 - val_main_out_accuracy: 0.3679 - val_main_out_loss: 2.1432 - val_second_chance_out_accuracy: 0.8582 - val_second_chance_out_loss: 0.4075\n",
      "Epoch 3/10\n"
     ]
    },
    {
     "name": "stderr",
     "output_type": "stream",
     "text": [
      "/opt/anaconda3/envs/nba_capston/lib/python3.12/site-packages/keras/src/trainers/epoch_iterator.py:151: UserWarning: Your input ran out of data; interrupting training. Make sure that your dataset or generator can generate at least `steps_per_epoch * epochs` batches. You may need to use the `.repeat()` function when building your dataset.\n",
      "  self._interrupted_warning()\n"
     ]
    },
    {
     "name": "stdout",
     "output_type": "stream",
     "text": [
      "Loading shard: split_data_parquet/train_000.parquet\n",
      "\u001b[1m 2050/22126\u001b[0m \u001b[32m━\u001b[0m\u001b[37m━━━━━━━━━━━━━━━━━━━\u001b[0m \u001b[1m1:30\u001b[0m 5ms/step - loss: 2.5436 - main_out_accuracy: 0.3704 - main_out_loss: 2.1377 - second_chance_out_accuracy: 0.8591 - second_chance_out_loss: 0.4058Loading shard: split_data_parquet/train_001.parquet\n",
      "\u001b[1m 4268/22126\u001b[0m \u001b[32m━━━\u001b[0m\u001b[37m━━━━━━━━━━━━━━━━━\u001b[0m \u001b[1m1:20\u001b[0m 5ms/step - loss: 2.5445 - main_out_accuracy: 0.3693 - main_out_loss: 2.1393 - second_chance_out_accuracy: 0.8594 - second_chance_out_loss: 0.4051Loading shard: split_data_parquet/train_002.parquet\n",
      "\u001b[1m 6471/22126\u001b[0m \u001b[32m━━━━━\u001b[0m\u001b[37m━━━━━━━━━━━━━━━\u001b[0m \u001b[1m1:10\u001b[0m 5ms/step - loss: 2.5457 - main_out_accuracy: 0.3684 - main_out_loss: 2.1409 - second_chance_out_accuracy: 0.8596 - second_chance_out_loss: 0.4049Loading shard: split_data_parquet/train_003.parquet\n",
      "\u001b[1m 8691/22126\u001b[0m \u001b[32m━━━━━━━\u001b[0m\u001b[37m━━━━━━━━━━━━━\u001b[0m \u001b[1m1:00\u001b[0m 5ms/step - loss: 2.5464 - main_out_accuracy: 0.3678 - main_out_loss: 2.1418 - second_chance_out_accuracy: 0.8597 - second_chance_out_loss: 0.4046Loading shard: split_data_parquet/train_004.parquet\n",
      "\u001b[1m10903/22126\u001b[0m \u001b[32m━━━━━━━━━\u001b[0m\u001b[37m━━━━━━━━━━━\u001b[0m \u001b[1m51s\u001b[0m 5ms/step - loss: 2.5466 - main_out_accuracy: 0.3675 - main_out_loss: 2.1421 - second_chance_out_accuracy: 0.8598 - second_chance_out_loss: 0.4045Loading shard: split_data_parquet/train_005.parquet\n",
      "\u001b[1m13108/22126\u001b[0m \u001b[32m━━━━━━━━━━━\u001b[0m\u001b[37m━━━━━━━━━\u001b[0m \u001b[1m41s\u001b[0m 5ms/step - loss: 2.5466 - main_out_accuracy: 0.3673 - main_out_loss: 2.1423 - second_chance_out_accuracy: 0.8598 - second_chance_out_loss: 0.4043Loading shard: split_data_parquet/train_006.parquet\n",
      "\u001b[1m15325/22126\u001b[0m \u001b[32m━━━━━━━━━━━━━\u001b[0m\u001b[37m━━━━━━━\u001b[0m \u001b[1m31s\u001b[0m 5ms/step - loss: 2.5465 - main_out_accuracy: 0.3672 - main_out_loss: 2.1423 - second_chance_out_accuracy: 0.8599 - second_chance_out_loss: 0.4042Loading shard: split_data_parquet/train_007.parquet\n",
      "\u001b[1m15502/22126\u001b[0m \u001b[32m━━━━━━━━━━━━━━\u001b[0m\u001b[37m━━━━━━\u001b[0m \u001b[1m30s\u001b[0m 5ms/step - loss: 2.5465 - main_out_accuracy: 0.3672 - main_out_loss: 2.1423 - second_chance_out_accuracy: 0.8599 - second_chance_out_loss: 0.4042"
     ]
    },
    {
     "ename": "KeyboardInterrupt",
     "evalue": "",
     "output_type": "error",
     "traceback": [
      "\u001b[0;31m---------------------------------------------------------------------------\u001b[0m",
      "\u001b[0;31mKeyboardInterrupt\u001b[0m                         Traceback (most recent call last)",
      "Cell \u001b[0;32mIn[5], line 159\u001b[0m\n\u001b[1;32m    154\u001b[0m test_ds \u001b[38;5;241m=\u001b[39m create_dataset(test_files, main_out_column, second_chance_column, batch_size, player_to_index)\n\u001b[1;32m    156\u001b[0m \u001b[38;5;66;03m##############################################\u001b[39;00m\n\u001b[1;32m    157\u001b[0m \u001b[38;5;66;03m# Training with tf.data\u001b[39;00m\n\u001b[1;32m    158\u001b[0m \u001b[38;5;66;03m##############################################\u001b[39;00m\n\u001b[0;32m--> 159\u001b[0m \u001b[43mmodel\u001b[49m\u001b[38;5;241;43m.\u001b[39;49m\u001b[43mfit\u001b[49m\u001b[43m(\u001b[49m\n\u001b[1;32m    160\u001b[0m \u001b[43m    \u001b[49m\u001b[43mtrain_ds\u001b[49m\u001b[43m,\u001b[49m\n\u001b[1;32m    161\u001b[0m \u001b[43m    \u001b[49m\u001b[43mvalidation_data\u001b[49m\u001b[38;5;241;43m=\u001b[39;49m\u001b[43mval_ds\u001b[49m\u001b[43m,\u001b[49m\n\u001b[1;32m    162\u001b[0m \u001b[43m    \u001b[49m\u001b[43mepochs\u001b[49m\u001b[38;5;241;43m=\u001b[39;49m\u001b[38;5;241;43m10\u001b[39;49m\n\u001b[1;32m    163\u001b[0m \u001b[43m)\u001b[49m\n\u001b[1;32m    165\u001b[0m \u001b[38;5;66;03m##############################################\u001b[39;00m\n\u001b[1;32m    166\u001b[0m \u001b[38;5;66;03m# Evaluation\u001b[39;00m\n\u001b[1;32m    167\u001b[0m \u001b[38;5;66;03m##############################################\u001b[39;00m\n\u001b[1;32m    168\u001b[0m model\u001b[38;5;241m.\u001b[39mevaluate(test_ds)\n",
      "File \u001b[0;32m/opt/anaconda3/envs/nba_capston/lib/python3.12/site-packages/keras/src/utils/traceback_utils.py:117\u001b[0m, in \u001b[0;36mfilter_traceback.<locals>.error_handler\u001b[0;34m(*args, **kwargs)\u001b[0m\n\u001b[1;32m    115\u001b[0m filtered_tb \u001b[38;5;241m=\u001b[39m \u001b[38;5;28;01mNone\u001b[39;00m\n\u001b[1;32m    116\u001b[0m \u001b[38;5;28;01mtry\u001b[39;00m:\n\u001b[0;32m--> 117\u001b[0m     \u001b[38;5;28;01mreturn\u001b[39;00m \u001b[43mfn\u001b[49m\u001b[43m(\u001b[49m\u001b[38;5;241;43m*\u001b[39;49m\u001b[43margs\u001b[49m\u001b[43m,\u001b[49m\u001b[43m \u001b[49m\u001b[38;5;241;43m*\u001b[39;49m\u001b[38;5;241;43m*\u001b[39;49m\u001b[43mkwargs\u001b[49m\u001b[43m)\u001b[49m\n\u001b[1;32m    118\u001b[0m \u001b[38;5;28;01mexcept\u001b[39;00m \u001b[38;5;167;01mException\u001b[39;00m \u001b[38;5;28;01mas\u001b[39;00m e:\n\u001b[1;32m    119\u001b[0m     filtered_tb \u001b[38;5;241m=\u001b[39m _process_traceback_frames(e\u001b[38;5;241m.\u001b[39m__traceback__)\n",
      "File \u001b[0;32m/opt/anaconda3/envs/nba_capston/lib/python3.12/site-packages/keras/src/backend/tensorflow/trainer.py:368\u001b[0m, in \u001b[0;36mTensorFlowTrainer.fit\u001b[0;34m(self, x, y, batch_size, epochs, verbose, callbacks, validation_split, validation_data, shuffle, class_weight, sample_weight, initial_epoch, steps_per_epoch, validation_steps, validation_batch_size, validation_freq)\u001b[0m\n\u001b[1;32m    366\u001b[0m \u001b[38;5;28;01mfor\u001b[39;00m step, iterator \u001b[38;5;129;01min\u001b[39;00m epoch_iterator:\n\u001b[1;32m    367\u001b[0m     callbacks\u001b[38;5;241m.\u001b[39mon_train_batch_begin(step)\n\u001b[0;32m--> 368\u001b[0m     logs \u001b[38;5;241m=\u001b[39m \u001b[38;5;28;43mself\u001b[39;49m\u001b[38;5;241;43m.\u001b[39;49m\u001b[43mtrain_function\u001b[49m\u001b[43m(\u001b[49m\u001b[43miterator\u001b[49m\u001b[43m)\u001b[49m\n\u001b[1;32m    369\u001b[0m     callbacks\u001b[38;5;241m.\u001b[39mon_train_batch_end(step, logs)\n\u001b[1;32m    370\u001b[0m     \u001b[38;5;28;01mif\u001b[39;00m \u001b[38;5;28mself\u001b[39m\u001b[38;5;241m.\u001b[39mstop_training:\n",
      "File \u001b[0;32m/opt/anaconda3/envs/nba_capston/lib/python3.12/site-packages/keras/src/backend/tensorflow/trainer.py:216\u001b[0m, in \u001b[0;36mTensorFlowTrainer._make_function.<locals>.function\u001b[0;34m(iterator)\u001b[0m\n\u001b[1;32m    212\u001b[0m \u001b[38;5;28;01mdef\u001b[39;00m \u001b[38;5;21mfunction\u001b[39m(iterator):\n\u001b[1;32m    213\u001b[0m     \u001b[38;5;28;01mif\u001b[39;00m \u001b[38;5;28misinstance\u001b[39m(\n\u001b[1;32m    214\u001b[0m         iterator, (tf\u001b[38;5;241m.\u001b[39mdata\u001b[38;5;241m.\u001b[39mIterator, tf\u001b[38;5;241m.\u001b[39mdistribute\u001b[38;5;241m.\u001b[39mDistributedIterator)\n\u001b[1;32m    215\u001b[0m     ):\n\u001b[0;32m--> 216\u001b[0m         opt_outputs \u001b[38;5;241m=\u001b[39m \u001b[43mmulti_step_on_iterator\u001b[49m\u001b[43m(\u001b[49m\u001b[43miterator\u001b[49m\u001b[43m)\u001b[49m\n\u001b[1;32m    217\u001b[0m         \u001b[38;5;28;01mif\u001b[39;00m \u001b[38;5;129;01mnot\u001b[39;00m opt_outputs\u001b[38;5;241m.\u001b[39mhas_value():\n\u001b[1;32m    218\u001b[0m             \u001b[38;5;28;01mraise\u001b[39;00m \u001b[38;5;167;01mStopIteration\u001b[39;00m\n",
      "File \u001b[0;32m/opt/anaconda3/envs/nba_capston/lib/python3.12/site-packages/tensorflow/python/util/traceback_utils.py:150\u001b[0m, in \u001b[0;36mfilter_traceback.<locals>.error_handler\u001b[0;34m(*args, **kwargs)\u001b[0m\n\u001b[1;32m    148\u001b[0m filtered_tb \u001b[38;5;241m=\u001b[39m \u001b[38;5;28;01mNone\u001b[39;00m\n\u001b[1;32m    149\u001b[0m \u001b[38;5;28;01mtry\u001b[39;00m:\n\u001b[0;32m--> 150\u001b[0m   \u001b[38;5;28;01mreturn\u001b[39;00m \u001b[43mfn\u001b[49m\u001b[43m(\u001b[49m\u001b[38;5;241;43m*\u001b[39;49m\u001b[43margs\u001b[49m\u001b[43m,\u001b[49m\u001b[43m \u001b[49m\u001b[38;5;241;43m*\u001b[39;49m\u001b[38;5;241;43m*\u001b[39;49m\u001b[43mkwargs\u001b[49m\u001b[43m)\u001b[49m\n\u001b[1;32m    151\u001b[0m \u001b[38;5;28;01mexcept\u001b[39;00m \u001b[38;5;167;01mException\u001b[39;00m \u001b[38;5;28;01mas\u001b[39;00m e:\n\u001b[1;32m    152\u001b[0m   filtered_tb \u001b[38;5;241m=\u001b[39m _process_traceback_frames(e\u001b[38;5;241m.\u001b[39m__traceback__)\n",
      "File \u001b[0;32m/opt/anaconda3/envs/nba_capston/lib/python3.12/site-packages/tensorflow/python/eager/polymorphic_function/polymorphic_function.py:833\u001b[0m, in \u001b[0;36mFunction.__call__\u001b[0;34m(self, *args, **kwds)\u001b[0m\n\u001b[1;32m    830\u001b[0m compiler \u001b[38;5;241m=\u001b[39m \u001b[38;5;124m\"\u001b[39m\u001b[38;5;124mxla\u001b[39m\u001b[38;5;124m\"\u001b[39m \u001b[38;5;28;01mif\u001b[39;00m \u001b[38;5;28mself\u001b[39m\u001b[38;5;241m.\u001b[39m_jit_compile \u001b[38;5;28;01melse\u001b[39;00m \u001b[38;5;124m\"\u001b[39m\u001b[38;5;124mnonXla\u001b[39m\u001b[38;5;124m\"\u001b[39m\n\u001b[1;32m    832\u001b[0m \u001b[38;5;28;01mwith\u001b[39;00m OptionalXlaContext(\u001b[38;5;28mself\u001b[39m\u001b[38;5;241m.\u001b[39m_jit_compile):\n\u001b[0;32m--> 833\u001b[0m   result \u001b[38;5;241m=\u001b[39m \u001b[38;5;28;43mself\u001b[39;49m\u001b[38;5;241;43m.\u001b[39;49m\u001b[43m_call\u001b[49m\u001b[43m(\u001b[49m\u001b[38;5;241;43m*\u001b[39;49m\u001b[43margs\u001b[49m\u001b[43m,\u001b[49m\u001b[43m \u001b[49m\u001b[38;5;241;43m*\u001b[39;49m\u001b[38;5;241;43m*\u001b[39;49m\u001b[43mkwds\u001b[49m\u001b[43m)\u001b[49m\n\u001b[1;32m    835\u001b[0m new_tracing_count \u001b[38;5;241m=\u001b[39m \u001b[38;5;28mself\u001b[39m\u001b[38;5;241m.\u001b[39mexperimental_get_tracing_count()\n\u001b[1;32m    836\u001b[0m without_tracing \u001b[38;5;241m=\u001b[39m (tracing_count \u001b[38;5;241m==\u001b[39m new_tracing_count)\n",
      "File \u001b[0;32m/opt/anaconda3/envs/nba_capston/lib/python3.12/site-packages/tensorflow/python/eager/polymorphic_function/polymorphic_function.py:878\u001b[0m, in \u001b[0;36mFunction._call\u001b[0;34m(self, *args, **kwds)\u001b[0m\n\u001b[1;32m    875\u001b[0m \u001b[38;5;28mself\u001b[39m\u001b[38;5;241m.\u001b[39m_lock\u001b[38;5;241m.\u001b[39mrelease()\n\u001b[1;32m    876\u001b[0m \u001b[38;5;66;03m# In this case we have not created variables on the first call. So we can\u001b[39;00m\n\u001b[1;32m    877\u001b[0m \u001b[38;5;66;03m# run the first trace but we should fail if variables are created.\u001b[39;00m\n\u001b[0;32m--> 878\u001b[0m results \u001b[38;5;241m=\u001b[39m \u001b[43mtracing_compilation\u001b[49m\u001b[38;5;241;43m.\u001b[39;49m\u001b[43mcall_function\u001b[49m\u001b[43m(\u001b[49m\n\u001b[1;32m    879\u001b[0m \u001b[43m    \u001b[49m\u001b[43margs\u001b[49m\u001b[43m,\u001b[49m\u001b[43m \u001b[49m\u001b[43mkwds\u001b[49m\u001b[43m,\u001b[49m\u001b[43m \u001b[49m\u001b[38;5;28;43mself\u001b[39;49m\u001b[38;5;241;43m.\u001b[39;49m\u001b[43m_variable_creation_config\u001b[49m\n\u001b[1;32m    880\u001b[0m \u001b[43m\u001b[49m\u001b[43m)\u001b[49m\n\u001b[1;32m    881\u001b[0m \u001b[38;5;28;01mif\u001b[39;00m \u001b[38;5;28mself\u001b[39m\u001b[38;5;241m.\u001b[39m_created_variables:\n\u001b[1;32m    882\u001b[0m   \u001b[38;5;28;01mraise\u001b[39;00m \u001b[38;5;167;01mValueError\u001b[39;00m(\u001b[38;5;124m\"\u001b[39m\u001b[38;5;124mCreating variables on a non-first call to a function\u001b[39m\u001b[38;5;124m\"\u001b[39m\n\u001b[1;32m    883\u001b[0m                    \u001b[38;5;124m\"\u001b[39m\u001b[38;5;124m decorated with tf.function.\u001b[39m\u001b[38;5;124m\"\u001b[39m)\n",
      "File \u001b[0;32m/opt/anaconda3/envs/nba_capston/lib/python3.12/site-packages/tensorflow/python/eager/polymorphic_function/tracing_compilation.py:139\u001b[0m, in \u001b[0;36mcall_function\u001b[0;34m(args, kwargs, tracing_options)\u001b[0m\n\u001b[1;32m    137\u001b[0m bound_args \u001b[38;5;241m=\u001b[39m function\u001b[38;5;241m.\u001b[39mfunction_type\u001b[38;5;241m.\u001b[39mbind(\u001b[38;5;241m*\u001b[39margs, \u001b[38;5;241m*\u001b[39m\u001b[38;5;241m*\u001b[39mkwargs)\n\u001b[1;32m    138\u001b[0m flat_inputs \u001b[38;5;241m=\u001b[39m function\u001b[38;5;241m.\u001b[39mfunction_type\u001b[38;5;241m.\u001b[39munpack_inputs(bound_args)\n\u001b[0;32m--> 139\u001b[0m \u001b[38;5;28;01mreturn\u001b[39;00m \u001b[43mfunction\u001b[49m\u001b[38;5;241;43m.\u001b[39;49m\u001b[43m_call_flat\u001b[49m\u001b[43m(\u001b[49m\u001b[43m  \u001b[49m\u001b[38;5;66;43;03m# pylint: disable=protected-access\u001b[39;49;00m\n\u001b[1;32m    140\u001b[0m \u001b[43m    \u001b[49m\u001b[43mflat_inputs\u001b[49m\u001b[43m,\u001b[49m\u001b[43m \u001b[49m\u001b[43mcaptured_inputs\u001b[49m\u001b[38;5;241;43m=\u001b[39;49m\u001b[43mfunction\u001b[49m\u001b[38;5;241;43m.\u001b[39;49m\u001b[43mcaptured_inputs\u001b[49m\n\u001b[1;32m    141\u001b[0m \u001b[43m\u001b[49m\u001b[43m)\u001b[49m\n",
      "File \u001b[0;32m/opt/anaconda3/envs/nba_capston/lib/python3.12/site-packages/tensorflow/python/eager/polymorphic_function/concrete_function.py:1322\u001b[0m, in \u001b[0;36mConcreteFunction._call_flat\u001b[0;34m(self, tensor_inputs, captured_inputs)\u001b[0m\n\u001b[1;32m   1318\u001b[0m possible_gradient_type \u001b[38;5;241m=\u001b[39m gradients_util\u001b[38;5;241m.\u001b[39mPossibleTapeGradientTypes(args)\n\u001b[1;32m   1319\u001b[0m \u001b[38;5;28;01mif\u001b[39;00m (possible_gradient_type \u001b[38;5;241m==\u001b[39m gradients_util\u001b[38;5;241m.\u001b[39mPOSSIBLE_GRADIENT_TYPES_NONE\n\u001b[1;32m   1320\u001b[0m     \u001b[38;5;129;01mand\u001b[39;00m executing_eagerly):\n\u001b[1;32m   1321\u001b[0m   \u001b[38;5;66;03m# No tape is watching; skip to running the function.\u001b[39;00m\n\u001b[0;32m-> 1322\u001b[0m   \u001b[38;5;28;01mreturn\u001b[39;00m \u001b[38;5;28;43mself\u001b[39;49m\u001b[38;5;241;43m.\u001b[39;49m\u001b[43m_inference_function\u001b[49m\u001b[38;5;241;43m.\u001b[39;49m\u001b[43mcall_preflattened\u001b[49m\u001b[43m(\u001b[49m\u001b[43margs\u001b[49m\u001b[43m)\u001b[49m\n\u001b[1;32m   1323\u001b[0m forward_backward \u001b[38;5;241m=\u001b[39m \u001b[38;5;28mself\u001b[39m\u001b[38;5;241m.\u001b[39m_select_forward_and_backward_functions(\n\u001b[1;32m   1324\u001b[0m     args,\n\u001b[1;32m   1325\u001b[0m     possible_gradient_type,\n\u001b[1;32m   1326\u001b[0m     executing_eagerly)\n\u001b[1;32m   1327\u001b[0m forward_function, args_with_tangents \u001b[38;5;241m=\u001b[39m forward_backward\u001b[38;5;241m.\u001b[39mforward()\n",
      "File \u001b[0;32m/opt/anaconda3/envs/nba_capston/lib/python3.12/site-packages/tensorflow/python/eager/polymorphic_function/atomic_function.py:216\u001b[0m, in \u001b[0;36mAtomicFunction.call_preflattened\u001b[0;34m(self, args)\u001b[0m\n\u001b[1;32m    214\u001b[0m \u001b[38;5;28;01mdef\u001b[39;00m \u001b[38;5;21mcall_preflattened\u001b[39m(\u001b[38;5;28mself\u001b[39m, args: Sequence[core\u001b[38;5;241m.\u001b[39mTensor]) \u001b[38;5;241m-\u001b[39m\u001b[38;5;241m>\u001b[39m Any:\n\u001b[1;32m    215\u001b[0m \u001b[38;5;250m  \u001b[39m\u001b[38;5;124;03m\"\"\"Calls with flattened tensor inputs and returns the structured output.\"\"\"\u001b[39;00m\n\u001b[0;32m--> 216\u001b[0m   flat_outputs \u001b[38;5;241m=\u001b[39m \u001b[38;5;28;43mself\u001b[39;49m\u001b[38;5;241;43m.\u001b[39;49m\u001b[43mcall_flat\u001b[49m\u001b[43m(\u001b[49m\u001b[38;5;241;43m*\u001b[39;49m\u001b[43margs\u001b[49m\u001b[43m)\u001b[49m\n\u001b[1;32m    217\u001b[0m   \u001b[38;5;28;01mreturn\u001b[39;00m \u001b[38;5;28mself\u001b[39m\u001b[38;5;241m.\u001b[39mfunction_type\u001b[38;5;241m.\u001b[39mpack_output(flat_outputs)\n",
      "File \u001b[0;32m/opt/anaconda3/envs/nba_capston/lib/python3.12/site-packages/tensorflow/python/eager/polymorphic_function/atomic_function.py:251\u001b[0m, in \u001b[0;36mAtomicFunction.call_flat\u001b[0;34m(self, *args)\u001b[0m\n\u001b[1;32m    249\u001b[0m \u001b[38;5;28;01mwith\u001b[39;00m record\u001b[38;5;241m.\u001b[39mstop_recording():\n\u001b[1;32m    250\u001b[0m   \u001b[38;5;28;01mif\u001b[39;00m \u001b[38;5;28mself\u001b[39m\u001b[38;5;241m.\u001b[39m_bound_context\u001b[38;5;241m.\u001b[39mexecuting_eagerly():\n\u001b[0;32m--> 251\u001b[0m     outputs \u001b[38;5;241m=\u001b[39m \u001b[38;5;28;43mself\u001b[39;49m\u001b[38;5;241;43m.\u001b[39;49m\u001b[43m_bound_context\u001b[49m\u001b[38;5;241;43m.\u001b[39;49m\u001b[43mcall_function\u001b[49m\u001b[43m(\u001b[49m\n\u001b[1;32m    252\u001b[0m \u001b[43m        \u001b[49m\u001b[38;5;28;43mself\u001b[39;49m\u001b[38;5;241;43m.\u001b[39;49m\u001b[43mname\u001b[49m\u001b[43m,\u001b[49m\n\u001b[1;32m    253\u001b[0m \u001b[43m        \u001b[49m\u001b[38;5;28;43mlist\u001b[39;49m\u001b[43m(\u001b[49m\u001b[43margs\u001b[49m\u001b[43m)\u001b[49m\u001b[43m,\u001b[49m\n\u001b[1;32m    254\u001b[0m \u001b[43m        \u001b[49m\u001b[38;5;28;43mlen\u001b[39;49m\u001b[43m(\u001b[49m\u001b[38;5;28;43mself\u001b[39;49m\u001b[38;5;241;43m.\u001b[39;49m\u001b[43mfunction_type\u001b[49m\u001b[38;5;241;43m.\u001b[39;49m\u001b[43mflat_outputs\u001b[49m\u001b[43m)\u001b[49m\u001b[43m,\u001b[49m\n\u001b[1;32m    255\u001b[0m \u001b[43m    \u001b[49m\u001b[43m)\u001b[49m\n\u001b[1;32m    256\u001b[0m   \u001b[38;5;28;01melse\u001b[39;00m:\n\u001b[1;32m    257\u001b[0m     outputs \u001b[38;5;241m=\u001b[39m make_call_op_in_graph(\n\u001b[1;32m    258\u001b[0m         \u001b[38;5;28mself\u001b[39m,\n\u001b[1;32m    259\u001b[0m         \u001b[38;5;28mlist\u001b[39m(args),\n\u001b[1;32m    260\u001b[0m         \u001b[38;5;28mself\u001b[39m\u001b[38;5;241m.\u001b[39m_bound_context\u001b[38;5;241m.\u001b[39mfunction_call_options\u001b[38;5;241m.\u001b[39mas_attrs(),\n\u001b[1;32m    261\u001b[0m     )\n",
      "File \u001b[0;32m/opt/anaconda3/envs/nba_capston/lib/python3.12/site-packages/tensorflow/python/eager/context.py:1683\u001b[0m, in \u001b[0;36mContext.call_function\u001b[0;34m(self, name, tensor_inputs, num_outputs)\u001b[0m\n\u001b[1;32m   1681\u001b[0m cancellation_context \u001b[38;5;241m=\u001b[39m cancellation\u001b[38;5;241m.\u001b[39mcontext()\n\u001b[1;32m   1682\u001b[0m \u001b[38;5;28;01mif\u001b[39;00m cancellation_context \u001b[38;5;129;01mis\u001b[39;00m \u001b[38;5;28;01mNone\u001b[39;00m:\n\u001b[0;32m-> 1683\u001b[0m   outputs \u001b[38;5;241m=\u001b[39m \u001b[43mexecute\u001b[49m\u001b[38;5;241;43m.\u001b[39;49m\u001b[43mexecute\u001b[49m\u001b[43m(\u001b[49m\n\u001b[1;32m   1684\u001b[0m \u001b[43m      \u001b[49m\u001b[43mname\u001b[49m\u001b[38;5;241;43m.\u001b[39;49m\u001b[43mdecode\u001b[49m\u001b[43m(\u001b[49m\u001b[38;5;124;43m\"\u001b[39;49m\u001b[38;5;124;43mutf-8\u001b[39;49m\u001b[38;5;124;43m\"\u001b[39;49m\u001b[43m)\u001b[49m\u001b[43m,\u001b[49m\n\u001b[1;32m   1685\u001b[0m \u001b[43m      \u001b[49m\u001b[43mnum_outputs\u001b[49m\u001b[38;5;241;43m=\u001b[39;49m\u001b[43mnum_outputs\u001b[49m\u001b[43m,\u001b[49m\n\u001b[1;32m   1686\u001b[0m \u001b[43m      \u001b[49m\u001b[43minputs\u001b[49m\u001b[38;5;241;43m=\u001b[39;49m\u001b[43mtensor_inputs\u001b[49m\u001b[43m,\u001b[49m\n\u001b[1;32m   1687\u001b[0m \u001b[43m      \u001b[49m\u001b[43mattrs\u001b[49m\u001b[38;5;241;43m=\u001b[39;49m\u001b[43mattrs\u001b[49m\u001b[43m,\u001b[49m\n\u001b[1;32m   1688\u001b[0m \u001b[43m      \u001b[49m\u001b[43mctx\u001b[49m\u001b[38;5;241;43m=\u001b[39;49m\u001b[38;5;28;43mself\u001b[39;49m\u001b[43m,\u001b[49m\n\u001b[1;32m   1689\u001b[0m \u001b[43m  \u001b[49m\u001b[43m)\u001b[49m\n\u001b[1;32m   1690\u001b[0m \u001b[38;5;28;01melse\u001b[39;00m:\n\u001b[1;32m   1691\u001b[0m   outputs \u001b[38;5;241m=\u001b[39m execute\u001b[38;5;241m.\u001b[39mexecute_with_cancellation(\n\u001b[1;32m   1692\u001b[0m       name\u001b[38;5;241m.\u001b[39mdecode(\u001b[38;5;124m\"\u001b[39m\u001b[38;5;124mutf-8\u001b[39m\u001b[38;5;124m\"\u001b[39m),\n\u001b[1;32m   1693\u001b[0m       num_outputs\u001b[38;5;241m=\u001b[39mnum_outputs,\n\u001b[0;32m   (...)\u001b[0m\n\u001b[1;32m   1697\u001b[0m       cancellation_manager\u001b[38;5;241m=\u001b[39mcancellation_context,\n\u001b[1;32m   1698\u001b[0m   )\n",
      "File \u001b[0;32m/opt/anaconda3/envs/nba_capston/lib/python3.12/site-packages/tensorflow/python/eager/execute.py:53\u001b[0m, in \u001b[0;36mquick_execute\u001b[0;34m(op_name, num_outputs, inputs, attrs, ctx, name)\u001b[0m\n\u001b[1;32m     51\u001b[0m \u001b[38;5;28;01mtry\u001b[39;00m:\n\u001b[1;32m     52\u001b[0m   ctx\u001b[38;5;241m.\u001b[39mensure_initialized()\n\u001b[0;32m---> 53\u001b[0m   tensors \u001b[38;5;241m=\u001b[39m \u001b[43mpywrap_tfe\u001b[49m\u001b[38;5;241;43m.\u001b[39;49m\u001b[43mTFE_Py_Execute\u001b[49m\u001b[43m(\u001b[49m\u001b[43mctx\u001b[49m\u001b[38;5;241;43m.\u001b[39;49m\u001b[43m_handle\u001b[49m\u001b[43m,\u001b[49m\u001b[43m \u001b[49m\u001b[43mdevice_name\u001b[49m\u001b[43m,\u001b[49m\u001b[43m \u001b[49m\u001b[43mop_name\u001b[49m\u001b[43m,\u001b[49m\n\u001b[1;32m     54\u001b[0m \u001b[43m                                      \u001b[49m\u001b[43minputs\u001b[49m\u001b[43m,\u001b[49m\u001b[43m \u001b[49m\u001b[43mattrs\u001b[49m\u001b[43m,\u001b[49m\u001b[43m \u001b[49m\u001b[43mnum_outputs\u001b[49m\u001b[43m)\u001b[49m\n\u001b[1;32m     55\u001b[0m \u001b[38;5;28;01mexcept\u001b[39;00m core\u001b[38;5;241m.\u001b[39m_NotOkStatusException \u001b[38;5;28;01mas\u001b[39;00m e:\n\u001b[1;32m     56\u001b[0m   \u001b[38;5;28;01mif\u001b[39;00m name \u001b[38;5;129;01mis\u001b[39;00m \u001b[38;5;129;01mnot\u001b[39;00m \u001b[38;5;28;01mNone\u001b[39;00m:\n",
      "\u001b[0;31mKeyboardInterrupt\u001b[0m: "
     ]
    }
   ],
   "source": [
    "import tensorflow as tf\n",
    "from tensorflow.keras import layers, Model, Input\n",
    "import os\n",
    "import pandas as pd\n",
    "import numpy as np\n",
    "from tensorflow.keras.optimizers import Adam\n",
    "\n",
    "##############################################\n",
    "# Parameters & Setup\n",
    "##############################################\n",
    "seq_len = 10\n",
    "embedding_dim = 8\n",
    "batch_size = 64\n",
    "data_dir = 'split_data_parquet'\n",
    "\n",
    "player_columns = [\n",
    "    \"OFF_PLAYER1_ID\", \"OFF_PLAYER2_ID\", \"OFF_PLAYER3_ID\", \"OFF_PLAYER4_ID\", \"OFF_PLAYER5_ID\",\n",
    "    \"DEF_PLAYER1_ID\", \"DEF_PLAYER2_ID\", \"DEF_PLAYER3_ID\", \"DEF_PLAYER4_ID\", \"DEF_PLAYER5_ID\"\n",
    "]\n",
    "\n",
    "main_out_column = \"OUTCOME\"\n",
    "second_chance_column = \"SECOND_CHANCE\"\n",
    "unwanted_cols = [\"SHOOTER_ID\",\"ASSISTER_ID\",\"BLOCKER_ID\",\"STEALER_ID\",\"REBOUNDER_ID\",\"TURNOVER_ID\"]\n",
    "\n",
    "# Identify shard files\n",
    "train_files = sorted([os.path.join(data_dir, f) for f in os.listdir(data_dir) if f.startswith('train_') and f.endswith('.parquet')])\n",
    "val_files = sorted([os.path.join(data_dir, f) for f in os.listdir(data_dir) if f.startswith('val_') and f.endswith('.parquet')])\n",
    "test_files = sorted([os.path.join(data_dir, f) for f in os.listdir(data_dir) if f.startswith('test_') and f.endswith('.parquet')])\n",
    "\n",
    "##############################################\n",
    "# Build Player ID Mapping\n",
    "##############################################\n",
    "def gather_unique_player_ids(files, player_cols):\n",
    "    unique_ids = set()\n",
    "    for fpath in files:\n",
    "        print(f\"Scanning file for unique IDs: {fpath}\")\n",
    "        df = pd.read_parquet(fpath, columns=player_cols)  # load only player columns\n",
    "        df = df.dropna(subset=player_cols)\n",
    "        for col in player_cols:\n",
    "            unique_ids.update(df[col].dropna().astype(int).unique())\n",
    "    return unique_ids\n",
    "\n",
    "all_files = train_files + val_files + test_files\n",
    "all_unique_ids = gather_unique_player_ids(all_files, player_columns)\n",
    "\n",
    "unique_players = np.sort(list(all_unique_ids))\n",
    "player_to_index = {p: i for i, p in enumerate(unique_players)}\n",
    "v = len(unique_players)\n",
    "print(f\"Number of unique players: {v}\")\n",
    "print(\"Example mapping:\", list(player_to_index.items())[:10])\n",
    "\n",
    "##############################################\n",
    "# Model Definition Using Embeddings (with updated v)\n",
    "##############################################\n",
    "input_players = Input(shape=(seq_len,), dtype='int32', name='players_input')\n",
    "player_embedding = layers.Embedding(input_dim=v, output_dim=embedding_dim, name='player_embedding')(input_players)\n",
    "\n",
    "offense_emb = layers.Lambda(lambda t: t[:, :5, :], name='offense_slice')(player_embedding)\n",
    "defense_emb = layers.Lambda(lambda t: t[:, 5:, :], name='defense_slice')(player_embedding)\n",
    "\n",
    "off_mean = layers.Lambda(lambda t: tf.reduce_mean(t, axis=1), name='off_mean')(offense_emb)\n",
    "def_mean = layers.Lambda(lambda t: tf.reduce_mean(t, axis=1), name='def_mean')(defense_emb)\n",
    "\n",
    "concat = layers.Concatenate(name='concat')([off_mean, def_mean])\n",
    "hidden = layers.Dense(128, activation='relu', name='hidden')(concat)\n",
    "\n",
    "main_out = layers.Dense(14, activation='softmax', name='main_out')(hidden)\n",
    "second_chance_out = layers.Dense(1, activation='sigmoid', name='second_chance_out')(hidden)\n",
    "\n",
    "# Set a custom learning rate\n",
    "optimizer = Adam(learning_rate=0.0001)  # Adjust this value as needed\n",
    "\n",
    "model = Model(inputs=input_players, outputs=[main_out, second_chance_out])\n",
    "model.compile(\n",
    "    optimizer=optimizer,\n",
    "    loss={\n",
    "        'main_out': 'categorical_crossentropy',\n",
    "        'second_chance_out': 'binary_crossentropy'\n",
    "    },\n",
    "    metrics={\n",
    "        'main_out': 'accuracy',\n",
    "        'second_chance_out': 'accuracy'\n",
    "    }\n",
    ")\n",
    "\n",
    "model.summary()\n",
    "\n",
    "##############################################\n",
    "# Utility Functions for tf.data Pipeline\n",
    "##############################################\n",
    "def shard_generator(file_list, main_col, sc_col, mapping):\n",
    "    \"\"\"\n",
    "    Yields individual samples (X, (y_main, y_sc)) from shard files.\n",
    "    Applies player_to_index mapping to ensure IDs are in [0, v-1].\n",
    "    \"\"\"\n",
    "    for fpath in file_list:\n",
    "        print(f\"Loading shard: {fpath}\")\n",
    "        df = pd.read_parquet(fpath)\n",
    "\n",
    "        # Drop rows with NaNs in player columns\n",
    "        df = df.dropna(subset=player_columns)\n",
    "\n",
    "        # Convert players to int\n",
    "        for col in player_columns:\n",
    "            df[col] = pd.to_numeric(df[col], errors='coerce').fillna(0).astype(int)\n",
    "\n",
    "        # Drop unwanted columns\n",
    "        for c in unwanted_cols:\n",
    "            if c in df.columns:\n",
    "                df.drop(columns=c, inplace=True)\n",
    "\n",
    "        # One-hot the outcome column\n",
    "        categories = sorted(df[main_col].unique())\n",
    "        cat_to_idx = {cat: i for i, cat in enumerate(categories)}\n",
    "\n",
    "        num_samples = len(df)\n",
    "        y_main = np.zeros((num_samples, 14), dtype='float32')\n",
    "        for i, val in enumerate(df[main_col]):\n",
    "            class_idx = cat_to_idx[val]\n",
    "            y_main[i, class_idx] = 1.0\n",
    "\n",
    "        y_sc = df[sc_col].astype(int).values.reshape(-1, 1)\n",
    "\n",
    "        # Drop target columns now\n",
    "        df.drop(columns=[main_col, sc_col], inplace=True)\n",
    "\n",
    "        # Map player IDs\n",
    "        for c in player_columns:\n",
    "            df[c] = df[c].map(mapping)\n",
    "\n",
    "        X = df[player_columns].values.astype(np.int32)\n",
    "\n",
    "        # Yield each sample\n",
    "        for i in range(num_samples):\n",
    "            yield X[i], (y_main[i], y_sc[i])\n",
    "\n",
    "def create_dataset(file_list, main_col, sc_col, batch_size, mapping, shuffle_buffer=10000):\n",
    "    ds = tf.data.Dataset.from_generator(\n",
    "        lambda: shard_generator(file_list, main_col, sc_col, mapping),\n",
    "        output_types=(tf.int32, (tf.float32, tf.float32)),\n",
    "        output_shapes=((seq_len,), ((14,), (1,)))\n",
    "    )\n",
    "\n",
    "    ds = ds.shuffle(shuffle_buffer)\n",
    "    ds = ds.batch(batch_size)\n",
    "    ds = ds.prefetch(tf.data.AUTOTUNE)\n",
    "    return ds\n",
    "\n",
    "##############################################\n",
    "# Create Datasets using mapping\n",
    "##############################################\n",
    "train_ds = create_dataset(train_files, main_out_column, second_chance_column, batch_size, player_to_index)\n",
    "val_ds = create_dataset(val_files, main_out_column, second_chance_column, batch_size, player_to_index)\n",
    "test_ds = create_dataset(test_files, main_out_column, second_chance_column, batch_size, player_to_index)\n",
    "\n",
    "##############################################\n",
    "# Training with tf.data\n",
    "##############################################\n",
    "model.fit(\n",
    "    train_ds,\n",
    "    validation_data=val_ds,\n",
    "    epochs=10\n",
    ")\n",
    "\n",
    "##############################################\n",
    "# Evaluation\n",
    "##############################################\n",
    "model.evaluate(test_ds)"
   ]
  },
  {
   "cell_type": "markdown",
   "metadata": {},
   "source": [
    "## First Model load all once"
   ]
  },
  {
   "cell_type": "code",
   "execution_count": 11,
   "metadata": {},
   "outputs": [
    {
     "name": "stdout",
     "output_type": "stream",
     "text": [
      "Loading file 1/10: train_000.parquet\n",
      "Loading file 2/10: train_001.parquet\n",
      "Loading file 3/10: train_002.parquet\n",
      "Loading file 4/10: train_003.parquet\n",
      "Loading file 5/10: train_004.parquet\n",
      "Loading file 6/10: train_005.parquet\n",
      "Loading file 7/10: train_006.parquet\n",
      "Loading file 8/10: train_007.parquet\n",
      "Loading file 9/10: train_008.parquet\n",
      "Loading file 10/10: train_009.parquet\n",
      "Loading file 1/2: val_000.parquet\n",
      "Loading file 2/2: val_001.parquet\n",
      "Loading file 1/2: test_000.parquet\n",
      "Loading file 2/2: test_001.parquet\n",
      "Data loaded:\n",
      "Train shape: (1416007, 19)\n",
      "Val shape: (177001, 19)\n",
      "Test shape: (177001, 19)\n",
      "Number of unique players: 1543\n",
      "Example of player_to_index mapping: [(1713, 0), (2199, 1), (2544, 2), (2546, 3), (2594, 4), (2617, 5), (2730, 6), (2738, 7), (2772, 8), (101107, 9)]\n",
      "Data shapes before training:\n",
      "X_train: (1416007, 10) y_train_main: (1416007, 14) y_train_sc: (1416007, 1)\n",
      "X_val: (177001, 10) y_val_main: (177001, 14) y_val_sc: (177001, 1)\n",
      "X_test: (177001, 10) y_test_main: (177001, 14) y_test_sc: (177001, 1)\n"
     ]
    },
    {
     "data": {
      "text/html": [
       "<pre style=\"white-space:pre;overflow-x:auto;line-height:normal;font-family:Menlo,'DejaVu Sans Mono',consolas,'Courier New',monospace\"><span style=\"font-weight: bold\">Model: \"functional_10\"</span>\n",
       "</pre>\n"
      ],
      "text/plain": [
       "\u001b[1mModel: \"functional_10\"\u001b[0m\n"
      ]
     },
     "metadata": {},
     "output_type": "display_data"
    },
    {
     "data": {
      "text/html": [
       "<pre style=\"white-space:pre;overflow-x:auto;line-height:normal;font-family:Menlo,'DejaVu Sans Mono',consolas,'Courier New',monospace\">┏━━━━━━━━━━━━━━━━━━━━━┳━━━━━━━━━━━━━━━━━━━┳━━━━━━━━━━━━┳━━━━━━━━━━━━━━━━━━━┓\n",
       "┃<span style=\"font-weight: bold\"> Layer (type)        </span>┃<span style=\"font-weight: bold\"> Output Shape      </span>┃<span style=\"font-weight: bold\">    Param # </span>┃<span style=\"font-weight: bold\"> Connected to      </span>┃\n",
       "┡━━━━━━━━━━━━━━━━━━━━━╇━━━━━━━━━━━━━━━━━━━╇━━━━━━━━━━━━╇━━━━━━━━━━━━━━━━━━━┩\n",
       "│ players_input       │ (<span style=\"color: #00d7ff; text-decoration-color: #00d7ff\">None</span>, <span style=\"color: #00af00; text-decoration-color: #00af00\">10</span>)        │          <span style=\"color: #00af00; text-decoration-color: #00af00\">0</span> │ -                 │\n",
       "│ (<span style=\"color: #0087ff; text-decoration-color: #0087ff\">InputLayer</span>)        │                   │            │                   │\n",
       "├─────────────────────┼───────────────────┼────────────┼───────────────────┤\n",
       "│ player_embedding    │ (<span style=\"color: #00d7ff; text-decoration-color: #00d7ff\">None</span>, <span style=\"color: #00af00; text-decoration-color: #00af00\">10</span>, <span style=\"color: #00af00; text-decoration-color: #00af00\">64</span>)    │     <span style=\"color: #00af00; text-decoration-color: #00af00\">98,752</span> │ players_input[<span style=\"color: #00af00; text-decoration-color: #00af00\">0</span>]… │\n",
       "│ (<span style=\"color: #0087ff; text-decoration-color: #0087ff\">Embedding</span>)         │                   │            │                   │\n",
       "├─────────────────────┼───────────────────┼────────────┼───────────────────┤\n",
       "│ offense_slice       │ (<span style=\"color: #00d7ff; text-decoration-color: #00d7ff\">None</span>, <span style=\"color: #00af00; text-decoration-color: #00af00\">5</span>, <span style=\"color: #00af00; text-decoration-color: #00af00\">64</span>)     │          <span style=\"color: #00af00; text-decoration-color: #00af00\">0</span> │ player_embedding… │\n",
       "│ (<span style=\"color: #0087ff; text-decoration-color: #0087ff\">Lambda</span>)            │                   │            │                   │\n",
       "├─────────────────────┼───────────────────┼────────────┼───────────────────┤\n",
       "│ defense_slice       │ (<span style=\"color: #00d7ff; text-decoration-color: #00d7ff\">None</span>, <span style=\"color: #00af00; text-decoration-color: #00af00\">5</span>, <span style=\"color: #00af00; text-decoration-color: #00af00\">64</span>)     │          <span style=\"color: #00af00; text-decoration-color: #00af00\">0</span> │ player_embedding… │\n",
       "│ (<span style=\"color: #0087ff; text-decoration-color: #0087ff\">Lambda</span>)            │                   │            │                   │\n",
       "├─────────────────────┼───────────────────┼────────────┼───────────────────┤\n",
       "│ off_mean (<span style=\"color: #0087ff; text-decoration-color: #0087ff\">Lambda</span>)   │ (<span style=\"color: #00d7ff; text-decoration-color: #00d7ff\">None</span>, <span style=\"color: #00af00; text-decoration-color: #00af00\">64</span>)        │          <span style=\"color: #00af00; text-decoration-color: #00af00\">0</span> │ offense_slice[<span style=\"color: #00af00; text-decoration-color: #00af00\">0</span>]… │\n",
       "├─────────────────────┼───────────────────┼────────────┼───────────────────┤\n",
       "│ def_mean (<span style=\"color: #0087ff; text-decoration-color: #0087ff\">Lambda</span>)   │ (<span style=\"color: #00d7ff; text-decoration-color: #00d7ff\">None</span>, <span style=\"color: #00af00; text-decoration-color: #00af00\">64</span>)        │          <span style=\"color: #00af00; text-decoration-color: #00af00\">0</span> │ defense_slice[<span style=\"color: #00af00; text-decoration-color: #00af00\">0</span>]… │\n",
       "├─────────────────────┼───────────────────┼────────────┼───────────────────┤\n",
       "│ concat              │ (<span style=\"color: #00d7ff; text-decoration-color: #00d7ff\">None</span>, <span style=\"color: #00af00; text-decoration-color: #00af00\">128</span>)       │          <span style=\"color: #00af00; text-decoration-color: #00af00\">0</span> │ off_mean[<span style=\"color: #00af00; text-decoration-color: #00af00\">0</span>][<span style=\"color: #00af00; text-decoration-color: #00af00\">0</span>],   │\n",
       "│ (<span style=\"color: #0087ff; text-decoration-color: #0087ff\">Concatenate</span>)       │                   │            │ def_mean[<span style=\"color: #00af00; text-decoration-color: #00af00\">0</span>][<span style=\"color: #00af00; text-decoration-color: #00af00\">0</span>]    │\n",
       "├─────────────────────┼───────────────────┼────────────┼───────────────────┤\n",
       "│ hidden (<span style=\"color: #0087ff; text-decoration-color: #0087ff\">Dense</span>)      │ (<span style=\"color: #00d7ff; text-decoration-color: #00d7ff\">None</span>, <span style=\"color: #00af00; text-decoration-color: #00af00\">128</span>)       │     <span style=\"color: #00af00; text-decoration-color: #00af00\">16,512</span> │ concat[<span style=\"color: #00af00; text-decoration-color: #00af00\">0</span>][<span style=\"color: #00af00; text-decoration-color: #00af00\">0</span>]      │\n",
       "├─────────────────────┼───────────────────┼────────────┼───────────────────┤\n",
       "│ main_out (<span style=\"color: #0087ff; text-decoration-color: #0087ff\">Dense</span>)    │ (<span style=\"color: #00d7ff; text-decoration-color: #00d7ff\">None</span>, <span style=\"color: #00af00; text-decoration-color: #00af00\">14</span>)        │      <span style=\"color: #00af00; text-decoration-color: #00af00\">1,806</span> │ hidden[<span style=\"color: #00af00; text-decoration-color: #00af00\">0</span>][<span style=\"color: #00af00; text-decoration-color: #00af00\">0</span>]      │\n",
       "├─────────────────────┼───────────────────┼────────────┼───────────────────┤\n",
       "│ second_chance_out   │ (<span style=\"color: #00d7ff; text-decoration-color: #00d7ff\">None</span>, <span style=\"color: #00af00; text-decoration-color: #00af00\">1</span>)         │        <span style=\"color: #00af00; text-decoration-color: #00af00\">129</span> │ hidden[<span style=\"color: #00af00; text-decoration-color: #00af00\">0</span>][<span style=\"color: #00af00; text-decoration-color: #00af00\">0</span>]      │\n",
       "│ (<span style=\"color: #0087ff; text-decoration-color: #0087ff\">Dense</span>)             │                   │            │                   │\n",
       "└─────────────────────┴───────────────────┴────────────┴───────────────────┘\n",
       "</pre>\n"
      ],
      "text/plain": [
       "┏━━━━━━━━━━━━━━━━━━━━━┳━━━━━━━━━━━━━━━━━━━┳━━━━━━━━━━━━┳━━━━━━━━━━━━━━━━━━━┓\n",
       "┃\u001b[1m \u001b[0m\u001b[1mLayer (type)       \u001b[0m\u001b[1m \u001b[0m┃\u001b[1m \u001b[0m\u001b[1mOutput Shape     \u001b[0m\u001b[1m \u001b[0m┃\u001b[1m \u001b[0m\u001b[1m   Param #\u001b[0m\u001b[1m \u001b[0m┃\u001b[1m \u001b[0m\u001b[1mConnected to     \u001b[0m\u001b[1m \u001b[0m┃\n",
       "┡━━━━━━━━━━━━━━━━━━━━━╇━━━━━━━━━━━━━━━━━━━╇━━━━━━━━━━━━╇━━━━━━━━━━━━━━━━━━━┩\n",
       "│ players_input       │ (\u001b[38;5;45mNone\u001b[0m, \u001b[38;5;34m10\u001b[0m)        │          \u001b[38;5;34m0\u001b[0m │ -                 │\n",
       "│ (\u001b[38;5;33mInputLayer\u001b[0m)        │                   │            │                   │\n",
       "├─────────────────────┼───────────────────┼────────────┼───────────────────┤\n",
       "│ player_embedding    │ (\u001b[38;5;45mNone\u001b[0m, \u001b[38;5;34m10\u001b[0m, \u001b[38;5;34m64\u001b[0m)    │     \u001b[38;5;34m98,752\u001b[0m │ players_input[\u001b[38;5;34m0\u001b[0m]… │\n",
       "│ (\u001b[38;5;33mEmbedding\u001b[0m)         │                   │            │                   │\n",
       "├─────────────────────┼───────────────────┼────────────┼───────────────────┤\n",
       "│ offense_slice       │ (\u001b[38;5;45mNone\u001b[0m, \u001b[38;5;34m5\u001b[0m, \u001b[38;5;34m64\u001b[0m)     │          \u001b[38;5;34m0\u001b[0m │ player_embedding… │\n",
       "│ (\u001b[38;5;33mLambda\u001b[0m)            │                   │            │                   │\n",
       "├─────────────────────┼───────────────────┼────────────┼───────────────────┤\n",
       "│ defense_slice       │ (\u001b[38;5;45mNone\u001b[0m, \u001b[38;5;34m5\u001b[0m, \u001b[38;5;34m64\u001b[0m)     │          \u001b[38;5;34m0\u001b[0m │ player_embedding… │\n",
       "│ (\u001b[38;5;33mLambda\u001b[0m)            │                   │            │                   │\n",
       "├─────────────────────┼───────────────────┼────────────┼───────────────────┤\n",
       "│ off_mean (\u001b[38;5;33mLambda\u001b[0m)   │ (\u001b[38;5;45mNone\u001b[0m, \u001b[38;5;34m64\u001b[0m)        │          \u001b[38;5;34m0\u001b[0m │ offense_slice[\u001b[38;5;34m0\u001b[0m]… │\n",
       "├─────────────────────┼───────────────────┼────────────┼───────────────────┤\n",
       "│ def_mean (\u001b[38;5;33mLambda\u001b[0m)   │ (\u001b[38;5;45mNone\u001b[0m, \u001b[38;5;34m64\u001b[0m)        │          \u001b[38;5;34m0\u001b[0m │ defense_slice[\u001b[38;5;34m0\u001b[0m]… │\n",
       "├─────────────────────┼───────────────────┼────────────┼───────────────────┤\n",
       "│ concat              │ (\u001b[38;5;45mNone\u001b[0m, \u001b[38;5;34m128\u001b[0m)       │          \u001b[38;5;34m0\u001b[0m │ off_mean[\u001b[38;5;34m0\u001b[0m][\u001b[38;5;34m0\u001b[0m],   │\n",
       "│ (\u001b[38;5;33mConcatenate\u001b[0m)       │                   │            │ def_mean[\u001b[38;5;34m0\u001b[0m][\u001b[38;5;34m0\u001b[0m]    │\n",
       "├─────────────────────┼───────────────────┼────────────┼───────────────────┤\n",
       "│ hidden (\u001b[38;5;33mDense\u001b[0m)      │ (\u001b[38;5;45mNone\u001b[0m, \u001b[38;5;34m128\u001b[0m)       │     \u001b[38;5;34m16,512\u001b[0m │ concat[\u001b[38;5;34m0\u001b[0m][\u001b[38;5;34m0\u001b[0m]      │\n",
       "├─────────────────────┼───────────────────┼────────────┼───────────────────┤\n",
       "│ main_out (\u001b[38;5;33mDense\u001b[0m)    │ (\u001b[38;5;45mNone\u001b[0m, \u001b[38;5;34m14\u001b[0m)        │      \u001b[38;5;34m1,806\u001b[0m │ hidden[\u001b[38;5;34m0\u001b[0m][\u001b[38;5;34m0\u001b[0m]      │\n",
       "├─────────────────────┼───────────────────┼────────────┼───────────────────┤\n",
       "│ second_chance_out   │ (\u001b[38;5;45mNone\u001b[0m, \u001b[38;5;34m1\u001b[0m)         │        \u001b[38;5;34m129\u001b[0m │ hidden[\u001b[38;5;34m0\u001b[0m][\u001b[38;5;34m0\u001b[0m]      │\n",
       "│ (\u001b[38;5;33mDense\u001b[0m)             │                   │            │                   │\n",
       "└─────────────────────┴───────────────────┴────────────┴───────────────────┘\n"
      ]
     },
     "metadata": {},
     "output_type": "display_data"
    },
    {
     "data": {
      "text/html": [
       "<pre style=\"white-space:pre;overflow-x:auto;line-height:normal;font-family:Menlo,'DejaVu Sans Mono',consolas,'Courier New',monospace\"><span style=\"font-weight: bold\"> Total params: </span><span style=\"color: #00af00; text-decoration-color: #00af00\">117,199</span> (457.81 KB)\n",
       "</pre>\n"
      ],
      "text/plain": [
       "\u001b[1m Total params: \u001b[0m\u001b[38;5;34m117,199\u001b[0m (457.81 KB)\n"
      ]
     },
     "metadata": {},
     "output_type": "display_data"
    },
    {
     "data": {
      "text/html": [
       "<pre style=\"white-space:pre;overflow-x:auto;line-height:normal;font-family:Menlo,'DejaVu Sans Mono',consolas,'Courier New',monospace\"><span style=\"font-weight: bold\"> Trainable params: </span><span style=\"color: #00af00; text-decoration-color: #00af00\">117,199</span> (457.81 KB)\n",
       "</pre>\n"
      ],
      "text/plain": [
       "\u001b[1m Trainable params: \u001b[0m\u001b[38;5;34m117,199\u001b[0m (457.81 KB)\n"
      ]
     },
     "metadata": {},
     "output_type": "display_data"
    },
    {
     "data": {
      "text/html": [
       "<pre style=\"white-space:pre;overflow-x:auto;line-height:normal;font-family:Menlo,'DejaVu Sans Mono',consolas,'Courier New',monospace\"><span style=\"font-weight: bold\"> Non-trainable params: </span><span style=\"color: #00af00; text-decoration-color: #00af00\">0</span> (0.00 B)\n",
       "</pre>\n"
      ],
      "text/plain": [
       "\u001b[1m Non-trainable params: \u001b[0m\u001b[38;5;34m0\u001b[0m (0.00 B)\n"
      ]
     },
     "metadata": {},
     "output_type": "display_data"
    },
    {
     "name": "stdout",
     "output_type": "stream",
     "text": [
      "Epoch 1/10\n",
      "\u001b[1m22126/22126\u001b[0m \u001b[32m━━━━━━━━━━━━━━━━━━━━\u001b[0m\u001b[37m\u001b[0m \u001b[1m23s\u001b[0m 1ms/step - loss: 2.5621 - main_out_accuracy: 0.3657 - main_out_loss: 2.1540 - second_chance_out_accuracy: 0.8593 - second_chance_out_loss: 0.4081 - val_loss: 2.5435 - val_main_out_accuracy: 0.3679 - val_main_out_loss: 2.1361 - val_second_chance_out_accuracy: 0.8582 - val_second_chance_out_loss: 0.4074\n",
      "Epoch 2/10\n",
      "\u001b[1m22126/22126\u001b[0m \u001b[32m━━━━━━━━━━━━━━━━━━━━\u001b[0m\u001b[37m\u001b[0m \u001b[1m24s\u001b[0m 1ms/step - loss: 2.5357 - main_out_accuracy: 0.3662 - main_out_loss: 2.1328 - second_chance_out_accuracy: 0.8603 - second_chance_out_loss: 0.4029 - val_loss: 2.5421 - val_main_out_accuracy: 0.3679 - val_main_out_loss: 2.1349 - val_second_chance_out_accuracy: 0.8582 - val_second_chance_out_loss: 0.4073\n",
      "Epoch 3/10\n",
      "\u001b[1m22126/22126\u001b[0m \u001b[32m━━━━━━━━━━━━━━━━━━━━\u001b[0m\u001b[37m\u001b[0m \u001b[1m23s\u001b[0m 1ms/step - loss: 2.5308 - main_out_accuracy: 0.3662 - main_out_loss: 2.1275 - second_chance_out_accuracy: 0.8598 - second_chance_out_loss: 0.4034 - val_loss: 2.5412 - val_main_out_accuracy: 0.3679 - val_main_out_loss: 2.1342 - val_second_chance_out_accuracy: 0.8582 - val_second_chance_out_loss: 0.4071\n",
      "Epoch 4/10\n",
      "\u001b[1m11828/22126\u001b[0m \u001b[32m━━━━━━━━━━\u001b[0m\u001b[37m━━━━━━━━━━\u001b[0m \u001b[1m11s\u001b[0m 1ms/step - loss: 2.5247 - main_out_accuracy: 0.3659 - main_out_loss: 2.1224 - second_chance_out_accuracy: 0.8600 - second_chance_out_loss: 0.4024"
     ]
    },
    {
     "ename": "KeyboardInterrupt",
     "evalue": "",
     "output_type": "error",
     "traceback": [
      "\u001b[0;31m---------------------------------------------------------------------------\u001b[0m",
      "\u001b[0;31mKeyboardInterrupt\u001b[0m                         Traceback (most recent call last)",
      "Cell \u001b[0;32mIn[11], line 146\u001b[0m\n\u001b[1;32m    141\u001b[0m model\u001b[38;5;241m.\u001b[39msummary()\n\u001b[1;32m    143\u001b[0m \u001b[38;5;66;03m##############################################\u001b[39;00m\n\u001b[1;32m    144\u001b[0m \u001b[38;5;66;03m# Training\u001b[39;00m\n\u001b[1;32m    145\u001b[0m \u001b[38;5;66;03m##############################################\u001b[39;00m\n\u001b[0;32m--> 146\u001b[0m \u001b[43mmodel\u001b[49m\u001b[38;5;241;43m.\u001b[39;49m\u001b[43mfit\u001b[49m\u001b[43m(\u001b[49m\n\u001b[1;32m    147\u001b[0m \u001b[43m    \u001b[49m\u001b[43mX_train\u001b[49m\u001b[43m,\u001b[49m\n\u001b[1;32m    148\u001b[0m \u001b[43m    \u001b[49m\u001b[43m{\u001b[49m\u001b[38;5;124;43m'\u001b[39;49m\u001b[38;5;124;43mmain_out\u001b[39;49m\u001b[38;5;124;43m'\u001b[39;49m\u001b[43m:\u001b[49m\u001b[43m \u001b[49m\u001b[43my_train_main\u001b[49m\u001b[43m,\u001b[49m\u001b[43m \u001b[49m\u001b[38;5;124;43m'\u001b[39;49m\u001b[38;5;124;43msecond_chance_out\u001b[39;49m\u001b[38;5;124;43m'\u001b[39;49m\u001b[43m:\u001b[49m\u001b[43m \u001b[49m\u001b[43my_train_sc\u001b[49m\u001b[43m}\u001b[49m\u001b[43m,\u001b[49m\n\u001b[1;32m    149\u001b[0m \u001b[43m    \u001b[49m\u001b[43mvalidation_data\u001b[49m\u001b[38;5;241;43m=\u001b[39;49m\u001b[43m(\u001b[49m\u001b[43mX_val\u001b[49m\u001b[43m,\u001b[49m\u001b[43m \u001b[49m\u001b[43m{\u001b[49m\u001b[38;5;124;43m'\u001b[39;49m\u001b[38;5;124;43mmain_out\u001b[39;49m\u001b[38;5;124;43m'\u001b[39;49m\u001b[43m:\u001b[49m\u001b[43m \u001b[49m\u001b[43my_val_main\u001b[49m\u001b[43m,\u001b[49m\u001b[43m \u001b[49m\u001b[38;5;124;43m'\u001b[39;49m\u001b[38;5;124;43msecond_chance_out\u001b[39;49m\u001b[38;5;124;43m'\u001b[39;49m\u001b[43m:\u001b[49m\u001b[43m \u001b[49m\u001b[43my_val_sc\u001b[49m\u001b[43m}\u001b[49m\u001b[43m)\u001b[49m\u001b[43m,\u001b[49m\n\u001b[1;32m    150\u001b[0m \u001b[43m    \u001b[49m\u001b[43mepochs\u001b[49m\u001b[38;5;241;43m=\u001b[39;49m\u001b[38;5;241;43m10\u001b[39;49m\u001b[43m,\u001b[49m\n\u001b[1;32m    151\u001b[0m \u001b[43m    \u001b[49m\u001b[43mbatch_size\u001b[49m\u001b[38;5;241;43m=\u001b[39;49m\u001b[38;5;241;43m64\u001b[39;49m\u001b[43m,\u001b[49m\n\u001b[1;32m    152\u001b[0m \u001b[43m    \u001b[49m\u001b[43mverbose\u001b[49m\u001b[38;5;241;43m=\u001b[39;49m\u001b[38;5;241;43m1\u001b[39;49m\n\u001b[1;32m    153\u001b[0m \u001b[43m)\u001b[49m\n\u001b[1;32m    155\u001b[0m \u001b[38;5;66;03m##############################################\u001b[39;00m\n\u001b[1;32m    156\u001b[0m \u001b[38;5;66;03m# Evaluation\u001b[39;00m\n\u001b[1;32m    157\u001b[0m \u001b[38;5;66;03m##############################################\u001b[39;00m\n\u001b[1;32m    158\u001b[0m test_loss \u001b[38;5;241m=\u001b[39m model\u001b[38;5;241m.\u001b[39mevaluate(X_test, {\u001b[38;5;124m'\u001b[39m\u001b[38;5;124mmain_out\u001b[39m\u001b[38;5;124m'\u001b[39m: y_test_main, \u001b[38;5;124m'\u001b[39m\u001b[38;5;124msecond_chance_out\u001b[39m\u001b[38;5;124m'\u001b[39m: y_test_sc}, verbose\u001b[38;5;241m=\u001b[39m\u001b[38;5;241m1\u001b[39m)\n",
      "File \u001b[0;32m/opt/anaconda3/envs/nba_capston/lib/python3.12/site-packages/keras/src/utils/traceback_utils.py:117\u001b[0m, in \u001b[0;36mfilter_traceback.<locals>.error_handler\u001b[0;34m(*args, **kwargs)\u001b[0m\n\u001b[1;32m    115\u001b[0m filtered_tb \u001b[38;5;241m=\u001b[39m \u001b[38;5;28;01mNone\u001b[39;00m\n\u001b[1;32m    116\u001b[0m \u001b[38;5;28;01mtry\u001b[39;00m:\n\u001b[0;32m--> 117\u001b[0m     \u001b[38;5;28;01mreturn\u001b[39;00m \u001b[43mfn\u001b[49m\u001b[43m(\u001b[49m\u001b[38;5;241;43m*\u001b[39;49m\u001b[43margs\u001b[49m\u001b[43m,\u001b[49m\u001b[43m \u001b[49m\u001b[38;5;241;43m*\u001b[39;49m\u001b[38;5;241;43m*\u001b[39;49m\u001b[43mkwargs\u001b[49m\u001b[43m)\u001b[49m\n\u001b[1;32m    118\u001b[0m \u001b[38;5;28;01mexcept\u001b[39;00m \u001b[38;5;167;01mException\u001b[39;00m \u001b[38;5;28;01mas\u001b[39;00m e:\n\u001b[1;32m    119\u001b[0m     filtered_tb \u001b[38;5;241m=\u001b[39m _process_traceback_frames(e\u001b[38;5;241m.\u001b[39m__traceback__)\n",
      "File \u001b[0;32m/opt/anaconda3/envs/nba_capston/lib/python3.12/site-packages/keras/src/backend/tensorflow/trainer.py:368\u001b[0m, in \u001b[0;36mTensorFlowTrainer.fit\u001b[0;34m(self, x, y, batch_size, epochs, verbose, callbacks, validation_split, validation_data, shuffle, class_weight, sample_weight, initial_epoch, steps_per_epoch, validation_steps, validation_batch_size, validation_freq)\u001b[0m\n\u001b[1;32m    366\u001b[0m \u001b[38;5;28;01mfor\u001b[39;00m step, iterator \u001b[38;5;129;01min\u001b[39;00m epoch_iterator:\n\u001b[1;32m    367\u001b[0m     callbacks\u001b[38;5;241m.\u001b[39mon_train_batch_begin(step)\n\u001b[0;32m--> 368\u001b[0m     logs \u001b[38;5;241m=\u001b[39m \u001b[38;5;28;43mself\u001b[39;49m\u001b[38;5;241;43m.\u001b[39;49m\u001b[43mtrain_function\u001b[49m\u001b[43m(\u001b[49m\u001b[43miterator\u001b[49m\u001b[43m)\u001b[49m\n\u001b[1;32m    369\u001b[0m     callbacks\u001b[38;5;241m.\u001b[39mon_train_batch_end(step, logs)\n\u001b[1;32m    370\u001b[0m     \u001b[38;5;28;01mif\u001b[39;00m \u001b[38;5;28mself\u001b[39m\u001b[38;5;241m.\u001b[39mstop_training:\n",
      "File \u001b[0;32m/opt/anaconda3/envs/nba_capston/lib/python3.12/site-packages/keras/src/backend/tensorflow/trainer.py:216\u001b[0m, in \u001b[0;36mTensorFlowTrainer._make_function.<locals>.function\u001b[0;34m(iterator)\u001b[0m\n\u001b[1;32m    212\u001b[0m \u001b[38;5;28;01mdef\u001b[39;00m \u001b[38;5;21mfunction\u001b[39m(iterator):\n\u001b[1;32m    213\u001b[0m     \u001b[38;5;28;01mif\u001b[39;00m \u001b[38;5;28misinstance\u001b[39m(\n\u001b[1;32m    214\u001b[0m         iterator, (tf\u001b[38;5;241m.\u001b[39mdata\u001b[38;5;241m.\u001b[39mIterator, tf\u001b[38;5;241m.\u001b[39mdistribute\u001b[38;5;241m.\u001b[39mDistributedIterator)\n\u001b[1;32m    215\u001b[0m     ):\n\u001b[0;32m--> 216\u001b[0m         opt_outputs \u001b[38;5;241m=\u001b[39m \u001b[43mmulti_step_on_iterator\u001b[49m\u001b[43m(\u001b[49m\u001b[43miterator\u001b[49m\u001b[43m)\u001b[49m\n\u001b[1;32m    217\u001b[0m         \u001b[38;5;28;01mif\u001b[39;00m \u001b[38;5;129;01mnot\u001b[39;00m opt_outputs\u001b[38;5;241m.\u001b[39mhas_value():\n\u001b[1;32m    218\u001b[0m             \u001b[38;5;28;01mraise\u001b[39;00m \u001b[38;5;167;01mStopIteration\u001b[39;00m\n",
      "File \u001b[0;32m/opt/anaconda3/envs/nba_capston/lib/python3.12/site-packages/tensorflow/python/util/traceback_utils.py:150\u001b[0m, in \u001b[0;36mfilter_traceback.<locals>.error_handler\u001b[0;34m(*args, **kwargs)\u001b[0m\n\u001b[1;32m    148\u001b[0m filtered_tb \u001b[38;5;241m=\u001b[39m \u001b[38;5;28;01mNone\u001b[39;00m\n\u001b[1;32m    149\u001b[0m \u001b[38;5;28;01mtry\u001b[39;00m:\n\u001b[0;32m--> 150\u001b[0m   \u001b[38;5;28;01mreturn\u001b[39;00m \u001b[43mfn\u001b[49m\u001b[43m(\u001b[49m\u001b[38;5;241;43m*\u001b[39;49m\u001b[43margs\u001b[49m\u001b[43m,\u001b[49m\u001b[43m \u001b[49m\u001b[38;5;241;43m*\u001b[39;49m\u001b[38;5;241;43m*\u001b[39;49m\u001b[43mkwargs\u001b[49m\u001b[43m)\u001b[49m\n\u001b[1;32m    151\u001b[0m \u001b[38;5;28;01mexcept\u001b[39;00m \u001b[38;5;167;01mException\u001b[39;00m \u001b[38;5;28;01mas\u001b[39;00m e:\n\u001b[1;32m    152\u001b[0m   filtered_tb \u001b[38;5;241m=\u001b[39m _process_traceback_frames(e\u001b[38;5;241m.\u001b[39m__traceback__)\n",
      "File \u001b[0;32m/opt/anaconda3/envs/nba_capston/lib/python3.12/site-packages/tensorflow/python/eager/polymorphic_function/polymorphic_function.py:833\u001b[0m, in \u001b[0;36mFunction.__call__\u001b[0;34m(self, *args, **kwds)\u001b[0m\n\u001b[1;32m    830\u001b[0m compiler \u001b[38;5;241m=\u001b[39m \u001b[38;5;124m\"\u001b[39m\u001b[38;5;124mxla\u001b[39m\u001b[38;5;124m\"\u001b[39m \u001b[38;5;28;01mif\u001b[39;00m \u001b[38;5;28mself\u001b[39m\u001b[38;5;241m.\u001b[39m_jit_compile \u001b[38;5;28;01melse\u001b[39;00m \u001b[38;5;124m\"\u001b[39m\u001b[38;5;124mnonXla\u001b[39m\u001b[38;5;124m\"\u001b[39m\n\u001b[1;32m    832\u001b[0m \u001b[38;5;28;01mwith\u001b[39;00m OptionalXlaContext(\u001b[38;5;28mself\u001b[39m\u001b[38;5;241m.\u001b[39m_jit_compile):\n\u001b[0;32m--> 833\u001b[0m   result \u001b[38;5;241m=\u001b[39m \u001b[38;5;28;43mself\u001b[39;49m\u001b[38;5;241;43m.\u001b[39;49m\u001b[43m_call\u001b[49m\u001b[43m(\u001b[49m\u001b[38;5;241;43m*\u001b[39;49m\u001b[43margs\u001b[49m\u001b[43m,\u001b[49m\u001b[43m \u001b[49m\u001b[38;5;241;43m*\u001b[39;49m\u001b[38;5;241;43m*\u001b[39;49m\u001b[43mkwds\u001b[49m\u001b[43m)\u001b[49m\n\u001b[1;32m    835\u001b[0m new_tracing_count \u001b[38;5;241m=\u001b[39m \u001b[38;5;28mself\u001b[39m\u001b[38;5;241m.\u001b[39mexperimental_get_tracing_count()\n\u001b[1;32m    836\u001b[0m without_tracing \u001b[38;5;241m=\u001b[39m (tracing_count \u001b[38;5;241m==\u001b[39m new_tracing_count)\n",
      "File \u001b[0;32m/opt/anaconda3/envs/nba_capston/lib/python3.12/site-packages/tensorflow/python/eager/polymorphic_function/polymorphic_function.py:878\u001b[0m, in \u001b[0;36mFunction._call\u001b[0;34m(self, *args, **kwds)\u001b[0m\n\u001b[1;32m    875\u001b[0m \u001b[38;5;28mself\u001b[39m\u001b[38;5;241m.\u001b[39m_lock\u001b[38;5;241m.\u001b[39mrelease()\n\u001b[1;32m    876\u001b[0m \u001b[38;5;66;03m# In this case we have not created variables on the first call. So we can\u001b[39;00m\n\u001b[1;32m    877\u001b[0m \u001b[38;5;66;03m# run the first trace but we should fail if variables are created.\u001b[39;00m\n\u001b[0;32m--> 878\u001b[0m results \u001b[38;5;241m=\u001b[39m \u001b[43mtracing_compilation\u001b[49m\u001b[38;5;241;43m.\u001b[39;49m\u001b[43mcall_function\u001b[49m\u001b[43m(\u001b[49m\n\u001b[1;32m    879\u001b[0m \u001b[43m    \u001b[49m\u001b[43margs\u001b[49m\u001b[43m,\u001b[49m\u001b[43m \u001b[49m\u001b[43mkwds\u001b[49m\u001b[43m,\u001b[49m\u001b[43m \u001b[49m\u001b[38;5;28;43mself\u001b[39;49m\u001b[38;5;241;43m.\u001b[39;49m\u001b[43m_variable_creation_config\u001b[49m\n\u001b[1;32m    880\u001b[0m \u001b[43m\u001b[49m\u001b[43m)\u001b[49m\n\u001b[1;32m    881\u001b[0m \u001b[38;5;28;01mif\u001b[39;00m \u001b[38;5;28mself\u001b[39m\u001b[38;5;241m.\u001b[39m_created_variables:\n\u001b[1;32m    882\u001b[0m   \u001b[38;5;28;01mraise\u001b[39;00m \u001b[38;5;167;01mValueError\u001b[39;00m(\u001b[38;5;124m\"\u001b[39m\u001b[38;5;124mCreating variables on a non-first call to a function\u001b[39m\u001b[38;5;124m\"\u001b[39m\n\u001b[1;32m    883\u001b[0m                    \u001b[38;5;124m\"\u001b[39m\u001b[38;5;124m decorated with tf.function.\u001b[39m\u001b[38;5;124m\"\u001b[39m)\n",
      "File \u001b[0;32m/opt/anaconda3/envs/nba_capston/lib/python3.12/site-packages/tensorflow/python/eager/polymorphic_function/tracing_compilation.py:139\u001b[0m, in \u001b[0;36mcall_function\u001b[0;34m(args, kwargs, tracing_options)\u001b[0m\n\u001b[1;32m    137\u001b[0m bound_args \u001b[38;5;241m=\u001b[39m function\u001b[38;5;241m.\u001b[39mfunction_type\u001b[38;5;241m.\u001b[39mbind(\u001b[38;5;241m*\u001b[39margs, \u001b[38;5;241m*\u001b[39m\u001b[38;5;241m*\u001b[39mkwargs)\n\u001b[1;32m    138\u001b[0m flat_inputs \u001b[38;5;241m=\u001b[39m function\u001b[38;5;241m.\u001b[39mfunction_type\u001b[38;5;241m.\u001b[39munpack_inputs(bound_args)\n\u001b[0;32m--> 139\u001b[0m \u001b[38;5;28;01mreturn\u001b[39;00m \u001b[43mfunction\u001b[49m\u001b[38;5;241;43m.\u001b[39;49m\u001b[43m_call_flat\u001b[49m\u001b[43m(\u001b[49m\u001b[43m  \u001b[49m\u001b[38;5;66;43;03m# pylint: disable=protected-access\u001b[39;49;00m\n\u001b[1;32m    140\u001b[0m \u001b[43m    \u001b[49m\u001b[43mflat_inputs\u001b[49m\u001b[43m,\u001b[49m\u001b[43m \u001b[49m\u001b[43mcaptured_inputs\u001b[49m\u001b[38;5;241;43m=\u001b[39;49m\u001b[43mfunction\u001b[49m\u001b[38;5;241;43m.\u001b[39;49m\u001b[43mcaptured_inputs\u001b[49m\n\u001b[1;32m    141\u001b[0m \u001b[43m\u001b[49m\u001b[43m)\u001b[49m\n",
      "File \u001b[0;32m/opt/anaconda3/envs/nba_capston/lib/python3.12/site-packages/tensorflow/python/eager/polymorphic_function/concrete_function.py:1322\u001b[0m, in \u001b[0;36mConcreteFunction._call_flat\u001b[0;34m(self, tensor_inputs, captured_inputs)\u001b[0m\n\u001b[1;32m   1318\u001b[0m possible_gradient_type \u001b[38;5;241m=\u001b[39m gradients_util\u001b[38;5;241m.\u001b[39mPossibleTapeGradientTypes(args)\n\u001b[1;32m   1319\u001b[0m \u001b[38;5;28;01mif\u001b[39;00m (possible_gradient_type \u001b[38;5;241m==\u001b[39m gradients_util\u001b[38;5;241m.\u001b[39mPOSSIBLE_GRADIENT_TYPES_NONE\n\u001b[1;32m   1320\u001b[0m     \u001b[38;5;129;01mand\u001b[39;00m executing_eagerly):\n\u001b[1;32m   1321\u001b[0m   \u001b[38;5;66;03m# No tape is watching; skip to running the function.\u001b[39;00m\n\u001b[0;32m-> 1322\u001b[0m   \u001b[38;5;28;01mreturn\u001b[39;00m \u001b[38;5;28;43mself\u001b[39;49m\u001b[38;5;241;43m.\u001b[39;49m\u001b[43m_inference_function\u001b[49m\u001b[38;5;241;43m.\u001b[39;49m\u001b[43mcall_preflattened\u001b[49m\u001b[43m(\u001b[49m\u001b[43margs\u001b[49m\u001b[43m)\u001b[49m\n\u001b[1;32m   1323\u001b[0m forward_backward \u001b[38;5;241m=\u001b[39m \u001b[38;5;28mself\u001b[39m\u001b[38;5;241m.\u001b[39m_select_forward_and_backward_functions(\n\u001b[1;32m   1324\u001b[0m     args,\n\u001b[1;32m   1325\u001b[0m     possible_gradient_type,\n\u001b[1;32m   1326\u001b[0m     executing_eagerly)\n\u001b[1;32m   1327\u001b[0m forward_function, args_with_tangents \u001b[38;5;241m=\u001b[39m forward_backward\u001b[38;5;241m.\u001b[39mforward()\n",
      "File \u001b[0;32m/opt/anaconda3/envs/nba_capston/lib/python3.12/site-packages/tensorflow/python/eager/polymorphic_function/atomic_function.py:216\u001b[0m, in \u001b[0;36mAtomicFunction.call_preflattened\u001b[0;34m(self, args)\u001b[0m\n\u001b[1;32m    214\u001b[0m \u001b[38;5;28;01mdef\u001b[39;00m \u001b[38;5;21mcall_preflattened\u001b[39m(\u001b[38;5;28mself\u001b[39m, args: Sequence[core\u001b[38;5;241m.\u001b[39mTensor]) \u001b[38;5;241m-\u001b[39m\u001b[38;5;241m>\u001b[39m Any:\n\u001b[1;32m    215\u001b[0m \u001b[38;5;250m  \u001b[39m\u001b[38;5;124;03m\"\"\"Calls with flattened tensor inputs and returns the structured output.\"\"\"\u001b[39;00m\n\u001b[0;32m--> 216\u001b[0m   flat_outputs \u001b[38;5;241m=\u001b[39m \u001b[38;5;28;43mself\u001b[39;49m\u001b[38;5;241;43m.\u001b[39;49m\u001b[43mcall_flat\u001b[49m\u001b[43m(\u001b[49m\u001b[38;5;241;43m*\u001b[39;49m\u001b[43margs\u001b[49m\u001b[43m)\u001b[49m\n\u001b[1;32m    217\u001b[0m   \u001b[38;5;28;01mreturn\u001b[39;00m \u001b[38;5;28mself\u001b[39m\u001b[38;5;241m.\u001b[39mfunction_type\u001b[38;5;241m.\u001b[39mpack_output(flat_outputs)\n",
      "File \u001b[0;32m/opt/anaconda3/envs/nba_capston/lib/python3.12/site-packages/tensorflow/python/eager/polymorphic_function/atomic_function.py:249\u001b[0m, in \u001b[0;36mAtomicFunction.call_flat\u001b[0;34m(self, *args)\u001b[0m\n\u001b[1;32m    242\u001b[0m \u001b[38;5;28;01mwith\u001b[39;00m InterpolateRuntimeError(\u001b[38;5;28mself\u001b[39m):\n\u001b[1;32m    243\u001b[0m   \u001b[38;5;28;01mwith\u001b[39;00m ops\u001b[38;5;241m.\u001b[39mcontrol_dependencies(\u001b[38;5;28mself\u001b[39m\u001b[38;5;241m.\u001b[39m_call_options\u001b[38;5;241m.\u001b[39mcontrol_captures):\n\u001b[1;32m    244\u001b[0m     \u001b[38;5;66;03m# The caller must use record_operation to record this operation in the\u001b[39;00m\n\u001b[1;32m    245\u001b[0m     \u001b[38;5;66;03m# eager case, so we enforce the same requirement for the non-eager\u001b[39;00m\n\u001b[1;32m    246\u001b[0m     \u001b[38;5;66;03m# case by explicitly pausing recording. We don't have a gradient\u001b[39;00m\n\u001b[1;32m    247\u001b[0m     \u001b[38;5;66;03m# registered for PartitionedCall, so recording this operation confuses\u001b[39;00m\n\u001b[1;32m    248\u001b[0m     \u001b[38;5;66;03m# forwardprop code (GradientTape manages to ignore it).\u001b[39;00m\n\u001b[0;32m--> 249\u001b[0m     \u001b[38;5;28;01mwith\u001b[39;00m \u001b[43mrecord\u001b[49m\u001b[38;5;241;43m.\u001b[39;49m\u001b[43mstop_recording\u001b[49m\u001b[43m(\u001b[49m\u001b[43m)\u001b[49m:\n\u001b[1;32m    250\u001b[0m       \u001b[38;5;28;01mif\u001b[39;00m \u001b[38;5;28mself\u001b[39m\u001b[38;5;241m.\u001b[39m_bound_context\u001b[38;5;241m.\u001b[39mexecuting_eagerly():\n\u001b[1;32m    251\u001b[0m         outputs \u001b[38;5;241m=\u001b[39m \u001b[38;5;28mself\u001b[39m\u001b[38;5;241m.\u001b[39m_bound_context\u001b[38;5;241m.\u001b[39mcall_function(\n\u001b[1;32m    252\u001b[0m             \u001b[38;5;28mself\u001b[39m\u001b[38;5;241m.\u001b[39mname,\n\u001b[1;32m    253\u001b[0m             \u001b[38;5;28mlist\u001b[39m(args),\n\u001b[1;32m    254\u001b[0m             \u001b[38;5;28mlen\u001b[39m(\u001b[38;5;28mself\u001b[39m\u001b[38;5;241m.\u001b[39mfunction_type\u001b[38;5;241m.\u001b[39mflat_outputs),\n\u001b[1;32m    255\u001b[0m         )\n",
      "\u001b[0;31mKeyboardInterrupt\u001b[0m: "
     ]
    }
   ],
   "source": [
    "import tensorflow as tf\n",
    "from tensorflow.keras import layers, Model, Input\n",
    "import os\n",
    "import pandas as pd\n",
    "import numpy as np\n",
    "\n",
    "##############################################\n",
    "# Parameters\n",
    "##############################################\n",
    "# v will be determined after we find all unique player IDs\n",
    "seq_len = 10    # 5 offense + 5 defense\n",
    "embedding_dim = 64\n",
    "data_dir = 'split_data_parquet'\n",
    "main_out_column = \"OUTCOME\"\n",
    "second_chance_column = \"SECOND_CHANCE\"\n",
    "player_columns = [\n",
    "    \"OFF_PLAYER1_ID\", \"OFF_PLAYER2_ID\", \"OFF_PLAYER3_ID\", \"OFF_PLAYER4_ID\", \"OFF_PLAYER5_ID\",\n",
    "    \"DEF_PLAYER1_ID\", \"DEF_PLAYER2_ID\", \"DEF_PLAYER3_ID\", \"DEF_PLAYER4_ID\", \"DEF_PLAYER5_ID\"\n",
    "]\n",
    "unwanted_cols = [\"SHOOTER_ID\",\"ASSISTER_ID\",\"BLOCKER_ID\",\"STEALER_ID\",\"REBOUNDER_ID\",\"TURNOVER_ID\"]\n",
    "\n",
    "##############################################\n",
    "# Data Loading\n",
    "##############################################\n",
    "train_files = sorted([f for f in os.listdir(data_dir) if f.startswith('train_') and f.endswith('.parquet')])\n",
    "val_files = sorted([f for f in os.listdir(data_dir) if f.startswith('val_') and f.endswith('.parquet')])\n",
    "test_files = sorted([f for f in os.listdir(data_dir) if f.startswith('test_') and f.endswith('.parquet')])\n",
    "\n",
    "def load_parquet_shards(file_list):\n",
    "    dfs = []\n",
    "    for i, f in enumerate(file_list):\n",
    "        print(f\"Loading file {i+1}/{len(file_list)}: {f}\")\n",
    "        df = pd.read_parquet(os.path.join(data_dir, f))\n",
    "        dfs.append(df)\n",
    "    return pd.concat(dfs, ignore_index=True) if dfs else pd.DataFrame()\n",
    "\n",
    "train_df = load_parquet_shards(train_files)\n",
    "val_df = load_parquet_shards(val_files)\n",
    "test_df = load_parquet_shards(test_files)\n",
    "\n",
    "print(\"Data loaded:\")\n",
    "print(\"Train shape:\", train_df.shape)\n",
    "print(\"Val shape:\", val_df.shape)\n",
    "print(\"Test shape:\", test_df.shape)\n",
    "\n",
    "# Drop rows with NaNs in player columns\n",
    "train_df = train_df.dropna(subset=player_columns)\n",
    "val_df = val_df.dropna(subset=player_columns)\n",
    "test_df = test_df.dropna(subset=player_columns)\n",
    "\n",
    "# Convert player IDs to int\n",
    "for col in player_columns:\n",
    "    train_df[col] = pd.to_numeric(train_df[col], errors='coerce').fillna(0).astype(int)\n",
    "    val_df[col] = pd.to_numeric(val_df[col], errors='coerce').fillna(0).astype(int)\n",
    "    test_df[col] = pd.to_numeric(test_df[col], errors='coerce').fillna(0).astype(int)\n",
    "\n",
    "##############################################\n",
    "# Create a Global Player ID Mapping\n",
    "##############################################\n",
    "all_ids = pd.concat([train_df[player_columns], val_df[player_columns], test_df[player_columns]], ignore_index=True)\n",
    "unique_players = np.sort(all_ids.stack().unique())  # Flatten and get unique IDs\n",
    "player_to_index = {p: i for i, p in enumerate(unique_players)}\n",
    "v = len(unique_players)\n",
    "print(f\"Number of unique players: {v}\")\n",
    "print(\"Example of player_to_index mapping:\", list(player_to_index.items())[:10])\n",
    "\n",
    "# Apply the mapping to our DataFrames\n",
    "def map_ids(df, cols, mapping):\n",
    "    for c in cols:\n",
    "        df[c] = df[c].map(mapping)\n",
    "    return df\n",
    "\n",
    "train_df = map_ids(train_df, player_columns, player_to_index)\n",
    "val_df = map_ids(val_df, player_columns, player_to_index)\n",
    "test_df = map_ids(test_df, player_columns, player_to_index)\n",
    "\n",
    "##############################################\n",
    "# Extract targets\n",
    "##############################################\n",
    "y_train_main = pd.get_dummies(train_df[main_out_column]).values\n",
    "y_train_sc = train_df[second_chance_column].astype(int).values.reshape(-1, 1)\n",
    "\n",
    "y_val_main = pd.get_dummies(val_df[main_out_column]).values\n",
    "y_val_sc = val_df[second_chance_column].astype(int).values.reshape(-1, 1)\n",
    "\n",
    "y_test_main = pd.get_dummies(test_df[main_out_column]).values\n",
    "y_test_sc = test_df[second_chance_column].astype(int).values.reshape(-1, 1)\n",
    "\n",
    "# Remove unwanted columns\n",
    "for c in unwanted_cols:\n",
    "    if c in train_df.columns:\n",
    "        train_df.drop(columns=c, inplace=True)\n",
    "    if c in val_df.columns:\n",
    "        val_df.drop(columns=c, inplace=True)\n",
    "    if c in test_df.columns:\n",
    "        test_df.drop(columns=c, inplace=True)\n",
    "\n",
    "##############################################\n",
    "# Create Numpy Arrays for Model Input\n",
    "##############################################\n",
    "X_train = train_df[player_columns].values\n",
    "X_val = val_df[player_columns].values\n",
    "X_test = test_df[player_columns].values\n",
    "\n",
    "print(\"Data shapes before training:\")\n",
    "print(\"X_train:\", X_train.shape, \"y_train_main:\", y_train_main.shape, \"y_train_sc:\", y_train_sc.shape)\n",
    "print(\"X_val:\", X_val.shape, \"y_val_main:\", y_val_main.shape, \"y_val_sc:\", y_val_sc.shape)\n",
    "print(\"X_test:\", X_test.shape, \"y_test_main:\", y_test_main.shape, \"y_test_sc:\", y_test_sc.shape)\n",
    "\n",
    "##############################################\n",
    "# Model Definition Using Embeddings (with updated v)\n",
    "##############################################\n",
    "input_players = Input(shape=(seq_len,), dtype='int32', name='players_input')\n",
    "player_embedding = layers.Embedding(input_dim=v, output_dim=embedding_dim, name='player_embedding')(input_players)\n",
    "\n",
    "offense_emb = layers.Lambda(lambda t: t[:, :5, :], name='offense_slice')(player_embedding)\n",
    "defense_emb = layers.Lambda(lambda t: t[:, 5:, :], name='defense_slice')(player_embedding)\n",
    "\n",
    "off_mean = layers.Lambda(lambda t: tf.reduce_mean(t, axis=1), name='off_mean')(offense_emb)\n",
    "def_mean = layers.Lambda(lambda t: tf.reduce_mean(t, axis=1), name='def_mean')(defense_emb)\n",
    "\n",
    "concat = layers.Concatenate(name='concat')([off_mean, def_mean])\n",
    "hidden = layers.Dense(128, activation='relu', name='hidden')(concat)\n",
    "\n",
    "main_out = layers.Dense(14, activation='softmax', name='main_out')(hidden)\n",
    "second_chance_out = layers.Dense(1, activation='sigmoid', name='second_chance_out')(hidden)\n",
    "\n",
    "model = Model(inputs=input_players, outputs=[main_out, second_chance_out])\n",
    "model.compile(\n",
    "    optimizer='adam',\n",
    "    loss={\n",
    "        'main_out': 'categorical_crossentropy',\n",
    "        'second_chance_out': 'binary_crossentropy'\n",
    "    },\n",
    "    metrics={\n",
    "        'main_out': 'accuracy',\n",
    "        'second_chance_out': 'accuracy'\n",
    "    }\n",
    ")\n",
    "\n",
    "model.summary()\n",
    "\n",
    "##############################################\n",
    "# Training\n",
    "##############################################\n",
    "model.fit(\n",
    "    X_train,\n",
    "    {'main_out': y_train_main, 'second_chance_out': y_train_sc},\n",
    "    validation_data=(X_val, {'main_out': y_val_main, 'second_chance_out': y_val_sc}),\n",
    "    epochs=10,\n",
    "    batch_size=64,\n",
    "    verbose=1\n",
    ")\n",
    "\n",
    "##############################################\n",
    "# Evaluation\n",
    "##############################################\n",
    "test_loss = model.evaluate(X_test, {'main_out': y_test_main, 'second_chance_out': y_test_sc}, verbose=1)\n",
    "print(\"Test loss and metrics:\", test_loss)"
   ]
  },
  {
   "cell_type": "code",
   "execution_count": 10,
   "metadata": {},
   "outputs": [
    {
     "name": "stdout",
     "output_type": "stream",
     "text": [
      "Scanning file for unique IDs: split_data_parquet/train_000.parquet\n",
      "Scanning file for unique IDs: split_data_parquet/train_001.parquet\n",
      "Scanning file for unique IDs: split_data_parquet/train_002.parquet\n",
      "Scanning file for unique IDs: split_data_parquet/train_003.parquet\n",
      "Scanning file for unique IDs: split_data_parquet/train_004.parquet\n",
      "Scanning file for unique IDs: split_data_parquet/train_005.parquet\n",
      "Scanning file for unique IDs: split_data_parquet/train_006.parquet\n",
      "Scanning file for unique IDs: split_data_parquet/train_007.parquet\n",
      "Scanning file for unique IDs: split_data_parquet/train_008.parquet\n",
      "Scanning file for unique IDs: split_data_parquet/train_009.parquet\n",
      "Scanning file for unique IDs: split_data_parquet/val_000.parquet\n",
      "Scanning file for unique IDs: split_data_parquet/val_001.parquet\n",
      "Scanning file for unique IDs: split_data_parquet/test_000.parquet\n",
      "Scanning file for unique IDs: split_data_parquet/test_001.parquet\n",
      "Number of unique players: 1543\n",
      "Example mapping: [(1713, 0), (2199, 1), (2544, 2), (2546, 3), (2594, 4), (2617, 5), (2730, 6), (2738, 7), (2772, 8), (101107, 9)]\n"
     ]
    },
    {
     "data": {
      "text/html": [
       "<pre style=\"white-space:pre;overflow-x:auto;line-height:normal;font-family:Menlo,'DejaVu Sans Mono',consolas,'Courier New',monospace\"><span style=\"font-weight: bold\">Model: \"functional_9\"</span>\n",
       "</pre>\n"
      ],
      "text/plain": [
       "\u001b[1mModel: \"functional_9\"\u001b[0m\n"
      ]
     },
     "metadata": {},
     "output_type": "display_data"
    },
    {
     "data": {
      "text/html": [
       "<pre style=\"white-space:pre;overflow-x:auto;line-height:normal;font-family:Menlo,'DejaVu Sans Mono',consolas,'Courier New',monospace\">┏━━━━━━━━━━━━━━━━━━━━━┳━━━━━━━━━━━━━━━━━━━┳━━━━━━━━━━━━┳━━━━━━━━━━━━━━━━━━━┓\n",
       "┃<span style=\"font-weight: bold\"> Layer (type)        </span>┃<span style=\"font-weight: bold\"> Output Shape      </span>┃<span style=\"font-weight: bold\">    Param # </span>┃<span style=\"font-weight: bold\"> Connected to      </span>┃\n",
       "┡━━━━━━━━━━━━━━━━━━━━━╇━━━━━━━━━━━━━━━━━━━╇━━━━━━━━━━━━╇━━━━━━━━━━━━━━━━━━━┩\n",
       "│ players_input       │ (<span style=\"color: #00d7ff; text-decoration-color: #00d7ff\">None</span>, <span style=\"color: #00af00; text-decoration-color: #00af00\">10</span>)        │          <span style=\"color: #00af00; text-decoration-color: #00af00\">0</span> │ -                 │\n",
       "│ (<span style=\"color: #0087ff; text-decoration-color: #0087ff\">InputLayer</span>)        │                   │            │                   │\n",
       "├─────────────────────┼───────────────────┼────────────┼───────────────────┤\n",
       "│ player_embedding    │ (<span style=\"color: #00d7ff; text-decoration-color: #00d7ff\">None</span>, <span style=\"color: #00af00; text-decoration-color: #00af00\">10</span>, <span style=\"color: #00af00; text-decoration-color: #00af00\">16</span>)    │     <span style=\"color: #00af00; text-decoration-color: #00af00\">24,688</span> │ players_input[<span style=\"color: #00af00; text-decoration-color: #00af00\">0</span>]… │\n",
       "│ (<span style=\"color: #0087ff; text-decoration-color: #0087ff\">Embedding</span>)         │                   │            │                   │\n",
       "├─────────────────────┼───────────────────┼────────────┼───────────────────┤\n",
       "│ multi_head_attenti… │ (<span style=\"color: #00d7ff; text-decoration-color: #00d7ff\">None</span>, <span style=\"color: #00af00; text-decoration-color: #00af00\">10</span>, <span style=\"color: #00af00; text-decoration-color: #00af00\">16</span>)    │      <span style=\"color: #00af00; text-decoration-color: #00af00\">2,160</span> │ player_embedding… │\n",
       "│ (<span style=\"color: #0087ff; text-decoration-color: #0087ff\">MultiHeadAttentio…</span> │                   │            │ player_embedding… │\n",
       "├─────────────────────┼───────────────────┼────────────┼───────────────────┤\n",
       "│ dropout_13          │ (<span style=\"color: #00d7ff; text-decoration-color: #00d7ff\">None</span>, <span style=\"color: #00af00; text-decoration-color: #00af00\">10</span>, <span style=\"color: #00af00; text-decoration-color: #00af00\">16</span>)    │          <span style=\"color: #00af00; text-decoration-color: #00af00\">0</span> │ multi_head_atten… │\n",
       "│ (<span style=\"color: #0087ff; text-decoration-color: #0087ff\">Dropout</span>)           │                   │            │                   │\n",
       "├─────────────────────┼───────────────────┼────────────┼───────────────────┤\n",
       "│ add_8 (<span style=\"color: #0087ff; text-decoration-color: #0087ff\">Add</span>)         │ (<span style=\"color: #00d7ff; text-decoration-color: #00d7ff\">None</span>, <span style=\"color: #00af00; text-decoration-color: #00af00\">10</span>, <span style=\"color: #00af00; text-decoration-color: #00af00\">16</span>)    │          <span style=\"color: #00af00; text-decoration-color: #00af00\">0</span> │ player_embedding… │\n",
       "│                     │                   │            │ dropout_13[<span style=\"color: #00af00; text-decoration-color: #00af00\">0</span>][<span style=\"color: #00af00; text-decoration-color: #00af00\">0</span>]  │\n",
       "├─────────────────────┼───────────────────┼────────────┼───────────────────┤\n",
       "│ layer_normalizatio… │ (<span style=\"color: #00d7ff; text-decoration-color: #00d7ff\">None</span>, <span style=\"color: #00af00; text-decoration-color: #00af00\">10</span>, <span style=\"color: #00af00; text-decoration-color: #00af00\">16</span>)    │         <span style=\"color: #00af00; text-decoration-color: #00af00\">32</span> │ add_8[<span style=\"color: #00af00; text-decoration-color: #00af00\">0</span>][<span style=\"color: #00af00; text-decoration-color: #00af00\">0</span>]       │\n",
       "│ (<span style=\"color: #0087ff; text-decoration-color: #0087ff\">LayerNormalizatio…</span> │                   │            │                   │\n",
       "├─────────────────────┼───────────────────┼────────────┼───────────────────┤\n",
       "│ dense_8 (<span style=\"color: #0087ff; text-decoration-color: #0087ff\">Dense</span>)     │ (<span style=\"color: #00d7ff; text-decoration-color: #00d7ff\">None</span>, <span style=\"color: #00af00; text-decoration-color: #00af00\">10</span>, <span style=\"color: #00af00; text-decoration-color: #00af00\">32</span>)    │        <span style=\"color: #00af00; text-decoration-color: #00af00\">544</span> │ layer_normalizat… │\n",
       "├─────────────────────┼───────────────────┼────────────┼───────────────────┤\n",
       "│ dense_9 (<span style=\"color: #0087ff; text-decoration-color: #0087ff\">Dense</span>)     │ (<span style=\"color: #00d7ff; text-decoration-color: #00d7ff\">None</span>, <span style=\"color: #00af00; text-decoration-color: #00af00\">10</span>, <span style=\"color: #00af00; text-decoration-color: #00af00\">16</span>)    │        <span style=\"color: #00af00; text-decoration-color: #00af00\">528</span> │ dense_8[<span style=\"color: #00af00; text-decoration-color: #00af00\">0</span>][<span style=\"color: #00af00; text-decoration-color: #00af00\">0</span>]     │\n",
       "├─────────────────────┼───────────────────┼────────────┼───────────────────┤\n",
       "│ dropout_14          │ (<span style=\"color: #00d7ff; text-decoration-color: #00d7ff\">None</span>, <span style=\"color: #00af00; text-decoration-color: #00af00\">10</span>, <span style=\"color: #00af00; text-decoration-color: #00af00\">16</span>)    │          <span style=\"color: #00af00; text-decoration-color: #00af00\">0</span> │ dense_9[<span style=\"color: #00af00; text-decoration-color: #00af00\">0</span>][<span style=\"color: #00af00; text-decoration-color: #00af00\">0</span>]     │\n",
       "│ (<span style=\"color: #0087ff; text-decoration-color: #0087ff\">Dropout</span>)           │                   │            │                   │\n",
       "├─────────────────────┼───────────────────┼────────────┼───────────────────┤\n",
       "│ add_9 (<span style=\"color: #0087ff; text-decoration-color: #0087ff\">Add</span>)         │ (<span style=\"color: #00d7ff; text-decoration-color: #00d7ff\">None</span>, <span style=\"color: #00af00; text-decoration-color: #00af00\">10</span>, <span style=\"color: #00af00; text-decoration-color: #00af00\">16</span>)    │          <span style=\"color: #00af00; text-decoration-color: #00af00\">0</span> │ layer_normalizat… │\n",
       "│                     │                   │            │ dropout_14[<span style=\"color: #00af00; text-decoration-color: #00af00\">0</span>][<span style=\"color: #00af00; text-decoration-color: #00af00\">0</span>]  │\n",
       "├─────────────────────┼───────────────────┼────────────┼───────────────────┤\n",
       "│ layer_normalizatio… │ (<span style=\"color: #00d7ff; text-decoration-color: #00d7ff\">None</span>, <span style=\"color: #00af00; text-decoration-color: #00af00\">10</span>, <span style=\"color: #00af00; text-decoration-color: #00af00\">16</span>)    │         <span style=\"color: #00af00; text-decoration-color: #00af00\">32</span> │ add_9[<span style=\"color: #00af00; text-decoration-color: #00af00\">0</span>][<span style=\"color: #00af00; text-decoration-color: #00af00\">0</span>]       │\n",
       "│ (<span style=\"color: #0087ff; text-decoration-color: #0087ff\">LayerNormalizatio…</span> │                   │            │                   │\n",
       "├─────────────────────┼───────────────────┼────────────┼───────────────────┤\n",
       "│ offense_slice       │ (<span style=\"color: #00d7ff; text-decoration-color: #00d7ff\">None</span>, <span style=\"color: #00af00; text-decoration-color: #00af00\">5</span>, <span style=\"color: #00af00; text-decoration-color: #00af00\">16</span>)     │          <span style=\"color: #00af00; text-decoration-color: #00af00\">0</span> │ layer_normalizat… │\n",
       "│ (<span style=\"color: #0087ff; text-decoration-color: #0087ff\">Lambda</span>)            │                   │            │                   │\n",
       "├─────────────────────┼───────────────────┼────────────┼───────────────────┤\n",
       "│ defense_slice       │ (<span style=\"color: #00d7ff; text-decoration-color: #00d7ff\">None</span>, <span style=\"color: #00af00; text-decoration-color: #00af00\">5</span>, <span style=\"color: #00af00; text-decoration-color: #00af00\">16</span>)     │          <span style=\"color: #00af00; text-decoration-color: #00af00\">0</span> │ layer_normalizat… │\n",
       "│ (<span style=\"color: #0087ff; text-decoration-color: #0087ff\">Lambda</span>)            │                   │            │                   │\n",
       "├─────────────────────┼───────────────────┼────────────┼───────────────────┤\n",
       "│ off_mean (<span style=\"color: #0087ff; text-decoration-color: #0087ff\">Lambda</span>)   │ (<span style=\"color: #00d7ff; text-decoration-color: #00d7ff\">None</span>, <span style=\"color: #00af00; text-decoration-color: #00af00\">16</span>)        │          <span style=\"color: #00af00; text-decoration-color: #00af00\">0</span> │ offense_slice[<span style=\"color: #00af00; text-decoration-color: #00af00\">0</span>]… │\n",
       "├─────────────────────┼───────────────────┼────────────┼───────────────────┤\n",
       "│ def_mean (<span style=\"color: #0087ff; text-decoration-color: #0087ff\">Lambda</span>)   │ (<span style=\"color: #00d7ff; text-decoration-color: #00d7ff\">None</span>, <span style=\"color: #00af00; text-decoration-color: #00af00\">16</span>)        │          <span style=\"color: #00af00; text-decoration-color: #00af00\">0</span> │ defense_slice[<span style=\"color: #00af00; text-decoration-color: #00af00\">0</span>]… │\n",
       "├─────────────────────┼───────────────────┼────────────┼───────────────────┤\n",
       "│ concat              │ (<span style=\"color: #00d7ff; text-decoration-color: #00d7ff\">None</span>, <span style=\"color: #00af00; text-decoration-color: #00af00\">32</span>)        │          <span style=\"color: #00af00; text-decoration-color: #00af00\">0</span> │ off_mean[<span style=\"color: #00af00; text-decoration-color: #00af00\">0</span>][<span style=\"color: #00af00; text-decoration-color: #00af00\">0</span>],   │\n",
       "│ (<span style=\"color: #0087ff; text-decoration-color: #0087ff\">Concatenate</span>)       │                   │            │ def_mean[<span style=\"color: #00af00; text-decoration-color: #00af00\">0</span>][<span style=\"color: #00af00; text-decoration-color: #00af00\">0</span>]    │\n",
       "├─────────────────────┼───────────────────┼────────────┼───────────────────┤\n",
       "│ hidden (<span style=\"color: #0087ff; text-decoration-color: #0087ff\">Dense</span>)      │ (<span style=\"color: #00d7ff; text-decoration-color: #00d7ff\">None</span>, <span style=\"color: #00af00; text-decoration-color: #00af00\">128</span>)       │      <span style=\"color: #00af00; text-decoration-color: #00af00\">4,224</span> │ concat[<span style=\"color: #00af00; text-decoration-color: #00af00\">0</span>][<span style=\"color: #00af00; text-decoration-color: #00af00\">0</span>]      │\n",
       "├─────────────────────┼───────────────────┼────────────┼───────────────────┤\n",
       "│ main_out (<span style=\"color: #0087ff; text-decoration-color: #0087ff\">Dense</span>)    │ (<span style=\"color: #00d7ff; text-decoration-color: #00d7ff\">None</span>, <span style=\"color: #00af00; text-decoration-color: #00af00\">14</span>)        │      <span style=\"color: #00af00; text-decoration-color: #00af00\">1,806</span> │ hidden[<span style=\"color: #00af00; text-decoration-color: #00af00\">0</span>][<span style=\"color: #00af00; text-decoration-color: #00af00\">0</span>]      │\n",
       "├─────────────────────┼───────────────────┼────────────┼───────────────────┤\n",
       "│ second_chance_out   │ (<span style=\"color: #00d7ff; text-decoration-color: #00d7ff\">None</span>, <span style=\"color: #00af00; text-decoration-color: #00af00\">1</span>)         │        <span style=\"color: #00af00; text-decoration-color: #00af00\">129</span> │ hidden[<span style=\"color: #00af00; text-decoration-color: #00af00\">0</span>][<span style=\"color: #00af00; text-decoration-color: #00af00\">0</span>]      │\n",
       "│ (<span style=\"color: #0087ff; text-decoration-color: #0087ff\">Dense</span>)             │                   │            │                   │\n",
       "└─────────────────────┴───────────────────┴────────────┴───────────────────┘\n",
       "</pre>\n"
      ],
      "text/plain": [
       "┏━━━━━━━━━━━━━━━━━━━━━┳━━━━━━━━━━━━━━━━━━━┳━━━━━━━━━━━━┳━━━━━━━━━━━━━━━━━━━┓\n",
       "┃\u001b[1m \u001b[0m\u001b[1mLayer (type)       \u001b[0m\u001b[1m \u001b[0m┃\u001b[1m \u001b[0m\u001b[1mOutput Shape     \u001b[0m\u001b[1m \u001b[0m┃\u001b[1m \u001b[0m\u001b[1m   Param #\u001b[0m\u001b[1m \u001b[0m┃\u001b[1m \u001b[0m\u001b[1mConnected to     \u001b[0m\u001b[1m \u001b[0m┃\n",
       "┡━━━━━━━━━━━━━━━━━━━━━╇━━━━━━━━━━━━━━━━━━━╇━━━━━━━━━━━━╇━━━━━━━━━━━━━━━━━━━┩\n",
       "│ players_input       │ (\u001b[38;5;45mNone\u001b[0m, \u001b[38;5;34m10\u001b[0m)        │          \u001b[38;5;34m0\u001b[0m │ -                 │\n",
       "│ (\u001b[38;5;33mInputLayer\u001b[0m)        │                   │            │                   │\n",
       "├─────────────────────┼───────────────────┼────────────┼───────────────────┤\n",
       "│ player_embedding    │ (\u001b[38;5;45mNone\u001b[0m, \u001b[38;5;34m10\u001b[0m, \u001b[38;5;34m16\u001b[0m)    │     \u001b[38;5;34m24,688\u001b[0m │ players_input[\u001b[38;5;34m0\u001b[0m]… │\n",
       "│ (\u001b[38;5;33mEmbedding\u001b[0m)         │                   │            │                   │\n",
       "├─────────────────────┼───────────────────┼────────────┼───────────────────┤\n",
       "│ multi_head_attenti… │ (\u001b[38;5;45mNone\u001b[0m, \u001b[38;5;34m10\u001b[0m, \u001b[38;5;34m16\u001b[0m)    │      \u001b[38;5;34m2,160\u001b[0m │ player_embedding… │\n",
       "│ (\u001b[38;5;33mMultiHeadAttentio…\u001b[0m │                   │            │ player_embedding… │\n",
       "├─────────────────────┼───────────────────┼────────────┼───────────────────┤\n",
       "│ dropout_13          │ (\u001b[38;5;45mNone\u001b[0m, \u001b[38;5;34m10\u001b[0m, \u001b[38;5;34m16\u001b[0m)    │          \u001b[38;5;34m0\u001b[0m │ multi_head_atten… │\n",
       "│ (\u001b[38;5;33mDropout\u001b[0m)           │                   │            │                   │\n",
       "├─────────────────────┼───────────────────┼────────────┼───────────────────┤\n",
       "│ add_8 (\u001b[38;5;33mAdd\u001b[0m)         │ (\u001b[38;5;45mNone\u001b[0m, \u001b[38;5;34m10\u001b[0m, \u001b[38;5;34m16\u001b[0m)    │          \u001b[38;5;34m0\u001b[0m │ player_embedding… │\n",
       "│                     │                   │            │ dropout_13[\u001b[38;5;34m0\u001b[0m][\u001b[38;5;34m0\u001b[0m]  │\n",
       "├─────────────────────┼───────────────────┼────────────┼───────────────────┤\n",
       "│ layer_normalizatio… │ (\u001b[38;5;45mNone\u001b[0m, \u001b[38;5;34m10\u001b[0m, \u001b[38;5;34m16\u001b[0m)    │         \u001b[38;5;34m32\u001b[0m │ add_8[\u001b[38;5;34m0\u001b[0m][\u001b[38;5;34m0\u001b[0m]       │\n",
       "│ (\u001b[38;5;33mLayerNormalizatio…\u001b[0m │                   │            │                   │\n",
       "├─────────────────────┼───────────────────┼────────────┼───────────────────┤\n",
       "│ dense_8 (\u001b[38;5;33mDense\u001b[0m)     │ (\u001b[38;5;45mNone\u001b[0m, \u001b[38;5;34m10\u001b[0m, \u001b[38;5;34m32\u001b[0m)    │        \u001b[38;5;34m544\u001b[0m │ layer_normalizat… │\n",
       "├─────────────────────┼───────────────────┼────────────┼───────────────────┤\n",
       "│ dense_9 (\u001b[38;5;33mDense\u001b[0m)     │ (\u001b[38;5;45mNone\u001b[0m, \u001b[38;5;34m10\u001b[0m, \u001b[38;5;34m16\u001b[0m)    │        \u001b[38;5;34m528\u001b[0m │ dense_8[\u001b[38;5;34m0\u001b[0m][\u001b[38;5;34m0\u001b[0m]     │\n",
       "├─────────────────────┼───────────────────┼────────────┼───────────────────┤\n",
       "│ dropout_14          │ (\u001b[38;5;45mNone\u001b[0m, \u001b[38;5;34m10\u001b[0m, \u001b[38;5;34m16\u001b[0m)    │          \u001b[38;5;34m0\u001b[0m │ dense_9[\u001b[38;5;34m0\u001b[0m][\u001b[38;5;34m0\u001b[0m]     │\n",
       "│ (\u001b[38;5;33mDropout\u001b[0m)           │                   │            │                   │\n",
       "├─────────────────────┼───────────────────┼────────────┼───────────────────┤\n",
       "│ add_9 (\u001b[38;5;33mAdd\u001b[0m)         │ (\u001b[38;5;45mNone\u001b[0m, \u001b[38;5;34m10\u001b[0m, \u001b[38;5;34m16\u001b[0m)    │          \u001b[38;5;34m0\u001b[0m │ layer_normalizat… │\n",
       "│                     │                   │            │ dropout_14[\u001b[38;5;34m0\u001b[0m][\u001b[38;5;34m0\u001b[0m]  │\n",
       "├─────────────────────┼───────────────────┼────────────┼───────────────────┤\n",
       "│ layer_normalizatio… │ (\u001b[38;5;45mNone\u001b[0m, \u001b[38;5;34m10\u001b[0m, \u001b[38;5;34m16\u001b[0m)    │         \u001b[38;5;34m32\u001b[0m │ add_9[\u001b[38;5;34m0\u001b[0m][\u001b[38;5;34m0\u001b[0m]       │\n",
       "│ (\u001b[38;5;33mLayerNormalizatio…\u001b[0m │                   │            │                   │\n",
       "├─────────────────────┼───────────────────┼────────────┼───────────────────┤\n",
       "│ offense_slice       │ (\u001b[38;5;45mNone\u001b[0m, \u001b[38;5;34m5\u001b[0m, \u001b[38;5;34m16\u001b[0m)     │          \u001b[38;5;34m0\u001b[0m │ layer_normalizat… │\n",
       "│ (\u001b[38;5;33mLambda\u001b[0m)            │                   │            │                   │\n",
       "├─────────────────────┼───────────────────┼────────────┼───────────────────┤\n",
       "│ defense_slice       │ (\u001b[38;5;45mNone\u001b[0m, \u001b[38;5;34m5\u001b[0m, \u001b[38;5;34m16\u001b[0m)     │          \u001b[38;5;34m0\u001b[0m │ layer_normalizat… │\n",
       "│ (\u001b[38;5;33mLambda\u001b[0m)            │                   │            │                   │\n",
       "├─────────────────────┼───────────────────┼────────────┼───────────────────┤\n",
       "│ off_mean (\u001b[38;5;33mLambda\u001b[0m)   │ (\u001b[38;5;45mNone\u001b[0m, \u001b[38;5;34m16\u001b[0m)        │          \u001b[38;5;34m0\u001b[0m │ offense_slice[\u001b[38;5;34m0\u001b[0m]… │\n",
       "├─────────────────────┼───────────────────┼────────────┼───────────────────┤\n",
       "│ def_mean (\u001b[38;5;33mLambda\u001b[0m)   │ (\u001b[38;5;45mNone\u001b[0m, \u001b[38;5;34m16\u001b[0m)        │          \u001b[38;5;34m0\u001b[0m │ defense_slice[\u001b[38;5;34m0\u001b[0m]… │\n",
       "├─────────────────────┼───────────────────┼────────────┼───────────────────┤\n",
       "│ concat              │ (\u001b[38;5;45mNone\u001b[0m, \u001b[38;5;34m32\u001b[0m)        │          \u001b[38;5;34m0\u001b[0m │ off_mean[\u001b[38;5;34m0\u001b[0m][\u001b[38;5;34m0\u001b[0m],   │\n",
       "│ (\u001b[38;5;33mConcatenate\u001b[0m)       │                   │            │ def_mean[\u001b[38;5;34m0\u001b[0m][\u001b[38;5;34m0\u001b[0m]    │\n",
       "├─────────────────────┼───────────────────┼────────────┼───────────────────┤\n",
       "│ hidden (\u001b[38;5;33mDense\u001b[0m)      │ (\u001b[38;5;45mNone\u001b[0m, \u001b[38;5;34m128\u001b[0m)       │      \u001b[38;5;34m4,224\u001b[0m │ concat[\u001b[38;5;34m0\u001b[0m][\u001b[38;5;34m0\u001b[0m]      │\n",
       "├─────────────────────┼───────────────────┼────────────┼───────────────────┤\n",
       "│ main_out (\u001b[38;5;33mDense\u001b[0m)    │ (\u001b[38;5;45mNone\u001b[0m, \u001b[38;5;34m14\u001b[0m)        │      \u001b[38;5;34m1,806\u001b[0m │ hidden[\u001b[38;5;34m0\u001b[0m][\u001b[38;5;34m0\u001b[0m]      │\n",
       "├─────────────────────┼───────────────────┼────────────┼───────────────────┤\n",
       "│ second_chance_out   │ (\u001b[38;5;45mNone\u001b[0m, \u001b[38;5;34m1\u001b[0m)         │        \u001b[38;5;34m129\u001b[0m │ hidden[\u001b[38;5;34m0\u001b[0m][\u001b[38;5;34m0\u001b[0m]      │\n",
       "│ (\u001b[38;5;33mDense\u001b[0m)             │                   │            │                   │\n",
       "└─────────────────────┴───────────────────┴────────────┴───────────────────┘\n"
      ]
     },
     "metadata": {},
     "output_type": "display_data"
    },
    {
     "data": {
      "text/html": [
       "<pre style=\"white-space:pre;overflow-x:auto;line-height:normal;font-family:Menlo,'DejaVu Sans Mono',consolas,'Courier New',monospace\"><span style=\"font-weight: bold\"> Total params: </span><span style=\"color: #00af00; text-decoration-color: #00af00\">34,143</span> (133.37 KB)\n",
       "</pre>\n"
      ],
      "text/plain": [
       "\u001b[1m Total params: \u001b[0m\u001b[38;5;34m34,143\u001b[0m (133.37 KB)\n"
      ]
     },
     "metadata": {},
     "output_type": "display_data"
    },
    {
     "data": {
      "text/html": [
       "<pre style=\"white-space:pre;overflow-x:auto;line-height:normal;font-family:Menlo,'DejaVu Sans Mono',consolas,'Courier New',monospace\"><span style=\"font-weight: bold\"> Trainable params: </span><span style=\"color: #00af00; text-decoration-color: #00af00\">34,143</span> (133.37 KB)\n",
       "</pre>\n"
      ],
      "text/plain": [
       "\u001b[1m Trainable params: \u001b[0m\u001b[38;5;34m34,143\u001b[0m (133.37 KB)\n"
      ]
     },
     "metadata": {},
     "output_type": "display_data"
    },
    {
     "data": {
      "text/html": [
       "<pre style=\"white-space:pre;overflow-x:auto;line-height:normal;font-family:Menlo,'DejaVu Sans Mono',consolas,'Courier New',monospace\"><span style=\"font-weight: bold\"> Non-trainable params: </span><span style=\"color: #00af00; text-decoration-color: #00af00\">0</span> (0.00 B)\n",
       "</pre>\n"
      ],
      "text/plain": [
       "\u001b[1m Non-trainable params: \u001b[0m\u001b[38;5;34m0\u001b[0m (0.00 B)\n"
      ]
     },
     "metadata": {},
     "output_type": "display_data"
    },
    {
     "name": "stdout",
     "output_type": "stream",
     "text": [
      "Epoch 1/2\n",
      "Loading shard: split_data_parquet/train_000.parquet\n",
      "   2049/Unknown \u001b[1m13s\u001b[0m 6ms/step - loss: 2.6422 - main_out_accuracy: 0.3669 - main_out_loss: 2.2312 - second_chance_out_accuracy: 0.8571 - second_chance_out_loss: 0.4110Loading shard: split_data_parquet/train_001.parquet\n",
      "   4265/Unknown \u001b[1m25s\u001b[0m 6ms/step - loss: 2.6137 - main_out_accuracy: 0.3674 - main_out_loss: 2.2049 - second_chance_out_accuracy: 0.8584 - second_chance_out_loss: 0.4089Loading shard: split_data_parquet/train_002.parquet\n",
      "   6478/Unknown \u001b[1m38s\u001b[0m 6ms/step - loss: 2.6047 - main_out_accuracy: 0.3671 - main_out_loss: 2.1966 - second_chance_out_accuracy: 0.8589 - second_chance_out_loss: 0.4081Loading shard: split_data_parquet/train_003.parquet\n",
      "   8688/Unknown \u001b[1m50s\u001b[0m 6ms/step - loss: 2.6001 - main_out_accuracy: 0.3668 - main_out_loss: 2.1925 - second_chance_out_accuracy: 0.8591 - second_chance_out_loss: 0.4076Loading shard: split_data_parquet/train_004.parquet\n",
      "  10902/Unknown \u001b[1m63s\u001b[0m 6ms/step - loss: 2.5972 - main_out_accuracy: 0.3667 - main_out_loss: 2.1899 - second_chance_out_accuracy: 0.8593 - second_chance_out_loss: 0.4073Loading shard: split_data_parquet/train_005.parquet\n",
      "  13110/Unknown \u001b[1m75s\u001b[0m 6ms/step - loss: 2.5950 - main_out_accuracy: 0.3666 - main_out_loss: 2.1880 - second_chance_out_accuracy: 0.8595 - second_chance_out_loss: 0.4070Loading shard: split_data_parquet/train_006.parquet\n",
      "  15329/Unknown \u001b[1m88s\u001b[0m 6ms/step - loss: 2.5934 - main_out_accuracy: 0.3666 - main_out_loss: 2.1866 - second_chance_out_accuracy: 0.8596 - second_chance_out_loss: 0.4068Loading shard: split_data_parquet/train_007.parquet\n",
      "  17537/Unknown \u001b[1m100s\u001b[0m 6ms/step - loss: 2.5922 - main_out_accuracy: 0.3666 - main_out_loss: 2.1856 - second_chance_out_accuracy: 0.8596 - second_chance_out_loss: 0.4067Loading shard: split_data_parquet/train_008.parquet\n",
      "  19754/Unknown \u001b[1m114s\u001b[0m 6ms/step - loss: 2.5913 - main_out_accuracy: 0.3665 - main_out_loss: 2.1847 - second_chance_out_accuracy: 0.8597 - second_chance_out_loss: 0.4066Loading shard: split_data_parquet/train_009.parquet\n",
      "  22108/Unknown \u001b[1m127s\u001b[0m 6ms/step - loss: 2.5905 - main_out_accuracy: 0.3665 - main_out_loss: 2.1840 - second_chance_out_accuracy: 0.8597 - second_chance_out_loss: 0.4065Loading shard: split_data_parquet/val_000.parquet\n"
     ]
    },
    {
     "name": "stderr",
     "output_type": "stream",
     "text": [
      "/opt/anaconda3/envs/nba_capston/lib/python3.12/site-packages/keras/src/trainers/epoch_iterator.py:151: UserWarning: Your input ran out of data; interrupting training. Make sure that your dataset or generator can generate at least `steps_per_epoch * epochs` batches. You may need to use the `.repeat()` function when building your dataset.\n",
      "  self._interrupted_warning()\n"
     ]
    },
    {
     "name": "stdout",
     "output_type": "stream",
     "text": [
      "Loading shard: split_data_parquet/val_001.parquet\n",
      "\u001b[1m22126/22126\u001b[0m \u001b[32m━━━━━━━━━━━━━━━━━━━━\u001b[0m\u001b[37m\u001b[0m \u001b[1m140s\u001b[0m 6ms/step - loss: 2.5905 - main_out_accuracy: 0.3665 - main_out_loss: 2.1840 - second_chance_out_accuracy: 0.8597 - second_chance_out_loss: 0.4065 - val_loss: 2.5829 - val_main_out_accuracy: 0.3679 - val_main_out_loss: 2.1739 - val_second_chance_out_accuracy: 0.8582 - val_second_chance_out_loss: 0.4081\n",
      "Epoch 2/2\n"
     ]
    },
    {
     "name": "stderr",
     "output_type": "stream",
     "text": [
      "/opt/anaconda3/envs/nba_capston/lib/python3.12/site-packages/keras/src/trainers/epoch_iterator.py:151: UserWarning: Your input ran out of data; interrupting training. Make sure that your dataset or generator can generate at least `steps_per_epoch * epochs` batches. You may need to use the `.repeat()` function when building your dataset.\n",
      "  self._interrupted_warning()\n"
     ]
    },
    {
     "name": "stdout",
     "output_type": "stream",
     "text": [
      "Loading shard: split_data_parquet/train_000.parquet\n",
      "\u001b[1m 2051/22126\u001b[0m \u001b[32m━\u001b[0m\u001b[37m━━━━━━━━━━━━━━━━━━━\u001b[0m \u001b[1m1:53\u001b[0m 6ms/step - loss: 2.5778 - main_out_accuracy: 0.3706 - main_out_loss: 2.1693 - second_chance_out_accuracy: 0.8588 - second_chance_out_loss: 0.4085Loading shard: split_data_parquet/train_001.parquet\n",
      "\u001b[1m 4267/22126\u001b[0m \u001b[32m━━━\u001b[0m\u001b[37m━━━━━━━━━━━━━━━━━\u001b[0m \u001b[1m1:41\u001b[0m 6ms/step - loss: 2.5793 - main_out_accuracy: 0.3693 - main_out_loss: 2.1719 - second_chance_out_accuracy: 0.8593 - second_chance_out_loss: 0.4074Loading shard: split_data_parquet/train_002.parquet\n",
      "\u001b[1m 6474/22126\u001b[0m \u001b[32m━━━━━\u001b[0m\u001b[37m━━━━━━━━━━━━━━━\u001b[0m \u001b[1m1:28\u001b[0m 6ms/step - loss: 2.5807 - main_out_accuracy: 0.3684 - main_out_loss: 2.1737 - second_chance_out_accuracy: 0.8595 - second_chance_out_loss: 0.4070Loading shard: split_data_parquet/train_003.parquet\n",
      "\u001b[1m 8690/22126\u001b[0m \u001b[32m━━━━━━━\u001b[0m\u001b[37m━━━━━━━━━━━━━\u001b[0m \u001b[1m1:16\u001b[0m 6ms/step - loss: 2.5815 - main_out_accuracy: 0.3678 - main_out_loss: 2.1748 - second_chance_out_accuracy: 0.8596 - second_chance_out_loss: 0.4067Loading shard: split_data_parquet/train_004.parquet\n",
      "\u001b[1m10902/22126\u001b[0m \u001b[32m━━━━━━━━━\u001b[0m\u001b[37m━━━━━━━━━━━\u001b[0m \u001b[1m1:04\u001b[0m 6ms/step - loss: 2.5818 - main_out_accuracy: 0.3675 - main_out_loss: 2.1753 - second_chance_out_accuracy: 0.8597 - second_chance_out_loss: 0.4065Loading shard: split_data_parquet/train_005.parquet\n",
      "\u001b[1m13115/22126\u001b[0m \u001b[32m━━━━━━━━━━━\u001b[0m\u001b[37m━━━━━━━━━\u001b[0m \u001b[1m51s\u001b[0m 6ms/step - loss: 2.5820 - main_out_accuracy: 0.3673 - main_out_loss: 2.1756 - second_chance_out_accuracy: 0.8598 - second_chance_out_loss: 0.4064Loading shard: split_data_parquet/train_006.parquet\n",
      "\u001b[1m15326/22126\u001b[0m \u001b[32m━━━━━━━━━━━━━\u001b[0m\u001b[37m━━━━━━━\u001b[0m \u001b[1m39s\u001b[0m 6ms/step - loss: 2.5821 - main_out_accuracy: 0.3672 - main_out_loss: 2.1758 - second_chance_out_accuracy: 0.8599 - second_chance_out_loss: 0.4063Loading shard: split_data_parquet/train_007.parquet\n",
      "\u001b[1m17536/22126\u001b[0m \u001b[32m━━━━━━━━━━━━━━━\u001b[0m\u001b[37m━━━━━\u001b[0m \u001b[1m26s\u001b[0m 6ms/step - loss: 2.5821 - main_out_accuracy: 0.3671 - main_out_loss: 2.1760 - second_chance_out_accuracy: 0.8599 - second_chance_out_loss: 0.4062Loading shard: split_data_parquet/train_008.parquet\n",
      "\u001b[1m19748/22126\u001b[0m \u001b[32m━━━━━━━━━━━━━━━━━\u001b[0m\u001b[37m━━━\u001b[0m \u001b[1m13s\u001b[0m 6ms/step - loss: 2.5822 - main_out_accuracy: 0.3670 - main_out_loss: 2.1761 - second_chance_out_accuracy: 0.8599 - second_chance_out_loss: 0.4061Loading shard: split_data_parquet/train_009.parquet\n",
      "\u001b[1m22125/22126\u001b[0m \u001b[32m━━━━━━━━━━━━━━━━━━━\u001b[0m\u001b[37m━\u001b[0m \u001b[1m0s\u001b[0m 6ms/step - loss: 2.5822 - main_out_accuracy: 0.3670 - main_out_loss: 2.1761 - second_chance_out_accuracy: 0.8599 - second_chance_out_loss: 0.4061Loading shard: split_data_parquet/val_000.parquet\n"
     ]
    },
    {
     "name": "stderr",
     "output_type": "stream",
     "text": [
      "/opt/anaconda3/envs/nba_capston/lib/python3.12/site-packages/keras/src/trainers/epoch_iterator.py:151: UserWarning: Your input ran out of data; interrupting training. Make sure that your dataset or generator can generate at least `steps_per_epoch * epochs` batches. You may need to use the `.repeat()` function when building your dataset.\n",
      "  self._interrupted_warning()\n"
     ]
    },
    {
     "name": "stdout",
     "output_type": "stream",
     "text": [
      "Loading shard: split_data_parquet/val_001.parquet\n",
      "\u001b[1m22126/22126\u001b[0m \u001b[32m━━━━━━━━━━━━━━━━━━━━\u001b[0m\u001b[37m\u001b[0m \u001b[1m140s\u001b[0m 6ms/step - loss: 2.5822 - main_out_accuracy: 0.3670 - main_out_loss: 2.1761 - second_chance_out_accuracy: 0.8599 - second_chance_out_loss: 0.4061 - val_loss: 2.5849 - val_main_out_accuracy: 0.3679 - val_main_out_loss: 2.1759 - val_second_chance_out_accuracy: 0.8582 - val_second_chance_out_loss: 0.4081\n"
     ]
    },
    {
     "name": "stderr",
     "output_type": "stream",
     "text": [
      "/opt/anaconda3/envs/nba_capston/lib/python3.12/site-packages/keras/src/trainers/epoch_iterator.py:151: UserWarning: Your input ran out of data; interrupting training. Make sure that your dataset or generator can generate at least `steps_per_epoch * epochs` batches. You may need to use the `.repeat()` function when building your dataset.\n",
      "  self._interrupted_warning()\n"
     ]
    },
    {
     "name": "stdout",
     "output_type": "stream",
     "text": [
      "Loading shard: split_data_parquet/test_000.parquet\n",
      "   1218/Unknown \u001b[1m6s\u001b[0m 5ms/step - loss: 2.5840 - main_out_accuracy: 0.3662 - main_out_loss: 2.1754 - second_chance_out_accuracy: 0.8580 - second_chance_out_loss: 0.4086Loading shard: split_data_parquet/test_001.parquet\n",
      "\u001b[1m2766/2766\u001b[0m \u001b[32m━━━━━━━━━━━━━━━━━━━━\u001b[0m\u001b[37m\u001b[0m \u001b[1m14s\u001b[0m 5ms/step - loss: 2.5827 - main_out_accuracy: 0.3667 - main_out_loss: 2.1757 - second_chance_out_accuracy: 0.8589 - second_chance_out_loss: 0.4070\n"
     ]
    },
    {
     "name": "stderr",
     "output_type": "stream",
     "text": [
      "/opt/anaconda3/envs/nba_capston/lib/python3.12/site-packages/keras/src/trainers/epoch_iterator.py:151: UserWarning: Your input ran out of data; interrupting training. Make sure that your dataset or generator can generate at least `steps_per_epoch * epochs` batches. You may need to use the `.repeat()` function when building your dataset.\n",
      "  self._interrupted_warning()\n"
     ]
    },
    {
     "data": {
      "text/plain": [
       "[2.581179141998291,\n",
       " 2.175349712371826,\n",
       " 0.40490540862083435,\n",
       " 0.3672352135181427,\n",
       " 0.8599838614463806]"
      ]
     },
     "execution_count": 10,
     "metadata": {},
     "output_type": "execute_result"
    }
   ],
   "source": [
    "import tensorflow as tf\n",
    "from tensorflow.keras import layers, Model, Input\n",
    "import os\n",
    "import pandas as pd\n",
    "import numpy as np\n",
    "from tensorflow.keras.optimizers import Adam\n",
    "\n",
    "##############################################\n",
    "# Parameters & Setup\n",
    "##############################################\n",
    "seq_len = 10\n",
    "embedding_dim = 8\n",
    "batch_size = 64\n",
    "data_dir = 'split_data_parquet'\n",
    "\n",
    "player_columns = [\n",
    "    \"OFF_PLAYER1_ID\", \"OFF_PLAYER2_ID\", \"OFF_PLAYER3_ID\", \"OFF_PLAYER4_ID\", \"OFF_PLAYER5_ID\",\n",
    "    \"DEF_PLAYER1_ID\", \"DEF_PLAYER2_ID\", \"DEF_PLAYER3_ID\", \"DEF_PLAYER4_ID\", \"DEF_PLAYER5_ID\"\n",
    "]\n",
    "\n",
    "main_out_column = \"OUTCOME\"\n",
    "second_chance_column = \"SECOND_CHANCE\"\n",
    "unwanted_cols = [\"SHOOTER_ID\",\"ASSISTER_ID\",\"BLOCKER_ID\",\"STEALER_ID\",\"REBOUNDER_ID\",\"TURNOVER_ID\"]\n",
    "\n",
    "# Identify shard files\n",
    "train_files = sorted([os.path.join(data_dir, f) for f in os.listdir(data_dir) if f.startswith('train_') and f.endswith('.parquet')])\n",
    "val_files = sorted([os.path.join(data_dir, f) for f in os.listdir(data_dir) if f.startswith('val_') and f.endswith('.parquet')])\n",
    "test_files = sorted([os.path.join(data_dir, f) for f in os.listdir(data_dir) if f.startswith('test_') and f.endswith('.parquet')])\n",
    "\n",
    "##############################################\n",
    "# Build Player ID Mapping\n",
    "##############################################\n",
    "def gather_unique_player_ids(files, player_cols):\n",
    "    unique_ids = set()\n",
    "    for fpath in files:\n",
    "        print(f\"Scanning file for unique IDs: {fpath}\")\n",
    "        df = pd.read_parquet(fpath, columns=player_cols)  # load only player columns for efficiency\n",
    "        df = df.dropna(subset=player_cols)\n",
    "        for col in player_cols:\n",
    "            unique_ids.update(df[col].dropna().astype(int).unique())\n",
    "    return unique_ids\n",
    "\n",
    "all_files = train_files + val_files + test_files\n",
    "all_unique_ids = gather_unique_player_ids(all_files, player_columns)\n",
    "\n",
    "unique_players = np.sort(list(all_unique_ids))\n",
    "player_to_index = {p: i for i, p in enumerate(unique_players)}\n",
    "v = len(unique_players)\n",
    "print(f\"Number of unique players: {v}\")\n",
    "print(\"Example mapping:\", list(player_to_index.items())[:10])\n",
    "\n",
    "##############################################\n",
    "# Transformer Encoder Block Definition\n",
    "##############################################\n",
    "def transformer_encoder(inputs, num_heads=2, ff_dim=32, dropout_rate=0.1):\n",
    "    # Multi-Head Attention\n",
    "    attn_output = layers.MultiHeadAttention(num_heads=num_heads, key_dim=embedding_dim)(inputs, inputs)\n",
    "    attn_output = layers.Dropout(dropout_rate)(attn_output)\n",
    "    # Add & Norm\n",
    "    out1 = layers.LayerNormalization(epsilon=1e-6)(inputs + attn_output)\n",
    "\n",
    "    # Feed-forward network\n",
    "    ffn = layers.Dense(ff_dim, activation='relu')(out1)\n",
    "    ffn = layers.Dense(embedding_dim)(ffn)\n",
    "    ffn = layers.Dropout(dropout_rate)(ffn)\n",
    "    # Add & Norm\n",
    "    out2 = layers.LayerNormalization(epsilon=1e-6)(out1 + ffn)\n",
    "    return out2\n",
    "\n",
    "##############################################\n",
    "# Model Definition Using Embeddings + Transformer\n",
    "##############################################\n",
    "input_players = Input(shape=(seq_len,), dtype='int32', name='players_input')\n",
    "player_embedding = layers.Embedding(input_dim=v, output_dim=embedding_dim, name='player_embedding')(input_players)\n",
    "\n",
    "# Apply a Transformer encoder block\n",
    "x = transformer_encoder(player_embedding, num_heads=2, ff_dim=32, dropout_rate=0.1)\n",
    "\n",
    "# Slice into offense and defense\n",
    "offense_emb = layers.Lambda(lambda t: t[:, :5, :], name='offense_slice')(x)\n",
    "defense_emb = layers.Lambda(lambda t: t[:, 5:, :], name='defense_slice')(x)\n",
    "\n",
    "# Average embeddings over the 5 offensive and 5 defensive players\n",
    "off_mean = layers.Lambda(lambda t: tf.reduce_mean(t, axis=1), name='off_mean')(offense_emb)\n",
    "def_mean = layers.Lambda(lambda t: tf.reduce_mean(t, axis=1), name='def_mean')(defense_emb)\n",
    "\n",
    "# Concatenate offensive and defensive mean embeddings\n",
    "concat = layers.Concatenate(name='concat')([off_mean, def_mean])\n",
    "\n",
    "# Hidden layer\n",
    "hidden = layers.Dense(128, activation='relu', name='hidden')(concat)\n",
    "\n",
    "# Final outputs\n",
    "main_out = layers.Dense(14, activation='softmax', name='main_out')(hidden)\n",
    "second_chance_out = layers.Dense(1, activation='sigmoid', name='second_chance_out')(hidden)\n",
    "\n",
    "optimizer = Adam(learning_rate=0.1)\n",
    "model = Model(inputs=input_players, outputs=[main_out, second_chance_out])\n",
    "model.compile(\n",
    "    optimizer=optimizer,\n",
    "    loss={\n",
    "        'main_out': 'categorical_crossentropy',\n",
    "        'second_chance_out': 'binary_crossentropy'\n",
    "    },\n",
    "    metrics={\n",
    "        'main_out': 'accuracy',\n",
    "        'second_chance_out': 'accuracy'\n",
    "    }\n",
    ")\n",
    "\n",
    "model.summary()\n",
    "\n",
    "##############################################\n",
    "# Utility Functions for tf.data Pipeline\n",
    "##############################################\n",
    "def shard_generator(file_list, main_col, sc_col, mapping):\n",
    "    \"\"\"\n",
    "    Yields individual samples (X, (y_main, y_sc)) from shard files.\n",
    "    Applies player_to_index mapping to ensure IDs are in [0, v-1].\n",
    "    \"\"\"\n",
    "    for fpath in file_list:\n",
    "        print(f\"Loading shard: {fpath}\")\n",
    "        df = pd.read_parquet(fpath)\n",
    "\n",
    "        # Drop rows with NaNs in player columns\n",
    "        df = df.dropna(subset=player_columns)\n",
    "\n",
    "        # Convert players to int\n",
    "        for col in player_columns:\n",
    "            df[col] = pd.to_numeric(df[col], errors='coerce').fillna(0).astype(int)\n",
    "\n",
    "        # Drop unwanted columns\n",
    "        for c in unwanted_cols:\n",
    "            if c in df.columns:\n",
    "                df.drop(columns=c, inplace=True)\n",
    "\n",
    "        # One-hot the outcome column\n",
    "        categories = sorted(df[main_col].unique())\n",
    "        cat_to_idx = {cat: i for i, cat in enumerate(categories)}\n",
    "\n",
    "        num_samples = len(df)\n",
    "        y_main = np.zeros((num_samples, 14), dtype='float32')\n",
    "        for i, val in enumerate(df[main_col]):\n",
    "            class_idx = cat_to_idx[val]\n",
    "            y_main[i, class_idx] = 1.0\n",
    "\n",
    "        y_sc = df[sc_col].astype(int).values.reshape(-1, 1)\n",
    "\n",
    "        # Drop target columns\n",
    "        df.drop(columns=[main_col, sc_col], inplace=True)\n",
    "\n",
    "        # Map player IDs\n",
    "        for c in player_columns:\n",
    "            df[c] = df[c].map(mapping)\n",
    "\n",
    "        X = df[player_columns].values.astype(np.int32)\n",
    "\n",
    "        # Yield each sample\n",
    "        for i in range(num_samples):\n",
    "            yield X[i], (y_main[i], y_sc[i])\n",
    "\n",
    "def create_dataset(file_list, main_col, sc_col, batch_size, mapping, shuffle_buffer=10000):\n",
    "    ds = tf.data.Dataset.from_generator(\n",
    "        lambda: shard_generator(file_list, main_col, sc_col, mapping),\n",
    "        output_types=(tf.int32, (tf.float32, tf.float32)),\n",
    "        output_shapes=((seq_len,), ((14,), (1,)))\n",
    "    )\n",
    "\n",
    "    ds = ds.shuffle(shuffle_buffer)\n",
    "    ds = ds.batch(batch_size)\n",
    "    ds = ds.prefetch(tf.data.AUTOTUNE)\n",
    "    return ds\n",
    "\n",
    "##############################################\n",
    "# Create Datasets using mapping\n",
    "##############################################\n",
    "train_ds = create_dataset(train_files, main_out_column, second_chance_column, batch_size, player_to_index)\n",
    "val_ds = create_dataset(val_files, main_out_column, second_chance_column, batch_size, player_to_index)\n",
    "test_ds = create_dataset(test_files, main_out_column, second_chance_column, batch_size, player_to_index)\n",
    "\n",
    "##############################################\n",
    "# Training with tf.data\n",
    "##############################################\n",
    "model.fit(\n",
    "    train_ds,\n",
    "    validation_data=val_ds,\n",
    "    epochs=2\n",
    ")\n",
    "\n",
    "##############################################\n",
    "# Evaluation\n",
    "##############################################\n",
    "model.evaluate(test_ds)"
   ]
  },
  {
   "cell_type": "markdown",
   "metadata": {},
   "source": [
    "### generate model graph"
   ]
  },
  {
   "cell_type": "code",
   "execution_count": 3,
   "metadata": {},
   "outputs": [
    {
     "data": {
      "image/png": "[encoded data removed]",
      "text/plain": [
       "<IPython.core.display.Image object>"
      ]
     },
     "execution_count": 3,
     "metadata": {},
     "output_type": "execute_result"
    }
   ],
   "source": [
    "from tensorflow.keras.utils import plot_model\n",
    "\n",
    "# Assuming 'model' is your Keras model\n",
    "plot_model(model, to_file='model.png', show_shapes=True, show_layer_names=True)"
   ]
  },
  {
   "cell_type": "code",
   "execution_count": 13,
   "metadata": {},
   "outputs": [
    {
     "data": {
      "text/html": [
       "<pre style=\"white-space:pre;overflow-x:auto;line-height:normal;font-family:Menlo,'DejaVu Sans Mono',consolas,'Courier New',monospace\"><span style=\"font-weight: bold\">Model: \"functional_10\"</span>\n",
       "</pre>\n"
      ],
      "text/plain": [
       "\u001b[1mModel: \"functional_10\"\u001b[0m\n"
      ]
     },
     "metadata": {},
     "output_type": "display_data"
    },
    {
     "data": {
      "text/html": [
       "<pre style=\"white-space:pre;overflow-x:auto;line-height:normal;font-family:Menlo,'DejaVu Sans Mono',consolas,'Courier New',monospace\">┏━━━━━━━━━━━━━━━━━━━━━┳━━━━━━━━━━━━━━━━━━━┳━━━━━━━━━━━━┳━━━━━━━━━━━━━━━━━━━┓\n",
       "┃<span style=\"font-weight: bold\"> Layer (type)        </span>┃<span style=\"font-weight: bold\"> Output Shape      </span>┃<span style=\"font-weight: bold\">    Param # </span>┃<span style=\"font-weight: bold\"> Connected to      </span>┃\n",
       "┡━━━━━━━━━━━━━━━━━━━━━╇━━━━━━━━━━━━━━━━━━━╇━━━━━━━━━━━━╇━━━━━━━━━━━━━━━━━━━┩\n",
       "│ players_input       │ (<span style=\"color: #00d7ff; text-decoration-color: #00d7ff\">None</span>, <span style=\"color: #00af00; text-decoration-color: #00af00\">10</span>)        │          <span style=\"color: #00af00; text-decoration-color: #00af00\">0</span> │ -                 │\n",
       "│ (<span style=\"color: #0087ff; text-decoration-color: #0087ff\">InputLayer</span>)        │                   │            │                   │\n",
       "├─────────────────────┼───────────────────┼────────────┼───────────────────┤\n",
       "│ player_embedding    │ (<span style=\"color: #00d7ff; text-decoration-color: #00d7ff\">None</span>, <span style=\"color: #00af00; text-decoration-color: #00af00\">10</span>, <span style=\"color: #00af00; text-decoration-color: #00af00\">64</span>)    │     <span style=\"color: #00af00; text-decoration-color: #00af00\">98,752</span> │ players_input[<span style=\"color: #00af00; text-decoration-color: #00af00\">0</span>]… │\n",
       "│ (<span style=\"color: #0087ff; text-decoration-color: #0087ff\">Embedding</span>)         │                   │            │                   │\n",
       "├─────────────────────┼───────────────────┼────────────┼───────────────────┤\n",
       "│ offense_slice       │ (<span style=\"color: #00d7ff; text-decoration-color: #00d7ff\">None</span>, <span style=\"color: #00af00; text-decoration-color: #00af00\">5</span>, <span style=\"color: #00af00; text-decoration-color: #00af00\">64</span>)     │          <span style=\"color: #00af00; text-decoration-color: #00af00\">0</span> │ player_embedding… │\n",
       "│ (<span style=\"color: #0087ff; text-decoration-color: #0087ff\">Lambda</span>)            │                   │            │                   │\n",
       "├─────────────────────┼───────────────────┼────────────┼───────────────────┤\n",
       "│ defense_slice       │ (<span style=\"color: #00d7ff; text-decoration-color: #00d7ff\">None</span>, <span style=\"color: #00af00; text-decoration-color: #00af00\">5</span>, <span style=\"color: #00af00; text-decoration-color: #00af00\">64</span>)     │          <span style=\"color: #00af00; text-decoration-color: #00af00\">0</span> │ player_embedding… │\n",
       "│ (<span style=\"color: #0087ff; text-decoration-color: #0087ff\">Lambda</span>)            │                   │            │                   │\n",
       "├─────────────────────┼───────────────────┼────────────┼───────────────────┤\n",
       "│ off_mean (<span style=\"color: #0087ff; text-decoration-color: #0087ff\">Lambda</span>)   │ (<span style=\"color: #00d7ff; text-decoration-color: #00d7ff\">None</span>, <span style=\"color: #00af00; text-decoration-color: #00af00\">64</span>)        │          <span style=\"color: #00af00; text-decoration-color: #00af00\">0</span> │ offense_slice[<span style=\"color: #00af00; text-decoration-color: #00af00\">0</span>]… │\n",
       "├─────────────────────┼───────────────────┼────────────┼───────────────────┤\n",
       "│ def_mean (<span style=\"color: #0087ff; text-decoration-color: #0087ff\">Lambda</span>)   │ (<span style=\"color: #00d7ff; text-decoration-color: #00d7ff\">None</span>, <span style=\"color: #00af00; text-decoration-color: #00af00\">64</span>)        │          <span style=\"color: #00af00; text-decoration-color: #00af00\">0</span> │ defense_slice[<span style=\"color: #00af00; text-decoration-color: #00af00\">0</span>]… │\n",
       "├─────────────────────┼───────────────────┼────────────┼───────────────────┤\n",
       "│ concat              │ (<span style=\"color: #00d7ff; text-decoration-color: #00d7ff\">None</span>, <span style=\"color: #00af00; text-decoration-color: #00af00\">128</span>)       │          <span style=\"color: #00af00; text-decoration-color: #00af00\">0</span> │ off_mean[<span style=\"color: #00af00; text-decoration-color: #00af00\">0</span>][<span style=\"color: #00af00; text-decoration-color: #00af00\">0</span>],   │\n",
       "│ (<span style=\"color: #0087ff; text-decoration-color: #0087ff\">Concatenate</span>)       │                   │            │ def_mean[<span style=\"color: #00af00; text-decoration-color: #00af00\">0</span>][<span style=\"color: #00af00; text-decoration-color: #00af00\">0</span>]    │\n",
       "├─────────────────────┼───────────────────┼────────────┼───────────────────┤\n",
       "│ hidden (<span style=\"color: #0087ff; text-decoration-color: #0087ff\">Dense</span>)      │ (<span style=\"color: #00d7ff; text-decoration-color: #00d7ff\">None</span>, <span style=\"color: #00af00; text-decoration-color: #00af00\">128</span>)       │     <span style=\"color: #00af00; text-decoration-color: #00af00\">16,512</span> │ concat[<span style=\"color: #00af00; text-decoration-color: #00af00\">0</span>][<span style=\"color: #00af00; text-decoration-color: #00af00\">0</span>]      │\n",
       "├─────────────────────┼───────────────────┼────────────┼───────────────────┤\n",
       "│ main_out (<span style=\"color: #0087ff; text-decoration-color: #0087ff\">Dense</span>)    │ (<span style=\"color: #00d7ff; text-decoration-color: #00d7ff\">None</span>, <span style=\"color: #00af00; text-decoration-color: #00af00\">14</span>)        │      <span style=\"color: #00af00; text-decoration-color: #00af00\">1,806</span> │ hidden[<span style=\"color: #00af00; text-decoration-color: #00af00\">0</span>][<span style=\"color: #00af00; text-decoration-color: #00af00\">0</span>]      │\n",
       "├─────────────────────┼───────────────────┼────────────┼───────────────────┤\n",
       "│ second_chance_out   │ (<span style=\"color: #00d7ff; text-decoration-color: #00d7ff\">None</span>, <span style=\"color: #00af00; text-decoration-color: #00af00\">1</span>)         │        <span style=\"color: #00af00; text-decoration-color: #00af00\">129</span> │ hidden[<span style=\"color: #00af00; text-decoration-color: #00af00\">0</span>][<span style=\"color: #00af00; text-decoration-color: #00af00\">0</span>]      │\n",
       "│ (<span style=\"color: #0087ff; text-decoration-color: #0087ff\">Dense</span>)             │                   │            │                   │\n",
       "└─────────────────────┴───────────────────┴────────────┴───────────────────┘\n",
       "</pre>\n"
      ],
      "text/plain": [
       "┏━━━━━━━━━━━━━━━━━━━━━┳━━━━━━━━━━━━━━━━━━━┳━━━━━━━━━━━━┳━━━━━━━━━━━━━━━━━━━┓\n",
       "┃\u001b[1m \u001b[0m\u001b[1mLayer (type)       \u001b[0m\u001b[1m \u001b[0m┃\u001b[1m \u001b[0m\u001b[1mOutput Shape     \u001b[0m\u001b[1m \u001b[0m┃\u001b[1m \u001b[0m\u001b[1m   Param #\u001b[0m\u001b[1m \u001b[0m┃\u001b[1m \u001b[0m\u001b[1mConnected to     \u001b[0m\u001b[1m \u001b[0m┃\n",
       "┡━━━━━━━━━━━━━━━━━━━━━╇━━━━━━━━━━━━━━━━━━━╇━━━━━━━━━━━━╇━━━━━━━━━━━━━━━━━━━┩\n",
       "│ players_input       │ (\u001b[38;5;45mNone\u001b[0m, \u001b[38;5;34m10\u001b[0m)        │          \u001b[38;5;34m0\u001b[0m │ -                 │\n",
       "│ (\u001b[38;5;33mInputLayer\u001b[0m)        │                   │            │                   │\n",
       "├─────────────────────┼───────────────────┼────────────┼───────────────────┤\n",
       "│ player_embedding    │ (\u001b[38;5;45mNone\u001b[0m, \u001b[38;5;34m10\u001b[0m, \u001b[38;5;34m64\u001b[0m)    │     \u001b[38;5;34m98,752\u001b[0m │ players_input[\u001b[38;5;34m0\u001b[0m]… │\n",
       "│ (\u001b[38;5;33mEmbedding\u001b[0m)         │                   │            │                   │\n",
       "├─────────────────────┼───────────────────┼────────────┼───────────────────┤\n",
       "│ offense_slice       │ (\u001b[38;5;45mNone\u001b[0m, \u001b[38;5;34m5\u001b[0m, \u001b[38;5;34m64\u001b[0m)     │          \u001b[38;5;34m0\u001b[0m │ player_embedding… │\n",
       "│ (\u001b[38;5;33mLambda\u001b[0m)            │                   │            │                   │\n",
       "├─────────────────────┼───────────────────┼────────────┼───────────────────┤\n",
       "│ defense_slice       │ (\u001b[38;5;45mNone\u001b[0m, \u001b[38;5;34m5\u001b[0m, \u001b[38;5;34m64\u001b[0m)     │          \u001b[38;5;34m0\u001b[0m │ player_embedding… │\n",
       "│ (\u001b[38;5;33mLambda\u001b[0m)            │                   │            │                   │\n",
       "├─────────────────────┼───────────────────┼────────────┼───────────────────┤\n",
       "│ off_mean (\u001b[38;5;33mLambda\u001b[0m)   │ (\u001b[38;5;45mNone\u001b[0m, \u001b[38;5;34m64\u001b[0m)        │          \u001b[38;5;34m0\u001b[0m │ offense_slice[\u001b[38;5;34m0\u001b[0m]… │\n",
       "├─────────────────────┼───────────────────┼────────────┼───────────────────┤\n",
       "│ def_mean (\u001b[38;5;33mLambda\u001b[0m)   │ (\u001b[38;5;45mNone\u001b[0m, \u001b[38;5;34m64\u001b[0m)        │          \u001b[38;5;34m0\u001b[0m │ defense_slice[\u001b[38;5;34m0\u001b[0m]… │\n",
       "├─────────────────────┼───────────────────┼────────────┼───────────────────┤\n",
       "│ concat              │ (\u001b[38;5;45mNone\u001b[0m, \u001b[38;5;34m128\u001b[0m)       │          \u001b[38;5;34m0\u001b[0m │ off_mean[\u001b[38;5;34m0\u001b[0m][\u001b[38;5;34m0\u001b[0m],   │\n",
       "│ (\u001b[38;5;33mConcatenate\u001b[0m)       │                   │            │ def_mean[\u001b[38;5;34m0\u001b[0m][\u001b[38;5;34m0\u001b[0m]    │\n",
       "├─────────────────────┼───────────────────┼────────────┼───────────────────┤\n",
       "│ hidden (\u001b[38;5;33mDense\u001b[0m)      │ (\u001b[38;5;45mNone\u001b[0m, \u001b[38;5;34m128\u001b[0m)       │     \u001b[38;5;34m16,512\u001b[0m │ concat[\u001b[38;5;34m0\u001b[0m][\u001b[38;5;34m0\u001b[0m]      │\n",
       "├─────────────────────┼───────────────────┼────────────┼───────────────────┤\n",
       "│ main_out (\u001b[38;5;33mDense\u001b[0m)    │ (\u001b[38;5;45mNone\u001b[0m, \u001b[38;5;34m14\u001b[0m)        │      \u001b[38;5;34m1,806\u001b[0m │ hidden[\u001b[38;5;34m0\u001b[0m][\u001b[38;5;34m0\u001b[0m]      │\n",
       "├─────────────────────┼───────────────────┼────────────┼───────────────────┤\n",
       "│ second_chance_out   │ (\u001b[38;5;45mNone\u001b[0m, \u001b[38;5;34m1\u001b[0m)         │        \u001b[38;5;34m129\u001b[0m │ hidden[\u001b[38;5;34m0\u001b[0m][\u001b[38;5;34m0\u001b[0m]      │\n",
       "│ (\u001b[38;5;33mDense\u001b[0m)             │                   │            │                   │\n",
       "└─────────────────────┴───────────────────┴────────────┴───────────────────┘\n"
      ]
     },
     "metadata": {},
     "output_type": "display_data"
    },
    {
     "data": {
      "text/html": [
       "<pre style=\"white-space:pre;overflow-x:auto;line-height:normal;font-family:Menlo,'DejaVu Sans Mono',consolas,'Courier New',monospace\"><span style=\"font-weight: bold\"> Total params: </span><span style=\"color: #00af00; text-decoration-color: #00af00\">351,599</span> (1.34 MB)\n",
       "</pre>\n"
      ],
      "text/plain": [
       "\u001b[1m Total params: \u001b[0m\u001b[38;5;34m351,599\u001b[0m (1.34 MB)\n"
      ]
     },
     "metadata": {},
     "output_type": "display_data"
    },
    {
     "data": {
      "text/html": [
       "<pre style=\"white-space:pre;overflow-x:auto;line-height:normal;font-family:Menlo,'DejaVu Sans Mono',consolas,'Courier New',monospace\"><span style=\"font-weight: bold\"> Trainable params: </span><span style=\"color: #00af00; text-decoration-color: #00af00\">117,199</span> (457.81 KB)\n",
       "</pre>\n"
      ],
      "text/plain": [
       "\u001b[1m Trainable params: \u001b[0m\u001b[38;5;34m117,199\u001b[0m (457.81 KB)\n"
      ]
     },
     "metadata": {},
     "output_type": "display_data"
    },
    {
     "data": {
      "text/html": [
       "<pre style=\"white-space:pre;overflow-x:auto;line-height:normal;font-family:Menlo,'DejaVu Sans Mono',consolas,'Courier New',monospace\"><span style=\"font-weight: bold\"> Non-trainable params: </span><span style=\"color: #00af00; text-decoration-color: #00af00\">0</span> (0.00 B)\n",
       "</pre>\n"
      ],
      "text/plain": [
       "\u001b[1m Non-trainable params: \u001b[0m\u001b[38;5;34m0\u001b[0m (0.00 B)\n"
      ]
     },
     "metadata": {},
     "output_type": "display_data"
    },
    {
     "data": {
      "text/html": [
       "<pre style=\"white-space:pre;overflow-x:auto;line-height:normal;font-family:Menlo,'DejaVu Sans Mono',consolas,'Courier New',monospace\"><span style=\"font-weight: bold\"> Optimizer params: </span><span style=\"color: #00af00; text-decoration-color: #00af00\">234,400</span> (915.63 KB)\n",
       "</pre>\n"
      ],
      "text/plain": [
       "\u001b[1m Optimizer params: \u001b[0m\u001b[38;5;34m234,400\u001b[0m (915.63 KB)\n"
      ]
     },
     "metadata": {},
     "output_type": "display_data"
    }
   ],
   "source": [
    "model.summary()"
   ]
  }
 ],
 "metadata": {
  "kernelspec": {
   "display_name": "nba_capston",
   "language": "python",
   "name": "python3"
  },
  "language_info": {
   "codemirror_mode": {
    "name": "ipython",
    "version": 3
   },
   "file_extension": ".py",
   "mimetype": "text/x-python",
   "name": "python",
   "nbconvert_exporter": "python",
   "pygments_lexer": "ipython3",
   "version": "3.12.7"
  }
 },
 "nbformat": 4,
 "nbformat_minor": 2
}
