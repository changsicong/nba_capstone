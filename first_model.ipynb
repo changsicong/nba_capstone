{
 "cells": [
  {
   "cell_type": "code",
   "execution_count": 56,
   "metadata": {},
   "outputs": [
    {
     "name": "stdout",
     "output_type": "stream",
     "text": [
      "Scanning file for unique IDs: split_data_parquet/train_000.parquet\n",
      "Scanning file for unique IDs: split_data_parquet/train_001.parquet\n",
      "Scanning file for unique IDs: split_data_parquet/train_002.parquet\n",
      "Scanning file for unique IDs: split_data_parquet/train_003.parquet\n",
      "Scanning file for unique IDs: split_data_parquet/train_004.parquet\n",
      "Scanning file for unique IDs: split_data_parquet/train_005.parquet\n",
      "Scanning file for unique IDs: split_data_parquet/train_006.parquet\n",
      "Scanning file for unique IDs: split_data_parquet/train_007.parquet\n",
      "Scanning file for unique IDs: split_data_parquet/train_008.parquet\n",
      "Scanning file for unique IDs: split_data_parquet/train_009.parquet\n",
      "Scanning file for unique IDs: split_data_parquet/val_000.parquet\n",
      "Scanning file for unique IDs: split_data_parquet/val_001.parquet\n",
      "Scanning file for unique IDs: split_data_parquet/test_000.parquet\n",
      "Scanning file for unique IDs: split_data_parquet/test_001.parquet\n",
      "Number of unique players: 961\n",
      "Example mapping: [(1713, 0), (2544, 1), (2546, 2), (2594, 3), (2730, 4), (2738, 5), (2772, 6), (101107, 7), (101108, 8), (101141, 9)]\n"
     ]
    },
    {
     "data": {
      "text/html": [
       "<pre style=\"white-space:pre;overflow-x:auto;line-height:normal;font-family:Menlo,'DejaVu Sans Mono',consolas,'Courier New',monospace\"><span style=\"font-weight: bold\">Model: \"functional_5\"</span>\n",
       "</pre>\n"
      ],
      "text/plain": [
       "\u001b[1mModel: \"functional_5\"\u001b[0m\n"
      ]
     },
     "metadata": {},
     "output_type": "display_data"
    },
    {
     "data": {
      "text/html": [
       "<pre style=\"white-space:pre;overflow-x:auto;line-height:normal;font-family:Menlo,'DejaVu Sans Mono',consolas,'Courier New',monospace\">┏━━━━━━━━━━━━━━━━━━━━━┳━━━━━━━━━━━━━━━━━━━┳━━━━━━━━━━━━┳━━━━━━━━━━━━━━━━━━━┓\n",
       "┃<span style=\"font-weight: bold\"> Layer (type)        </span>┃<span style=\"font-weight: bold\"> Output Shape      </span>┃<span style=\"font-weight: bold\">    Param # </span>┃<span style=\"font-weight: bold\"> Connected to      </span>┃\n",
       "┡━━━━━━━━━━━━━━━━━━━━━╇━━━━━━━━━━━━━━━━━━━╇━━━━━━━━━━━━╇━━━━━━━━━━━━━━━━━━━┩\n",
       "│ players_input       │ (<span style=\"color: #00d7ff; text-decoration-color: #00d7ff\">None</span>, <span style=\"color: #00af00; text-decoration-color: #00af00\">10</span>)        │          <span style=\"color: #00af00; text-decoration-color: #00af00\">0</span> │ -                 │\n",
       "│ (<span style=\"color: #0087ff; text-decoration-color: #0087ff\">InputLayer</span>)        │                   │            │                   │\n",
       "├─────────────────────┼───────────────────┼────────────┼───────────────────┤\n",
       "│ player_embedding    │ (<span style=\"color: #00d7ff; text-decoration-color: #00d7ff\">None</span>, <span style=\"color: #00af00; text-decoration-color: #00af00\">10</span>, <span style=\"color: #00af00; text-decoration-color: #00af00\">8</span>)     │      <span style=\"color: #00af00; text-decoration-color: #00af00\">7,688</span> │ players_input[<span style=\"color: #00af00; text-decoration-color: #00af00\">0</span>]… │\n",
       "│ (<span style=\"color: #0087ff; text-decoration-color: #0087ff\">Embedding</span>)         │                   │            │                   │\n",
       "├─────────────────────┼───────────────────┼────────────┼───────────────────┤\n",
       "│ offense_slice       │ (<span style=\"color: #00d7ff; text-decoration-color: #00d7ff\">None</span>, <span style=\"color: #00af00; text-decoration-color: #00af00\">5</span>, <span style=\"color: #00af00; text-decoration-color: #00af00\">8</span>)      │          <span style=\"color: #00af00; text-decoration-color: #00af00\">0</span> │ player_embedding… │\n",
       "│ (<span style=\"color: #0087ff; text-decoration-color: #0087ff\">Lambda</span>)            │                   │            │                   │\n",
       "├─────────────────────┼───────────────────┼────────────┼───────────────────┤\n",
       "│ defense_slice       │ (<span style=\"color: #00d7ff; text-decoration-color: #00d7ff\">None</span>, <span style=\"color: #00af00; text-decoration-color: #00af00\">5</span>, <span style=\"color: #00af00; text-decoration-color: #00af00\">8</span>)      │          <span style=\"color: #00af00; text-decoration-color: #00af00\">0</span> │ player_embedding… │\n",
       "│ (<span style=\"color: #0087ff; text-decoration-color: #0087ff\">Lambda</span>)            │                   │            │                   │\n",
       "├─────────────────────┼───────────────────┼────────────┼───────────────────┤\n",
       "│ off_mean (<span style=\"color: #0087ff; text-decoration-color: #0087ff\">Lambda</span>)   │ (<span style=\"color: #00d7ff; text-decoration-color: #00d7ff\">None</span>, <span style=\"color: #00af00; text-decoration-color: #00af00\">8</span>)         │          <span style=\"color: #00af00; text-decoration-color: #00af00\">0</span> │ offense_slice[<span style=\"color: #00af00; text-decoration-color: #00af00\">0</span>]… │\n",
       "├─────────────────────┼───────────────────┼────────────┼───────────────────┤\n",
       "│ def_mean (<span style=\"color: #0087ff; text-decoration-color: #0087ff\">Lambda</span>)   │ (<span style=\"color: #00d7ff; text-decoration-color: #00d7ff\">None</span>, <span style=\"color: #00af00; text-decoration-color: #00af00\">8</span>)         │          <span style=\"color: #00af00; text-decoration-color: #00af00\">0</span> │ defense_slice[<span style=\"color: #00af00; text-decoration-color: #00af00\">0</span>]… │\n",
       "├─────────────────────┼───────────────────┼────────────┼───────────────────┤\n",
       "│ concat              │ (<span style=\"color: #00d7ff; text-decoration-color: #00d7ff\">None</span>, <span style=\"color: #00af00; text-decoration-color: #00af00\">16</span>)        │          <span style=\"color: #00af00; text-decoration-color: #00af00\">0</span> │ off_mean[<span style=\"color: #00af00; text-decoration-color: #00af00\">0</span>][<span style=\"color: #00af00; text-decoration-color: #00af00\">0</span>],   │\n",
       "│ (<span style=\"color: #0087ff; text-decoration-color: #0087ff\">Concatenate</span>)       │                   │            │ def_mean[<span style=\"color: #00af00; text-decoration-color: #00af00\">0</span>][<span style=\"color: #00af00; text-decoration-color: #00af00\">0</span>]    │\n",
       "├─────────────────────┼───────────────────┼────────────┼───────────────────┤\n",
       "│ hidden (<span style=\"color: #0087ff; text-decoration-color: #0087ff\">Dense</span>)      │ (<span style=\"color: #00d7ff; text-decoration-color: #00d7ff\">None</span>, <span style=\"color: #00af00; text-decoration-color: #00af00\">128</span>)       │      <span style=\"color: #00af00; text-decoration-color: #00af00\">2,176</span> │ concat[<span style=\"color: #00af00; text-decoration-color: #00af00\">0</span>][<span style=\"color: #00af00; text-decoration-color: #00af00\">0</span>]      │\n",
       "├─────────────────────┼───────────────────┼────────────┼───────────────────┤\n",
       "│ main_out (<span style=\"color: #0087ff; text-decoration-color: #0087ff\">Dense</span>)    │ (<span style=\"color: #00d7ff; text-decoration-color: #00d7ff\">None</span>, <span style=\"color: #00af00; text-decoration-color: #00af00\">14</span>)        │      <span style=\"color: #00af00; text-decoration-color: #00af00\">1,806</span> │ hidden[<span style=\"color: #00af00; text-decoration-color: #00af00\">0</span>][<span style=\"color: #00af00; text-decoration-color: #00af00\">0</span>]      │\n",
       "├─────────────────────┼───────────────────┼────────────┼───────────────────┤\n",
       "│ second_chance_out   │ (<span style=\"color: #00d7ff; text-decoration-color: #00d7ff\">None</span>, <span style=\"color: #00af00; text-decoration-color: #00af00\">1</span>)         │        <span style=\"color: #00af00; text-decoration-color: #00af00\">129</span> │ hidden[<span style=\"color: #00af00; text-decoration-color: #00af00\">0</span>][<span style=\"color: #00af00; text-decoration-color: #00af00\">0</span>]      │\n",
       "│ (<span style=\"color: #0087ff; text-decoration-color: #0087ff\">Dense</span>)             │                   │            │                   │\n",
       "└─────────────────────┴───────────────────┴────────────┴───────────────────┘\n",
       "</pre>\n"
      ],
      "text/plain": [
       "┏━━━━━━━━━━━━━━━━━━━━━┳━━━━━━━━━━━━━━━━━━━┳━━━━━━━━━━━━┳━━━━━━━━━━━━━━━━━━━┓\n",
       "┃\u001b[1m \u001b[0m\u001b[1mLayer (type)       \u001b[0m\u001b[1m \u001b[0m┃\u001b[1m \u001b[0m\u001b[1mOutput Shape     \u001b[0m\u001b[1m \u001b[0m┃\u001b[1m \u001b[0m\u001b[1m   Param #\u001b[0m\u001b[1m \u001b[0m┃\u001b[1m \u001b[0m\u001b[1mConnected to     \u001b[0m\u001b[1m \u001b[0m┃\n",
       "┡━━━━━━━━━━━━━━━━━━━━━╇━━━━━━━━━━━━━━━━━━━╇━━━━━━━━━━━━╇━━━━━━━━━━━━━━━━━━━┩\n",
       "│ players_input       │ (\u001b[38;5;45mNone\u001b[0m, \u001b[38;5;34m10\u001b[0m)        │          \u001b[38;5;34m0\u001b[0m │ -                 │\n",
       "│ (\u001b[38;5;33mInputLayer\u001b[0m)        │                   │            │                   │\n",
       "├─────────────────────┼───────────────────┼────────────┼───────────────────┤\n",
       "│ player_embedding    │ (\u001b[38;5;45mNone\u001b[0m, \u001b[38;5;34m10\u001b[0m, \u001b[38;5;34m8\u001b[0m)     │      \u001b[38;5;34m7,688\u001b[0m │ players_input[\u001b[38;5;34m0\u001b[0m]… │\n",
       "│ (\u001b[38;5;33mEmbedding\u001b[0m)         │                   │            │                   │\n",
       "├─────────────────────┼───────────────────┼────────────┼───────────────────┤\n",
       "│ offense_slice       │ (\u001b[38;5;45mNone\u001b[0m, \u001b[38;5;34m5\u001b[0m, \u001b[38;5;34m8\u001b[0m)      │          \u001b[38;5;34m0\u001b[0m │ player_embedding… │\n",
       "│ (\u001b[38;5;33mLambda\u001b[0m)            │                   │            │                   │\n",
       "├─────────────────────┼───────────────────┼────────────┼───────────────────┤\n",
       "│ defense_slice       │ (\u001b[38;5;45mNone\u001b[0m, \u001b[38;5;34m5\u001b[0m, \u001b[38;5;34m8\u001b[0m)      │          \u001b[38;5;34m0\u001b[0m │ player_embedding… │\n",
       "│ (\u001b[38;5;33mLambda\u001b[0m)            │                   │            │                   │\n",
       "├─────────────────────┼───────────────────┼────────────┼───────────────────┤\n",
       "│ off_mean (\u001b[38;5;33mLambda\u001b[0m)   │ (\u001b[38;5;45mNone\u001b[0m, \u001b[38;5;34m8\u001b[0m)         │          \u001b[38;5;34m0\u001b[0m │ offense_slice[\u001b[38;5;34m0\u001b[0m]… │\n",
       "├─────────────────────┼───────────────────┼────────────┼───────────────────┤\n",
       "│ def_mean (\u001b[38;5;33mLambda\u001b[0m)   │ (\u001b[38;5;45mNone\u001b[0m, \u001b[38;5;34m8\u001b[0m)         │          \u001b[38;5;34m0\u001b[0m │ defense_slice[\u001b[38;5;34m0\u001b[0m]… │\n",
       "├─────────────────────┼───────────────────┼────────────┼───────────────────┤\n",
       "│ concat              │ (\u001b[38;5;45mNone\u001b[0m, \u001b[38;5;34m16\u001b[0m)        │          \u001b[38;5;34m0\u001b[0m │ off_mean[\u001b[38;5;34m0\u001b[0m][\u001b[38;5;34m0\u001b[0m],   │\n",
       "│ (\u001b[38;5;33mConcatenate\u001b[0m)       │                   │            │ def_mean[\u001b[38;5;34m0\u001b[0m][\u001b[38;5;34m0\u001b[0m]    │\n",
       "├─────────────────────┼───────────────────┼────────────┼───────────────────┤\n",
       "│ hidden (\u001b[38;5;33mDense\u001b[0m)      │ (\u001b[38;5;45mNone\u001b[0m, \u001b[38;5;34m128\u001b[0m)       │      \u001b[38;5;34m2,176\u001b[0m │ concat[\u001b[38;5;34m0\u001b[0m][\u001b[38;5;34m0\u001b[0m]      │\n",
       "├─────────────────────┼───────────────────┼────────────┼───────────────────┤\n",
       "│ main_out (\u001b[38;5;33mDense\u001b[0m)    │ (\u001b[38;5;45mNone\u001b[0m, \u001b[38;5;34m14\u001b[0m)        │      \u001b[38;5;34m1,806\u001b[0m │ hidden[\u001b[38;5;34m0\u001b[0m][\u001b[38;5;34m0\u001b[0m]      │\n",
       "├─────────────────────┼───────────────────┼────────────┼───────────────────┤\n",
       "│ second_chance_out   │ (\u001b[38;5;45mNone\u001b[0m, \u001b[38;5;34m1\u001b[0m)         │        \u001b[38;5;34m129\u001b[0m │ hidden[\u001b[38;5;34m0\u001b[0m][\u001b[38;5;34m0\u001b[0m]      │\n",
       "│ (\u001b[38;5;33mDense\u001b[0m)             │                   │            │                   │\n",
       "└─────────────────────┴───────────────────┴────────────┴───────────────────┘\n"
      ]
     },
     "metadata": {},
     "output_type": "display_data"
    },
    {
     "data": {
      "text/html": [
       "<pre style=\"white-space:pre;overflow-x:auto;line-height:normal;font-family:Menlo,'DejaVu Sans Mono',consolas,'Courier New',monospace\"><span style=\"font-weight: bold\"> Total params: </span><span style=\"color: #00af00; text-decoration-color: #00af00\">11,799</span> (46.09 KB)\n",
       "</pre>\n"
      ],
      "text/plain": [
       "\u001b[1m Total params: \u001b[0m\u001b[38;5;34m11,799\u001b[0m (46.09 KB)\n"
      ]
     },
     "metadata": {},
     "output_type": "display_data"
    },
    {
     "data": {
      "text/html": [
       "<pre style=\"white-space:pre;overflow-x:auto;line-height:normal;font-family:Menlo,'DejaVu Sans Mono',consolas,'Courier New',monospace\"><span style=\"font-weight: bold\"> Trainable params: </span><span style=\"color: #00af00; text-decoration-color: #00af00\">11,799</span> (46.09 KB)\n",
       "</pre>\n"
      ],
      "text/plain": [
       "\u001b[1m Trainable params: \u001b[0m\u001b[38;5;34m11,799\u001b[0m (46.09 KB)\n"
      ]
     },
     "metadata": {},
     "output_type": "display_data"
    },
    {
     "data": {
      "text/html": [
       "<pre style=\"white-space:pre;overflow-x:auto;line-height:normal;font-family:Menlo,'DejaVu Sans Mono',consolas,'Courier New',monospace\"><span style=\"font-weight: bold\"> Non-trainable params: </span><span style=\"color: #00af00; text-decoration-color: #00af00\">0</span> (0.00 B)\n",
       "</pre>\n"
      ],
      "text/plain": [
       "\u001b[1m Non-trainable params: \u001b[0m\u001b[38;5;34m0\u001b[0m (0.00 B)\n"
      ]
     },
     "metadata": {},
     "output_type": "display_data"
    },
    {
     "name": "stdout",
     "output_type": "stream",
     "text": [
      "Epoch 1/10\n",
      "Loading shard: split_data_parquet/train_000.parquet\n",
      "   1757/Unknown \u001b[1m9s\u001b[0m 4ms/step - loss: 2.4787 - main_out_accuracy: 0.3572 - main_out_loss: 2.1129 - second_chance_out_accuracy: 0.8871 - second_chance_out_loss: 0.3658Loading shard: split_data_parquet/train_001.parquet\n",
      "   3669/Unknown \u001b[1m17s\u001b[0m 4ms/step - loss: 2.4464 - main_out_accuracy: 0.3592 - main_out_loss: 2.0875 - second_chance_out_accuracy: 0.8876 - second_chance_out_loss: 0.3589Loading shard: split_data_parquet/train_002.parquet\n",
      "   5587/Unknown \u001b[1m25s\u001b[0m 4ms/step - loss: 2.4331 - main_out_accuracy: 0.3599 - main_out_loss: 2.0767 - second_chance_out_accuracy: 0.8877 - second_chance_out_loss: 0.3564Loading shard: split_data_parquet/train_003.parquet\n",
      "   7503/Unknown \u001b[1m34s\u001b[0m 4ms/step - loss: 2.4253 - main_out_accuracy: 0.3604 - main_out_loss: 2.0702 - second_chance_out_accuracy: 0.8878 - second_chance_out_loss: 0.3551Loading shard: split_data_parquet/train_004.parquet\n",
      "   9409/Unknown \u001b[1m42s\u001b[0m 4ms/step - loss: 2.4203 - main_out_accuracy: 0.3606 - main_out_loss: 2.0660 - second_chance_out_accuracy: 0.8878 - second_chance_out_loss: 0.3543Loading shard: split_data_parquet/train_005.parquet\n",
      "  11330/Unknown \u001b[1m50s\u001b[0m 4ms/step - loss: 2.4168 - main_out_accuracy: 0.3608 - main_out_loss: 2.0629 - second_chance_out_accuracy: 0.8878 - second_chance_out_loss: 0.3538Loading shard: split_data_parquet/train_006.parquet\n",
      "  13240/Unknown \u001b[1m59s\u001b[0m 4ms/step - loss: 2.4141 - main_out_accuracy: 0.3609 - main_out_loss: 2.0606 - second_chance_out_accuracy: 0.8878 - second_chance_out_loss: 0.3535Loading shard: split_data_parquet/train_007.parquet\n",
      "  15164/Unknown \u001b[1m68s\u001b[0m 4ms/step - loss: 2.4120 - main_out_accuracy: 0.3610 - main_out_loss: 2.0587 - second_chance_out_accuracy: 0.8878 - second_chance_out_loss: 0.3532Loading shard: split_data_parquet/train_008.parquet\n",
      "  17074/Unknown \u001b[1m76s\u001b[0m 4ms/step - loss: 2.4102 - main_out_accuracy: 0.3611 - main_out_loss: 2.0572 - second_chance_out_accuracy: 0.8878 - second_chance_out_loss: 0.3530Loading shard: split_data_parquet/train_009.parquet\n",
      "  19102/Unknown \u001b[1m84s\u001b[0m 4ms/step - loss: 2.4087 - main_out_accuracy: 0.3611 - main_out_loss: 2.0558 - second_chance_out_accuracy: 0.8878 - second_chance_out_loss: 0.3529Loading shard: split_data_parquet/val_000.parquet\n"
     ]
    },
    {
     "name": "stderr",
     "output_type": "stream",
     "text": [
      "/opt/anaconda3/envs/nba_capston/lib/python3.12/site-packages/keras/src/trainers/epoch_iterator.py:151: UserWarning: Your input ran out of data; interrupting training. Make sure that your dataset or generator can generate at least `steps_per_epoch * epochs` batches. You may need to use the `.repeat()` function when building your dataset.\n",
      "  self._interrupted_warning()\n"
     ]
    },
    {
     "name": "stdout",
     "output_type": "stream",
     "text": [
      "Loading shard: split_data_parquet/val_001.parquet\n",
      "\u001b[1m19153/19153\u001b[0m \u001b[32m━━━━━━━━━━━━━━━━━━━━\u001b[0m\u001b[37m\u001b[0m \u001b[1m95s\u001b[0m 5ms/step - loss: 2.4087 - main_out_accuracy: 0.3611 - main_out_loss: 2.0558 - second_chance_out_accuracy: 0.8878 - second_chance_out_loss: 0.3529 - val_loss: 2.3873 - val_main_out_accuracy: 0.3624 - val_main_out_loss: 2.0347 - val_second_chance_out_accuracy: 0.8872 - val_second_chance_out_loss: 0.3516\n",
      "Epoch 2/10\n"
     ]
    },
    {
     "name": "stderr",
     "output_type": "stream",
     "text": [
      "/opt/anaconda3/envs/nba_capston/lib/python3.12/site-packages/keras/src/trainers/epoch_iterator.py:151: UserWarning: Your input ran out of data; interrupting training. Make sure that your dataset or generator can generate at least `steps_per_epoch * epochs` batches. You may need to use the `.repeat()` function when building your dataset.\n",
      "  self._interrupted_warning()\n"
     ]
    },
    {
     "name": "stdout",
     "output_type": "stream",
     "text": [
      "Loading shard: split_data_parquet/train_000.parquet\n",
      "\u001b[1m 1751/19153\u001b[0m \u001b[32m━\u001b[0m\u001b[37m━━━━━━━━━━━━━━━━━━━\u001b[0m \u001b[1m1:13\u001b[0m 4ms/step - loss: 2.3844 - main_out_accuracy: 0.3602 - main_out_loss: 2.0362 - second_chance_out_accuracy: 0.8890 - second_chance_out_loss: 0.3482Loading shard: split_data_parquet/train_001.parquet\n",
      "\u001b[1m 3664/19153\u001b[0m \u001b[32m━━━\u001b[0m\u001b[37m━━━━━━━━━━━━━━━━━\u001b[0m \u001b[1m1:06\u001b[0m 4ms/step - loss: 2.3856 - main_out_accuracy: 0.3608 - main_out_loss: 2.0366 - second_chance_out_accuracy: 0.8886 - second_chance_out_loss: 0.3490Loading shard: split_data_parquet/train_002.parquet\n",
      "\u001b[1m 5586/19153\u001b[0m \u001b[32m━━━━━\u001b[0m\u001b[37m━━━━━━━━━━━━━━━\u001b[0m \u001b[1m59s\u001b[0m 4ms/step - loss: 2.3859 - main_out_accuracy: 0.3609 - main_out_loss: 2.0366 - second_chance_out_accuracy: 0.8884 - second_chance_out_loss: 0.3494Loading shard: split_data_parquet/train_003.parquet\n",
      "\u001b[1m 7497/19153\u001b[0m \u001b[32m━━━━━━━\u001b[0m\u001b[37m━━━━━━━━━━━━━\u001b[0m \u001b[1m51s\u001b[0m 4ms/step - loss: 2.3858 - main_out_accuracy: 0.3612 - main_out_loss: 2.0363 - second_chance_out_accuracy: 0.8884 - second_chance_out_loss: 0.3495Loading shard: split_data_parquet/train_004.parquet\n",
      "\u001b[1m 9409/19153\u001b[0m \u001b[32m━━━━━━━━━\u001b[0m\u001b[37m━━━━━━━━━━━\u001b[0m \u001b[1m43s\u001b[0m 4ms/step - loss: 2.3858 - main_out_accuracy: 0.3613 - main_out_loss: 2.0362 - second_chance_out_accuracy: 0.8883 - second_chance_out_loss: 0.3497Loading shard: split_data_parquet/train_005.parquet\n",
      "\u001b[1m11331/19153\u001b[0m \u001b[32m━━━━━━━━━━━\u001b[0m\u001b[37m━━━━━━━━━\u001b[0m \u001b[1m34s\u001b[0m 4ms/step - loss: 2.3858 - main_out_accuracy: 0.3613 - main_out_loss: 2.0360 - second_chance_out_accuracy: 0.8882 - second_chance_out_loss: 0.3498Loading shard: split_data_parquet/train_006.parquet\n",
      "\u001b[1m13241/19153\u001b[0m \u001b[32m━━━━━━━━━━━━━\u001b[0m\u001b[37m━━━━━━━\u001b[0m \u001b[1m26s\u001b[0m 4ms/step - loss: 2.3858 - main_out_accuracy: 0.3614 - main_out_loss: 2.0359 - second_chance_out_accuracy: 0.8882 - second_chance_out_loss: 0.3499Loading shard: split_data_parquet/train_007.parquet\n",
      "\u001b[1m15156/19153\u001b[0m \u001b[32m━━━━━━━━━━━━━━━\u001b[0m\u001b[37m━━━━━\u001b[0m \u001b[1m17s\u001b[0m 4ms/step - loss: 2.3858 - main_out_accuracy: 0.3615 - main_out_loss: 2.0358 - second_chance_out_accuracy: 0.8881 - second_chance_out_loss: 0.3501Loading shard: split_data_parquet/train_008.parquet\n",
      "\u001b[1m17071/19153\u001b[0m \u001b[32m━━━━━━━━━━━━━━━━━\u001b[0m\u001b[37m━━━\u001b[0m \u001b[1m9s\u001b[0m 4ms/step - loss: 2.3858 - main_out_accuracy: 0.3615 - main_out_loss: 2.0357 - second_chance_out_accuracy: 0.8881 - second_chance_out_loss: 0.3501Loading shard: split_data_parquet/train_009.parquet\n",
      "\u001b[1m19132/19153\u001b[0m \u001b[32m━━━━━━━━━━━━━━━━━━━\u001b[0m\u001b[37m━\u001b[0m \u001b[1m0s\u001b[0m 4ms/step - loss: 2.3858 - main_out_accuracy: 0.3615 - main_out_loss: 2.0357 - second_chance_out_accuracy: 0.8880 - second_chance_out_loss: 0.3502Loading shard: split_data_parquet/val_000.parquet\n"
     ]
    },
    {
     "name": "stderr",
     "output_type": "stream",
     "text": [
      "/opt/anaconda3/envs/nba_capston/lib/python3.12/site-packages/keras/src/trainers/epoch_iterator.py:151: UserWarning: Your input ran out of data; interrupting training. Make sure that your dataset or generator can generate at least `steps_per_epoch * epochs` batches. You may need to use the `.repeat()` function when building your dataset.\n",
      "  self._interrupted_warning()\n"
     ]
    },
    {
     "name": "stdout",
     "output_type": "stream",
     "text": [
      "Loading shard: split_data_parquet/val_001.parquet\n",
      "\u001b[1m19153/19153\u001b[0m \u001b[32m━━━━━━━━━━━━━━━━━━━━\u001b[0m\u001b[37m\u001b[0m \u001b[1m94s\u001b[0m 5ms/step - loss: 2.3858 - main_out_accuracy: 0.3615 - main_out_loss: 2.0357 - second_chance_out_accuracy: 0.8880 - second_chance_out_loss: 0.3502 - val_loss: 2.3832 - val_main_out_accuracy: 0.3624 - val_main_out_loss: 2.0306 - val_second_chance_out_accuracy: 0.8872 - val_second_chance_out_loss: 0.3515\n",
      "Epoch 3/10\n"
     ]
    },
    {
     "name": "stderr",
     "output_type": "stream",
     "text": [
      "/opt/anaconda3/envs/nba_capston/lib/python3.12/site-packages/keras/src/trainers/epoch_iterator.py:151: UserWarning: Your input ran out of data; interrupting training. Make sure that your dataset or generator can generate at least `steps_per_epoch * epochs` batches. You may need to use the `.repeat()` function when building your dataset.\n",
      "  self._interrupted_warning()\n"
     ]
    },
    {
     "name": "stdout",
     "output_type": "stream",
     "text": [
      "Loading shard: split_data_parquet/train_000.parquet\n",
      "\u001b[1m 1753/19153\u001b[0m \u001b[32m━\u001b[0m\u001b[37m━━━━━━━━━━━━━━━━━━━\u001b[0m \u001b[1m1:15\u001b[0m 4ms/step - loss: 2.3796 - main_out_accuracy: 0.3594 - main_out_loss: 2.0330 - second_chance_out_accuracy: 0.8895 - second_chance_out_loss: 0.3466Loading shard: split_data_parquet/train_001.parquet\n",
      "\u001b[1m 3667/19153\u001b[0m \u001b[32m━━━\u001b[0m\u001b[37m━━━━━━━━━━━━━━━━━\u001b[0m \u001b[1m1:06\u001b[0m 4ms/step - loss: 2.3813 - main_out_accuracy: 0.3603 - main_out_loss: 2.0333 - second_chance_out_accuracy: 0.8889 - second_chance_out_loss: 0.3481Loading shard: split_data_parquet/train_002.parquet\n",
      "\u001b[1m 5582/19153\u001b[0m \u001b[32m━━━━━\u001b[0m\u001b[37m━━━━━━━━━━━━━━━\u001b[0m \u001b[1m58s\u001b[0m 4ms/step - loss: 2.3819 - main_out_accuracy: 0.3606 - main_out_loss: 2.0333 - second_chance_out_accuracy: 0.8886 - second_chance_out_loss: 0.3486Loading shard: split_data_parquet/train_003.parquet\n",
      "\u001b[1m 7502/19153\u001b[0m \u001b[32m━━━━━━━\u001b[0m\u001b[37m━━━━━━━━━━━━━\u001b[0m \u001b[1m51s\u001b[0m 4ms/step - loss: 2.3819 - main_out_accuracy: 0.3609 - main_out_loss: 2.0330 - second_chance_out_accuracy: 0.8885 - second_chance_out_loss: 0.3488Loading shard: split_data_parquet/train_004.parquet\n",
      "\u001b[1m 9409/19153\u001b[0m \u001b[32m━━━━━━━━━\u001b[0m\u001b[37m━━━━━━━━━━━\u001b[0m \u001b[1m42s\u001b[0m 4ms/step - loss: 2.3820 - main_out_accuracy: 0.3611 - main_out_loss: 2.0330 - second_chance_out_accuracy: 0.8884 - second_chance_out_loss: 0.3491Loading shard: split_data_parquet/train_005.parquet\n",
      "\u001b[1m11327/19153\u001b[0m \u001b[32m━━━━━━━━━━━\u001b[0m\u001b[37m━━━━━━━━━\u001b[0m \u001b[1m34s\u001b[0m 4ms/step - loss: 2.3821 - main_out_accuracy: 0.3612 - main_out_loss: 2.0329 - second_chance_out_accuracy: 0.8883 - second_chance_out_loss: 0.3492Loading shard: split_data_parquet/train_006.parquet\n",
      "\u001b[1m13239/19153\u001b[0m \u001b[32m━━━━━━━━━━━━━\u001b[0m\u001b[37m━━━━━━━\u001b[0m \u001b[1m25s\u001b[0m 4ms/step - loss: 2.3822 - main_out_accuracy: 0.3613 - main_out_loss: 2.0328 - second_chance_out_accuracy: 0.8882 - second_chance_out_loss: 0.3494Loading shard: split_data_parquet/train_007.parquet\n",
      "\u001b[1m15155/19153\u001b[0m \u001b[32m━━━━━━━━━━━━━━━\u001b[0m\u001b[37m━━━━━\u001b[0m \u001b[1m17s\u001b[0m 4ms/step - loss: 2.3822 - main_out_accuracy: 0.3613 - main_out_loss: 2.0327 - second_chance_out_accuracy: 0.8882 - second_chance_out_loss: 0.3495Loading shard: split_data_parquet/train_008.parquet\n",
      "\u001b[1m17072/19153\u001b[0m \u001b[32m━━━━━━━━━━━━━━━━━\u001b[0m\u001b[37m━━━\u001b[0m \u001b[1m9s\u001b[0m 4ms/step - loss: 2.3823 - main_out_accuracy: 0.3614 - main_out_loss: 2.0326 - second_chance_out_accuracy: 0.8881 - second_chance_out_loss: 0.3496Loading shard: split_data_parquet/train_009.parquet\n",
      "\u001b[1m19136/19153\u001b[0m \u001b[32m━━━━━━━━━━━━━━━━━━━\u001b[0m\u001b[37m━\u001b[0m \u001b[1m0s\u001b[0m 4ms/step - loss: 2.3823 - main_out_accuracy: 0.3614 - main_out_loss: 2.0326 - second_chance_out_accuracy: 0.8881 - second_chance_out_loss: 0.3497Loading shard: split_data_parquet/val_000.parquet\n"
     ]
    },
    {
     "name": "stderr",
     "output_type": "stream",
     "text": [
      "/opt/anaconda3/envs/nba_capston/lib/python3.12/site-packages/keras/src/trainers/epoch_iterator.py:151: UserWarning: Your input ran out of data; interrupting training. Make sure that your dataset or generator can generate at least `steps_per_epoch * epochs` batches. You may need to use the `.repeat()` function when building your dataset.\n",
      "  self._interrupted_warning()\n"
     ]
    },
    {
     "name": "stdout",
     "output_type": "stream",
     "text": [
      "Loading shard: split_data_parquet/val_001.parquet\n",
      "\u001b[1m19153/19153\u001b[0m \u001b[32m━━━━━━━━━━━━━━━━━━━━\u001b[0m\u001b[37m\u001b[0m \u001b[1m94s\u001b[0m 5ms/step - loss: 2.3823 - main_out_accuracy: 0.3614 - main_out_loss: 2.0326 - second_chance_out_accuracy: 0.8881 - second_chance_out_loss: 0.3497 - val_loss: 2.3826 - val_main_out_accuracy: 0.3624 - val_main_out_loss: 2.0300 - val_second_chance_out_accuracy: 0.8872 - val_second_chance_out_loss: 0.3517\n",
      "Epoch 4/10\n"
     ]
    },
    {
     "name": "stderr",
     "output_type": "stream",
     "text": [
      "/opt/anaconda3/envs/nba_capston/lib/python3.12/site-packages/keras/src/trainers/epoch_iterator.py:151: UserWarning: Your input ran out of data; interrupting training. Make sure that your dataset or generator can generate at least `steps_per_epoch * epochs` batches. You may need to use the `.repeat()` function when building your dataset.\n",
      "  self._interrupted_warning()\n"
     ]
    },
    {
     "name": "stdout",
     "output_type": "stream",
     "text": [
      "Loading shard: split_data_parquet/train_000.parquet\n",
      "\u001b[1m 1752/19153\u001b[0m \u001b[32m━\u001b[0m\u001b[37m━━━━━━━━━━━━━━━━━━━\u001b[0m \u001b[1m1:15\u001b[0m 4ms/step - loss: 2.3770 - main_out_accuracy: 0.3595 - main_out_loss: 2.0310 - second_chance_out_accuracy: 0.8898 - second_chance_out_loss: 0.3460Loading shard: split_data_parquet/train_001.parquet\n",
      "\u001b[1m 3667/19153\u001b[0m \u001b[32m━━━\u001b[0m\u001b[37m━━━━━━━━━━━━━━━━━\u001b[0m \u001b[1m1:07\u001b[0m 4ms/step - loss: 2.3787 - main_out_accuracy: 0.3604 - main_out_loss: 2.0312 - second_chance_out_accuracy: 0.8890 - second_chance_out_loss: 0.3475Loading shard: split_data_parquet/train_002.parquet\n",
      "\u001b[1m 5581/19153\u001b[0m \u001b[32m━━━━━\u001b[0m\u001b[37m━━━━━━━━━━━━━━━\u001b[0m \u001b[1m59s\u001b[0m 4ms/step - loss: 2.3793 - main_out_accuracy: 0.3607 - main_out_loss: 2.0312 - second_chance_out_accuracy: 0.8887 - second_chance_out_loss: 0.3481Loading shard: split_data_parquet/train_003.parquet\n",
      "\u001b[1m 7497/19153\u001b[0m \u001b[32m━━━━━━━\u001b[0m\u001b[37m━━━━━━━━━━━━━\u001b[0m \u001b[1m50s\u001b[0m 4ms/step - loss: 2.3794 - main_out_accuracy: 0.3610 - main_out_loss: 2.0310 - second_chance_out_accuracy: 0.8886 - second_chance_out_loss: 0.3484Loading shard: split_data_parquet/train_004.parquet\n",
      "\u001b[1m 9410/19153\u001b[0m \u001b[32m━━━━━━━━━\u001b[0m\u001b[37m━━━━━━━━━━━\u001b[0m \u001b[1m42s\u001b[0m 4ms/step - loss: 2.3795 - main_out_accuracy: 0.3611 - main_out_loss: 2.0309 - second_chance_out_accuracy: 0.8885 - second_chance_out_loss: 0.3486Loading shard: split_data_parquet/train_005.parquet\n",
      "\u001b[1m11326/19153\u001b[0m \u001b[32m━━━━━━━━━━━\u001b[0m\u001b[37m━━━━━━━━━\u001b[0m \u001b[1m34s\u001b[0m 4ms/step - loss: 2.3796 - main_out_accuracy: 0.3612 - main_out_loss: 2.0308 - second_chance_out_accuracy: 0.8884 - second_chance_out_loss: 0.3488Loading shard: split_data_parquet/train_006.parquet\n",
      "\u001b[1m13241/19153\u001b[0m \u001b[32m━━━━━━━━━━━━━\u001b[0m\u001b[37m━━━━━━━\u001b[0m \u001b[1m25s\u001b[0m 4ms/step - loss: 2.3797 - main_out_accuracy: 0.3613 - main_out_loss: 2.0307 - second_chance_out_accuracy: 0.8883 - second_chance_out_loss: 0.3490Loading shard: split_data_parquet/train_007.parquet\n",
      "\u001b[1m15155/19153\u001b[0m \u001b[32m━━━━━━━━━━━━━━━\u001b[0m\u001b[37m━━━━━\u001b[0m \u001b[1m17s\u001b[0m 4ms/step - loss: 2.3797 - main_out_accuracy: 0.3614 - main_out_loss: 2.0306 - second_chance_out_accuracy: 0.8882 - second_chance_out_loss: 0.3491Loading shard: split_data_parquet/train_008.parquet\n",
      "\u001b[1m17071/19153\u001b[0m \u001b[32m━━━━━━━━━━━━━━━━━\u001b[0m\u001b[37m━━━\u001b[0m \u001b[1m9s\u001b[0m 4ms/step - loss: 2.3797 - main_out_accuracy: 0.3614 - main_out_loss: 2.0305 - second_chance_out_accuracy: 0.8882 - second_chance_out_loss: 0.3492Loading shard: split_data_parquet/train_009.parquet\n",
      "\u001b[1m19136/19153\u001b[0m \u001b[32m━━━━━━━━━━━━━━━━━━━\u001b[0m\u001b[37m━\u001b[0m \u001b[1m0s\u001b[0m 4ms/step - loss: 2.3798 - main_out_accuracy: 0.3614 - main_out_loss: 2.0305 - second_chance_out_accuracy: 0.8881 - second_chance_out_loss: 0.3493Loading shard: split_data_parquet/val_000.parquet\n"
     ]
    },
    {
     "name": "stderr",
     "output_type": "stream",
     "text": [
      "/opt/anaconda3/envs/nba_capston/lib/python3.12/site-packages/keras/src/trainers/epoch_iterator.py:151: UserWarning: Your input ran out of data; interrupting training. Make sure that your dataset or generator can generate at least `steps_per_epoch * epochs` batches. You may need to use the `.repeat()` function when building your dataset.\n",
      "  self._interrupted_warning()\n"
     ]
    },
    {
     "name": "stdout",
     "output_type": "stream",
     "text": [
      "Loading shard: split_data_parquet/val_001.parquet\n",
      "\u001b[1m19153/19153\u001b[0m \u001b[32m━━━━━━━━━━━━━━━━━━━━\u001b[0m\u001b[37m\u001b[0m \u001b[1m94s\u001b[0m 5ms/step - loss: 2.3798 - main_out_accuracy: 0.3614 - main_out_loss: 2.0305 - second_chance_out_accuracy: 0.8881 - second_chance_out_loss: 0.3493 - val_loss: 2.3796 - val_main_out_accuracy: 0.3624 - val_main_out_loss: 2.0276 - val_second_chance_out_accuracy: 0.8872 - val_second_chance_out_loss: 0.3509\n",
      "Epoch 5/10\n"
     ]
    },
    {
     "name": "stderr",
     "output_type": "stream",
     "text": [
      "/opt/anaconda3/envs/nba_capston/lib/python3.12/site-packages/keras/src/trainers/epoch_iterator.py:151: UserWarning: Your input ran out of data; interrupting training. Make sure that your dataset or generator can generate at least `steps_per_epoch * epochs` batches. You may need to use the `.repeat()` function when building your dataset.\n",
      "  self._interrupted_warning()\n"
     ]
    },
    {
     "name": "stdout",
     "output_type": "stream",
     "text": [
      "Loading shard: split_data_parquet/train_000.parquet\n",
      "\u001b[1m 1753/19153\u001b[0m \u001b[32m━\u001b[0m\u001b[37m━━━━━━━━━━━━━━━━━━━\u001b[0m \u001b[1m1:14\u001b[0m 4ms/step - loss: 2.3727 - main_out_accuracy: 0.3614 - main_out_loss: 2.0249 - second_chance_out_accuracy: 0.8887 - second_chance_out_loss: 0.3478Loading shard: split_data_parquet/train_001.parquet\n",
      "\u001b[1m 3666/19153\u001b[0m \u001b[32m━━━\u001b[0m\u001b[37m━━━━━━━━━━━━━━━━━\u001b[0m \u001b[1m1:06\u001b[0m 4ms/step - loss: 2.3755 - main_out_accuracy: 0.3613 - main_out_loss: 2.0273 - second_chance_out_accuracy: 0.8885 - second_chance_out_loss: 0.3482Loading shard: split_data_parquet/train_002.parquet\n",
      "\u001b[1m 5579/19153\u001b[0m \u001b[32m━━━━━\u001b[0m\u001b[37m━━━━━━━━━━━━━━━\u001b[0m \u001b[1m58s\u001b[0m 4ms/step - loss: 2.3764 - main_out_accuracy: 0.3613 - main_out_loss: 2.0279 - second_chance_out_accuracy: 0.8884 - second_chance_out_loss: 0.3484Loading shard: split_data_parquet/train_003.parquet\n",
      "\u001b[1m 7497/19153\u001b[0m \u001b[32m━━━━━━━\u001b[0m\u001b[37m━━━━━━━━━━━━━\u001b[0m \u001b[1m50s\u001b[0m 4ms/step - loss: 2.3766 - main_out_accuracy: 0.3614 - main_out_loss: 2.0280 - second_chance_out_accuracy: 0.8883 - second_chance_out_loss: 0.3486Loading shard: split_data_parquet/train_004.parquet\n",
      "\u001b[1m 9411/19153\u001b[0m \u001b[32m━━━━━━━━━\u001b[0m\u001b[37m━━━━━━━━━━━\u001b[0m \u001b[1m42s\u001b[0m 4ms/step - loss: 2.3768 - main_out_accuracy: 0.3615 - main_out_loss: 2.0281 - second_chance_out_accuracy: 0.8883 - second_chance_out_loss: 0.3487Loading shard: split_data_parquet/train_005.parquet\n",
      "\u001b[1m11332/19153\u001b[0m \u001b[32m━━━━━━━━━━━\u001b[0m\u001b[37m━━━━━━━━━\u001b[0m \u001b[1m34s\u001b[0m 4ms/step - loss: 2.3770 - main_out_accuracy: 0.3615 - main_out_loss: 2.0281 - second_chance_out_accuracy: 0.8882 - second_chance_out_loss: 0.3488Loading shard: split_data_parquet/train_006.parquet\n",
      "\u001b[1m13241/19153\u001b[0m \u001b[32m━━━━━━━━━━━━━\u001b[0m\u001b[37m━━━━━━━\u001b[0m \u001b[1m25s\u001b[0m 4ms/step - loss: 2.3771 - main_out_accuracy: 0.3615 - main_out_loss: 2.0282 - second_chance_out_accuracy: 0.8881 - second_chance_out_loss: 0.3489Loading shard: split_data_parquet/train_007.parquet\n",
      "\u001b[1m15154/19153\u001b[0m \u001b[32m━━━━━━━━━━━━━━━\u001b[0m\u001b[37m━━━━━\u001b[0m \u001b[1m17s\u001b[0m 4ms/step - loss: 2.3772 - main_out_accuracy: 0.3616 - main_out_loss: 2.0282 - second_chance_out_accuracy: 0.8881 - second_chance_out_loss: 0.3490Loading shard: split_data_parquet/train_008.parquet\n",
      "\u001b[1m17072/19153\u001b[0m \u001b[32m━━━━━━━━━━━━━━━━━\u001b[0m\u001b[37m━━━\u001b[0m \u001b[1m9s\u001b[0m 4ms/step - loss: 2.3773 - main_out_accuracy: 0.3616 - main_out_loss: 2.0282 - second_chance_out_accuracy: 0.8880 - second_chance_out_loss: 0.3491Loading shard: split_data_parquet/train_009.parquet\n",
      "\u001b[1m19125/19153\u001b[0m \u001b[32m━━━━━━━━━━━━━━━━━━━\u001b[0m\u001b[37m━\u001b[0m \u001b[1m0s\u001b[0m 4ms/step - loss: 2.3773 - main_out_accuracy: 0.3616 - main_out_loss: 2.0282 - second_chance_out_accuracy: 0.8880 - second_chance_out_loss: 0.3492Loading shard: split_data_parquet/val_000.parquet\n"
     ]
    },
    {
     "name": "stderr",
     "output_type": "stream",
     "text": [
      "2024-12-09 22:15:26.376997: I tensorflow/core/framework/local_rendezvous.cc:405] Local rendezvous is aborting with status: OUT_OF_RANGE: End of sequence\n",
      "\t [[{{node IteratorGetNext}}]]\n",
      "/opt/anaconda3/envs/nba_capston/lib/python3.12/site-packages/keras/src/trainers/epoch_iterator.py:151: UserWarning: Your input ran out of data; interrupting training. Make sure that your dataset or generator can generate at least `steps_per_epoch * epochs` batches. You may need to use the `.repeat()` function when building your dataset.\n",
      "  self._interrupted_warning()\n"
     ]
    },
    {
     "name": "stdout",
     "output_type": "stream",
     "text": [
      "Loading shard: split_data_parquet/val_001.parquet\n",
      "\u001b[1m19153/19153\u001b[0m \u001b[32m━━━━━━━━━━━━━━━━━━━━\u001b[0m\u001b[37m\u001b[0m \u001b[1m94s\u001b[0m 5ms/step - loss: 2.3773 - main_out_accuracy: 0.3616 - main_out_loss: 2.0282 - second_chance_out_accuracy: 0.8880 - second_chance_out_loss: 0.3492 - val_loss: 2.3778 - val_main_out_accuracy: 0.3624 - val_main_out_loss: 2.0260 - val_second_chance_out_accuracy: 0.8872 - val_second_chance_out_loss: 0.3507\n",
      "Epoch 6/10\n"
     ]
    },
    {
     "name": "stderr",
     "output_type": "stream",
     "text": [
      "/opt/anaconda3/envs/nba_capston/lib/python3.12/site-packages/keras/src/trainers/epoch_iterator.py:151: UserWarning: Your input ran out of data; interrupting training. Make sure that your dataset or generator can generate at least `steps_per_epoch * epochs` batches. You may need to use the `.repeat()` function when building your dataset.\n",
      "  self._interrupted_warning()\n"
     ]
    },
    {
     "name": "stdout",
     "output_type": "stream",
     "text": [
      "Loading shard: split_data_parquet/train_000.parquet\n",
      "\u001b[1m 1750/19153\u001b[0m \u001b[32m━\u001b[0m\u001b[37m━━━━━━━━━━━━━━━━━━━\u001b[0m \u001b[1m1:15\u001b[0m 4ms/step - loss: 2.3727 - main_out_accuracy: 0.3601 - main_out_loss: 2.0264 - second_chance_out_accuracy: 0.8893 - second_chance_out_loss: 0.3463Loading shard: split_data_parquet/train_001.parquet\n",
      "\u001b[1m 3665/19153\u001b[0m \u001b[32m━━━\u001b[0m\u001b[37m━━━━━━━━━━━━━━━━━\u001b[0m \u001b[1m1:07\u001b[0m 4ms/step - loss: 2.3746 - main_out_accuracy: 0.3606 - main_out_loss: 2.0273 - second_chance_out_accuracy: 0.8888 - second_chance_out_loss: 0.3473Loading shard: split_data_parquet/train_002.parquet\n",
      "\u001b[1m 5580/19153\u001b[0m \u001b[32m━━━━━\u001b[0m\u001b[37m━━━━━━━━━━━━━━━\u001b[0m \u001b[1m59s\u001b[0m 4ms/step - loss: 2.3752 - main_out_accuracy: 0.3608 - main_out_loss: 2.0275 - second_chance_out_accuracy: 0.8886 - second_chance_out_loss: 0.3477Loading shard: split_data_parquet/train_003.parquet\n",
      "\u001b[1m 7496/19153\u001b[0m \u001b[32m━━━━━━━\u001b[0m\u001b[37m━━━━━━━━━━━━━\u001b[0m \u001b[1m50s\u001b[0m 4ms/step - loss: 2.3753 - main_out_accuracy: 0.3611 - main_out_loss: 2.0273 - second_chance_out_accuracy: 0.8885 - second_chance_out_loss: 0.3480Loading shard: split_data_parquet/train_004.parquet\n",
      "\u001b[1m 9410/19153\u001b[0m \u001b[32m━━━━━━━━━\u001b[0m\u001b[37m━━━━━━━━━━━\u001b[0m \u001b[1m42s\u001b[0m 4ms/step - loss: 2.3755 - main_out_accuracy: 0.3612 - main_out_loss: 2.0273 - second_chance_out_accuracy: 0.8884 - second_chance_out_loss: 0.3482Loading shard: split_data_parquet/train_005.parquet\n",
      "\u001b[1m11325/19153\u001b[0m \u001b[32m━━━━━━━━━━━\u001b[0m\u001b[37m━━━━━━━━━\u001b[0m \u001b[1m34s\u001b[0m 4ms/step - loss: 2.3756 - main_out_accuracy: 0.3613 - main_out_loss: 2.0272 - second_chance_out_accuracy: 0.8883 - second_chance_out_loss: 0.3483Loading shard: split_data_parquet/train_006.parquet\n",
      "\u001b[1m13241/19153\u001b[0m \u001b[32m━━━━━━━━━━━━━\u001b[0m\u001b[37m━━━━━━━\u001b[0m \u001b[1m25s\u001b[0m 4ms/step - loss: 2.3757 - main_out_accuracy: 0.3614 - main_out_loss: 2.0272 - second_chance_out_accuracy: 0.8882 - second_chance_out_loss: 0.3485Loading shard: split_data_parquet/train_007.parquet\n",
      "\u001b[1m15155/19153\u001b[0m \u001b[32m━━━━━━━━━━━━━━━\u001b[0m\u001b[37m━━━━━\u001b[0m \u001b[1m17s\u001b[0m 4ms/step - loss: 2.3758 - main_out_accuracy: 0.3614 - main_out_loss: 2.0271 - second_chance_out_accuracy: 0.8882 - second_chance_out_loss: 0.3486Loading shard: split_data_parquet/train_008.parquet\n",
      "\u001b[1m17079/19153\u001b[0m \u001b[32m━━━━━━━━━━━━━━━━━\u001b[0m\u001b[37m━━━\u001b[0m \u001b[1m9s\u001b[0m 4ms/step - loss: 2.3758 - main_out_accuracy: 0.3614 - main_out_loss: 2.0271 - second_chance_out_accuracy: 0.8881 - second_chance_out_loss: 0.3487Loading shard: split_data_parquet/train_009.parquet\n",
      "\u001b[1m19026/19153\u001b[0m \u001b[32m━━━━━━━━━━━━━━━━━━━\u001b[0m\u001b[37m━\u001b[0m \u001b[1m0s\u001b[0m 4ms/step - loss: 2.3759 - main_out_accuracy: 0.3614 - main_out_loss: 2.0271 - second_chance_out_accuracy: 0.8881 - second_chance_out_loss: 0.3488Loading shard: split_data_parquet/val_000.parquet\n"
     ]
    },
    {
     "name": "stderr",
     "output_type": "stream",
     "text": [
      "/opt/anaconda3/envs/nba_capston/lib/python3.12/site-packages/keras/src/trainers/epoch_iterator.py:151: UserWarning: Your input ran out of data; interrupting training. Make sure that your dataset or generator can generate at least `steps_per_epoch * epochs` batches. You may need to use the `.repeat()` function when building your dataset.\n",
      "  self._interrupted_warning()\n"
     ]
    },
    {
     "name": "stdout",
     "output_type": "stream",
     "text": [
      "Loading shard: split_data_parquet/val_001.parquet\n",
      "\u001b[1m19153/19153\u001b[0m \u001b[32m━━━━━━━━━━━━━━━━━━━━\u001b[0m\u001b[37m\u001b[0m \u001b[1m94s\u001b[0m 5ms/step - loss: 2.3759 - main_out_accuracy: 0.3614 - main_out_loss: 2.0271 - second_chance_out_accuracy: 0.8881 - second_chance_out_loss: 0.3488 - val_loss: 2.3775 - val_main_out_accuracy: 0.3624 - val_main_out_loss: 2.0254 - val_second_chance_out_accuracy: 0.8872 - val_second_chance_out_loss: 0.3509\n",
      "Epoch 7/10\n"
     ]
    },
    {
     "name": "stderr",
     "output_type": "stream",
     "text": [
      "/opt/anaconda3/envs/nba_capston/lib/python3.12/site-packages/keras/src/trainers/epoch_iterator.py:151: UserWarning: Your input ran out of data; interrupting training. Make sure that your dataset or generator can generate at least `steps_per_epoch * epochs` batches. You may need to use the `.repeat()` function when building your dataset.\n",
      "  self._interrupted_warning()\n"
     ]
    },
    {
     "name": "stdout",
     "output_type": "stream",
     "text": [
      "Loading shard: split_data_parquet/train_000.parquet\n",
      "\u001b[1m 1750/19153\u001b[0m \u001b[32m━\u001b[0m\u001b[37m━━━━━━━━━━━━━━━━━━━\u001b[0m \u001b[1m1:14\u001b[0m 4ms/step - loss: 2.3695 - main_out_accuracy: 0.3616 - main_out_loss: 2.0232 - second_chance_out_accuracy: 0.8892 - second_chance_out_loss: 0.3463Loading shard: split_data_parquet/train_001.parquet\n",
      "\u001b[1m 3668/19153\u001b[0m \u001b[32m━━━\u001b[0m\u001b[37m━━━━━━━━━━━━━━━━━\u001b[0m \u001b[1m1:06\u001b[0m 4ms/step - loss: 2.3723 - main_out_accuracy: 0.3614 - main_out_loss: 2.0251 - second_chance_out_accuracy: 0.8888 - second_chance_out_loss: 0.3472Loading shard: split_data_parquet/train_002.parquet\n",
      "\u001b[1m 5583/19153\u001b[0m \u001b[32m━━━━━\u001b[0m\u001b[37m━━━━━━━━━━━━━━━\u001b[0m \u001b[1m58s\u001b[0m 4ms/step - loss: 2.3733 - main_out_accuracy: 0.3613 - main_out_loss: 2.0256 - second_chance_out_accuracy: 0.8885 - second_chance_out_loss: 0.3477Loading shard: split_data_parquet/train_003.parquet\n",
      "\u001b[1m 7496/19153\u001b[0m \u001b[32m━━━━━━━\u001b[0m\u001b[37m━━━━━━━━━━━━━\u001b[0m \u001b[1m49s\u001b[0m 4ms/step - loss: 2.3736 - main_out_accuracy: 0.3615 - main_out_loss: 2.0256 - second_chance_out_accuracy: 0.8884 - second_chance_out_loss: 0.3479Loading shard: split_data_parquet/train_004.parquet\n",
      "\u001b[1m 9410/19153\u001b[0m \u001b[32m━━━━━━━━━\u001b[0m\u001b[37m━━━━━━━━━━━\u001b[0m \u001b[1m41s\u001b[0m 4ms/step - loss: 2.3738 - main_out_accuracy: 0.3615 - main_out_loss: 2.0257 - second_chance_out_accuracy: 0.8883 - second_chance_out_loss: 0.3481Loading shard: split_data_parquet/train_005.parquet\n",
      "\u001b[1m11326/19153\u001b[0m \u001b[32m━━━━━━━━━━━\u001b[0m\u001b[37m━━━━━━━━━\u001b[0m \u001b[1m33s\u001b[0m 4ms/step - loss: 2.3740 - main_out_accuracy: 0.3615 - main_out_loss: 2.0257 - second_chance_out_accuracy: 0.8883 - second_chance_out_loss: 0.3483Loading shard: split_data_parquet/train_006.parquet\n",
      "\u001b[1m13240/19153\u001b[0m \u001b[32m━━━━━━━━━━━━━\u001b[0m\u001b[37m━━━━━━━\u001b[0m \u001b[1m25s\u001b[0m 4ms/step - loss: 2.3742 - main_out_accuracy: 0.3616 - main_out_loss: 2.0257 - second_chance_out_accuracy: 0.8882 - second_chance_out_loss: 0.3484Loading shard: split_data_parquet/train_007.parquet\n",
      "\u001b[1m15155/19153\u001b[0m \u001b[32m━━━━━━━━━━━━━━━\u001b[0m\u001b[37m━━━━━\u001b[0m \u001b[1m17s\u001b[0m 4ms/step - loss: 2.3743 - main_out_accuracy: 0.3616 - main_out_loss: 2.0257 - second_chance_out_accuracy: 0.8881 - second_chance_out_loss: 0.3486Loading shard: split_data_parquet/train_008.parquet\n",
      "\u001b[1m17070/19153\u001b[0m \u001b[32m━━━━━━━━━━━━━━━━━\u001b[0m\u001b[37m━━━\u001b[0m \u001b[1m8s\u001b[0m 4ms/step - loss: 2.3744 - main_out_accuracy: 0.3616 - main_out_loss: 2.0257 - second_chance_out_accuracy: 0.8881 - second_chance_out_loss: 0.3487Loading shard: split_data_parquet/train_009.parquet\n",
      "\u001b[1m19064/19153\u001b[0m \u001b[32m━━━━━━━━━━━━━━━━━━━\u001b[0m\u001b[37m━\u001b[0m \u001b[1m0s\u001b[0m 4ms/step - loss: 2.3745 - main_out_accuracy: 0.3616 - main_out_loss: 2.0258 - second_chance_out_accuracy: 0.8881 - second_chance_out_loss: 0.3487Loading shard: split_data_parquet/val_000.parquet\n"
     ]
    },
    {
     "name": "stderr",
     "output_type": "stream",
     "text": [
      "/opt/anaconda3/envs/nba_capston/lib/python3.12/site-packages/keras/src/trainers/epoch_iterator.py:151: UserWarning: Your input ran out of data; interrupting training. Make sure that your dataset or generator can generate at least `steps_per_epoch * epochs` batches. You may need to use the `.repeat()` function when building your dataset.\n",
      "  self._interrupted_warning()\n"
     ]
    },
    {
     "name": "stdout",
     "output_type": "stream",
     "text": [
      "Loading shard: split_data_parquet/val_001.parquet\n",
      "\u001b[1m19153/19153\u001b[0m \u001b[32m━━━━━━━━━━━━━━━━━━━━\u001b[0m\u001b[37m\u001b[0m \u001b[1m92s\u001b[0m 5ms/step - loss: 2.3745 - main_out_accuracy: 0.3616 - main_out_loss: 2.0258 - second_chance_out_accuracy: 0.8881 - second_chance_out_loss: 0.3487 - val_loss: 2.3768 - val_main_out_accuracy: 0.3624 - val_main_out_loss: 2.0249 - val_second_chance_out_accuracy: 0.8872 - val_second_chance_out_loss: 0.3510\n",
      "Epoch 8/10\n"
     ]
    },
    {
     "name": "stderr",
     "output_type": "stream",
     "text": [
      "/opt/anaconda3/envs/nba_capston/lib/python3.12/site-packages/keras/src/trainers/epoch_iterator.py:151: UserWarning: Your input ran out of data; interrupting training. Make sure that your dataset or generator can generate at least `steps_per_epoch * epochs` batches. You may need to use the `.repeat()` function when building your dataset.\n",
      "  self._interrupted_warning()\n"
     ]
    },
    {
     "name": "stdout",
     "output_type": "stream",
     "text": [
      "Loading shard: split_data_parquet/train_000.parquet\n",
      "\u001b[1m 1756/19153\u001b[0m \u001b[32m━\u001b[0m\u001b[37m━━━━━━━━━━━━━━━━━━━\u001b[0m \u001b[1m1:12\u001b[0m 4ms/step - loss: 2.3719 - main_out_accuracy: 0.3595 - main_out_loss: 2.0254 - second_chance_out_accuracy: 0.8891 - second_chance_out_loss: 0.3464Loading shard: split_data_parquet/train_001.parquet\n",
      "\u001b[1m 3673/19153\u001b[0m \u001b[32m━━━\u001b[0m\u001b[37m━━━━━━━━━━━━━━━━━\u001b[0m \u001b[1m1:05\u001b[0m 4ms/step - loss: 2.3730 - main_out_accuracy: 0.3604 - main_out_loss: 2.0257 - second_chance_out_accuracy: 0.8887 - second_chance_out_loss: 0.3473Loading shard: split_data_parquet/train_002.parquet\n",
      "\u001b[1m 5588/19153\u001b[0m \u001b[32m━━━━━\u001b[0m\u001b[37m━━━━━━━━━━━━━━━\u001b[0m \u001b[1m57s\u001b[0m 4ms/step - loss: 2.3734 - main_out_accuracy: 0.3607 - main_out_loss: 2.0258 - second_chance_out_accuracy: 0.8885 - second_chance_out_loss: 0.3476Loading shard: split_data_parquet/train_003.parquet\n",
      "\u001b[1m 7498/19153\u001b[0m \u001b[32m━━━━━━━\u001b[0m\u001b[37m━━━━━━━━━━━━━\u001b[0m \u001b[1m49s\u001b[0m 4ms/step - loss: 2.3734 - main_out_accuracy: 0.3610 - main_out_loss: 2.0256 - second_chance_out_accuracy: 0.8884 - second_chance_out_loss: 0.3478Loading shard: split_data_parquet/train_004.parquet\n",
      "\u001b[1m 9411/19153\u001b[0m \u001b[32m━━━━━━━━━\u001b[0m\u001b[37m━━━━━━━━━━━\u001b[0m \u001b[1m41s\u001b[0m 4ms/step - loss: 2.3735 - main_out_accuracy: 0.3611 - main_out_loss: 2.0255 - second_chance_out_accuracy: 0.8883 - second_chance_out_loss: 0.3480Loading shard: split_data_parquet/train_005.parquet\n",
      "\u001b[1m11333/19153\u001b[0m \u001b[32m━━━━━━━━━━━\u001b[0m\u001b[37m━━━━━━━━━\u001b[0m \u001b[1m33s\u001b[0m 4ms/step - loss: 2.3736 - main_out_accuracy: 0.3612 - main_out_loss: 2.0254 - second_chance_out_accuracy: 0.8883 - second_chance_out_loss: 0.3482Loading shard: split_data_parquet/train_006.parquet\n",
      "\u001b[1m13244/19153\u001b[0m \u001b[32m━━━━━━━━━━━━━\u001b[0m\u001b[37m━━━━━━━\u001b[0m \u001b[1m25s\u001b[0m 4ms/step - loss: 2.3737 - main_out_accuracy: 0.3613 - main_out_loss: 2.0254 - second_chance_out_accuracy: 0.8882 - second_chance_out_loss: 0.3483Loading shard: split_data_parquet/train_007.parquet\n",
      "\u001b[1m15162/19153\u001b[0m \u001b[32m━━━━━━━━━━━━━━━\u001b[0m\u001b[37m━━━━━\u001b[0m \u001b[1m17s\u001b[0m 4ms/step - loss: 2.3738 - main_out_accuracy: 0.3614 - main_out_loss: 2.0254 - second_chance_out_accuracy: 0.8881 - second_chance_out_loss: 0.3485Loading shard: split_data_parquet/train_008.parquet\n",
      "\u001b[1m17075/19153\u001b[0m \u001b[32m━━━━━━━━━━━━━━━━━\u001b[0m\u001b[37m━━━\u001b[0m \u001b[1m8s\u001b[0m 4ms/step - loss: 2.3739 - main_out_accuracy: 0.3614 - main_out_loss: 2.0253 - second_chance_out_accuracy: 0.8881 - second_chance_out_loss: 0.3485Loading shard: split_data_parquet/train_009.parquet\n",
      "\u001b[1m19047/19153\u001b[0m \u001b[32m━━━━━━━━━━━━━━━━━━━\u001b[0m\u001b[37m━\u001b[0m \u001b[1m0s\u001b[0m 4ms/step - loss: 2.3739 - main_out_accuracy: 0.3614 - main_out_loss: 2.0253 - second_chance_out_accuracy: 0.8881 - second_chance_out_loss: 0.3486Loading shard: split_data_parquet/val_000.parquet\n"
     ]
    },
    {
     "name": "stderr",
     "output_type": "stream",
     "text": [
      "/opt/anaconda3/envs/nba_capston/lib/python3.12/site-packages/keras/src/trainers/epoch_iterator.py:151: UserWarning: Your input ran out of data; interrupting training. Make sure that your dataset or generator can generate at least `steps_per_epoch * epochs` batches. You may need to use the `.repeat()` function when building your dataset.\n",
      "  self._interrupted_warning()\n"
     ]
    },
    {
     "name": "stdout",
     "output_type": "stream",
     "text": [
      "Loading shard: split_data_parquet/val_001.parquet\n",
      "\u001b[1m19153/19153\u001b[0m \u001b[32m━━━━━━━━━━━━━━━━━━━━\u001b[0m\u001b[37m\u001b[0m \u001b[1m92s\u001b[0m 5ms/step - loss: 2.3739 - main_out_accuracy: 0.3614 - main_out_loss: 2.0253 - second_chance_out_accuracy: 0.8881 - second_chance_out_loss: 0.3486 - val_loss: 2.3771 - val_main_out_accuracy: 0.3624 - val_main_out_loss: 2.0251 - val_second_chance_out_accuracy: 0.8872 - val_second_chance_out_loss: 0.3509\n",
      "Epoch 9/10\n"
     ]
    },
    {
     "name": "stderr",
     "output_type": "stream",
     "text": [
      "/opt/anaconda3/envs/nba_capston/lib/python3.12/site-packages/keras/src/trainers/epoch_iterator.py:151: UserWarning: Your input ran out of data; interrupting training. Make sure that your dataset or generator can generate at least `steps_per_epoch * epochs` batches. You may need to use the `.repeat()` function when building your dataset.\n",
      "  self._interrupted_warning()\n"
     ]
    },
    {
     "name": "stdout",
     "output_type": "stream",
     "text": [
      "Loading shard: split_data_parquet/train_000.parquet\n",
      "\u001b[1m 1752/19153\u001b[0m \u001b[32m━\u001b[0m\u001b[37m━━━━━━━━━━━━━━━━━━━\u001b[0m \u001b[1m1:14\u001b[0m 4ms/step - loss: 2.3684 - main_out_accuracy: 0.3606 - main_out_loss: 2.0229 - second_chance_out_accuracy: 0.8895 - second_chance_out_loss: 0.3455Loading shard: split_data_parquet/train_001.parquet\n",
      "\u001b[1m 3670/19153\u001b[0m \u001b[32m━━━\u001b[0m\u001b[37m━━━━━━━━━━━━━━━━━\u001b[0m \u001b[1m1:06\u001b[0m 4ms/step - loss: 2.3711 - main_out_accuracy: 0.3609 - main_out_loss: 2.0242 - second_chance_out_accuracy: 0.8888 - second_chance_out_loss: 0.3469Loading shard: split_data_parquet/train_002.parquet\n",
      "\u001b[1m 5582/19153\u001b[0m \u001b[32m━━━━━\u001b[0m\u001b[37m━━━━━━━━━━━━━━━\u001b[0m \u001b[1m58s\u001b[0m 4ms/step - loss: 2.3720 - main_out_accuracy: 0.3610 - main_out_loss: 2.0246 - second_chance_out_accuracy: 0.8886 - second_chance_out_loss: 0.3474Loading shard: split_data_parquet/train_003.parquet\n",
      "\u001b[1m 7495/19153\u001b[0m \u001b[32m━━━━━━━\u001b[0m\u001b[37m━━━━━━━━━━━━━\u001b[0m \u001b[1m49s\u001b[0m 4ms/step - loss: 2.3722 - main_out_accuracy: 0.3612 - main_out_loss: 2.0245 - second_chance_out_accuracy: 0.8885 - second_chance_out_loss: 0.3477Loading shard: split_data_parquet/train_004.parquet\n",
      "\u001b[1m 9409/19153\u001b[0m \u001b[32m━━━━━━━━━\u001b[0m\u001b[37m━━━━━━━━━━━\u001b[0m \u001b[1m41s\u001b[0m 4ms/step - loss: 2.3725 - main_out_accuracy: 0.3613 - main_out_loss: 2.0246 - second_chance_out_accuracy: 0.8884 - second_chance_out_loss: 0.3479Loading shard: split_data_parquet/train_005.parquet\n",
      "\u001b[1m11330/19153\u001b[0m \u001b[32m━━━━━━━━━━━\u001b[0m\u001b[37m━━━━━━━━━\u001b[0m \u001b[1m33s\u001b[0m 4ms/step - loss: 2.3726 - main_out_accuracy: 0.3614 - main_out_loss: 2.0246 - second_chance_out_accuracy: 0.8883 - second_chance_out_loss: 0.3480Loading shard: split_data_parquet/train_006.parquet\n",
      "\u001b[1m13241/19153\u001b[0m \u001b[32m━━━━━━━━━━━━━\u001b[0m\u001b[37m━━━━━━━\u001b[0m \u001b[1m25s\u001b[0m 4ms/step - loss: 2.3728 - main_out_accuracy: 0.3614 - main_out_loss: 2.0246 - second_chance_out_accuracy: 0.8882 - second_chance_out_loss: 0.3482Loading shard: split_data_parquet/train_007.parquet\n",
      "\u001b[1m15161/19153\u001b[0m \u001b[32m━━━━━━━━━━━━━━━\u001b[0m\u001b[37m━━━━━\u001b[0m \u001b[1m17s\u001b[0m 4ms/step - loss: 2.3729 - main_out_accuracy: 0.3615 - main_out_loss: 2.0246 - second_chance_out_accuracy: 0.8882 - second_chance_out_loss: 0.3483Loading shard: split_data_parquet/train_008.parquet\n",
      "\u001b[1m17071/19153\u001b[0m \u001b[32m━━━━━━━━━━━━━━━━━\u001b[0m\u001b[37m━━━\u001b[0m \u001b[1m9s\u001b[0m 4ms/step - loss: 2.3730 - main_out_accuracy: 0.3615 - main_out_loss: 2.0246 - second_chance_out_accuracy: 0.8881 - second_chance_out_loss: 0.3484Loading shard: split_data_parquet/train_009.parquet\n",
      "\u001b[1m19119/19153\u001b[0m \u001b[32m━━━━━━━━━━━━━━━━━━━\u001b[0m\u001b[37m━\u001b[0m \u001b[1m0s\u001b[0m 4ms/step - loss: 2.3732 - main_out_accuracy: 0.3615 - main_out_loss: 2.0246 - second_chance_out_accuracy: 0.8881 - second_chance_out_loss: 0.3485Loading shard: split_data_parquet/val_000.parquet\n"
     ]
    },
    {
     "name": "stderr",
     "output_type": "stream",
     "text": [
      "/opt/anaconda3/envs/nba_capston/lib/python3.12/site-packages/keras/src/trainers/epoch_iterator.py:151: UserWarning: Your input ran out of data; interrupting training. Make sure that your dataset or generator can generate at least `steps_per_epoch * epochs` batches. You may need to use the `.repeat()` function when building your dataset.\n",
      "  self._interrupted_warning()\n"
     ]
    },
    {
     "name": "stdout",
     "output_type": "stream",
     "text": [
      "Loading shard: split_data_parquet/val_001.parquet\n",
      "\u001b[1m19153/19153\u001b[0m \u001b[32m━━━━━━━━━━━━━━━━━━━━\u001b[0m\u001b[37m\u001b[0m \u001b[1m93s\u001b[0m 5ms/step - loss: 2.3732 - main_out_accuracy: 0.3615 - main_out_loss: 2.0246 - second_chance_out_accuracy: 0.8881 - second_chance_out_loss: 0.3485 - val_loss: 2.3767 - val_main_out_accuracy: 0.3624 - val_main_out_loss: 2.0247 - val_second_chance_out_accuracy: 0.8872 - val_second_chance_out_loss: 0.3509\n",
      "Epoch 10/10\n"
     ]
    },
    {
     "name": "stderr",
     "output_type": "stream",
     "text": [
      "/opt/anaconda3/envs/nba_capston/lib/python3.12/site-packages/keras/src/trainers/epoch_iterator.py:151: UserWarning: Your input ran out of data; interrupting training. Make sure that your dataset or generator can generate at least `steps_per_epoch * epochs` batches. You may need to use the `.repeat()` function when building your dataset.\n",
      "  self._interrupted_warning()\n"
     ]
    },
    {
     "name": "stdout",
     "output_type": "stream",
     "text": [
      "Loading shard: split_data_parquet/train_000.parquet\n",
      "\u001b[1m 1752/19153\u001b[0m \u001b[32m━\u001b[0m\u001b[37m━━━━━━━━━━━━━━━━━━━\u001b[0m \u001b[1m1:14\u001b[0m 4ms/step - loss: 2.3676 - main_out_accuracy: 0.3609 - main_out_loss: 2.0210 - second_chance_out_accuracy: 0.8889 - second_chance_out_loss: 0.3466Loading shard: split_data_parquet/train_001.parquet\n",
      "\u001b[1m 3666/19153\u001b[0m \u001b[32m━━━\u001b[0m\u001b[37m━━━━━━━━━━━━━━━━━\u001b[0m \u001b[1m1:06\u001b[0m 4ms/step - loss: 2.3704 - main_out_accuracy: 0.3611 - main_out_loss: 2.0230 - second_chance_out_accuracy: 0.8886 - second_chance_out_loss: 0.3474Loading shard: split_data_parquet/train_002.parquet\n",
      "\u001b[1m 5581/19153\u001b[0m \u001b[32m━━━━━\u001b[0m\u001b[37m━━━━━━━━━━━━━━━\u001b[0m \u001b[1m58s\u001b[0m 4ms/step - loss: 2.3714 - main_out_accuracy: 0.3611 - main_out_loss: 2.0236 - second_chance_out_accuracy: 0.8884 - second_chance_out_loss: 0.3477Loading shard: split_data_parquet/train_003.parquet\n",
      "\u001b[1m 7494/19153\u001b[0m \u001b[32m━━━━━━━\u001b[0m\u001b[37m━━━━━━━━━━━━━\u001b[0m \u001b[1m50s\u001b[0m 4ms/step - loss: 2.3716 - main_out_accuracy: 0.3613 - main_out_loss: 2.0238 - second_chance_out_accuracy: 0.8884 - second_chance_out_loss: 0.3478Loading shard: split_data_parquet/train_004.parquet\n",
      "\u001b[1m 9410/19153\u001b[0m \u001b[32m━━━━━━━━━\u001b[0m\u001b[37m━━━━━━━━━━━\u001b[0m \u001b[1m42s\u001b[0m 4ms/step - loss: 2.3719 - main_out_accuracy: 0.3614 - main_out_loss: 2.0239 - second_chance_out_accuracy: 0.8883 - second_chance_out_loss: 0.3480Loading shard: split_data_parquet/train_005.parquet\n",
      "\u001b[1m11326/19153\u001b[0m \u001b[32m━━━━━━━━━━━\u001b[0m\u001b[37m━━━━━━━━━\u001b[0m \u001b[1m33s\u001b[0m 4ms/step - loss: 2.3721 - main_out_accuracy: 0.3614 - main_out_loss: 2.0240 - second_chance_out_accuracy: 0.8882 - second_chance_out_loss: 0.3481Loading shard: split_data_parquet/train_006.parquet\n",
      "\u001b[1m13240/19153\u001b[0m \u001b[32m━━━━━━━━━━━━━\u001b[0m\u001b[37m━━━━━━━\u001b[0m \u001b[1m25s\u001b[0m 4ms/step - loss: 2.3723 - main_out_accuracy: 0.3615 - main_out_loss: 2.0240 - second_chance_out_accuracy: 0.8882 - second_chance_out_loss: 0.3483Loading shard: split_data_parquet/train_007.parquet\n",
      "\u001b[1m15155/19153\u001b[0m \u001b[32m━━━━━━━━━━━━━━━\u001b[0m\u001b[37m━━━━━\u001b[0m \u001b[1m17s\u001b[0m 4ms/step - loss: 2.3724 - main_out_accuracy: 0.3615 - main_out_loss: 2.0240 - second_chance_out_accuracy: 0.8881 - second_chance_out_loss: 0.3484Loading shard: split_data_parquet/train_008.parquet\n",
      "\u001b[1m17071/19153\u001b[0m \u001b[32m━━━━━━━━━━━━━━━━━\u001b[0m\u001b[37m━━━\u001b[0m \u001b[1m9s\u001b[0m 4ms/step - loss: 2.3725 - main_out_accuracy: 0.3615 - main_out_loss: 2.0241 - second_chance_out_accuracy: 0.8881 - second_chance_out_loss: 0.3485Loading shard: split_data_parquet/train_009.parquet\n",
      "\u001b[1m19140/19153\u001b[0m \u001b[32m━━━━━━━━━━━━━━━━━━━\u001b[0m\u001b[37m━\u001b[0m \u001b[1m0s\u001b[0m 4ms/step - loss: 2.3727 - main_out_accuracy: 0.3615 - main_out_loss: 2.0241 - second_chance_out_accuracy: 0.8880 - second_chance_out_loss: 0.3486Loading shard: split_data_parquet/val_000.parquet\n"
     ]
    },
    {
     "name": "stderr",
     "output_type": "stream",
     "text": [
      "/opt/anaconda3/envs/nba_capston/lib/python3.12/site-packages/keras/src/trainers/epoch_iterator.py:151: UserWarning: Your input ran out of data; interrupting training. Make sure that your dataset or generator can generate at least `steps_per_epoch * epochs` batches. You may need to use the `.repeat()` function when building your dataset.\n",
      "  self._interrupted_warning()\n"
     ]
    },
    {
     "name": "stdout",
     "output_type": "stream",
     "text": [
      "Loading shard: split_data_parquet/val_001.parquet\n",
      "\u001b[1m19153/19153\u001b[0m \u001b[32m━━━━━━━━━━━━━━━━━━━━\u001b[0m\u001b[37m\u001b[0m \u001b[1m93s\u001b[0m 5ms/step - loss: 2.3727 - main_out_accuracy: 0.3615 - main_out_loss: 2.0241 - second_chance_out_accuracy: 0.8880 - second_chance_out_loss: 0.3486 - val_loss: 2.3763 - val_main_out_accuracy: 0.3624 - val_main_out_loss: 2.0246 - val_second_chance_out_accuracy: 0.8872 - val_second_chance_out_loss: 0.3508\n"
     ]
    },
    {
     "name": "stderr",
     "output_type": "stream",
     "text": [
      "/opt/anaconda3/envs/nba_capston/lib/python3.12/site-packages/keras/src/trainers/epoch_iterator.py:151: UserWarning: Your input ran out of data; interrupting training. Make sure that your dataset or generator can generate at least `steps_per_epoch * epochs` batches. You may need to use the `.repeat()` function when building your dataset.\n",
      "  self._interrupted_warning()\n"
     ]
    },
    {
     "name": "stdout",
     "output_type": "stream",
     "text": [
      "Loading shard: split_data_parquet/test_000.parquet\n",
      "   1033/Unknown \u001b[1m5s\u001b[0m 4ms/step - loss: 2.3808 - main_out_accuracy: 0.3619 - main_out_loss: 2.0276 - second_chance_out_accuracy: 0.8861 - second_chance_out_loss: 0.3532Loading shard: split_data_parquet/test_001.parquet\n",
      "\u001b[1m2395/2395\u001b[0m \u001b[32m━━━━━━━━━━━━━━━━━━━━\u001b[0m\u001b[37m\u001b[0m \u001b[1m10s\u001b[0m 4ms/step - loss: 2.3793 - main_out_accuracy: 0.3610 - main_out_loss: 2.0288 - second_chance_out_accuracy: 0.8873 - second_chance_out_loss: 0.3506\n"
     ]
    },
    {
     "name": "stderr",
     "output_type": "stream",
     "text": [
      "/opt/anaconda3/envs/nba_capston/lib/python3.12/site-packages/keras/src/trainers/epoch_iterator.py:151: UserWarning: Your input ran out of data; interrupting training. Make sure that your dataset or generator can generate at least `steps_per_epoch * epochs` batches. You may need to use the `.repeat()` function when building your dataset.\n",
      "  self._interrupted_warning()\n"
     ]
    },
    {
     "data": {
      "text/plain": [
       "[2.3771352767944336,\n",
       " 2.027186870574951,\n",
       " 0.3486934006214142,\n",
       " 0.3609445095062256,\n",
       " 0.8881369233131409]"
      ]
     },
     "execution_count": 56,
     "metadata": {},
     "output_type": "execute_result"
    }
   ],
   "source": [
    "import tensorflow as tf\n",
    "from tensorflow.keras import layers, Model, Input\n",
    "import os\n",
    "import pandas as pd\n",
    "import numpy as np\n",
    "from tensorflow.keras.optimizers import Adam, SGD\n",
    "\n",
    "##############################################\n",
    "# Parameters & Setup\n",
    "##############################################\n",
    "seq_len = 10\n",
    "embedding_dim = 8\n",
    "batch_size = 64\n",
    "data_dir = 'split_data_parquet'\n",
    "\n",
    "player_columns = [\n",
    "    \"OFF_PLAYER1_ID\", \"OFF_PLAYER2_ID\", \"OFF_PLAYER3_ID\", \"OFF_PLAYER4_ID\", \"OFF_PLAYER5_ID\",\n",
    "    \"DEF_PLAYER1_ID\", \"DEF_PLAYER2_ID\", \"DEF_PLAYER3_ID\", \"DEF_PLAYER4_ID\", \"DEF_PLAYER5_ID\"\n",
    "]\n",
    "\n",
    "main_out_column = \"OUTCOME\"\n",
    "second_chance_column = \"SECOND_CHANCE\"\n",
    "unwanted_cols = [\"SHOOTER_ID\",\"ASSISTER_ID\",\"BLOCKER_ID\",\"STEALER_ID\",\"REBOUNDER_ID\",\"TURNOVER_ID\"]\n",
    "\n",
    "# Identify shard files\n",
    "train_files = sorted([os.path.join(data_dir, f) for f in os.listdir(data_dir) if f.startswith('train_') and f.endswith('.parquet')])\n",
    "val_files = sorted([os.path.join(data_dir, f) for f in os.listdir(data_dir) if f.startswith('val_') and f.endswith('.parquet')])\n",
    "test_files = sorted([os.path.join(data_dir, f) for f in os.listdir(data_dir) if f.startswith('test_') and f.endswith('.parquet')])\n",
    "\n",
    "##############################################\n",
    "# Build Player ID Mapping\n",
    "##############################################\n",
    "def gather_unique_player_ids(files, player_cols):\n",
    "    unique_ids = set()\n",
    "    for fpath in files:\n",
    "        print(f\"Scanning file for unique IDs: {fpath}\")\n",
    "        df = pd.read_parquet(fpath, columns=player_cols)  # load only player columns\n",
    "        df = df.dropna(subset=player_cols)\n",
    "        for col in player_cols:\n",
    "            unique_ids.update(df[col].dropna().astype(int).unique())\n",
    "    return unique_ids\n",
    "\n",
    "all_files = train_files + val_files + test_files\n",
    "all_unique_ids = gather_unique_player_ids(all_files, player_columns)\n",
    "\n",
    "unique_players = np.sort(list(all_unique_ids))\n",
    "player_to_index = {p: i for i, p in enumerate(unique_players)}\n",
    "v = len(unique_players)\n",
    "print(f\"Number of unique players: {v}\")\n",
    "print(\"Example mapping:\", list(player_to_index.items())[:10])\n",
    "\n",
    "##############################################\n",
    "# Model Definition Using Embeddings (with updated v)\n",
    "##############################################\n",
    "input_players = Input(shape=(seq_len,), dtype='int32', name='players_input')\n",
    "player_embedding = layers.Embedding(input_dim=v, output_dim=embedding_dim, name='player_embedding')(input_players)\n",
    "\n",
    "offense_emb = layers.Lambda(lambda t: t[:, :5, :], name='offense_slice')(player_embedding)\n",
    "defense_emb = layers.Lambda(lambda t: t[:, 5:, :], name='defense_slice')(player_embedding)\n",
    "\n",
    "off_mean = layers.Lambda(lambda t: tf.reduce_mean(t, axis=1), name='off_mean')(offense_emb)\n",
    "def_mean = layers.Lambda(lambda t: tf.reduce_mean(t, axis=1), name='def_mean')(defense_emb)\n",
    "\n",
    "concat = layers.Concatenate(name='concat')([off_mean, def_mean])\n",
    "hidden = layers.Dense(128, activation='relu', name='hidden')(concat)\n",
    "\n",
    "main_out = layers.Dense(14, activation='softmax', name='main_out')(hidden)\n",
    "second_chance_out = layers.Dense(1, activation='sigmoid', name='second_chance_out')(hidden)\n",
    "\n",
    "# Set a custom learning rate\n",
    "# optimizer = Adam(learning_rate=0.0001)\n",
    "optimizer = SGD(learning_rate=0.01, momentum=0.9)\n",
    "\n",
    "model = Model(inputs=input_players, outputs=[main_out, second_chance_out])\n",
    "model.compile(\n",
    "    optimizer=optimizer,\n",
    "    loss={\n",
    "        'main_out': 'categorical_crossentropy',\n",
    "        'second_chance_out': 'binary_crossentropy'\n",
    "    },\n",
    "    metrics={\n",
    "        'main_out': 'accuracy',\n",
    "        'second_chance_out': 'accuracy'\n",
    "    }\n",
    ")\n",
    "\n",
    "model.summary()\n",
    "\n",
    "##############################################\n",
    "# Utility Functions for tf.data Pipeline\n",
    "##############################################\n",
    "def shard_generator(file_list, main_col, sc_col, mapping):\n",
    "    \"\"\"\n",
    "    Yields individual samples (X, (y_main, y_sc)) from shard files.\n",
    "    Applies player_to_index mapping to ensure IDs are in [0, v-1].\n",
    "    \"\"\"\n",
    "    for fpath in file_list:\n",
    "        print(f\"Loading shard: {fpath}\")\n",
    "        df = pd.read_parquet(fpath)\n",
    "\n",
    "        # Drop rows with NaNs in player columns\n",
    "        df = df.dropna(subset=player_columns)\n",
    "\n",
    "        # Convert players to int\n",
    "        for col in player_columns:\n",
    "            df[col] = pd.to_numeric(df[col], errors='coerce').fillna(0).astype(int)\n",
    "\n",
    "        # Drop unwanted columns\n",
    "        for c in unwanted_cols:\n",
    "            if c in df.columns:\n",
    "                df.drop(columns=c, inplace=True)\n",
    "\n",
    "        # One-hot the outcome column\n",
    "        categories = sorted(df[main_col].unique())\n",
    "        cat_to_idx = {cat: i for i, cat in enumerate(categories)}\n",
    "\n",
    "        num_samples = len(df)\n",
    "        y_main = np.zeros((num_samples, 14), dtype='float32')\n",
    "        for i, val in enumerate(df[main_col]):\n",
    "            class_idx = cat_to_idx[val]\n",
    "            y_main[i, class_idx] = 1.0\n",
    "\n",
    "        y_sc = df[sc_col].astype(int).values.reshape(-1, 1)\n",
    "\n",
    "        # Drop target columns now\n",
    "        df.drop(columns=[main_col, sc_col], inplace=True)\n",
    "\n",
    "        # Map player IDs\n",
    "        for c in player_columns:\n",
    "            df[c] = df[c].map(mapping)\n",
    "\n",
    "        X = df[player_columns].values.astype(np.int32)\n",
    "\n",
    "        # Yield each sample\n",
    "        for i in range(num_samples):\n",
    "            yield X[i], (y_main[i], y_sc[i])\n",
    "\n",
    "def create_dataset(file_list, main_col, sc_col, batch_size, mapping, shuffle_buffer=10000):\n",
    "    ds = tf.data.Dataset.from_generator(\n",
    "        lambda: shard_generator(file_list, main_col, sc_col, mapping),\n",
    "        output_types=(tf.int32, (tf.float32, tf.float32)),\n",
    "        output_shapes=((seq_len,), ((14,), (1,)))\n",
    "    )\n",
    "\n",
    "    ds = ds.shuffle(shuffle_buffer)\n",
    "    ds = ds.batch(batch_size)\n",
    "    ds = ds.prefetch(tf.data.AUTOTUNE)\n",
    "    return ds\n",
    "\n",
    "##############################################\n",
    "# Create Datasets using mapping\n",
    "##############################################\n",
    "train_ds = create_dataset(train_files, main_out_column, second_chance_column, batch_size, player_to_index)\n",
    "val_ds = create_dataset(val_files, main_out_column, second_chance_column, batch_size, player_to_index)\n",
    "test_ds = create_dataset(test_files, main_out_column, second_chance_column, batch_size, player_to_index)\n",
    "\n",
    "##############################################\n",
    "# Training with tf.data\n",
    "##############################################\n",
    "model.fit(\n",
    "    train_ds,\n",
    "    validation_data=val_ds,\n",
    "    epochs=10\n",
    ")\n",
    "\n",
    "##############################################\n",
    "# Evaluation\n",
    "##############################################\n",
    "model.evaluate(test_ds)"
   ]
  },
  {
   "cell_type": "code",
   "execution_count": 57,
   "metadata": {},
   "outputs": [
    {
     "name": "stdout",
     "output_type": "stream",
     "text": [
      "Saved player embeddings to player_embeddings.csv\n"
     ]
    }
   ],
   "source": [
    "import pandas as pd\n",
    "\n",
    "# After training the model and having player_to_index, unique_players defined:\n",
    "embedding_matrix = model.get_layer('player_embedding').get_weights()[0]\n",
    "\n",
    "# Create a DataFrame for player embeddings\n",
    "# Columns: ['player_id', 'embed_0', 'embed_1', ..., 'embed_{embedding_dim-1}']\n",
    "columns = ['player_id'] + [f'embed_{d}' for d in range(embedding_matrix.shape[1])]\n",
    "\n",
    "data = []\n",
    "for p, i in player_to_index.items():\n",
    "    # embedding_matrix[i] is the embedding vector for player p\n",
    "    row = [p] + embedding_matrix[i].tolist()\n",
    "    data.append(row)\n",
    "\n",
    "df = pd.DataFrame(data, columns=columns)\n",
    "\n",
    "# Save to a CSV file\n",
    "output_csv = 'player_embeddings.csv'\n",
    "df.to_csv(output_csv, index=False)\n",
    "\n",
    "print(f\"Saved player embeddings to {output_csv}\")"
   ]
  },
  {
   "cell_type": "code",
   "execution_count": 58,
   "metadata": {},
   "outputs": [
    {
     "data": {
      "image/png": "[encoded data removed]",
      "text/plain": [
       "<Figure size 1000x700 with 1 Axes>"
      ]
     },
     "metadata": {},
     "output_type": "display_data"
    }
   ],
   "source": [
    "import pandas as pd\n",
    "import numpy as np\n",
    "from sklearn.manifold import TSNE\n",
    "import matplotlib.pyplot as plt\n",
    "from nba_api.stats.static import players\n",
    "from adjustText import adjust_text\n",
    "\n",
    "# Load the embeddings from the CSV\n",
    "df = pd.read_csv('player_embeddings.csv')  # Ensure the CSV path is correct\n",
    "\n",
    "player_ids = df['player_id'].values\n",
    "# Extract embedding columns (all except 'player_id')\n",
    "embedding_cols = [c for c in df.columns if c.startswith('embed_')]\n",
    "vectors = df[embedding_cols].values  # shape (num_players, embedding_dim)\n",
    "\n",
    "# Run TSNE on vectors\n",
    "tsne = TSNE(n_components=2, perplexity=30, random_state=42)\n",
    "tsne_coords = tsne.fit_transform(vectors)\n",
    "\n",
    "x_coords = tsne_coords[:, 0]\n",
    "y_coords = tsne_coords[:, 1]\n",
    "\n",
    "# Get NBA players list and create a dict id->full_name if your player_id matches nba_api ids\n",
    "all_nba_players = players.get_players()\n",
    "id_to_name = {p['id']: p['full_name'] for p in all_nba_players}\n",
    "\n",
    "plt.figure(figsize=(10, 7))\n",
    "plt.scatter(x_coords, y_coords, s=20)\n",
    "\n",
    "# We'll store text objects separately and then call adjust_text\n",
    "texts = []\n",
    "\n",
    "# Label the first 10 points (or any other selection logic)\n",
    "for i, pid in enumerate(player_ids):\n",
    "    if 100 < i < 130:\n",
    "        label = id_to_name.get(pid, str(pid))\n",
    "        # Instead of plt.text directly, we add them to a list\n",
    "        text_obj = plt.text(x_coords[i], y_coords[i], label, fontsize=9)\n",
    "        texts.append(text_obj)\n",
    "\n",
    "plt.title(\"Player Embeddings (t-SNE 2D Projection)\")\n",
    "plt.xlabel(\"Dimension 1\")\n",
    "plt.ylabel(\"Dimension 2\")\n",
    "plt.grid(True)\n",
    "\n",
    "# Adjust text positions to avoid overlap\n",
    "adjust_text(texts, x=x_coords[:10], y=y_coords[:10], arrowprops=dict(arrowstyle='->', color='red', lw=0.5))\n",
    "\n",
    "plt.show()"
   ]
  },
  {
   "cell_type": "code",
   "execution_count": 59,
   "metadata": {},
   "outputs": [
    {
     "name": "stdout",
     "output_type": "stream",
     "text": [
      "Top 5 players closest to LeBron James:\n",
      "1. Kristaps Porziņģis (ID: 204001), similarity: 0.9477\n",
      "2. Chet Holmgren (ID: 1631096), similarity: 0.9294\n",
      "3. Myles Turner (ID: 1626167), similarity: 0.8483\n",
      "4. Chris Paul (ID: 101108), similarity: 0.8223\n",
      "5. Mikal Bridges (ID: 1628969), similarity: 0.8152\n",
      "6. Cason Wallace (ID: 1641717), similarity: 0.8138\n",
      "7. Aaron Wiggins (ID: 1630598), similarity: 0.8034\n",
      "8. Derrick Jones Jr. (ID: 1627884), similarity: 0.8011\n",
      "9. Anthony Davis (ID: 203076), similarity: 0.8000\n",
      "10. Kevin Durant (ID: 201142), similarity: 0.7814\n",
      "11. Derrick White (ID: 1628401), similarity: 0.7668\n",
      "12. Jaren Jackson Jr. (ID: 1628991), similarity: 0.7645\n",
      "13. Jalen Johnson (ID: 1630552), similarity: 0.7630\n",
      "14. Vasilije Micić (ID: 203995), similarity: 0.7483\n",
      "15. P.J. Washington (ID: 1629023), similarity: 0.7330\n",
      "16. Herbert Jones (ID: 1630529), similarity: 0.7326\n",
      "17. Evan Mobley (ID: 1630596), similarity: 0.7313\n",
      "18. Marco Belinelli (ID: 201158), similarity: 0.7304\n",
      "19. Braxton Key (ID: 1630296), similarity: 0.7235\n",
      "20. Tre Jones (ID: 1630200), similarity: 0.7091\n"
     ]
    }
   ],
   "source": [
    "import pandas as pd\n",
    "import numpy as np\n",
    "from nba_api.stats.static import players\n",
    "from sklearn.metrics.pairwise import cosine_similarity\n",
    "\n",
    "# Load embeddings from CSV\n",
    "df = pd.read_csv('player_embeddings.csv')  # Ensure correct path\n",
    "player_ids = df['player_id'].values\n",
    "embedding_cols = [c for c in df.columns if c.startswith('embed_')]\n",
    "vectors = df[embedding_cols].values  # shape (num_players, embedding_dim)\n",
    "\n",
    "# Mapping from player_id to row index\n",
    "id_to_index = {pid: idx for idx, pid in enumerate(player_ids)}\n",
    "\n",
    "# LeBron James player_id in nba_api:\n",
    "lebron_id = 2544\n",
    "if lebron_id not in id_to_index:\n",
    "    raise ValueError(\"LeBron James (player_id=2544) not found in embeddings CSV.\")\n",
    "\n",
    "lebron_idx = id_to_index[lebron_id]\n",
    "lebron_vec = vectors[lebron_idx].reshape(1, -1)\n",
    "\n",
    "# Compute cosine similarity between LeBron and all other players\n",
    "similarities = cosine_similarity(lebron_vec, vectors)[0]  # shape (num_players,)\n",
    "\n",
    "# Set LeBron's own similarity to -inf\n",
    "similarities[lebron_idx] = -np.inf\n",
    "\n",
    "# Sort by similarity\n",
    "sorted_indices = np.argsort(similarities)[::-1]  # descending order\n",
    "top_5_indices = sorted_indices[:20]\n",
    "\n",
    "all_nba_players = players.get_players()\n",
    "id_to_name = {p['id']: p['full_name'] for p in all_nba_players}\n",
    "\n",
    "print(\"Top 5 players closest to LeBron James:\")\n",
    "for rank, idx_ in enumerate(top_5_indices, start=1):\n",
    "    pid = player_ids[idx_]\n",
    "    pname = id_to_name.get(pid, str(pid))\n",
    "    sim = similarities[idx_]\n",
    "    print(f\"{rank}. {pname} (ID: {pid}), similarity: {sim:.4f}\")"
   ]
  },
  {
   "cell_type": "code",
   "execution_count": 60,
   "metadata": {},
   "outputs": [
    {
     "name": "stdout",
     "output_type": "stream",
     "text": [
      "Top 5 players closest to Stephen Curry:\n",
      "1. James Harden (ID: 201935), similarity: 0.8491\n",
      "2. Isaiah Roby (ID: 1629676), similarity: 0.7995\n",
      "3. Lonzo Ball (ID: 1628366), similarity: 0.7480\n",
      "4. Buddy Hield (ID: 1627741), similarity: 0.7215\n",
      "5. Sam Hauser (ID: 1630573), similarity: 0.7188\n",
      "6. Marvin Williams (ID: 101107), similarity: 0.6842\n",
      "7. 1629777 (ID: 1629777), similarity: 0.6750\n",
      "8. Andre Iguodala (ID: 2738), similarity: 0.6729\n",
      "9. Tyrese Haliburton (ID: 1630169), similarity: 0.6720\n",
      "10. Devin Vassell (ID: 1630170), similarity: 0.6658\n",
      "11. Shabazz Napier (ID: 203894), similarity: 0.6612\n",
      "12. Nicolas Batum (ID: 201587), similarity: 0.6571\n",
      "13. Mason Jones (ID: 1630222), similarity: 0.6528\n",
      "14. D'Angelo Russell (ID: 1626156), similarity: 0.6509\n",
      "15. Derrick White (ID: 1628401), similarity: 0.6495\n",
      "16. Mamadi Diakite (ID: 1629603), similarity: 0.6420\n",
      "17. Keyonte George (ID: 1641718), similarity: 0.6417\n",
      "18. Theo Pinson (ID: 1629033), similarity: 0.6369\n",
      "19. DJ Steward (ID: 1630569), similarity: 0.6309\n",
      "20. Josh Magette (ID: 203705), similarity: 0.6178\n"
     ]
    }
   ],
   "source": [
    "import pandas as pd\n",
    "import numpy as np\n",
    "from nba_api.stats.static import players\n",
    "from sklearn.metrics.pairwise import cosine_similarity\n",
    "\n",
    "# Load embeddings from CSV\n",
    "df = pd.read_csv('player_embeddings.csv')  # Ensure correct path\n",
    "player_ids = df['player_id'].values\n",
    "embedding_cols = [c for c in df.columns if c.startswith('embed_')]\n",
    "vectors = df[embedding_cols].values  # shape (num_players, embedding_dim)\n",
    "\n",
    "# Mapping from player_id to row index\n",
    "id_to_index = {pid: idx for idx, pid in enumerate(player_ids)}\n",
    "\n",
    "# Stephen Curry player_id in nba_api:\n",
    "curry_id = 201939\n",
    "if curry_id not in id_to_index:\n",
    "    raise ValueError(\"Stephen Curry (player_id=201939) not found in embeddings CSV.\")\n",
    "\n",
    "curry_idx = id_to_index[curry_id]\n",
    "curry_vec = vectors[curry_idx].reshape(1, -1)\n",
    "\n",
    "# Compute cosine similarity between Curry and all other players\n",
    "similarities = cosine_similarity(curry_vec, vectors)[0]  # shape (num_players,)\n",
    "\n",
    "# Set Curry's own similarity to -inf so he doesn't appear as his own closest match\n",
    "similarities[curry_idx] = -np.inf\n",
    "\n",
    "# Sort by similarity\n",
    "sorted_indices = np.argsort(similarities)[::-1]  # descending order\n",
    "top_5_indices = sorted_indices[:20]\n",
    "\n",
    "all_nba_players = players.get_players()\n",
    "id_to_name = {p['id']: p['full_name'] for p in all_nba_players}\n",
    "\n",
    "print(\"Top 5 players closest to Stephen Curry:\")\n",
    "for rank, idx_ in enumerate(top_5_indices, start=1):\n",
    "    pid = player_ids[idx_]\n",
    "    pname = id_to_name.get(pid, str(pid))\n",
    "    sim = similarities[idx_]\n",
    "    print(f\"{rank}. {pname} (ID: {pid}), similarity: {sim:.4f}\")"
   ]
  },
  {
   "cell_type": "code",
   "execution_count": 61,
   "metadata": {},
   "outputs": [
    {
     "name": "stdout",
     "output_type": "stream",
     "text": [
      "Top 5 players closest to Jayson Tatum:\n",
      "1. Spencer Dinwiddie (ID: 203915), similarity: 0.8769\n",
      "2. Desmond Bane (ID: 1630217), similarity: 0.8428\n",
      "3. Bogdan Bogdanović (ID: 203992), similarity: 0.8284\n",
      "4. Jrue Holiday (ID: 201950), similarity: 0.8276\n",
      "5. Immanuel Quickley (ID: 1630193), similarity: 0.8272\n",
      "6. Damian Lillard (ID: 203081), similarity: 0.8231\n",
      "7. Andrew Wiggins (ID: 203952), similarity: 0.8153\n",
      "8. Cole Anthony (ID: 1630175), similarity: 0.8145\n",
      "9. Dean Wade (ID: 1629731), similarity: 0.7983\n",
      "10. Luka Dončić (ID: 1629029), similarity: 0.7841\n",
      "11. Luguentz Dort (ID: 1629652), similarity: 0.7797\n",
      "12. Haywood Highsmith (ID: 1629312), similarity: 0.7509\n",
      "13. Lamar Stevens (ID: 1630205), similarity: 0.7481\n",
      "14. Royce O'Neale (ID: 1626220), similarity: 0.7409\n",
      "15. Reggie Jackson (ID: 202704), similarity: 0.7388\n",
      "16. Jevon Carter (ID: 1628975), similarity: 0.7383\n",
      "17. Kyrie Irving (ID: 202681), similarity: 0.7302\n",
      "18. Pat Connaughton (ID: 1626192), similarity: 0.7160\n",
      "19. Austin Reaves (ID: 1630559), similarity: 0.7100\n",
      "20. Derrick White (ID: 1628401), similarity: 0.7090\n"
     ]
    }
   ],
   "source": [
    "import pandas as pd\n",
    "import numpy as np\n",
    "from nba_api.stats.static import players\n",
    "from sklearn.metrics.pairwise import cosine_similarity\n",
    "\n",
    "# Load embeddings from CSV\n",
    "df = pd.read_csv('player_embeddings.csv')  # Ensure the path is correct\n",
    "player_ids = df['player_id'].values\n",
    "embedding_cols = [c for c in df.columns if c.startswith('embed_')]\n",
    "vectors = df[embedding_cols].values  # shape (num_players, embedding_dim)\n",
    "\n",
    "# Mapping from player_id to row index\n",
    "id_to_index = {pid: idx for idx, pid in enumerate(player_ids)}\n",
    "\n",
    "# Jayson Tatum's player_id in nba_api:\n",
    "tatum_id = 1628369\n",
    "if tatum_id not in id_to_index:\n",
    "    raise ValueError(\"Jayson Tatum (player_id=1628369) not found in embeddings CSV.\")\n",
    "\n",
    "tatum_idx = id_to_index[tatum_id]\n",
    "tatum_vec = vectors[tatum_idx].reshape(1, -1)\n",
    "\n",
    "# Compute cosine similarity between Tatum and all other players\n",
    "similarities = cosine_similarity(tatum_vec, vectors)[0]  # shape (num_players,)\n",
    "\n",
    "# Set Tatum's own similarity to -inf so he doesn't appear as his own closest match\n",
    "similarities[tatum_idx] = -np.inf\n",
    "\n",
    "# Sort by similarity descending\n",
    "sorted_indices = np.argsort(similarities)[::-1]\n",
    "top_5_indices = sorted_indices[:20]\n",
    "\n",
    "all_nba_players = players.get_players()\n",
    "id_to_name = {p['id']: p['full_name'] for p in all_nba_players}\n",
    "\n",
    "print(\"Top 5 players closest to Jayson Tatum:\")\n",
    "for rank, idx_ in enumerate(top_5_indices, start=1):\n",
    "    pid = player_ids[idx_]\n",
    "    pname = id_to_name.get(pid, str(pid))\n",
    "    sim = similarities[idx_]\n",
    "    print(f\"{rank}. {pname} (ID: {pid}), similarity: {sim:.4f}\")"
   ]
  },
  {
   "cell_type": "code",
   "execution_count": 62,
   "metadata": {},
   "outputs": [
    {
     "name": "stdout",
     "output_type": "stream",
     "text": [
      "Top 5 players closest to Jaylen Brown:\n",
      "1. Derrick Jones Jr. (ID: 1627884), similarity: 0.8981\n",
      "2. Austin Reaves (ID: 1630559), similarity: 0.8568\n",
      "3. Tyrone Wallace (ID: 1627820), similarity: 0.8391\n",
      "4. Kyle Kuzma (ID: 1628398), similarity: 0.8370\n",
      "5. Bryce McGowens (ID: 1631121), similarity: 0.8358\n",
      "6. Lou Williams (ID: 101150), similarity: 0.8335\n",
      "7. Lamar Stevens (ID: 1630205), similarity: 0.8318\n",
      "8. Ochai Agbaji (ID: 1630534), similarity: 0.8291\n",
      "9. Montrezl Harrell (ID: 1626149), similarity: 0.8103\n",
      "10. Jonathan Kuminga (ID: 1630228), similarity: 0.8059\n",
      "11. Trae Young (ID: 1629027), similarity: 0.7953\n",
      "12. Devin Booker (ID: 1626164), similarity: 0.7914\n",
      "13. Kevin Durant (ID: 201142), similarity: 0.7836\n",
      "14. Kai Jones (ID: 1630539), similarity: 0.7698\n",
      "15. Saben Lee (ID: 1630240), similarity: 0.7654\n",
      "16. Ja Morant (ID: 1629630), similarity: 0.7626\n",
      "17. Christian Wood (ID: 1626174), similarity: 0.7560\n",
      "18. Russell Westbrook (ID: 201566), similarity: 0.7445\n",
      "19. Dereon Seabron (ID: 1631220), similarity: 0.7427\n",
      "20. Raul Neto (ID: 203526), similarity: 0.7371\n"
     ]
    }
   ],
   "source": [
    "import pandas as pd\n",
    "import numpy as np\n",
    "from nba_api.stats.static import players\n",
    "from sklearn.metrics.pairwise import cosine_similarity\n",
    "\n",
    "# Load embeddings from CSV\n",
    "df = pd.read_csv('player_embeddings.csv')  # Ensure the path is correct\n",
    "player_ids = df['player_id'].values\n",
    "embedding_cols = [c for c in df.columns if c.startswith('embed_')]\n",
    "vectors = df[embedding_cols].values  # shape (num_players, embedding_dim)\n",
    "\n",
    "# Mapping from player_id to row index\n",
    "id_to_index = {pid: idx for idx, pid in enumerate(player_ids)}\n",
    "\n",
    "# Jaylen Brown's player_id in nba_api:\n",
    "brown_id = 1627759\n",
    "if brown_id not in id_to_index:\n",
    "    raise ValueError(\"Jaylen Brown (player_id=1627759) not found in embeddings CSV.\")\n",
    "\n",
    "brown_idx = id_to_index[brown_id]\n",
    "brown_vec = vectors[brown_idx].reshape(1, -1)\n",
    "\n",
    "# Compute cosine similarity between Brown and all other players\n",
    "similarities = cosine_similarity(brown_vec, vectors)[0]  # shape (num_players,)\n",
    "\n",
    "# Set Brown's own similarity to -inf so he doesn't appear as his own closest match\n",
    "similarities[brown_idx] = -np.inf\n",
    "\n",
    "# Sort by similarity descending\n",
    "sorted_indices = np.argsort(similarities)[::-1]\n",
    "top_5_indices = sorted_indices[:20]\n",
    "\n",
    "all_nba_players = players.get_players()\n",
    "id_to_name = {p['id']: p['full_name'] for p in all_nba_players}\n",
    "\n",
    "print(\"Top 5 players closest to Jaylen Brown:\")\n",
    "for rank, idx_ in enumerate(top_5_indices, start=1):\n",
    "    pid = player_ids[idx_]\n",
    "    pname = id_to_name.get(pid, str(pid))\n",
    "    sim = similarities[idx_]\n",
    "    print(f\"{rank}. {pname} (ID: {pid}), similarity: {sim:.4f}\")"
   ]
  },
  {
   "cell_type": "code",
   "execution_count": 63,
   "metadata": {},
   "outputs": [
    {
     "name": "stdout",
     "output_type": "stream",
     "text": [
      "Top 5 players closest to Rudy Gobert:\n",
      "1. DeAndre Jordan (ID: 201599), similarity: 0.8467\n",
      "2. GG Jackson (ID: 1641713), similarity: 0.7997\n",
      "3. 1630289 (ID: 1630289), similarity: 0.7726\n",
      "4. Luka Samanic (ID: 1629677), similarity: 0.7481\n",
      "5. Drew Eubanks (ID: 1629234), similarity: 0.7094\n",
      "6. Montrezl Harrell (ID: 1626149), similarity: 0.6903\n",
      "7. Joel Embiid (ID: 203954), similarity: 0.6886\n",
      "8. Kenneth Faried (ID: 202702), similarity: 0.6879\n",
      "9. Dwight Powell (ID: 203939), similarity: 0.6853\n",
      "10. Christian Wood (ID: 1626174), similarity: 0.6808\n",
      "11. Jalen Duren (ID: 1631105), similarity: 0.6790\n",
      "12. Jarrett Allen (ID: 1628386), similarity: 0.6770\n",
      "13. 1629081 (ID: 1629081), similarity: 0.6689\n",
      "14. Keyonte George (ID: 1641718), similarity: 0.6612\n",
      "15. Isaiah Stewart (ID: 1630191), similarity: 0.6435\n",
      "16. Serge Ibaka (ID: 201586), similarity: 0.6411\n",
      "17. Rui Hachimura (ID: 1629060), similarity: 0.6239\n",
      "18. Noah Clowney (ID: 1641730), similarity: 0.6214\n",
      "19. Nathan Knight (ID: 1630233), similarity: 0.6198\n",
      "20. Jaylen Adams (ID: 1629121), similarity: 0.6189\n"
     ]
    }
   ],
   "source": [
    "import pandas as pd\n",
    "import numpy as np\n",
    "from nba_api.stats.static import players\n",
    "from sklearn.metrics.pairwise import cosine_similarity\n",
    "\n",
    "# Load embeddings from CSV\n",
    "df = pd.read_csv('player_embeddings.csv')  # Ensure the path is correct\n",
    "player_ids = df['player_id'].values\n",
    "embedding_cols = [c for c in df.columns if c.startswith('embed_')]\n",
    "vectors = df[embedding_cols].values  # shape (num_players, embedding_dim)\n",
    "\n",
    "# Mapping from player_id to row index\n",
    "id_to_index = {pid: idx for idx, pid in enumerate(player_ids)}\n",
    "\n",
    "# Rudy Gobert's player_id in nba_api:\n",
    "gobert_id = 203497\n",
    "if gobert_id not in id_to_index:\n",
    "    raise ValueError(\"Rudy Gobert (player_id=203497) not found in embeddings CSV.\")\n",
    "\n",
    "gobert_idx = id_to_index[gobert_id]\n",
    "gobert_vec = vectors[gobert_idx].reshape(1, -1)\n",
    "\n",
    "# Compute cosine similarity between Gobert and all other players\n",
    "similarities = cosine_similarity(gobert_vec, vectors)[0]  # shape (num_players,)\n",
    "\n",
    "# Set Gobert's own similarity to -inf so he doesn't appear as his own closest match\n",
    "similarities[gobert_idx] = -np.inf\n",
    "\n",
    "# Sort by similarity descending\n",
    "sorted_indices = np.argsort(similarities)[::-1]\n",
    "top_5_indices = sorted_indices[:20]\n",
    "\n",
    "all_nba_players = players.get_players()\n",
    "id_to_name = {p['id']: p['full_name'] for p in all_nba_players}\n",
    "\n",
    "print(\"Top 5 players closest to Rudy Gobert:\")\n",
    "for rank, idx_ in enumerate(top_5_indices, start=1):\n",
    "    pid = player_ids[idx_]\n",
    "    pname = id_to_name.get(pid, str(pid))\n",
    "    sim = similarities[idx_]\n",
    "    print(f\"{rank}. {pname} (ID: {pid}), similarity: {sim:.4f}\")"
   ]
  },
  {
   "cell_type": "code",
   "execution_count": 65,
   "metadata": {},
   "outputs": [],
   "source": [
    "model.save('model_one.keras')"
   ]
  }
 ],
 "metadata": {
  "kernelspec": {
   "display_name": "nba_capston",
   "language": "python",
   "name": "python3"
  },
  "language_info": {
   "codemirror_mode": {
    "name": "ipython",
    "version": 3
   },
   "file_extension": ".py",
   "mimetype": "text/x-python",
   "name": "python",
   "nbconvert_exporter": "python",
   "pygments_lexer": "ipython3",
   "version": "3.12.7"
  }
 },
 "nbformat": 4,
 "nbformat_minor": 2
}
