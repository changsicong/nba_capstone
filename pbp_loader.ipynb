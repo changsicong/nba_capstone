{
 "cells": [
  {
   "cell_type": "code",
   "execution_count": 16,
   "metadata": {},
   "outputs": [],
   "source": [
    "from nba_api.stats.endpoints import leaguegamefinder\n",
    "\n",
    "seasons = ['2023-24', '2022-23', '2021-22']\n",
    "\n",
    "# Initialize an empty list to store game IDs\n",
    "all_game_ids = []\n",
    "\n",
    "# Loop through each season and collect game IDs\n",
    "for season in seasons:\n",
    "    game_finder = leaguegamefinder.LeagueGameFinder(season_nullable=season)\n",
    "    games = game_finder.get_data_frames()[0]\n",
    "    game_ids = games['GAME_ID'].unique()\n",
    "    all_game_ids.extend(game_ids)"
   ]
  },
  {
   "cell_type": "code",
   "execution_count": 17,
   "metadata": {},
   "outputs": [
    {
     "data": {
      "text/plain": [
       "6441"
      ]
     },
     "execution_count": 17,
     "metadata": {},
     "output_type": "execute_result"
    }
   ],
   "source": [
    "len(all_game_ids)"
   ]
  },
  {
   "cell_type": "code",
   "execution_count": 28,
   "metadata": {},
   "outputs": [
    {
     "data": {
      "text/plain": [
       "818"
      ]
     },
     "execution_count": 28,
     "metadata": {},
     "output_type": "execute_result"
    }
   ],
   "source": [
    "from nba_api.stats.endpoints import leaguedashplayerstats\n",
    "\n",
    "def get_players_for_season(season_str):\n",
    "    # season_str format: 'YYYY-YY', e.g. '2023-24'\n",
    "    stats = leaguedashplayerstats.LeagueDashPlayerStats(season=season_str)\n",
    "    df = stats.get_data_frames()[0]\n",
    "    # 'PLAYER_ID' in this DataFrame gives you the unique ID of each player who played that season\n",
    "    player_ids = df['PLAYER_ID'].unique()\n",
    "    return set(player_ids)\n",
    "\n",
    "# Get player sets for each season\n",
    "players_2023_24 = get_players_for_season('2023-24')\n",
    "players_2022_23 = get_players_for_season('2022-23')\n",
    "players_2021_22 = get_players_for_season('2021-22')\n",
    "\n",
    "# Combine them into one set of unique player IDs\n",
    "all_players = players_2023_24.union(players_2022_23).union(players_2021_22)\n",
    "len(all_players)"
   ]
  },
  {
   "cell_type": "markdown",
   "metadata": {},
   "source": [
    "1.\t2-point unassisted\n",
    "2.\t2-point assisted\n",
    "3.\t3-point unassisted\n",
    "4.\t3-point assisted\n",
    "5.\t4-point play unassisted\n",
    "6.\t4-point play assisted\n",
    "\n",
    "7. Missed (blocked)\n",
    "8. Missed (unblocked)\n",
    "\n",
    "9. Turnover (stolen)\n",
    "10. Turnover (unforced or not stolen)\n",
    "\n",
    "11. Possession ends with 0 FTs made\n",
    "12. Possession ends with 1 FTs made\n",
    "13. Possession ends with 2 FTs made\n",
    "14. Possession ends with 3 FTs made"
   ]
  },
  {
   "cell_type": "code",
   "execution_count": 39,
   "metadata": {},
   "outputs": [],
   "source": [
    "valid_event_types = {FREE_THROW_ATTEMPT}\n",
    "pbp = playbyplayv2.PlayByPlayV2(game_id='0022100001').play_by_play.get_data_frame()\n",
    "pbp = noc.players_on_court(pbp)\n",
    "filtered_pbp = pbp[pbp['EVENTMSGTYPE'].isin(valid_event_types)].copy()\n",
    "filtered_pbp.to_csv(\"freethrow.csv\")"
   ]
  },
  {
   "cell_type": "code",
   "execution_count": null,
   "metadata": {},
   "outputs": [
    {
     "name": "stdout",
     "output_type": "stream",
     "text": [
      "3\n"
     ]
    }
   ],
   "source": [
    "import nba_on_court as noc\n",
    "from nba_api.stats.endpoints import playbyplayv2\n",
    "import pandas as pd\n",
    "import numpy as np\n",
    "import re\n",
    "\n",
    "# Define the event message types that matter\n",
    "FIELD_GOAL_MADE = 1\n",
    "FIELD_GOAL_MISSED = 2\n",
    "FREE_THROW_ATTEMPT = 3\n",
    "REBOUND = 4\n",
    "TURNOVER = 5\n",
    "\n",
    "valid_event_types = {FIELD_GOAL_MADE, FIELD_GOAL_MISSED, FREE_THROW_ATTEMPT, REBOUND, TURNOVER}\n",
    "\n",
    "columns = [\n",
    "    \"OFF_PLAYER1_ID\", \"OFF_PLAYER2_ID\", \"OFF_PLAYER3_ID\", \"OFF_PLAYER4_ID\", \"OFF_PLAYER5_ID\",\n",
    "    \"DEF_PLAYER1_ID\", \"DEF_PLAYER2_ID\", \"DEF_PLAYER3_ID\", \"DEF_PLAYER4_ID\", \"DEF_PLAYER5_ID\",\n",
    "    \"OUTCOME\",         # One of the 12 categories described (e.g., \"2PT_ASSIST\", \"MISSED_BLOCKED\", etc.)\n",
    "    \"SECOND_CHANCE\",    # 0 or 1\n",
    "    \"SHOOTER_ID\",       # ID of the player who took the shot (if applicable)\n",
    "    \"ASSISTER_ID\",      # ID of the player who assisted (if applicable)\n",
    "    \"BLOCKER_ID\",       # ID of the player who blocked the shot (if applicable)\n",
    "    \"STEALER_ID\",       # ID of the player who stole the ball (if applicable)\n",
    "    \"REBOUNDER_ID\" ,    # ID of the player who rebound the ball (if applicable)\n",
    "    \"TURNOVER_ID\"      # ID of the player who turnover the ball (if applicable)\n",
    "]\n",
    "\n",
    "pbp = playbyplayv2.PlayByPlayV2(game_id='0022100001').play_by_play.get_data_frame()\n",
    "pbp = noc.players_on_court(pbp)\n",
    "\n",
    "filtered_pbp = pbp[pbp['EVENTMSGTYPE'].isin(valid_event_types)].copy()\n",
    "\n",
    "# player_columns = [\n",
    "#     \"AWAY_PLAYER1\", \"AWAY_PLAYER2\", \"AWAY_PLAYER3\", \"AWAY_PLAYER4\", \"AWAY_PLAYER5\",\n",
    "#     \"HOME_PLAYER1\", \"HOME_PLAYER2\", \"HOME_PLAYER3\", \"HOME_PLAYER4\", \"HOME_PLAYER5\"\n",
    "# ]\n",
    "# # Filter rows so that all on-court players are in player_id_set\n",
    "# mask = filtered_pbp[player_columns].isin(all_players).all(axis=1)\n",
    "# filtered_pbp = filtered_pbp[mask].copy()\n",
    "\n",
    "# Now we have only the rows we care about.\n",
    "# We can iterate through these rows and handle each event type as needed.\n",
    "\n",
    "processed_pbp = pd.DataFrame(columns=columns)\n",
    "rows = []\n",
    "\n",
    "def get_off_def_players(row):\n",
    "    away_players = [row['AWAY_PLAYER1'], row['AWAY_PLAYER2'], row['AWAY_PLAYER3'], row['AWAY_PLAYER4'], row['AWAY_PLAYER5']]\n",
    "    home_players = [row['HOME_PLAYER1'], row['HOME_PLAYER2'], row['HOME_PLAYER3'], row['HOME_PLAYER4'], row['HOME_PLAYER5']]\n",
    "    \n",
    "    if row['PERSON1TYPE'] == 5:\n",
    "        # Away is offense\n",
    "        off_players = away_players\n",
    "        def_players = home_players\n",
    "    elif row['PERSON1TYPE'] == 4:\n",
    "        # Home is offense\n",
    "        off_players = home_players\n",
    "        def_players = away_players\n",
    "    else:\n",
    "        # Unexpected case\n",
    "        off_players = [np.nan]*5\n",
    "        def_players = [np.nan]*5\n",
    "    \n",
    "    return off_players, def_players\n",
    "\n",
    "def check_and_one(pbp, current_idx, shooter_id):\n",
    "    # Look ahead for next free throw attempt by the same shooter\n",
    "    next_events = pbp.iloc[current_idx+1:]\n",
    "    for i, r in next_events.iterrows():\n",
    "        if r['EVENTMSGTYPE'] == FREE_THROW_ATTEMPT and r['PLAYER1_ID'] == shooter_id:\n",
    "            # Check if made free throw\n",
    "            desc = (r['HOMEDESCRIPTION'] if pd.notnull(r['HOMEDESCRIPTION']) else '') + \\\n",
    "                   (r['VISITORDESCRIPTION'] if pd.notnull(r['VISITORDESCRIPTION']) else '')\n",
    "            if \"MISS\" not in desc.upper():\n",
    "                # FT made => and-one\n",
    "                return True\n",
    "            else:\n",
    "                return False\n",
    "    return False\n",
    "\n",
    "for idx, row in filtered_pbp.iterrows():\n",
    "    if idx != 2:\n",
    "        break\n",
    "\n",
    "    event_type = row['EVENTMSGTYPE']\n",
    "    off_players, def_players = get_off_def_players(row)\n",
    "    \n",
    "    # Switch-like structure to handle cases\n",
    "    if event_type == FIELD_GOAL_MADE:\n",
    "        # Determine if 2pt or 3pt\n",
    "        desc = (row['HOMEDESCRIPTION'] if pd.notnull(row['HOMEDESCRIPTION']) else '') + \\\n",
    "               (row['VISITORDESCRIPTION'] if pd.notnull(row['VISITORDESCRIPTION']) else '')\n",
    "        desc_upper = desc.upper()\n",
    "        is_3pt = \"3PT\" in desc_upper\n",
    "\n",
    "        # Determine assisted or unassisted\n",
    "        assisted = (row['PERSON2TYPE'] == 4 or row['PERSON2TYPE'] == 5)\n",
    "\n",
    "        # Base outcome mapping\n",
    "        # 0: 2-point unassisted\n",
    "        # 1: 2-point assisted\n",
    "        # 2: 3-point unassisted\n",
    "        # 3: 3-point assisted\n",
    "        if not is_3pt:\n",
    "            base_outcome = 1 if assisted else 0\n",
    "        else:\n",
    "            base_outcome = 3 if assisted else 2\n",
    "\n",
    "        shooter_id = row['PLAYER1_ID']\n",
    "        assister_id = row['PLAYER2_ID'] if assisted else np.nan\n",
    "\n",
    "        # Check for and-one\n",
    "        if check_and_one(filtered_pbp, idx, shooter_id):\n",
    "            # 4-point scenarios for both 2pt+1 or 3pt+1\n",
    "            # If base_outcome in [0,2] => unassisted => outcome=4\n",
    "            # If base_outcome in [1,3] => assisted => outcome=5\n",
    "            if base_outcome in [0, 2]:\n",
    "                final_outcome = 4\n",
    "            else:\n",
    "                final_outcome = 5\n",
    "        else:\n",
    "            final_outcome = base_outcome\n",
    "\n",
    "        data = {\n",
    "            \"OFF_PLAYER1_ID\": off_players[0],\n",
    "            \"OFF_PLAYER2_ID\": off_players[1],\n",
    "            \"OFF_PLAYER3_ID\": off_players[2],\n",
    "            \"OFF_PLAYER4_ID\": off_players[3],\n",
    "            \"OFF_PLAYER5_ID\": off_players[4],\n",
    "            \"DEF_PLAYER1_ID\": def_players[0],\n",
    "            \"DEF_PLAYER2_ID\": def_players[1],\n",
    "            \"DEF_PLAYER3_ID\": def_players[2],\n",
    "            \"DEF_PLAYER4_ID\": def_players[3],\n",
    "            \"DEF_PLAYER5_ID\": def_players[4],\n",
    "            \"OUTCOME\": final_outcome,\n",
    "            \"SECOND_CHANCE\": 0, # Not computed here\n",
    "            \"SHOOTER_ID\": shooter_id,\n",
    "            \"ASSISTER_ID\": assister_id,\n",
    "            \"BLOCKER_ID\": np.nan,\n",
    "            \"STEALER_ID\": np.nan,\n",
    "            \"REBOUNDER_ID\": np.nan,\n",
    "            \"TURNOVER_ID\": np.nan\n",
    "        }\n",
    "        rows.append(data)\n",
    "\n",
    "    elif event_type == FIELD_GOAL_MISSED:       \n",
    "        # Check if blocked\n",
    "        # If PERSON3TYPE and PLAYER3_ID indicate a block, outcome=6 (blocked), else 7 (unblocked)\n",
    "        blocked = False\n",
    "        blocker_id = np.nan\n",
    "        if row['PERSON3TYPE'] in [4,5] and pd.notnull(row['PLAYER3_ID']) and row['PLAYER3_ID'] != 0:\n",
    "            # ADDITION: Check if PLAYER3_NAME is present and not empty\n",
    "            if pd.isnull(row['PLAYER3_NAME']) or row['PLAYER3_NAME'].strip() == '':\n",
    "                # If no player name, treat as not blocked\n",
    "                blocked = False\n",
    "                blocker_id = np.nan\n",
    "            else:\n",
    "                blocked = True\n",
    "                blocker_id = row['PLAYER3_ID']\n",
    "        \n",
    "        if blocked:\n",
    "            final_outcome = 6  # Missed (blocked)\n",
    "        else:\n",
    "            final_outcome = 7  # Missed (unblocked)\n",
    "        \n",
    "        shooter_id = row['PLAYER1_ID']\n",
    "        \n",
    "        # Now find the rebound after this miss\n",
    "        # Scan subsequent events for the next rebound (EVENTMSGTYPE=4)\n",
    "        rebounder_id = np.nan\n",
    "        second_chance = 0\n",
    "        \n",
    "        next_events = filtered_pbp.iloc[idx+1:]\n",
    "        print(idx+1)\n",
    "        print(next_events)\n",
    "        for i, r in next_events.iterrows():\n",
    "            if r['EVENTMSGTYPE'] == REBOUND:\n",
    "                # ADDITION: Check if PLAYER1_NAME is present and not empty\n",
    "                if pd.isnull(r['PLAYER1_NAME']) or r['PLAYER1_NAME'].strip() == '':\n",
    "                    # If no player name, this is a team rebound, skip\n",
    "                    continue\n",
    "                # Found the rebound with a player name\n",
    "                rebounder_id = r['PLAYER1_ID']\n",
    "                # Offensive or defensive?\n",
    "                if rebounder_id in off_players:\n",
    "                    second_chance = 1\n",
    "                else:\n",
    "                    second_chance = 0\n",
    "                break\n",
    "        \n",
    "        data = {\n",
    "            \"OFF_PLAYER1_ID\": off_players[0],\n",
    "            \"OFF_PLAYER2_ID\": off_players[1],\n",
    "            \"OFF_PLAYER3_ID\": off_players[2],\n",
    "            \"OFF_PLAYER4_ID\": off_players[3],\n",
    "            \"OFF_PLAYER5_ID\": off_players[4],\n",
    "            \"DEF_PLAYER1_ID\": def_players[0],\n",
    "            \"DEF_PLAYER2_ID\": def_players[1],\n",
    "            \"DEF_PLAYER3_ID\": def_players[2],\n",
    "            \"DEF_PLAYER4_ID\": def_players[3],\n",
    "            \"DEF_PLAYER5_ID\": def_players[4],\n",
    "            \"OUTCOME\": final_outcome,\n",
    "            \"SECOND_CHANCE\": second_chance,\n",
    "            \"SHOOTER_ID\": shooter_id,\n",
    "            \"ASSISTER_ID\": np.nan,   # Not applicable for missed shots\n",
    "            \"BLOCKER_ID\": blocker_id,\n",
    "            \"STEALER_ID\": np.nan,\n",
    "            \"REBOUNDER_ID\": rebounder_id,\n",
    "            \"TURNOVER_ID\": np.nan\n",
    "        }\n",
    "        rows.append(data)\n",
    "\n",
    "    elif event_type == FREE_THROW_ATTEMPT:\n",
    "        # Parse the number of attempts from the first FT in the sequence\n",
    "        shooter_id = row['PLAYER1_ID']\n",
    "        desc = (row['HOMEDESCRIPTION'] if pd.notnull(row['HOMEDESCRIPTION']) else '') + \\\n",
    "               (row['VISITORDESCRIPTION'] if pd.notnull(row['VISITORDESCRIPTION']) else '')\n",
    "        desc_up = desc.upper()\n",
    "\n",
    "        match = re.search(r'FREE THROW.*?(\\d+)\\s+OF\\s+(\\d+)', desc_up)\n",
    "        if not match:\n",
    "            continue\n",
    "        total_fts = int(match.group(2))\n",
    "        if total_fts not in [2, 3]:\n",
    "            # Not a scenario we care about\n",
    "            continue\n",
    "\n",
    "        # We'll accumulate all consecutive FTs for this shooter\n",
    "        made_count = 0\n",
    "        final_attempt_idx = None\n",
    "\n",
    "        j = idx\n",
    "        # Use a while loop to iterate through consecutive free throws of the same shooter\n",
    "        while j in filtered_pbp.index:\n",
    "            fr = filtered_pbp.loc[j]\n",
    "            if fr['EVENTMSGTYPE'] != FREE_THROW_ATTEMPT or fr['PLAYER1_ID'] != shooter_id:\n",
    "                # Different event or different shooter means end of FT sequence\n",
    "                break\n",
    "\n",
    "            f_desc = (fr['HOMEDESCRIPTION'] if pd.notnull(fr['HOMEDESCRIPTION']) else '') + \\\n",
    "                     (fr['VISITORDESCRIPTION'] if pd.notnull(fr['VISITORDESCRIPTION']) else '')\n",
    "            f_desc_up = f_desc.upper()\n",
    "            m2 = re.search(r'FREE THROW.*?(\\d+)\\s+OF\\s+(\\d+)', f_desc_up)\n",
    "            if not m2:\n",
    "                # Can't parse this attempt, stop\n",
    "                break\n",
    "\n",
    "            c_ft_num = int(m2.group(1))\n",
    "            t_fts = int(m2.group(2))\n",
    "            if t_fts not in [2, 3]:\n",
    "                # Different scenario than expected\n",
    "                break\n",
    "\n",
    "            # Check if made\n",
    "            if \"MISS\" not in f_desc_up:\n",
    "                made_count += 1\n",
    "\n",
    "            if c_ft_num == t_fts:\n",
    "                # final attempt found\n",
    "                final_attempt_idx = j\n",
    "                break\n",
    "\n",
    "            j += 1\n",
    "\n",
    "        if final_attempt_idx is None:\n",
    "            # No final attempt found\n",
    "            continue\n",
    "\n",
    "        # Determine outcome based on made_count\n",
    "        # 0 made -> 10\n",
    "        # 1 made -> 11\n",
    "        # 2 made -> 12\n",
    "        # 3 made -> 13\n",
    "        if made_count == 0:\n",
    "            final_outcome = 10\n",
    "        elif made_count == 1:\n",
    "            final_outcome = 11\n",
    "        elif made_count == 2:\n",
    "            final_outcome = 12\n",
    "        elif made_count == 3:\n",
    "            final_outcome = 13\n",
    "        else:\n",
    "            # Unexpected\n",
    "            continue\n",
    "\n",
    "        # Check if final attempt missed\n",
    "        second_chance = 0\n",
    "        rebounder_id = np.nan\n",
    "        if made_count < total_fts:\n",
    "            # last attempt missed\n",
    "            next_after_ft = filtered_pbp.loc[final_attempt_idx+1:]\n",
    "            for k, rb in next_after_ft.iterrows():\n",
    "                if rb['EVENTMSGTYPE'] == REBOUND:\n",
    "                    if pd.isnull(rb['PLAYER1_NAME']) or rb['PLAYER1_NAME'].strip() == '':\n",
    "                        # team rebound, skip\n",
    "                        continue\n",
    "                    rebounder_id = rb['PLAYER1_ID']\n",
    "                    # If offensive rebound\n",
    "                    if rebounder_id in off_players:\n",
    "                        second_chance = 1\n",
    "                    break\n",
    "\n",
    "        data = {\n",
    "            \"OFF_PLAYER1_ID\": off_players[0],\n",
    "            \"OFF_PLAYER2_ID\": off_players[1],\n",
    "            \"OFF_PLAYER3_ID\": off_players[2],\n",
    "            \"OFF_PLAYER4_ID\": off_players[3],\n",
    "            \"OFF_PLAYER5_ID\": off_players[4],\n",
    "            \"DEF_PLAYER1_ID\": def_players[0],\n",
    "            \"DEF_PLAYER2_ID\": def_players[1],\n",
    "            \"DEF_PLAYER3_ID\": def_players[2],\n",
    "            \"DEF_PLAYER4_ID\": def_players[3],\n",
    "            \"DEF_PLAYER5_ID\": def_players[4],\n",
    "            \"OUTCOME\": final_outcome,\n",
    "            \"SECOND_CHANCE\": second_chance,\n",
    "            \"SHOOTER_ID\": shooter_id,\n",
    "            \"ASSISTER_ID\": np.nan,\n",
    "            \"BLOCKER_ID\": np.nan,\n",
    "            \"STEALER_ID\": np.nan,\n",
    "            \"REBOUNDER_ID\": rebounder_id,\n",
    "            \"TURNOVER_ID\": np.nan\n",
    "        }\n",
    "        rows.append(data)\n",
    "    elif event_type == TURNOVER:\n",
    "        # Filter out team turnover: if PLAYER1_NAME is empty, it's a team turnover\n",
    "        if pd.isnull(row['PLAYER1_NAME']) or row['PLAYER1_NAME'].strip() == '':\n",
    "            continue\n",
    "        else:\n",
    "            # We have a player turnover\n",
    "            # 3. Document who steals: If there's PLAYER2_ID and a player name => stolen\n",
    "            # If pd.notnull(PLAYER2_ID) and PERSON2TYPE in [4,5], that indicates a steal\n",
    "            if pd.notnull(row['PLAYER2_ID']) and row['PLAYER2_ID'] != 0 and row['PERSON2TYPE'] in [4,5]:\n",
    "                final_outcome = 8  # Turnover (stolen)\n",
    "                stealer_id = row['PLAYER2_ID']\n",
    "            else:\n",
    "                final_outcome = 9  # Turnover (unforced)\n",
    "                stealer_id = np.nan\n",
    "\n",
    "        turnover_player_id = row['PLAYER1_ID']\n",
    "\n",
    "        data = {\n",
    "            \"OFF_PLAYER1_ID\": off_players[0],\n",
    "            \"OFF_PLAYER2_ID\": off_players[1],\n",
    "            \"OFF_PLAYER3_ID\": off_players[2],\n",
    "            \"OFF_PLAYER4_ID\": off_players[3],\n",
    "            \"OFF_PLAYER5_ID\": off_players[4],\n",
    "            \"DEF_PLAYER1_ID\": def_players[0],\n",
    "            \"DEF_PLAYER2_ID\": def_players[1],\n",
    "            \"DEF_PLAYER3_ID\": def_players[2],\n",
    "            \"DEF_PLAYER4_ID\": def_players[3],\n",
    "            \"DEF_PLAYER5_ID\": def_players[4],\n",
    "            \"OUTCOME\": final_outcome,\n",
    "            \"SECOND_CHANCE\": 0,  # Not applicable for turnovers\n",
    "            \"SHOOTER_ID\": np.nan,  # Not applicable\n",
    "            \"ASSISTER_ID\": np.nan, # Not applicable\n",
    "            \"BLOCKER_ID\": np.nan,  # Not applicable\n",
    "            \"STEALER_ID\": stealer_id,\n",
    "            \"REBOUNDER_ID\": np.nan,\n",
    "            \"TURNOVER_ID\": turnover_player_id\n",
    "        }\n",
    "        rows.append(data)\n",
    "    else:\n",
    "        # Should not reach here because we filtered out other types\n",
    "        pass\n",
    "\n",
    "processed_pbp = pd.DataFrame(rows, columns=columns)\n",
    "processed_pbp.to_csv(\"processed_pbp.csv\")"
   ]
  },
  {
   "cell_type": "code",
   "execution_count": null,
   "metadata": {},
   "outputs": [
    {
     "name": "stderr",
     "output_type": "stream",
     "text": [
      "Processing Games:   1%|          | 50/6441 [00:03<07:39, 13.89it/s]"
     ]
    },
    {
     "name": "stdout",
     "output_type": "stream",
     "text": [
      "Error processing game 0042300126: 'resultSet'\n"
     ]
    },
    {
     "name": "stderr",
     "output_type": "stream",
     "text": [
      "Processing Games:   1%|▏         | 85/6441 [00:34<6:43:55,  3.81s/it]"
     ]
    },
    {
     "name": "stdout",
     "output_type": "stream",
     "text": [
      "Error processing game 0042300112: HTTPSConnectionPool(host='stats.nba.com', port=443): Read timed out. (read timeout=30)\n",
      "Error processing game 0042300141: HTTPSConnectionPool(host='stats.nba.com', port=443): Read timed out. (read timeout=30)\n"
     ]
    },
    {
     "name": "stderr",
     "output_type": "stream",
     "text": [
      "Processing Games:   1%|▏         | 92/6441 [00:35<2:17:13,  1.30s/it]"
     ]
    },
    {
     "name": "stdout",
     "output_type": "stream",
     "text": [
      "Error processing game 0052300111: HTTPSConnectionPool(host='stats.nba.com', port=443): Read timed out. (read timeout=30)\n",
      "Error processing game 0052300101: HTTPSConnectionPool(host='stats.nba.com', port=443): Read timed out. (read timeout=30)\n",
      "Error processing game 0052300121: HTTPSConnectionPool(host='stats.nba.com', port=443): Read timed out. (read timeout=30)\n",
      "Error processing game 0052300131: HTTPSConnectionPool(host='stats.nba.com', port=443): Read timed out. (read timeout=30)\n",
      "Error processing game 2042300403: HTTPSConnectionPool(host='stats.nba.com', port=443): Read timed out. (read timeout=30)\n"
     ]
    },
    {
     "name": "stderr",
     "output_type": "stream",
     "text": [
      "Processing Games:   2%|▏         | 107/6441 [00:37<22:39,  4.66it/s] "
     ]
    },
    {
     "name": "stdout",
     "output_type": "stream",
     "text": [
      "Error processing game 0022301196: HTTPSConnectionPool(host='stats.nba.com', port=443): Read timed out. (read timeout=30)\n"
     ]
    },
    {
     "name": "stderr",
     "output_type": "stream",
     "text": [
      "Processing Games:   2%|▏         | 130/6441 [00:40<13:29,  7.80it/s]"
     ]
    },
    {
     "name": "stdout",
     "output_type": "stream",
     "text": [
      "Error processing game 0022301158: 'resultSet'\n"
     ]
    },
    {
     "name": "stderr",
     "output_type": "stream",
     "text": [
      "Processing Games:   2%|▏         | 141/6441 [00:41<13:13,  7.94it/s]"
     ]
    },
    {
     "name": "stdout",
     "output_type": "stream",
     "text": [
      "Error processing game 0022301147: 'resultSet'\n"
     ]
    },
    {
     "name": "stderr",
     "output_type": "stream",
     "text": [
      "Processing Games:   2%|▏         | 157/6441 [00:45<30:19,  3.45it/s]\n"
     ]
    }
   ],
   "source": [
    "import nba_on_court as noc\n",
    "from nba_api.stats.endpoints import playbyplayv2\n",
    "from tqdm import tqdm\n",
    "from concurrent.futures import ThreadPoolExecutor, as_completed\n",
    "\n",
    "def process_game(game_id):\n",
    "    pbp = playbyplayv2.PlayByPlayV2(game_id=game_id).play_by_play.get_data_frame()\n",
    "    pbp = noc.players_on_court(pbp)\n",
    "\n",
    "num_workers = 6\n",
    "\n",
    "results = []\n",
    "with ThreadPoolExecutor(max_workers=num_workers) as executor:\n",
    "    futures = {executor.submit(process_game, game_id): game_id for game_id in all_game_ids}\n",
    "    for future in tqdm(as_completed(futures), total=len(futures), desc=\"Processing Games\"):\n",
    "        try:\n",
    "            results.append(future.result())\n",
    "        except Exception as e:\n",
    "            print(f\"Error processing game {futures[future]}: {e}\")\n"
   ]
  },
  {
   "cell_type": "code",
   "execution_count": 9,
   "metadata": {},
   "outputs": [
    {
     "data": {
      "text/plain": [
       "6441"
      ]
     },
     "execution_count": 9,
     "metadata": {},
     "output_type": "execute_result"
    }
   ],
   "source": [
    "len(all_game_ids)"
   ]
  },
  {
   "cell_type": "code",
   "execution_count": null,
   "metadata": {},
   "outputs": [
    {
     "data": {
      "text/html": [
       "<pre style=\"white-space:pre;overflow-x:auto;line-height:normal;font-family:Menlo,'DejaVu Sans Mono',consolas,'Courier New',monospace\"><span style=\"font-weight: bold\">Model: \"functional\"</span>\n",
       "</pre>\n"
      ],
      "text/plain": [
       "\u001b[1mModel: \"functional\"\u001b[0m\n"
      ]
     },
     "metadata": {},
     "output_type": "display_data"
    },
    {
     "data": {
      "text/html": [
       "<pre style=\"white-space:pre;overflow-x:auto;line-height:normal;font-family:Menlo,'DejaVu Sans Mono',consolas,'Courier New',monospace\">┏━━━━━━━━━━━━━━━━━━━━━┳━━━━━━━━━━━━━━━━━━━┳━━━━━━━━━━━━┳━━━━━━━━━━━━━━━━━━━┓\n",
       "┃<span style=\"font-weight: bold\"> Layer (type)        </span>┃<span style=\"font-weight: bold\"> Output Shape      </span>┃<span style=\"font-weight: bold\">    Param # </span>┃<span style=\"font-weight: bold\"> Connected to      </span>┃\n",
       "┡━━━━━━━━━━━━━━━━━━━━━╇━━━━━━━━━━━━━━━━━━━╇━━━━━━━━━━━━╇━━━━━━━━━━━━━━━━━━━┩\n",
       "│ players_input       │ (<span style=\"color: #00d7ff; text-decoration-color: #00d7ff\">None</span>, <span style=\"color: #00af00; text-decoration-color: #00af00\">10</span>, <span style=\"color: #00af00; text-decoration-color: #00af00\">615</span>)   │          <span style=\"color: #00af00; text-decoration-color: #00af00\">0</span> │ -                 │\n",
       "│ (<span style=\"color: #0087ff; text-decoration-color: #0087ff\">InputLayer</span>)        │                   │            │                   │\n",
       "├─────────────────────┼───────────────────┼────────────┼───────────────────┤\n",
       "│ flatten (<span style=\"color: #0087ff; text-decoration-color: #0087ff\">Flatten</span>)   │ (<span style=\"color: #00d7ff; text-decoration-color: #00d7ff\">None</span>, <span style=\"color: #00af00; text-decoration-color: #00af00\">6150</span>)      │          <span style=\"color: #00af00; text-decoration-color: #00af00\">0</span> │ players_input[<span style=\"color: #00af00; text-decoration-color: #00af00\">0</span>]… │\n",
       "├─────────────────────┼───────────────────┼────────────┼───────────────────┤\n",
       "│ main_out (<span style=\"color: #0087ff; text-decoration-color: #0087ff\">Dense</span>)    │ (<span style=\"color: #00d7ff; text-decoration-color: #00d7ff\">None</span>, <span style=\"color: #00af00; text-decoration-color: #00af00\">12</span>)        │     <span style=\"color: #00af00; text-decoration-color: #00af00\">73,812</span> │ flatten[<span style=\"color: #00af00; text-decoration-color: #00af00\">0</span>][<span style=\"color: #00af00; text-decoration-color: #00af00\">0</span>]     │\n",
       "├─────────────────────┼───────────────────┼────────────┼───────────────────┤\n",
       "│ second_chance_out   │ (<span style=\"color: #00d7ff; text-decoration-color: #00d7ff\">None</span>, <span style=\"color: #00af00; text-decoration-color: #00af00\">1</span>)         │      <span style=\"color: #00af00; text-decoration-color: #00af00\">6,151</span> │ flatten[<span style=\"color: #00af00; text-decoration-color: #00af00\">0</span>][<span style=\"color: #00af00; text-decoration-color: #00af00\">0</span>]     │\n",
       "│ (<span style=\"color: #0087ff; text-decoration-color: #0087ff\">Dense</span>)             │                   │            │                   │\n",
       "└─────────────────────┴───────────────────┴────────────┴───────────────────┘\n",
       "</pre>\n"
      ],
      "text/plain": [
       "┏━━━━━━━━━━━━━━━━━━━━━┳━━━━━━━━━━━━━━━━━━━┳━━━━━━━━━━━━┳━━━━━━━━━━━━━━━━━━━┓\n",
       "┃\u001b[1m \u001b[0m\u001b[1mLayer (type)       \u001b[0m\u001b[1m \u001b[0m┃\u001b[1m \u001b[0m\u001b[1mOutput Shape     \u001b[0m\u001b[1m \u001b[0m┃\u001b[1m \u001b[0m\u001b[1m   Param #\u001b[0m\u001b[1m \u001b[0m┃\u001b[1m \u001b[0m\u001b[1mConnected to     \u001b[0m\u001b[1m \u001b[0m┃\n",
       "┡━━━━━━━━━━━━━━━━━━━━━╇━━━━━━━━━━━━━━━━━━━╇━━━━━━━━━━━━╇━━━━━━━━━━━━━━━━━━━┩\n",
       "│ players_input       │ (\u001b[38;5;45mNone\u001b[0m, \u001b[38;5;34m10\u001b[0m, \u001b[38;5;34m615\u001b[0m)   │          \u001b[38;5;34m0\u001b[0m │ -                 │\n",
       "│ (\u001b[38;5;33mInputLayer\u001b[0m)        │                   │            │                   │\n",
       "├─────────────────────┼───────────────────┼────────────┼───────────────────┤\n",
       "│ flatten (\u001b[38;5;33mFlatten\u001b[0m)   │ (\u001b[38;5;45mNone\u001b[0m, \u001b[38;5;34m6150\u001b[0m)      │          \u001b[38;5;34m0\u001b[0m │ players_input[\u001b[38;5;34m0\u001b[0m]… │\n",
       "├─────────────────────┼───────────────────┼────────────┼───────────────────┤\n",
       "│ main_out (\u001b[38;5;33mDense\u001b[0m)    │ (\u001b[38;5;45mNone\u001b[0m, \u001b[38;5;34m12\u001b[0m)        │     \u001b[38;5;34m73,812\u001b[0m │ flatten[\u001b[38;5;34m0\u001b[0m][\u001b[38;5;34m0\u001b[0m]     │\n",
       "├─────────────────────┼───────────────────┼────────────┼───────────────────┤\n",
       "│ second_chance_out   │ (\u001b[38;5;45mNone\u001b[0m, \u001b[38;5;34m1\u001b[0m)         │      \u001b[38;5;34m6,151\u001b[0m │ flatten[\u001b[38;5;34m0\u001b[0m][\u001b[38;5;34m0\u001b[0m]     │\n",
       "│ (\u001b[38;5;33mDense\u001b[0m)             │                   │            │                   │\n",
       "└─────────────────────┴───────────────────┴────────────┴───────────────────┘\n"
      ]
     },
     "metadata": {},
     "output_type": "display_data"
    },
    {
     "data": {
      "text/html": [
       "<pre style=\"white-space:pre;overflow-x:auto;line-height:normal;font-family:Menlo,'DejaVu Sans Mono',consolas,'Courier New',monospace\"><span style=\"font-weight: bold\"> Total params: </span><span style=\"color: #00af00; text-decoration-color: #00af00\">79,963</span> (312.36 KB)\n",
       "</pre>\n"
      ],
      "text/plain": [
       "\u001b[1m Total params: \u001b[0m\u001b[38;5;34m79,963\u001b[0m (312.36 KB)\n"
      ]
     },
     "metadata": {},
     "output_type": "display_data"
    },
    {
     "data": {
      "text/html": [
       "<pre style=\"white-space:pre;overflow-x:auto;line-height:normal;font-family:Menlo,'DejaVu Sans Mono',consolas,'Courier New',monospace\"><span style=\"font-weight: bold\"> Trainable params: </span><span style=\"color: #00af00; text-decoration-color: #00af00\">79,963</span> (312.36 KB)\n",
       "</pre>\n"
      ],
      "text/plain": [
       "\u001b[1m Trainable params: \u001b[0m\u001b[38;5;34m79,963\u001b[0m (312.36 KB)\n"
      ]
     },
     "metadata": {},
     "output_type": "display_data"
    },
    {
     "data": {
      "text/html": [
       "<pre style=\"white-space:pre;overflow-x:auto;line-height:normal;font-family:Menlo,'DejaVu Sans Mono',consolas,'Courier New',monospace\"><span style=\"font-weight: bold\"> Non-trainable params: </span><span style=\"color: #00af00; text-decoration-color: #00af00\">0</span> (0.00 B)\n",
       "</pre>\n"
      ],
      "text/plain": [
       "\u001b[1m Non-trainable params: \u001b[0m\u001b[38;5;34m0\u001b[0m (0.00 B)\n"
      ]
     },
     "metadata": {},
     "output_type": "display_data"
    }
   ],
   "source": [
    "import tensorflow as tf\n",
    "from tensorflow.keras import layers, Model, Input\n",
    "\n",
    "# Number of players in the league\n",
    "v = 615  \n",
    "# Number of player vectors per possession\n",
    "seq_len = 10\n",
    "\n",
    "# Define model input\n",
    "# Shape: (batch_size, seq_len, v)\n",
    "input_players = Input(shape=(seq_len, v), name='players_input')\n",
    "\n",
    "# TODO: Middle of the model\n",
    "x = input_players\n",
    "x = layers.Flatten()(x)\n",
    "\n",
    "# Final output layers:\n",
    "# 1) Main outcome (14 classes)\n",
    "main_out = layers.Dense(14, activation='softmax', name='main_out')(x)\n",
    "\n",
    "# 2) Second chance indicator (binary)\n",
    "second_chance_out = layers.Dense(1, activation='sigmoid', name='second_chance_out')(x)\n",
    "\n",
    "# Construct the model\n",
    "model = Model(inputs=input_players, outputs=[main_out, second_chance_out])\n",
    "\n",
    "# Compile the model with appropriate losses:\n",
    "# - main_out is categorical: use 'categorical_crossentropy'\n",
    "# - second_chance_out is binary: use 'binary_crossentropy'\n",
    "model.compile(\n",
    "    optimizer='adam',\n",
    "    loss={\n",
    "        'main_out': 'categorical_crossentropy',\n",
    "        'second_chance_out': 'binary_crossentropy'\n",
    "    },\n",
    "    metrics={\n",
    "        'main_out': 'accuracy',\n",
    "        'second_chance_out': 'accuracy'\n",
    "    }\n",
    ")\n",
    "\n",
    "model.summary()"
   ]
  }
 ],
 "metadata": {
  "kernelspec": {
   "display_name": "nba_capston",
   "language": "python",
   "name": "python3"
  },
  "language_info": {
   "codemirror_mode": {
    "name": "ipython",
    "version": 3
   },
   "file_extension": ".py",
   "mimetype": "text/x-python",
   "name": "python",
   "nbconvert_exporter": "python",
   "pygments_lexer": "ipython3",
   "version": "3.12.7"
  }
 },
 "nbformat": 4,
 "nbformat_minor": 2
}
